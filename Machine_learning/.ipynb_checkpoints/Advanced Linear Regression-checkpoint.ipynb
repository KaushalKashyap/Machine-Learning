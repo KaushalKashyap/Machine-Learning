{
 "cells": [
  {
   "cell_type": "code",
   "execution_count": 68,
   "id": "6be0a3c2",
   "metadata": {},
   "outputs": [],
   "source": [
    "import pandas as pd\n",
    "import numpy as np\n",
    "from sklearn import metrics\n",
    "from sklearn.model_selection import train_test_split\n",
    "from sklearn.linear_model import LinearRegression\n",
    "from sklearn.preprocessing import StandardScaler\n",
    "from sklearn.model_selection import cross_val_score\n",
    "from sklearn.linear_model import Lasso, LassoCV\n",
    "from sklearn.linear_model import Ridge, RidgeCV\n",
    "from sklearn.linear_model import ElasticNet, ElasticNetCV\n",
    "from sklearn.model_selection import GridSearchCV\n",
    "import warnings\n",
    "warnings.filterwarnings('ignore')\n",
    "import matplotlib.pyplot as plt"
   ]
  },
  {
   "cell_type": "code",
   "execution_count": 70,
   "id": "4be0fe78",
   "metadata": {},
   "outputs": [
    {
     "data": {
      "text/html": [
       "<div>\n",
       "<style scoped>\n",
       "    .dataframe tbody tr th:only-of-type {\n",
       "        vertical-align: middle;\n",
       "    }\n",
       "\n",
       "    .dataframe tbody tr th {\n",
       "        vertical-align: top;\n",
       "    }\n",
       "\n",
       "    .dataframe thead th {\n",
       "        text-align: right;\n",
       "    }\n",
       "</style>\n",
       "<table border=\"1\" class=\"dataframe\">\n",
       "  <thead>\n",
       "    <tr style=\"text-align: right;\">\n",
       "      <th></th>\n",
       "      <th>TV</th>\n",
       "      <th>Radio</th>\n",
       "      <th>Newspaper</th>\n",
       "      <th>Sales</th>\n",
       "    </tr>\n",
       "  </thead>\n",
       "  <tbody>\n",
       "    <tr>\n",
       "      <td>0</td>\n",
       "      <td>230.1</td>\n",
       "      <td>37.8</td>\n",
       "      <td>69.2</td>\n",
       "      <td>22.1</td>\n",
       "    </tr>\n",
       "    <tr>\n",
       "      <td>1</td>\n",
       "      <td>44.5</td>\n",
       "      <td>39.3</td>\n",
       "      <td>45.1</td>\n",
       "      <td>10.4</td>\n",
       "    </tr>\n",
       "    <tr>\n",
       "      <td>2</td>\n",
       "      <td>17.2</td>\n",
       "      <td>45.9</td>\n",
       "      <td>69.3</td>\n",
       "      <td>9.3</td>\n",
       "    </tr>\n",
       "    <tr>\n",
       "      <td>3</td>\n",
       "      <td>151.5</td>\n",
       "      <td>41.3</td>\n",
       "      <td>58.5</td>\n",
       "      <td>18.5</td>\n",
       "    </tr>\n",
       "    <tr>\n",
       "      <td>4</td>\n",
       "      <td>180.8</td>\n",
       "      <td>10.8</td>\n",
       "      <td>58.4</td>\n",
       "      <td>12.9</td>\n",
       "    </tr>\n",
       "  </tbody>\n",
       "</table>\n",
       "</div>"
      ],
      "text/plain": [
       "      TV  Radio  Newspaper  Sales\n",
       "0  230.1   37.8       69.2   22.1\n",
       "1   44.5   39.3       45.1   10.4\n",
       "2   17.2   45.9       69.3    9.3\n",
       "3  151.5   41.3       58.5   18.5\n",
       "4  180.8   10.8       58.4   12.9"
      ]
     },
     "execution_count": 70,
     "metadata": {},
     "output_type": "execute_result"
    }
   ],
   "source": [
    "sales_df = pd.read_csv('Advertising.csv')\n",
    "sales_df.head()"
   ]
  },
  {
   "cell_type": "code",
   "execution_count": 71,
   "id": "7776ce2d",
   "metadata": {},
   "outputs": [],
   "source": [
    "X = sales_df[['TV', 'Radio', 'Newspaper']]\n",
    "y = sales_df['Sales']"
   ]
  },
  {
   "cell_type": "code",
   "execution_count": 72,
   "id": "62736659",
   "metadata": {},
   "outputs": [],
   "source": [
    "# X = X.apply(lambda rec: (rec - rec.mean())/rec.std(), axis= 0)\n",
    "# y = np.array((y - y.mean())/y.std())"
   ]
  },
  {
   "cell_type": "code",
   "execution_count": 73,
   "id": "e54a6a70",
   "metadata": {},
   "outputs": [
    {
     "data": {
      "text/html": [
       "<div>\n",
       "<style scoped>\n",
       "    .dataframe tbody tr th:only-of-type {\n",
       "        vertical-align: middle;\n",
       "    }\n",
       "\n",
       "    .dataframe tbody tr th {\n",
       "        vertical-align: top;\n",
       "    }\n",
       "\n",
       "    .dataframe thead th {\n",
       "        text-align: right;\n",
       "    }\n",
       "</style>\n",
       "<table border=\"1\" class=\"dataframe\">\n",
       "  <thead>\n",
       "    <tr style=\"text-align: right;\">\n",
       "      <th></th>\n",
       "      <th>TV</th>\n",
       "      <th>Radio</th>\n",
       "      <th>Newspaper</th>\n",
       "    </tr>\n",
       "  </thead>\n",
       "  <tbody>\n",
       "    <tr>\n",
       "      <td>0</td>\n",
       "      <td>230.1</td>\n",
       "      <td>37.8</td>\n",
       "      <td>69.2</td>\n",
       "    </tr>\n",
       "    <tr>\n",
       "      <td>1</td>\n",
       "      <td>44.5</td>\n",
       "      <td>39.3</td>\n",
       "      <td>45.1</td>\n",
       "    </tr>\n",
       "    <tr>\n",
       "      <td>2</td>\n",
       "      <td>17.2</td>\n",
       "      <td>45.9</td>\n",
       "      <td>69.3</td>\n",
       "    </tr>\n",
       "    <tr>\n",
       "      <td>3</td>\n",
       "      <td>151.5</td>\n",
       "      <td>41.3</td>\n",
       "      <td>58.5</td>\n",
       "    </tr>\n",
       "    <tr>\n",
       "      <td>4</td>\n",
       "      <td>180.8</td>\n",
       "      <td>10.8</td>\n",
       "      <td>58.4</td>\n",
       "    </tr>\n",
       "    <tr>\n",
       "      <td>...</td>\n",
       "      <td>...</td>\n",
       "      <td>...</td>\n",
       "      <td>...</td>\n",
       "    </tr>\n",
       "    <tr>\n",
       "      <td>195</td>\n",
       "      <td>38.2</td>\n",
       "      <td>3.7</td>\n",
       "      <td>13.8</td>\n",
       "    </tr>\n",
       "    <tr>\n",
       "      <td>196</td>\n",
       "      <td>94.2</td>\n",
       "      <td>4.9</td>\n",
       "      <td>8.1</td>\n",
       "    </tr>\n",
       "    <tr>\n",
       "      <td>197</td>\n",
       "      <td>177.0</td>\n",
       "      <td>9.3</td>\n",
       "      <td>6.4</td>\n",
       "    </tr>\n",
       "    <tr>\n",
       "      <td>198</td>\n",
       "      <td>283.6</td>\n",
       "      <td>42.0</td>\n",
       "      <td>66.2</td>\n",
       "    </tr>\n",
       "    <tr>\n",
       "      <td>199</td>\n",
       "      <td>232.1</td>\n",
       "      <td>8.6</td>\n",
       "      <td>8.7</td>\n",
       "    </tr>\n",
       "  </tbody>\n",
       "</table>\n",
       "<p>200 rows × 3 columns</p>\n",
       "</div>"
      ],
      "text/plain": [
       "        TV  Radio  Newspaper\n",
       "0    230.1   37.8       69.2\n",
       "1     44.5   39.3       45.1\n",
       "2     17.2   45.9       69.3\n",
       "3    151.5   41.3       58.5\n",
       "4    180.8   10.8       58.4\n",
       "..     ...    ...        ...\n",
       "195   38.2    3.7       13.8\n",
       "196   94.2    4.9        8.1\n",
       "197  177.0    9.3        6.4\n",
       "198  283.6   42.0       66.2\n",
       "199  232.1    8.6        8.7\n",
       "\n",
       "[200 rows x 3 columns]"
      ]
     },
     "execution_count": 73,
     "metadata": {},
     "output_type": "execute_result"
    }
   ],
   "source": [
    "X"
   ]
  },
  {
   "cell_type": "markdown",
   "id": "93535002",
   "metadata": {},
   "source": [
    "### Scikit-Learn Library for Machine Learning"
   ]
  },
  {
   "cell_type": "code",
   "execution_count": 74,
   "id": "a874ded1",
   "metadata": {},
   "outputs": [],
   "source": [
    "X_train, X_test, y_train, y_test = train_test_split(X, y, train_size=0.7, \n",
    "random_state = 42)"
   ]
  },
  {
   "cell_type": "code",
   "execution_count": 75,
   "id": "dd7fef6d",
   "metadata": {},
   "outputs": [
    {
     "data": {
      "text/plain": [
       "140"
      ]
     },
     "execution_count": 75,
     "metadata": {},
     "output_type": "execute_result"
    }
   ],
   "source": [
    "len(X_train)"
   ]
  },
  {
   "cell_type": "code",
   "execution_count": 76,
   "id": "096766d6",
   "metadata": {},
   "outputs": [
    {
     "data": {
      "text/plain": [
       "60"
      ]
     },
     "execution_count": 76,
     "metadata": {},
     "output_type": "execute_result"
    }
   ],
   "source": [
    "len(X_test)"
   ]
  },
  {
   "cell_type": "code",
   "execution_count": 77,
   "id": "0553e4e4",
   "metadata": {},
   "outputs": [
    {
     "data": {
      "text/plain": [
       "LinearRegression()"
      ]
     },
     "execution_count": 77,
     "metadata": {},
     "output_type": "execute_result"
    }
   ],
   "source": [
    "# Initializing the model\n",
    "model = LinearRegression()\n",
    "# Fitting training data to the model\n",
    "model.fit(X_train, y_train)"
   ]
  },
  {
   "cell_type": "code",
   "execution_count": 78,
   "id": "773a1d23",
   "metadata": {},
   "outputs": [
    {
     "data": {
      "text/plain": [
       "2.7089490925159048"
      ]
     },
     "execution_count": 78,
     "metadata": {},
     "output_type": "execute_result"
    }
   ],
   "source": [
    "model.intercept_"
   ]
  },
  {
   "cell_type": "code",
   "execution_count": 79,
   "id": "2173a354",
   "metadata": {},
   "outputs": [
    {
     "data": {
      "text/plain": [
       "array([0.04405928, 0.1992875 , 0.00688245])"
      ]
     },
     "execution_count": 79,
     "metadata": {},
     "output_type": "execute_result"
    }
   ],
   "source": [
    "model.coef_"
   ]
  },
  {
   "cell_type": "code",
   "execution_count": 80,
   "id": "4aa1b1be",
   "metadata": {},
   "outputs": [
    {
     "data": {
      "text/plain": [
       "[('TV', 0.04405928095746521),\n",
       " ('Radio', 0.1992874968989396),\n",
       " ('Newspaper', 0.006882452222275501)]"
      ]
     },
     "execution_count": 80,
     "metadata": {},
     "output_type": "execute_result"
    }
   ],
   "source": [
    "list((zip(X_train.columns, model.coef_)))"
   ]
  },
  {
   "cell_type": "markdown",
   "id": "f43b9523",
   "metadata": {},
   "source": [
    "Sales = 2.708 + 0.044*TV + 0.199*Radio + 0.006*Newspaper"
   ]
  },
  {
   "cell_type": "code",
   "execution_count": 81,
   "id": "8d06a23c",
   "metadata": {},
   "outputs": [],
   "source": [
    "# Predicting the y value from the test set"
   ]
  },
  {
   "cell_type": "code",
   "execution_count": 82,
   "id": "ea5ac61d",
   "metadata": {},
   "outputs": [],
   "source": [
    "y_pred = model.predict(X_test)"
   ]
  },
  {
   "cell_type": "code",
   "execution_count": 83,
   "id": "7062d2dc",
   "metadata": {},
   "outputs": [],
   "source": [
    "# Creating DataFrame with 3 columns named: actual, predicted and residuals\n",
    "# to store the respective values\n",
    "\n",
    "test_pred_df = pd.DataFrame({'actual': y_test, \n",
    "                             'predicted': np.round(y_pred,2)})"
   ]
  },
  {
   "cell_type": "code",
   "execution_count": 84,
   "id": "f64e7948",
   "metadata": {},
   "outputs": [
    {
     "data": {
      "text/html": [
       "<div>\n",
       "<style scoped>\n",
       "    .dataframe tbody tr th:only-of-type {\n",
       "        vertical-align: middle;\n",
       "    }\n",
       "\n",
       "    .dataframe tbody tr th {\n",
       "        vertical-align: top;\n",
       "    }\n",
       "\n",
       "    .dataframe thead th {\n",
       "        text-align: right;\n",
       "    }\n",
       "</style>\n",
       "<table border=\"1\" class=\"dataframe\">\n",
       "  <thead>\n",
       "    <tr style=\"text-align: right;\">\n",
       "      <th></th>\n",
       "      <th>actual</th>\n",
       "      <th>predicted</th>\n",
       "    </tr>\n",
       "  </thead>\n",
       "  <tbody>\n",
       "    <tr>\n",
       "      <td>95</td>\n",
       "      <td>16.9</td>\n",
       "      <td>16.57</td>\n",
       "    </tr>\n",
       "    <tr>\n",
       "      <td>15</td>\n",
       "      <td>22.4</td>\n",
       "      <td>21.19</td>\n",
       "    </tr>\n",
       "    <tr>\n",
       "      <td>30</td>\n",
       "      <td>21.4</td>\n",
       "      <td>21.55</td>\n",
       "    </tr>\n",
       "    <tr>\n",
       "      <td>158</td>\n",
       "      <td>7.3</td>\n",
       "      <td>10.89</td>\n",
       "    </tr>\n",
       "    <tr>\n",
       "      <td>128</td>\n",
       "      <td>24.7</td>\n",
       "      <td>22.20</td>\n",
       "    </tr>\n",
       "    <tr>\n",
       "      <td>115</td>\n",
       "      <td>12.6</td>\n",
       "      <td>13.36</td>\n",
       "    </tr>\n",
       "    <tr>\n",
       "      <td>69</td>\n",
       "      <td>22.3</td>\n",
       "      <td>21.20</td>\n",
       "    </tr>\n",
       "    <tr>\n",
       "      <td>170</td>\n",
       "      <td>8.4</td>\n",
       "      <td>7.35</td>\n",
       "    </tr>\n",
       "    <tr>\n",
       "      <td>174</td>\n",
       "      <td>11.5</td>\n",
       "      <td>13.28</td>\n",
       "    </tr>\n",
       "    <tr>\n",
       "      <td>45</td>\n",
       "      <td>14.9</td>\n",
       "      <td>15.12</td>\n",
       "    </tr>\n",
       "  </tbody>\n",
       "</table>\n",
       "</div>"
      ],
      "text/plain": [
       "     actual  predicted\n",
       "95     16.9      16.57\n",
       "15     22.4      21.19\n",
       "30     21.4      21.55\n",
       "158     7.3      10.89\n",
       "128    24.7      22.20\n",
       "115    12.6      13.36\n",
       "69     22.3      21.20\n",
       "170     8.4       7.35\n",
       "174    11.5      13.28\n",
       "45     14.9      15.12"
      ]
     },
     "execution_count": 84,
     "metadata": {},
     "output_type": "execute_result"
    }
   ],
   "source": [
    "test_pred_df[:10]"
   ]
  },
  {
   "cell_type": "code",
   "execution_count": 85,
   "id": "94eeadc0",
   "metadata": {},
   "outputs": [
    {
     "name": "stdout",
     "output_type": "stream",
     "text": [
      "R Squared:  0.9055159502227753\n"
     ]
    }
   ],
   "source": [
    "# y_train contains the actual value and the predicted value is\n",
    "# returned from predict() method after passing the X values of the\n",
    "# training data.\n",
    "\n",
    "r2 = metrics.r2_score(y_train, model.predict(X_train))\n",
    "print('R Squared: ', r2)"
   ]
  },
  {
   "cell_type": "code",
   "execution_count": 86,
   "id": "41fc5e54",
   "metadata": {},
   "outputs": [
    {
     "name": "stdout",
     "output_type": "stream",
     "text": [
      "R Squared:  0.8609466508230367\n"
     ]
    }
   ],
   "source": [
    "r2 = metrics.r2_score(y_test, model.predict(X_test))\n",
    "print('R Squared: ', r2)"
   ]
  },
  {
   "cell_type": "code",
   "execution_count": 87,
   "id": "b10ba1f8",
   "metadata": {},
   "outputs": [],
   "source": [
    "# y_pred contains predicted value of test data\n",
    "mse = metrics.mean_squared_error(y_test, y_pred)"
   ]
  },
  {
   "cell_type": "code",
   "execution_count": 88,
   "id": "52f20842",
   "metadata": {},
   "outputs": [
    {
     "name": "stdout",
     "output_type": "stream",
     "text": [
      "RMSE:  1.95\n"
     ]
    }
   ],
   "source": [
    "# Taking square root of MSE and then round off to two decimal values\n",
    "rmse = round(np.sqrt(mse), 2)\n",
    "print('RMSE: ', rmse)"
   ]
  },
  {
   "cell_type": "markdown",
   "id": "e58c5d03",
   "metadata": {},
   "source": [
    "### Validation Dataset"
   ]
  },
  {
   "cell_type": "code",
   "execution_count": 89,
   "id": "e871d82f",
   "metadata": {},
   "outputs": [
    {
     "data": {
      "text/html": [
       "<div>\n",
       "<style scoped>\n",
       "    .dataframe tbody tr th:only-of-type {\n",
       "        vertical-align: middle;\n",
       "    }\n",
       "\n",
       "    .dataframe tbody tr th {\n",
       "        vertical-align: top;\n",
       "    }\n",
       "\n",
       "    .dataframe thead th {\n",
       "        text-align: right;\n",
       "    }\n",
       "</style>\n",
       "<table border=\"1\" class=\"dataframe\">\n",
       "  <thead>\n",
       "    <tr style=\"text-align: right;\">\n",
       "      <th></th>\n",
       "      <th>TV</th>\n",
       "      <th>Radio</th>\n",
       "      <th>Newspaper</th>\n",
       "      <th>Sales</th>\n",
       "    </tr>\n",
       "  </thead>\n",
       "  <tbody>\n",
       "    <tr>\n",
       "      <td>0</td>\n",
       "      <td>230.1</td>\n",
       "      <td>37.8</td>\n",
       "      <td>69.2</td>\n",
       "      <td>22.1</td>\n",
       "    </tr>\n",
       "    <tr>\n",
       "      <td>1</td>\n",
       "      <td>44.5</td>\n",
       "      <td>39.3</td>\n",
       "      <td>45.1</td>\n",
       "      <td>10.4</td>\n",
       "    </tr>\n",
       "    <tr>\n",
       "      <td>2</td>\n",
       "      <td>17.2</td>\n",
       "      <td>45.9</td>\n",
       "      <td>69.3</td>\n",
       "      <td>9.3</td>\n",
       "    </tr>\n",
       "    <tr>\n",
       "      <td>3</td>\n",
       "      <td>151.5</td>\n",
       "      <td>41.3</td>\n",
       "      <td>58.5</td>\n",
       "      <td>18.5</td>\n",
       "    </tr>\n",
       "    <tr>\n",
       "      <td>4</td>\n",
       "      <td>180.8</td>\n",
       "      <td>10.8</td>\n",
       "      <td>58.4</td>\n",
       "      <td>12.9</td>\n",
       "    </tr>\n",
       "  </tbody>\n",
       "</table>\n",
       "</div>"
      ],
      "text/plain": [
       "      TV  Radio  Newspaper  Sales\n",
       "0  230.1   37.8       69.2   22.1\n",
       "1   44.5   39.3       45.1   10.4\n",
       "2   17.2   45.9       69.3    9.3\n",
       "3  151.5   41.3       58.5   18.5\n",
       "4  180.8   10.8       58.4   12.9"
      ]
     },
     "execution_count": 89,
     "metadata": {},
     "output_type": "execute_result"
    }
   ],
   "source": [
    "sales_df = pd.read_csv('Advertising.csv')\n",
    "sales_df.head()"
   ]
  },
  {
   "cell_type": "code",
   "execution_count": 6,
   "id": "b43831b4",
   "metadata": {},
   "outputs": [],
   "source": [
    "X_train, X_other, y_train, y_other = train_test_split(sales_df[['TV', 'Radio',\n",
    "'Newspaper']], sales_df['Sales'], train_size=0.7, random_state = 42)"
   ]
  },
  {
   "cell_type": "code",
   "execution_count": 7,
   "id": "261359ee",
   "metadata": {},
   "outputs": [],
   "source": [
    "X_eval, X_test, y_eval, y_test = train_test_split(X_other, y_other, \n",
    "train_size=0.5, random_state = 42)"
   ]
  },
  {
   "cell_type": "code",
   "execution_count": 8,
   "id": "dfb0443d",
   "metadata": {},
   "outputs": [],
   "source": [
    "from sklearn.preprocessing import StandardScaler\n",
    "\n",
    "# (actual value - mean)/standard deviation (aka Z score)\n",
    "# [mean = 0\n",
    "# std = 1]"
   ]
  },
  {
   "cell_type": "code",
   "execution_count": 9,
   "id": "b01fe263",
   "metadata": {},
   "outputs": [],
   "source": [
    "scaler = StandardScaler()"
   ]
  },
  {
   "cell_type": "code",
   "execution_count": 10,
   "id": "17574440",
   "metadata": {},
   "outputs": [],
   "source": [
    "X_train = scaler.fit_transform(X_train)"
   ]
  },
  {
   "cell_type": "code",
   "execution_count": 11,
   "id": "0759340b",
   "metadata": {},
   "outputs": [],
   "source": [
    "X_test = scaler.transform(X_test)"
   ]
  },
  {
   "cell_type": "code",
   "execution_count": 12,
   "id": "9ec72178",
   "metadata": {},
   "outputs": [],
   "source": [
    "X_eval = scaler.transform(X_eval)"
   ]
  },
  {
   "cell_type": "code",
   "execution_count": 13,
   "id": "3e2ad67a",
   "metadata": {},
   "outputs": [],
   "source": [
    "lm = LinearRegression()"
   ]
  },
  {
   "cell_type": "code",
   "execution_count": 14,
   "id": "14f24bb7",
   "metadata": {},
   "outputs": [
    {
     "data": {
      "text/plain": [
       "LinearRegression()"
      ]
     },
     "execution_count": 14,
     "metadata": {},
     "output_type": "execute_result"
    }
   ],
   "source": [
    "lm.fit(X_train, y_train)"
   ]
  },
  {
   "cell_type": "code",
   "execution_count": 68,
   "id": "94970e56",
   "metadata": {},
   "outputs": [],
   "source": [
    "pred = lm.predict(X_eval)"
   ]
  },
  {
   "cell_type": "code",
   "execution_count": 69,
   "id": "d02ca963",
   "metadata": {},
   "outputs": [
    {
     "data": {
      "text/plain": [
       "2.549038568717419"
      ]
     },
     "execution_count": 69,
     "metadata": {},
     "output_type": "execute_result"
    }
   ],
   "source": [
    "metrics.mean_squared_error(y_eval, pred)"
   ]
  },
  {
   "cell_type": "code",
   "execution_count": 70,
   "id": "6abf58aa",
   "metadata": {},
   "outputs": [],
   "source": [
    "# evaluate and perform usual operations and finally use the test data only once"
   ]
  },
  {
   "cell_type": "markdown",
   "id": "8d110f60",
   "metadata": {},
   "source": [
    "### KFold Validation"
   ]
  },
  {
   "cell_type": "code",
   "execution_count": 90,
   "id": "29db3c29",
   "metadata": {},
   "outputs": [],
   "source": [
    "sales_df = pd.read_csv('Advertising.csv')\n",
    "# Printing first few records\n",
    "sales_df.head()\n",
    "X = sales_df[['TV', 'Radio', 'Newspaper']]\n",
    "y = sales_df['Sales']\n",
    "\n",
    "X_train, X_test, y_train, y_test = train_test_split(X, y, test_size=0.3, random_state=101)"
   ]
  },
  {
   "cell_type": "code",
   "execution_count": 91,
   "id": "c06b5b65",
   "metadata": {},
   "outputs": [],
   "source": [
    "lm = LinearRegression()"
   ]
  },
  {
   "cell_type": "code",
   "execution_count": 92,
   "id": "2a8da3d6",
   "metadata": {},
   "outputs": [],
   "source": [
    "scaler = StandardScaler()\n",
    "\n",
    "X_train = scaler.fit_transform(X_train)\n",
    "X_test = scaler.transform(X_test)"
   ]
  },
  {
   "cell_type": "code",
   "execution_count": 93,
   "id": "eddfa2c1",
   "metadata": {},
   "outputs": [],
   "source": [
    "from sklearn.model_selection import cross_val_score"
   ]
  },
  {
   "cell_type": "code",
   "execution_count": 97,
   "id": "74c48310",
   "metadata": {},
   "outputs": [],
   "source": [
    "scores = cross_val_score(lm, X_train, y_train, scoring = 'r2', cv=5)"
   ]
  },
  {
   "cell_type": "code",
   "execution_count": 98,
   "id": "5f6c44c8",
   "metadata": {},
   "outputs": [],
   "source": [
    "# r2 = .75, .85\n",
    "# MSE = -2.5, -3.5"
   ]
  },
  {
   "cell_type": "code",
   "execution_count": 99,
   "id": "0acc9ff8",
   "metadata": {},
   "outputs": [],
   "source": [
    "from sklearn.metrics import SCORERS"
   ]
  },
  {
   "cell_type": "code",
   "execution_count": 100,
   "id": "c2da912a",
   "metadata": {},
   "outputs": [
    {
     "data": {
      "text/plain": [
       "dict_keys(['explained_variance', 'r2', 'max_error', 'neg_median_absolute_error', 'neg_mean_absolute_error', 'neg_mean_absolute_percentage_error', 'neg_mean_squared_error', 'neg_mean_squared_log_error', 'neg_root_mean_squared_error', 'neg_mean_poisson_deviance', 'neg_mean_gamma_deviance', 'accuracy', 'top_k_accuracy', 'roc_auc', 'roc_auc_ovr', 'roc_auc_ovo', 'roc_auc_ovr_weighted', 'roc_auc_ovo_weighted', 'balanced_accuracy', 'average_precision', 'neg_log_loss', 'neg_brier_score', 'adjusted_rand_score', 'rand_score', 'homogeneity_score', 'completeness_score', 'v_measure_score', 'mutual_info_score', 'adjusted_mutual_info_score', 'normalized_mutual_info_score', 'fowlkes_mallows_score', 'precision', 'precision_macro', 'precision_micro', 'precision_samples', 'precision_weighted', 'recall', 'recall_macro', 'recall_micro', 'recall_samples', 'recall_weighted', 'f1', 'f1_macro', 'f1_micro', 'f1_samples', 'f1_weighted', 'jaccard', 'jaccard_macro', 'jaccard_micro', 'jaccard_samples', 'jaccard_weighted'])"
      ]
     },
     "execution_count": 100,
     "metadata": {},
     "output_type": "execute_result"
    }
   ],
   "source": [
    "SCORERS.keys()"
   ]
  },
  {
   "cell_type": "code",
   "execution_count": 101,
   "id": "9aeafdae",
   "metadata": {},
   "outputs": [],
   "source": [
    "# https://scikit-learn.org/stable/modules/model_evaluation.html"
   ]
  },
  {
   "cell_type": "code",
   "execution_count": 102,
   "id": "99ddf78e",
   "metadata": {},
   "outputs": [
    {
     "data": {
      "text/plain": [
       "0.8627872839147471"
      ]
     },
     "execution_count": 102,
     "metadata": {},
     "output_type": "execute_result"
    }
   ],
   "source": [
    "abs(scores.mean())"
   ]
  },
  {
   "cell_type": "code",
   "execution_count": 104,
   "id": "0945516e",
   "metadata": {},
   "outputs": [
    {
     "data": {
      "text/plain": [
       "array([0.89667066, 0.92803914, 0.80641155, 0.91762366, 0.7651914 ])"
      ]
     },
     "execution_count": 104,
     "metadata": {},
     "output_type": "execute_result"
    }
   ],
   "source": [
    "scores"
   ]
  },
  {
   "cell_type": "code",
   "execution_count": 105,
   "id": "dc533692",
   "metadata": {},
   "outputs": [
    {
     "data": {
      "text/plain": [
       "LinearRegression()"
      ]
     },
     "execution_count": 105,
     "metadata": {},
     "output_type": "execute_result"
    }
   ],
   "source": [
    "lm.fit(X_train, y_train)"
   ]
  },
  {
   "cell_type": "code",
   "execution_count": 106,
   "id": "9ce7264a",
   "metadata": {},
   "outputs": [
    {
     "data": {
      "text/plain": [
       "array([ 3.76599021,  2.76548662, -0.00690986])"
      ]
     },
     "execution_count": 106,
     "metadata": {},
     "output_type": "execute_result"
    }
   ],
   "source": [
    "lm.coef_"
   ]
  },
  {
   "cell_type": "code",
   "execution_count": 107,
   "id": "df6c840e",
   "metadata": {},
   "outputs": [],
   "source": [
    "pred = lm.predict(X_test)"
   ]
  },
  {
   "cell_type": "code",
   "execution_count": 109,
   "id": "7b1063fc",
   "metadata": {},
   "outputs": [
    {
     "data": {
      "text/plain": [
       "0.9185780903322445"
      ]
     },
     "execution_count": 109,
     "metadata": {},
     "output_type": "execute_result"
    }
   ],
   "source": [
    "metrics.r2_score(y_test, pred)"
   ]
  },
  {
   "cell_type": "markdown",
   "id": "2010a94c",
   "metadata": {},
   "source": [
    "The choice of k is usually 5 or 10."
   ]
  },
  {
   "cell_type": "markdown",
   "id": "55c916d4",
   "metadata": {},
   "source": [
    "### Lasso Regression"
   ]
  },
  {
   "cell_type": "markdown",
   "id": "67aaa5ff",
   "metadata": {},
   "source": [
    "# L1 Norm"
   ]
  },
  {
   "cell_type": "code",
   "execution_count": 110,
   "id": "64dc8842",
   "metadata": {},
   "outputs": [],
   "source": [
    "from sklearn.linear_model import Lasso"
   ]
  },
  {
   "cell_type": "code",
   "execution_count": 146,
   "id": "7328598a",
   "metadata": {},
   "outputs": [],
   "source": [
    "scaler = StandardScaler()\n",
    "\n",
    "X_train = scaler.fit_transform(X_train)\n",
    "X_test = scaler.transform(X_test)"
   ]
  },
  {
   "cell_type": "code",
   "execution_count": 147,
   "id": "d9b4ae3a",
   "metadata": {},
   "outputs": [],
   "source": [
    "lasso_model = Lasso(alpha = 0.01)"
   ]
  },
  {
   "cell_type": "code",
   "execution_count": 148,
   "id": "648f35cf",
   "metadata": {},
   "outputs": [
    {
     "data": {
      "text/plain": [
       "Lasso(alpha=0.01, random_state=101)"
      ]
     },
     "execution_count": 148,
     "metadata": {},
     "output_type": "execute_result"
    }
   ],
   "source": [
    "lasso_model.fit(X_train, y_train)"
   ]
  },
  {
   "cell_type": "code",
   "execution_count": 149,
   "id": "ebc0d49f",
   "metadata": {},
   "outputs": [
    {
     "data": {
      "text/plain": [
       "array([ 3.75598404,  2.7540475 , -0.        ])"
      ]
     },
     "execution_count": 149,
     "metadata": {},
     "output_type": "execute_result"
    }
   ],
   "source": [
    "lasso_model.coef_"
   ]
  },
  {
   "cell_type": "code",
   "execution_count": 150,
   "id": "d033e8e0",
   "metadata": {},
   "outputs": [],
   "source": [
    "predict = lasso_model.predict(X_test)"
   ]
  },
  {
   "cell_type": "code",
   "execution_count": 151,
   "id": "7047a3f8",
   "metadata": {},
   "outputs": [
    {
     "data": {
      "text/plain": [
       "0.9182975460753906"
      ]
     },
     "execution_count": 151,
     "metadata": {},
     "output_type": "execute_result"
    }
   ],
   "source": [
    "metrics.r2_score(y_test, predict)"
   ]
  },
  {
   "cell_type": "markdown",
   "id": "c3a20a01",
   "metadata": {},
   "source": [
    "### Lasso with CV"
   ]
  },
  {
   "cell_type": "code",
   "execution_count": 139,
   "id": "7c8aa633",
   "metadata": {},
   "outputs": [],
   "source": [
    "from sklearn.linear_model import LassoCV"
   ]
  },
  {
   "cell_type": "code",
   "execution_count": 205,
   "id": "caf3e8c5",
   "metadata": {},
   "outputs": [],
   "source": [
    "lassoCV_model = LassoCV(alphas=[.1, 0.01, 10])"
   ]
  },
  {
   "cell_type": "code",
   "execution_count": 153,
   "id": "f3110904",
   "metadata": {},
   "outputs": [
    {
     "data": {
      "text/plain": [
       "LassoCV(alphas=[0.1, 0.01, 10])"
      ]
     },
     "execution_count": 153,
     "metadata": {},
     "output_type": "execute_result"
    }
   ],
   "source": [
    "lassoCV_model.fit(X_train, y_train)"
   ]
  },
  {
   "cell_type": "code",
   "execution_count": 154,
   "id": "fbddb86e",
   "metadata": {},
   "outputs": [
    {
     "data": {
      "text/plain": [
       "0.1"
      ]
     },
     "execution_count": 154,
     "metadata": {},
     "output_type": "execute_result"
    }
   ],
   "source": [
    "lassoCV_model.alpha_"
   ]
  },
  {
   "cell_type": "code",
   "execution_count": 155,
   "id": "e5879903",
   "metadata": {},
   "outputs": [],
   "source": [
    "predict = lassoCV_model.predict(X_test)"
   ]
  },
  {
   "cell_type": "code",
   "execution_count": 156,
   "id": "b7fcaf6d",
   "metadata": {},
   "outputs": [
    {
     "data": {
      "text/plain": [
       "0.915438906791447"
      ]
     },
     "execution_count": 156,
     "metadata": {},
     "output_type": "execute_result"
    }
   ],
   "source": [
    "metrics.r2_score(y_test, predict)"
   ]
  },
  {
   "cell_type": "code",
   "execution_count": 157,
   "id": "e7bc935d",
   "metadata": {},
   "outputs": [],
   "source": [
    "# or set alpha to automatic"
   ]
  },
  {
   "cell_type": "code",
   "execution_count": 206,
   "id": "ac1f8b7f",
   "metadata": {},
   "outputs": [],
   "source": [
    "lassoCV_model = LassoCV(n_alphas=1000)"
   ]
  },
  {
   "cell_type": "code",
   "execution_count": 207,
   "id": "f3681016",
   "metadata": {},
   "outputs": [
    {
     "data": {
      "text/plain": [
       "LassoCV(n_alphas=1000)"
      ]
     },
     "execution_count": 207,
     "metadata": {},
     "output_type": "execute_result"
    }
   ],
   "source": [
    "lassoCV_model.fit(X_train, y_train)"
   ]
  },
  {
   "cell_type": "code",
   "execution_count": 208,
   "id": "adada481",
   "metadata": {},
   "outputs": [
    {
     "data": {
      "text/plain": [
       "0.09472651317300003"
      ]
     },
     "execution_count": 208,
     "metadata": {},
     "output_type": "execute_result"
    }
   ],
   "source": [
    "lassoCV_model.alpha_"
   ]
  },
  {
   "cell_type": "code",
   "execution_count": 209,
   "id": "f650f57a",
   "metadata": {},
   "outputs": [],
   "source": [
    "predict = lassoCV_model.predict(X_test)"
   ]
  },
  {
   "cell_type": "code",
   "execution_count": 210,
   "id": "da54f82f",
   "metadata": {},
   "outputs": [
    {
     "data": {
      "text/plain": [
       "0.9156366097134607"
      ]
     },
     "execution_count": 210,
     "metadata": {},
     "output_type": "execute_result"
    }
   ],
   "source": [
    "metrics.r2_score(y_test, predict)"
   ]
  },
  {
   "cell_type": "code",
   "execution_count": null,
   "id": "c0dacb60",
   "metadata": {},
   "outputs": [],
   "source": []
  },
  {
   "cell_type": "markdown",
   "id": "a252456c",
   "metadata": {},
   "source": [
    "# L2 Norm"
   ]
  },
  {
   "cell_type": "code",
   "execution_count": 163,
   "id": "e29fe723",
   "metadata": {},
   "outputs": [],
   "source": [
    "from sklearn.linear_model import Ridge"
   ]
  },
  {
   "cell_type": "code",
   "execution_count": 211,
   "id": "2648ec1a",
   "metadata": {},
   "outputs": [],
   "source": [
    "ridge_model  = Ridge(alpha = .1)"
   ]
  },
  {
   "cell_type": "code",
   "execution_count": 212,
   "id": "c89c6ea1",
   "metadata": {
    "scrolled": true
   },
   "outputs": [
    {
     "data": {
      "text/plain": [
       "Ridge(alpha=0.1)"
      ]
     },
     "execution_count": 212,
     "metadata": {},
     "output_type": "execute_result"
    }
   ],
   "source": [
    "ridge_model.fit(X_train, y_train)"
   ]
  },
  {
   "cell_type": "code",
   "execution_count": 213,
   "id": "bdebd883",
   "metadata": {},
   "outputs": [
    {
     "data": {
      "text/plain": [
       "array([ 3.76333559,  2.76339947, -0.00593674])"
      ]
     },
     "execution_count": 213,
     "metadata": {},
     "output_type": "execute_result"
    }
   ],
   "source": [
    "ridge_model.coef_"
   ]
  },
  {
   "cell_type": "code",
   "execution_count": 214,
   "id": "ec56bafc",
   "metadata": {},
   "outputs": [],
   "source": [
    "predict = ridge_model.predict(X_test)"
   ]
  },
  {
   "cell_type": "code",
   "execution_count": 215,
   "id": "d1b0d402",
   "metadata": {},
   "outputs": [
    {
     "data": {
      "text/plain": [
       "0.918509515975792"
      ]
     },
     "execution_count": 215,
     "metadata": {},
     "output_type": "execute_result"
    }
   ],
   "source": [
    "metrics.r2_score(y_test, predict)"
   ]
  },
  {
   "cell_type": "code",
   "execution_count": 170,
   "id": "d1aff7ac",
   "metadata": {},
   "outputs": [],
   "source": [
    "# change alpha parameter"
   ]
  },
  {
   "cell_type": "code",
   "execution_count": 221,
   "id": "c8759c03",
   "metadata": {},
   "outputs": [],
   "source": [
    "ridge_model  = Ridge(alpha = 5)"
   ]
  },
  {
   "cell_type": "code",
   "execution_count": 222,
   "id": "3f493675",
   "metadata": {},
   "outputs": [
    {
     "data": {
      "text/plain": [
       "Ridge(alpha=5)"
      ]
     },
     "execution_count": 222,
     "metadata": {},
     "output_type": "execute_result"
    }
   ],
   "source": [
    "ridge_model.fit(X_train, y_train)"
   ]
  },
  {
   "cell_type": "code",
   "execution_count": 223,
   "id": "4384a755",
   "metadata": {},
   "outputs": [
    {
     "data": {
      "text/plain": [
       "array([3.63784885, 2.66537911, 0.03829115])"
      ]
     },
     "execution_count": 223,
     "metadata": {},
     "output_type": "execute_result"
    }
   ],
   "source": [
    "ridge_model.coef_"
   ]
  },
  {
   "cell_type": "code",
   "execution_count": 224,
   "id": "b4ca8946",
   "metadata": {},
   "outputs": [],
   "source": [
    "predict = ridge_model.predict(X_test)"
   ]
  },
  {
   "cell_type": "code",
   "execution_count": 225,
   "id": "1dcb5156",
   "metadata": {},
   "outputs": [
    {
     "data": {
      "text/plain": [
       "0.9142964955815641"
      ]
     },
     "execution_count": 225,
     "metadata": {},
     "output_type": "execute_result"
    }
   ],
   "source": [
    "metrics.r2_score(y_test, predict)"
   ]
  },
  {
   "cell_type": "markdown",
   "id": "02eb91e9",
   "metadata": {},
   "source": [
    "### Ridge with CV"
   ]
  },
  {
   "cell_type": "code",
   "execution_count": 116,
   "id": "0e064652",
   "metadata": {},
   "outputs": [],
   "source": [
    "from sklearn.linear_model import RidgeCV"
   ]
  },
  {
   "cell_type": "code",
   "execution_count": 226,
   "id": "0aa5730b",
   "metadata": {},
   "outputs": [],
   "source": [
    "ridge_modelCV  = RidgeCV(alphas=(0.1, 1.0, 10))"
   ]
  },
  {
   "cell_type": "code",
   "execution_count": 227,
   "id": "71396bc7",
   "metadata": {},
   "outputs": [
    {
     "data": {
      "text/plain": [
       "RidgeCV(alphas=array([ 0.1,  1. , 10. ]))"
      ]
     },
     "execution_count": 227,
     "metadata": {},
     "output_type": "execute_result"
    }
   ],
   "source": [
    "ridge_modelCV.fit(X_train, y_train)"
   ]
  },
  {
   "cell_type": "code",
   "execution_count": 228,
   "id": "c8f19c98",
   "metadata": {},
   "outputs": [],
   "source": [
    "# ridge_modelCV.cv_values_"
   ]
  },
  {
   "cell_type": "code",
   "execution_count": 229,
   "id": "418f007a",
   "metadata": {},
   "outputs": [
    {
     "data": {
      "text/plain": [
       "array([ 3.76333559,  2.76339947, -0.00593674])"
      ]
     },
     "execution_count": 229,
     "metadata": {},
     "output_type": "execute_result"
    }
   ],
   "source": [
    "ridge_modelCV.coef_"
   ]
  },
  {
   "cell_type": "code",
   "execution_count": 230,
   "id": "4e30253c",
   "metadata": {},
   "outputs": [],
   "source": [
    "predict = ridge_modelCV.predict(X_test)"
   ]
  },
  {
   "cell_type": "code",
   "execution_count": 231,
   "id": "c086ed9c",
   "metadata": {},
   "outputs": [
    {
     "data": {
      "text/plain": [
       "0.9185095159757795"
      ]
     },
     "execution_count": 231,
     "metadata": {},
     "output_type": "execute_result"
    }
   ],
   "source": [
    "metrics.r2_score(y_test, predict)"
   ]
  },
  {
   "cell_type": "markdown",
   "id": "55559319",
   "metadata": {},
   "source": [
    "### Elastic Net"
   ]
  },
  {
   "cell_type": "code",
   "execution_count": 183,
   "id": "474a49a6",
   "metadata": {},
   "outputs": [],
   "source": [
    "from sklearn.linear_model import ElasticNet"
   ]
  },
  {
   "cell_type": "code",
   "execution_count": 258,
   "id": "8b4e8879",
   "metadata": {},
   "outputs": [],
   "source": [
    "enet = ElasticNet(alpha = .01, l1_ratio = 0.5)"
   ]
  },
  {
   "cell_type": "code",
   "execution_count": 259,
   "id": "fffa1874",
   "metadata": {},
   "outputs": [
    {
     "data": {
      "text/plain": [
       "ElasticNet(alpha=0.01, max_iter=10000)"
      ]
     },
     "execution_count": 259,
     "metadata": {},
     "output_type": "execute_result"
    }
   ],
   "source": [
    "enet.fit(X_train, y_train)"
   ]
  },
  {
   "cell_type": "code",
   "execution_count": 260,
   "id": "9e61f109",
   "metadata": {},
   "outputs": [],
   "source": [
    "pred = enet.predict(X_test)"
   ]
  },
  {
   "cell_type": "code",
   "execution_count": 261,
   "id": "a05051ae",
   "metadata": {},
   "outputs": [
    {
     "data": {
      "text/plain": [
       "0.9179478260809932"
      ]
     },
     "execution_count": 261,
     "metadata": {},
     "output_type": "execute_result"
    }
   ],
   "source": [
    "metrics.r2_score(y_test, pred)"
   ]
  },
  {
   "cell_type": "markdown",
   "id": "1baecbf4",
   "metadata": {},
   "source": [
    "### Elastic Net with CV"
   ]
  },
  {
   "cell_type": "code",
   "execution_count": 188,
   "id": "6f614dbc",
   "metadata": {},
   "outputs": [],
   "source": [
    "from sklearn.linear_model import ElasticNetCV"
   ]
  },
  {
   "cell_type": "code",
   "execution_count": 236,
   "id": "006d6d52",
   "metadata": {},
   "outputs": [],
   "source": [
    "enetCV = ElasticNetCV(l1_ratio = [.1, .5, .7, .8, .9], \n",
    "                     n_alphas=100)"
   ]
  },
  {
   "cell_type": "code",
   "execution_count": 237,
   "id": "78297281",
   "metadata": {},
   "outputs": [
    {
     "data": {
      "text/plain": [
       "ElasticNetCV(l1_ratio=[0.1, 0.5, 0.7, 0.8, 0.9])"
      ]
     },
     "execution_count": 237,
     "metadata": {},
     "output_type": "execute_result"
    }
   ],
   "source": [
    "enetCV.fit(X_train, y_train)"
   ]
  },
  {
   "cell_type": "code",
   "execution_count": 238,
   "id": "394d582a",
   "metadata": {},
   "outputs": [
    {
     "data": {
      "text/plain": [
       "0.9"
      ]
     },
     "execution_count": 238,
     "metadata": {},
     "output_type": "execute_result"
    }
   ],
   "source": [
    "enetCV.l1_ratio_"
   ]
  },
  {
   "cell_type": "code",
   "execution_count": 239,
   "id": "8183bc02",
   "metadata": {},
   "outputs": [
    {
     "data": {
      "text/plain": [
       "0.08848730467563237"
      ]
     },
     "execution_count": 239,
     "metadata": {},
     "output_type": "execute_result"
    }
   ],
   "source": [
    "enetCV.alpha_"
   ]
  },
  {
   "cell_type": "code",
   "execution_count": 240,
   "id": "bdf7dc18",
   "metadata": {},
   "outputs": [],
   "source": [
    "pred = enetCV.predict(X_test)"
   ]
  },
  {
   "cell_type": "code",
   "execution_count": 241,
   "id": "7a81c6f3",
   "metadata": {},
   "outputs": [
    {
     "data": {
      "text/plain": [
       "0.9150494125440356"
      ]
     },
     "execution_count": 241,
     "metadata": {},
     "output_type": "execute_result"
    }
   ],
   "source": [
    "metrics.r2_score(y_test, pred)"
   ]
  },
  {
   "cell_type": "markdown",
   "id": "63b1e4c5",
   "metadata": {},
   "source": [
    "### Grid Search CV"
   ]
  },
  {
   "cell_type": "code",
   "execution_count": 242,
   "id": "9ba7f8f2",
   "metadata": {},
   "outputs": [],
   "source": [
    "sales_df = pd.read_csv('Advertising.csv')\n",
    "# Printing first few records\n",
    "sales_df.head()\n",
    "X = sales_df[['TV', 'Radio', 'Newspaper']]\n",
    "y = sales_df['Sales'] "
   ]
  },
  {
   "cell_type": "code",
   "execution_count": 243,
   "id": "8c8121bd",
   "metadata": {},
   "outputs": [],
   "source": [
    "X_train, X_test, y_train, y_test = train_test_split(X, y,train_size=0.7, random_state = 101)"
   ]
  },
  {
   "cell_type": "code",
   "execution_count": 244,
   "id": "96e2e92d",
   "metadata": {},
   "outputs": [],
   "source": [
    "scaler = StandardScaler()\n",
    "X_train = scaler.fit_transform(X_train)\n",
    "X_test = scaler.transform(X_test)"
   ]
  },
  {
   "cell_type": "code",
   "execution_count": 198,
   "id": "9f681348",
   "metadata": {},
   "outputs": [],
   "source": [
    "base_model = ElasticNet()"
   ]
  },
  {
   "cell_type": "code",
   "execution_count": 199,
   "id": "9b03dade",
   "metadata": {},
   "outputs": [],
   "source": [
    "param = {'alpha': [ 0.001, 0.01, 1, 5, 10, 50], 'l1_ratio': [.1, .5, .7, .95, .99, 1]}"
   ]
  },
  {
   "cell_type": "code",
   "execution_count": 140,
   "id": "dbbad8ab",
   "metadata": {},
   "outputs": [],
   "source": [
    "from sklearn.model_selection import GridSearchCV"
   ]
  },
  {
   "cell_type": "code",
   "execution_count": 200,
   "id": "e14d4865",
   "metadata": {},
   "outputs": [],
   "source": [
    "grid_model = GridSearchCV(estimator=base_model, param_grid=param, scoring='r2', \n",
    "                          cv=5,verbose=0)"
   ]
  },
  {
   "cell_type": "code",
   "execution_count": 201,
   "id": "936f47df",
   "metadata": {},
   "outputs": [
    {
     "data": {
      "text/plain": [
       "GridSearchCV(cv=5, estimator=ElasticNet(),\n",
       "             param_grid={'alpha': [0.001, 0.01, 1, 5, 10, 50],\n",
       "                         'l1_ratio': [0.1, 0.5, 0.7, 0.95, 0.99, 1]},\n",
       "             scoring='r2')"
      ]
     },
     "execution_count": 201,
     "metadata": {},
     "output_type": "execute_result"
    }
   ],
   "source": [
    "grid_model.fit(X_train, y_train)"
   ]
  },
  {
   "cell_type": "code",
   "execution_count": 202,
   "id": "103eb550",
   "metadata": {},
   "outputs": [
    {
     "data": {
      "text/plain": [
       "ElasticNet(alpha=0.01, l1_ratio=1)"
      ]
     },
     "execution_count": 202,
     "metadata": {},
     "output_type": "execute_result"
    }
   ],
   "source": [
    "grid_model.best_estimator_"
   ]
  },
  {
   "cell_type": "code",
   "execution_count": 195,
   "id": "6e7d27a0",
   "metadata": {},
   "outputs": [],
   "source": [
    "# grid_model.cv_results_\n",
    "# pd.DataFrame(grid_model.cv_results_)"
   ]
  },
  {
   "cell_type": "code",
   "execution_count": 203,
   "id": "cbe31d14",
   "metadata": {},
   "outputs": [],
   "source": [
    "y_pred = grid_model.predict(X_test)"
   ]
  },
  {
   "cell_type": "code",
   "execution_count": 204,
   "id": "adadb99b",
   "metadata": {},
   "outputs": [
    {
     "data": {
      "text/plain": [
       "0.9182975460753906"
      ]
     },
     "execution_count": 204,
     "metadata": {},
     "output_type": "execute_result"
    }
   ],
   "source": [
    "metrics.r2_score(y_test, y_pred)"
   ]
  },
  {
   "cell_type": "code",
   "execution_count": null,
   "id": "3d838a4c",
   "metadata": {},
   "outputs": [],
   "source": []
  },
  {
   "cell_type": "code",
   "execution_count": null,
   "id": "db0622a0",
   "metadata": {},
   "outputs": [],
   "source": []
  }
 ],
 "metadata": {
  "kernelspec": {
   "display_name": "Python 3 (ipykernel)",
   "language": "python",
   "name": "python3"
  },
  "language_info": {
   "codemirror_mode": {
    "name": "ipython",
    "version": 3
   },
   "file_extension": ".py",
   "mimetype": "text/x-python",
   "name": "python",
   "nbconvert_exporter": "python",
   "pygments_lexer": "ipython3",
   "version": "3.9.7"
  }
 },
 "nbformat": 4,
 "nbformat_minor": 5
}
