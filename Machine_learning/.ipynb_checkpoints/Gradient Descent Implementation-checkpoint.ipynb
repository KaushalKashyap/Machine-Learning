{
 "cells": [
  {
   "cell_type": "code",
   "execution_count": 1,
   "id": "02adb4b8",
   "metadata": {},
   "outputs": [],
   "source": [
    "import pandas as pd\n",
    "import numpy as np\n",
    "import warnings\n",
    "warnings.filterwarnings('ignore')\n",
    "import matplotlib.pyplot as plt"
   ]
  },
  {
   "cell_type": "code",
   "execution_count": null,
   "id": "37045987",
   "metadata": {},
   "outputs": [],
   "source": []
  },
  {
   "cell_type": "code",
   "execution_count": 2,
   "id": "171a8bdb",
   "metadata": {},
   "outputs": [
    {
     "data": {
      "text/html": [
       "<div>\n",
       "<style scoped>\n",
       "    .dataframe tbody tr th:only-of-type {\n",
       "        vertical-align: middle;\n",
       "    }\n",
       "\n",
       "    .dataframe tbody tr th {\n",
       "        vertical-align: top;\n",
       "    }\n",
       "\n",
       "    .dataframe thead th {\n",
       "        text-align: right;\n",
       "    }\n",
       "</style>\n",
       "<table border=\"1\" class=\"dataframe\">\n",
       "  <thead>\n",
       "    <tr style=\"text-align: right;\">\n",
       "      <th></th>\n",
       "      <th>TV</th>\n",
       "      <th>Radio</th>\n",
       "      <th>Newspaper</th>\n",
       "      <th>Sales</th>\n",
       "      <th>Unnamed: 4</th>\n",
       "      <th>Unnamed: 5</th>\n",
       "      <th>Unnamed: 6</th>\n",
       "      <th>Unnamed: 7</th>\n",
       "      <th>Unnamed: 8</th>\n",
       "      <th>Unnamed: 9</th>\n",
       "      <th>Unnamed: 10</th>\n",
       "    </tr>\n",
       "  </thead>\n",
       "  <tbody>\n",
       "    <tr>\n",
       "      <th>0</th>\n",
       "      <td>230.1</td>\n",
       "      <td>37.8</td>\n",
       "      <td>69.2</td>\n",
       "      <td>22.1</td>\n",
       "      <td>NaN</td>\n",
       "      <td>NaN</td>\n",
       "      <td>NaN</td>\n",
       "      <td>NaN</td>\n",
       "      <td>NaN</td>\n",
       "      <td>NaN</td>\n",
       "      <td>NaN</td>\n",
       "    </tr>\n",
       "    <tr>\n",
       "      <th>1</th>\n",
       "      <td>44.5</td>\n",
       "      <td>39.3</td>\n",
       "      <td>45.1</td>\n",
       "      <td>10.4</td>\n",
       "      <td>NaN</td>\n",
       "      <td>NaN</td>\n",
       "      <td>NaN</td>\n",
       "      <td>NaN</td>\n",
       "      <td>NaN</td>\n",
       "      <td>NaN</td>\n",
       "      <td>NaN</td>\n",
       "    </tr>\n",
       "    <tr>\n",
       "      <th>2</th>\n",
       "      <td>17.2</td>\n",
       "      <td>45.9</td>\n",
       "      <td>69.3</td>\n",
       "      <td>9.3</td>\n",
       "      <td>NaN</td>\n",
       "      <td>NaN</td>\n",
       "      <td>NaN</td>\n",
       "      <td>NaN</td>\n",
       "      <td>NaN</td>\n",
       "      <td>NaN</td>\n",
       "      <td>NaN</td>\n",
       "    </tr>\n",
       "    <tr>\n",
       "      <th>3</th>\n",
       "      <td>151.5</td>\n",
       "      <td>41.3</td>\n",
       "      <td>58.5</td>\n",
       "      <td>18.5</td>\n",
       "      <td>NaN</td>\n",
       "      <td>NaN</td>\n",
       "      <td>NaN</td>\n",
       "      <td>NaN</td>\n",
       "      <td>NaN</td>\n",
       "      <td>NaN</td>\n",
       "      <td>NaN</td>\n",
       "    </tr>\n",
       "    <tr>\n",
       "      <th>4</th>\n",
       "      <td>180.8</td>\n",
       "      <td>10.8</td>\n",
       "      <td>58.4</td>\n",
       "      <td>12.9</td>\n",
       "      <td>NaN</td>\n",
       "      <td>NaN</td>\n",
       "      <td>NaN</td>\n",
       "      <td>NaN</td>\n",
       "      <td>NaN</td>\n",
       "      <td>NaN</td>\n",
       "      <td>NaN</td>\n",
       "    </tr>\n",
       "  </tbody>\n",
       "</table>\n",
       "</div>"
      ],
      "text/plain": [
       "      TV  Radio  Newspaper  Sales  Unnamed: 4  Unnamed: 5  Unnamed: 6  \\\n",
       "0  230.1   37.8       69.2   22.1         NaN         NaN         NaN   \n",
       "1   44.5   39.3       45.1   10.4         NaN         NaN         NaN   \n",
       "2   17.2   45.9       69.3    9.3         NaN         NaN         NaN   \n",
       "3  151.5   41.3       58.5   18.5         NaN         NaN         NaN   \n",
       "4  180.8   10.8       58.4   12.9         NaN         NaN         NaN   \n",
       "\n",
       "   Unnamed: 7  Unnamed: 8  Unnamed: 9  Unnamed: 10  \n",
       "0         NaN         NaN         NaN          NaN  \n",
       "1         NaN         NaN         NaN          NaN  \n",
       "2         NaN         NaN         NaN          NaN  \n",
       "3         NaN         NaN         NaN          NaN  \n",
       "4         NaN         NaN         NaN          NaN  "
      ]
     },
     "execution_count": 2,
     "metadata": {},
     "output_type": "execute_result"
    }
   ],
   "source": [
    "sales_df = pd.read_csv('Advertising.csv')\n",
    "# Printing first few records\n",
    "sales_df.head()"
   ]
  },
  {
   "cell_type": "code",
   "execution_count": 6,
   "id": "b9c7b3fc",
   "metadata": {},
   "outputs": [],
   "source": [
    "X = sales_df[['TV', 'Radio', 'Newspaper']]\n",
    "y = sales_df['Sales']"
   ]
  },
  {
   "cell_type": "code",
   "execution_count": 7,
   "id": "7682cf06",
   "metadata": {},
   "outputs": [],
   "source": [
    "X = X.apply(lambda rec: (rec - rec.mean())/rec.std(), axis= 0)\n",
    "y = np.array((y - y.mean())/y.std())\n"
   ]
  },
  {
   "cell_type": "code",
   "execution_count": 8,
   "id": "e817ba70",
   "metadata": {},
   "outputs": [
    {
     "data": {
      "text/html": [
       "<div>\n",
       "<style scoped>\n",
       "    .dataframe tbody tr th:only-of-type {\n",
       "        vertical-align: middle;\n",
       "    }\n",
       "\n",
       "    .dataframe tbody tr th {\n",
       "        vertical-align: top;\n",
       "    }\n",
       "\n",
       "    .dataframe thead th {\n",
       "        text-align: right;\n",
       "    }\n",
       "</style>\n",
       "<table border=\"1\" class=\"dataframe\">\n",
       "  <thead>\n",
       "    <tr style=\"text-align: right;\">\n",
       "      <th></th>\n",
       "      <th>TV</th>\n",
       "      <th>Radio</th>\n",
       "      <th>Newspaper</th>\n",
       "    </tr>\n",
       "  </thead>\n",
       "  <tbody>\n",
       "    <tr>\n",
       "      <th>0</th>\n",
       "      <td>0.967425</td>\n",
       "      <td>0.979066</td>\n",
       "      <td>1.774493</td>\n",
       "    </tr>\n",
       "    <tr>\n",
       "      <th>1</th>\n",
       "      <td>-1.194379</td>\n",
       "      <td>1.080097</td>\n",
       "      <td>0.667903</td>\n",
       "    </tr>\n",
       "    <tr>\n",
       "      <th>2</th>\n",
       "      <td>-1.512360</td>\n",
       "      <td>1.524637</td>\n",
       "      <td>1.779084</td>\n",
       "    </tr>\n",
       "    <tr>\n",
       "      <th>3</th>\n",
       "      <td>0.051919</td>\n",
       "      <td>1.214806</td>\n",
       "      <td>1.283185</td>\n",
       "    </tr>\n",
       "    <tr>\n",
       "      <th>4</th>\n",
       "      <td>0.393196</td>\n",
       "      <td>-0.839507</td>\n",
       "      <td>1.278593</td>\n",
       "    </tr>\n",
       "    <tr>\n",
       "      <th>...</th>\n",
       "      <td>...</td>\n",
       "      <td>...</td>\n",
       "      <td>...</td>\n",
       "    </tr>\n",
       "    <tr>\n",
       "      <th>195</th>\n",
       "      <td>-1.267759</td>\n",
       "      <td>-1.317724</td>\n",
       "      <td>-0.769287</td>\n",
       "    </tr>\n",
       "    <tr>\n",
       "      <th>196</th>\n",
       "      <td>-0.615491</td>\n",
       "      <td>-1.236899</td>\n",
       "      <td>-1.031011</td>\n",
       "    </tr>\n",
       "    <tr>\n",
       "      <th>197</th>\n",
       "      <td>0.348934</td>\n",
       "      <td>-0.940539</td>\n",
       "      <td>-1.109069</td>\n",
       "    </tr>\n",
       "    <tr>\n",
       "      <th>198</th>\n",
       "      <td>1.590574</td>\n",
       "      <td>1.261955</td>\n",
       "      <td>1.636743</td>\n",
       "    </tr>\n",
       "    <tr>\n",
       "      <th>199</th>\n",
       "      <td>0.990720</td>\n",
       "      <td>-0.987687</td>\n",
       "      <td>-1.003461</td>\n",
       "    </tr>\n",
       "  </tbody>\n",
       "</table>\n",
       "<p>200 rows × 3 columns</p>\n",
       "</div>"
      ],
      "text/plain": [
       "           TV     Radio  Newspaper\n",
       "0    0.967425  0.979066   1.774493\n",
       "1   -1.194379  1.080097   0.667903\n",
       "2   -1.512360  1.524637   1.779084\n",
       "3    0.051919  1.214806   1.283185\n",
       "4    0.393196 -0.839507   1.278593\n",
       "..        ...       ...        ...\n",
       "195 -1.267759 -1.317724  -0.769287\n",
       "196 -0.615491 -1.236899  -1.031011\n",
       "197  0.348934 -0.940539  -1.109069\n",
       "198  1.590574  1.261955   1.636743\n",
       "199  0.990720 -0.987687  -1.003461\n",
       "\n",
       "[200 rows x 3 columns]"
      ]
     },
     "execution_count": 8,
     "metadata": {},
     "output_type": "execute_result"
    }
   ],
   "source": [
    "X"
   ]
  },
  {
   "cell_type": "code",
   "execution_count": 9,
   "id": "86c2cb64",
   "metadata": {},
   "outputs": [],
   "source": [
    "import random\n",
    "#dim - is the number of weights to be initialized besides the bias\n",
    "\n",
    "def initialize(dim):\n",
    "    # For reproducible results, the seed it set to 42.\n",
    "    np.random.seed(seed=42)\n",
    "    random.seed(42)\n",
    "    #Initialize the bias.\n",
    "    b = random.random()\n",
    "    #Initialize the weights.\n",
    "    w = np.random.rand(dim)\n",
    "    return b, w"
   ]
  },
  {
   "cell_type": "code",
   "execution_count": 10,
   "id": "986daa68",
   "metadata": {},
   "outputs": [
    {
     "name": "stdout",
     "output_type": "stream",
     "text": [
      "Bias:  0.6394267984578837 Weights:  [0.37454012 0.95071431 0.73199394]\n"
     ]
    }
   ],
   "source": [
    "b, w = initialize(3)\n",
    "print('Bias: ', b, 'Weights: ', w )"
   ]
  },
  {
   "cell_type": "code",
   "execution_count": 22,
   "id": "cb479584",
   "metadata": {},
   "outputs": [],
   "source": [
    "# Inputs:\n",
    "# b - bias\n",
    "# w - weights\n",
    "# X - the input matrix\n",
    "def predict_y(b, w, X):\n",
    "    return b + np.dot(X, w)\n",
    "# y_hat = B0 + B1.X"
   ]
  },
  {
   "cell_type": "code",
   "execution_count": 23,
   "id": "8c756c3f",
   "metadata": {},
   "outputs": [
    {
     "data": {
      "text/plain": [
       "array([ 3.23149557,  1.70784873,  2.82476076,  2.75309026,  0.92448558,\n",
       "        3.17136498,  0.62234399, -0.34935444, -2.313095  , -0.76802983])"
      ]
     },
     "execution_count": 23,
     "metadata": {},
     "output_type": "execute_result"
    }
   ],
   "source": [
    "b, w = initialize(3)\n",
    "y_hat = predict_y(b, w, X)\n",
    "y_hat[0:10]"
   ]
  },
  {
   "cell_type": "code",
   "execution_count": 24,
   "id": "f7a7eeb4",
   "metadata": {},
   "outputs": [],
   "source": [
    "import math\n",
    "# Inputs\n",
    "# Y - Actual values of y\n",
    "# Y_hat - predicted value of y\n",
    "def get_cost(y, y_hat):\n",
    "    # Calculating the residuals - difference between actual and\n",
    "    # predicted values\n",
    "    y_resid = y - y_hat\n",
    "    # Matrix multiplication with self will give the square values\n",
    "    # Then take the sum and divide by number of examples to\n",
    "    # calculate mean\n",
    "    return np.sum(np.dot(y_resid.T, y_resid) ) / len(y_resid)"
   ]
  },
  {
   "cell_type": "code",
   "execution_count": 26,
   "id": "628f4eed",
   "metadata": {},
   "outputs": [
    {
     "data": {
      "text/plain": [
       "1.5303100198505888"
      ]
     },
     "execution_count": 26,
     "metadata": {},
     "output_type": "execute_result"
    }
   ],
   "source": [
    "b, w = initialize(3)\n",
    "y_hat = predict_y(b, w, X)\n",
    "get_cost(y, y_hat)"
   ]
  },
  {
   "cell_type": "code",
   "execution_count": 16,
   "id": "46d3c81d",
   "metadata": {},
   "outputs": [],
   "source": [
    "def update_beta(X, y, y_hat, b_0, w_0, learning_rate ):\n",
    "    #gradient of bias\n",
    "    db = (np.sum(y_hat - y) * 2) / len(y) # partial diff w.r.t B0\n",
    "    #gradient of weights\n",
    "    dw = (np.dot((y_hat - y), X) * 2 ) / len(y) # partial diff wrt B1\n",
    "    #update bias\n",
    "    b_1 = b_0 - learning_rate * db\n",
    "    #update beta\n",
    "    w_1 = w_0 - learning_rate * dw\n",
    "    #return the new bias and beta values\n",
    "    return b_1, w_1"
   ]
  },
  {
   "cell_type": "code",
   "execution_count": 27,
   "id": "12cee1f2",
   "metadata": {},
   "outputs": [
    {
     "name": "stdout",
     "output_type": "stream",
     "text": [
      "After Initialization - Bias: 0.6394267984578837 Weights:  [0.37454012 0.95071431 0.73199394]\n",
      "After first update - Bias: 0.6266382624887261 Weights:  [0.38079093 0.9376953  0.71484883]\n"
     ]
    }
   ],
   "source": [
    "b, w = initialize(3)\n",
    "print('After Initialization - Bias:', b, 'Weights: ', w )\n",
    "y_hat = predict_y( b, w, X)\n",
    "b, w = update_beta(X, y, y_hat, b, w, 0.01)\n",
    "print('After first update - Bias:', b, 'Weights: ', w)"
   ]
  },
  {
   "cell_type": "code",
   "execution_count": 28,
   "id": "05c6828f",
   "metadata": {},
   "outputs": [],
   "source": [
    "def run_gradient_descent(X, y, alpha = 0.01, num_iterations = 100):\n",
    "    \n",
    "    # Initialize the bias and weights\n",
    "    \n",
    "    b, w = initialize(X.shape[1])\n",
    "    \n",
    "    # gd_iterations_df keeps track of the cost every 10 iterations\n",
    "   \n",
    "    iter_num = 0\n",
    "      \n",
    "    gd_iterations_df = pd.DataFrame(columns = ['iteration', 'cost'])\n",
    "    \n",
    "    result_idx = 0\n",
    "    \n",
    "    # Run the iterations in loop\n",
    "    \n",
    "    for each_iter in range(num_iterations):\n",
    "   \n",
    "        # Calculate predicted value of y\n",
    "    \n",
    "        y_hat = predict_y(b, w, X)\n",
    "    \n",
    "        # Calculate the cost\n",
    "    \n",
    "        this_cost = get_cost(y, y_hat)\n",
    "    \n",
    "        # Save the previous bias and weights\n",
    "    \n",
    "        prev_b = b\n",
    "        prev_w = w\n",
    "    \n",
    "        # Update and calculate the new values of bias and weights\n",
    "    \n",
    "        b, w = update_beta(X, y, y_hat, prev_b, prev_w, alpha)\n",
    "    \n",
    "        # For every 10 iterations, store the cost i.e. MSE\n",
    "    \n",
    "        if(iter_num % 10 == 0):\n",
    "            \n",
    "            gd_iterations_df.loc[result_idx] = [iter_num, this_cost]\n",
    "            \n",
    "            result_idx += 1\n",
    "        \n",
    "        iter_num += 1\n",
    "       \n",
    "    print('Final estimate of b and w: ', b, w)\n",
    "    \n",
    "    #return the final bias, weights and the cost at the end\n",
    "    return gd_iterations_df, b, w"
   ]
  },
  {
   "cell_type": "code",
   "execution_count": 29,
   "id": "afd24aeb",
   "metadata": {},
   "outputs": [
    {
     "name": "stdout",
     "output_type": "stream",
     "text": [
      "Final estimate of b and w:  2.779211677436975e-16 [ 0.75306591  0.53648155 -0.00433069]\n"
     ]
    }
   ],
   "source": [
    "# learning parameter - 0.01\n",
    "gd_iterations_df1, b, w =  run_gradient_descent(X, y, alpha = 0.01, num_iterations = 10000)"
   ]
  },
  {
   "cell_type": "code",
   "execution_count": 30,
   "id": "377abf41",
   "metadata": {},
   "outputs": [
    {
     "data": {
      "text/plain": [
       "iteration    5000.000000\n",
       "cost            0.102275\n",
       "Name: 500, dtype: float64"
      ]
     },
     "execution_count": 30,
     "metadata": {},
     "output_type": "execute_result"
    }
   ],
   "source": [
    "gd_iterations_df1.iloc[500]"
   ]
  },
  {
   "cell_type": "code",
   "execution_count": 32,
   "id": "d0f8c0cb",
   "metadata": {},
   "outputs": [
    {
     "data": {
      "text/plain": [
       "(0.0, 200.0)"
      ]
     },
     "execution_count": 32,
     "metadata": {},
     "output_type": "execute_result"
    },
    {
     "data": {
      "image/png": "[encoded data removed]",
      "text/plain": [
       "<Figure size 432x288 with 1 Axes>"
      ]
     },
     "metadata": {
      "needs_background": "light"
     },
     "output_type": "display_data"
    }
   ],
   "source": [
    "plt.plot(gd_iterations_df1['iteration'], gd_iterations_df1['cost'])\n",
    "plt.xlim(0,200)"
   ]
  },
  {
   "cell_type": "code",
   "execution_count": 33,
   "id": "dc1ec71c",
   "metadata": {},
   "outputs": [
    {
     "name": "stdout",
     "output_type": "stream",
     "text": [
      "Final estimate of b and w:  1.2918253341321046e-09 [ 0.75306591  0.53648113 -0.00433026]\n"
     ]
    }
   ],
   "source": [
    "# learning parameter - 0.001\n",
    "gd_iterations_df2, b, w =  run_gradient_descent(X, y, alpha = 0.001, num_iterations = 10000)"
   ]
  },
  {
   "cell_type": "code",
   "execution_count": 34,
   "id": "ece7cc5a",
   "metadata": {},
   "outputs": [
    {
     "data": {
      "text/plain": [
       "(0.0, 800.0)"
      ]
     },
     "execution_count": 34,
     "metadata": {},
     "output_type": "execute_result"
    },
    {
     "data": {
      "image/png": "[encoded data removed]",
      "text/plain": [
       "<Figure size 432x288 with 1 Axes>"
      ]
     },
     "metadata": {
      "needs_background": "light"
     },
     "output_type": "display_data"
    }
   ],
   "source": [
    "plt.plot(gd_iterations_df2['iteration'], gd_iterations_df2['cost'])\n",
    "plt.xlim(0,800)"
   ]
  },
  {
   "cell_type": "markdown",
   "id": "fe07f963",
   "metadata": {},
   "source": [
    "learning is faster for alpha value 0.01 compared to 0.001. \n",
    "For smaller values, the learning could be slower whereas higher learning rate \n",
    "could lead to skipping the minima of cost function. It is imperative to\n",
    "search for the optimal learning parameter."
   ]
  }
 ],
 "metadata": {
  "kernelspec": {
   "display_name": "Python 3 (ipykernel)",
   "language": "python",
   "name": "python3"
  },
  "language_info": {
   "codemirror_mode": {
    "name": "ipython",
    "version": 3
   },
   "file_extension": ".py",
   "mimetype": "text/x-python",
   "name": "python",
   "nbconvert_exporter": "python",
   "pygments_lexer": "ipython3",
   "version": "3.9.7"
  }
 },
 "nbformat": 4,
 "nbformat_minor": 5
}
