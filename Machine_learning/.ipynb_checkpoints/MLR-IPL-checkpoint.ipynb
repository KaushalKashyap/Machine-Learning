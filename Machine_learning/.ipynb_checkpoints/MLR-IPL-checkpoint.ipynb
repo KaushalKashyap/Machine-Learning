{
 "cells": [
  {
   "cell_type": "code",
   "execution_count": 1,
   "metadata": {},
   "outputs": [
    {
     "name": "stderr",
     "output_type": "stream",
     "text": [
      "C:\\Users\\91994\\Anaconda3\\lib\\site-packages\\statsmodels\\tools\\_testing.py:19: FutureWarning: pandas.util.testing is deprecated. Use the functions in the public API at pandas.testing instead.\n",
      "  import pandas.util.testing as tm\n"
     ]
    }
   ],
   "source": [
    "import pandas as pd\n",
    "import numpy as np\n",
    "import statsmodels.api as sm\n",
    "from sklearn.model_selection import train_test_split\n",
    "from statsmodels.stats.outliers_influence import variance_inflation_factor\n",
    "import matplotlib.pyplot as plt\n",
    "import seaborn as sns\n",
    "# from sklearn.preprocessing import StandardScaler\n",
    "from sklearn import metrics"
   ]
  },
  {
   "cell_type": "code",
   "execution_count": 2,
   "metadata": {},
   "outputs": [],
   "source": [
    "ipl_auction_df = pd.read_excel(\"IPL Raw Data.xlsx\")"
   ]
  },
  {
   "cell_type": "code",
   "execution_count": 3,
   "metadata": {
    "scrolled": false
   },
   "outputs": [
    {
     "name": "stdout",
     "output_type": "stream",
     "text": [
      "<class 'pandas.core.frame.DataFrame'>\n",
      "RangeIndex: 130 entries, 0 to 129\n",
      "Data columns (total 26 columns):\n",
      " #   Column         Non-Null Count  Dtype  \n",
      "---  ------         --------------  -----  \n",
      " 0   Sl.NO.         130 non-null    int64  \n",
      " 1   PLAYER NAME    130 non-null    object \n",
      " 2   AGE            130 non-null    int64  \n",
      " 3   COUNTRY        130 non-null    object \n",
      " 4   TEAM           130 non-null    object \n",
      " 5   PLAYING ROLE   130 non-null    object \n",
      " 6   T-RUNS         130 non-null    int64  \n",
      " 7   T-WKTS         130 non-null    int64  \n",
      " 8   ODI-RUNS-S     130 non-null    int64  \n",
      " 9   ODI-SR-B       130 non-null    float64\n",
      " 10  ODI-WKTS       130 non-null    int64  \n",
      " 11  ODI-SR-BL      130 non-null    float64\n",
      " 12  CAPTAINCY EXP  130 non-null    int64  \n",
      " 13  RUNS-S         130 non-null    int64  \n",
      " 14  HS             130 non-null    int64  \n",
      " 15  AVE            130 non-null    float64\n",
      " 16  SR -B          130 non-null    float64\n",
      " 17  SIXERS         130 non-null    int64  \n",
      " 18  RUNS-C         130 non-null    int64  \n",
      " 19  WKTS           130 non-null    int64  \n",
      " 20  AVE-BL         130 non-null    float64\n",
      " 21  ECON           130 non-null    float64\n",
      " 22  SR-BL          130 non-null    float64\n",
      " 23  AUCTION YEAR   130 non-null    int64  \n",
      " 24  BASE PRICE     130 non-null    int64  \n",
      " 25  SOLD PRICE     130 non-null    int64  \n",
      "dtypes: float64(7), int64(15), object(4)\n",
      "memory usage: 26.5+ KB\n"
     ]
    }
   ],
   "source": [
    "ipl_auction_df.info()"
   ]
  },
  {
   "cell_type": "code",
   "execution_count": 4,
   "metadata": {},
   "outputs": [
    {
     "data": {
      "text/html": [
       "<div>\n",
       "<style scoped>\n",
       "    .dataframe tbody tr th:only-of-type {\n",
       "        vertical-align: middle;\n",
       "    }\n",
       "\n",
       "    .dataframe tbody tr th {\n",
       "        vertical-align: top;\n",
       "    }\n",
       "\n",
       "    .dataframe thead th {\n",
       "        text-align: right;\n",
       "    }\n",
       "</style>\n",
       "<table border=\"1\" class=\"dataframe\">\n",
       "  <thead>\n",
       "    <tr style=\"text-align: right;\">\n",
       "      <th></th>\n",
       "      <th>Sl.NO.</th>\n",
       "      <th>PLAYER NAME</th>\n",
       "      <th>AGE</th>\n",
       "      <th>COUNTRY</th>\n",
       "      <th>TEAM</th>\n",
       "      <th>PLAYING ROLE</th>\n",
       "      <th>T-RUNS</th>\n",
       "      <th>T-WKTS</th>\n",
       "      <th>ODI-RUNS-S</th>\n",
       "      <th>ODI-SR-B</th>\n",
       "      <th>...</th>\n",
       "      <th>SR -B</th>\n",
       "      <th>SIXERS</th>\n",
       "      <th>RUNS-C</th>\n",
       "      <th>WKTS</th>\n",
       "      <th>AVE-BL</th>\n",
       "      <th>ECON</th>\n",
       "      <th>SR-BL</th>\n",
       "      <th>AUCTION YEAR</th>\n",
       "      <th>BASE PRICE</th>\n",
       "      <th>SOLD PRICE</th>\n",
       "    </tr>\n",
       "  </thead>\n",
       "  <tbody>\n",
       "    <tr>\n",
       "      <th>0</th>\n",
       "      <td>1</td>\n",
       "      <td>Abdulla, YA</td>\n",
       "      <td>2</td>\n",
       "      <td>SA</td>\n",
       "      <td>KXIP</td>\n",
       "      <td>Allrounder</td>\n",
       "      <td>0</td>\n",
       "      <td>0</td>\n",
       "      <td>0</td>\n",
       "      <td>0.00</td>\n",
       "      <td>...</td>\n",
       "      <td>0.000000</td>\n",
       "      <td>0</td>\n",
       "      <td>307</td>\n",
       "      <td>15</td>\n",
       "      <td>20.466667</td>\n",
       "      <td>8.898551</td>\n",
       "      <td>13.933333</td>\n",
       "      <td>2009</td>\n",
       "      <td>50000</td>\n",
       "      <td>50000</td>\n",
       "    </tr>\n",
       "    <tr>\n",
       "      <th>1</th>\n",
       "      <td>2</td>\n",
       "      <td>Abdur Razzak</td>\n",
       "      <td>2</td>\n",
       "      <td>BAN</td>\n",
       "      <td>RCB</td>\n",
       "      <td>Bowler</td>\n",
       "      <td>214</td>\n",
       "      <td>18</td>\n",
       "      <td>657</td>\n",
       "      <td>71.41</td>\n",
       "      <td>...</td>\n",
       "      <td>0.000000</td>\n",
       "      <td>0</td>\n",
       "      <td>29</td>\n",
       "      <td>0</td>\n",
       "      <td>0.000000</td>\n",
       "      <td>14.500000</td>\n",
       "      <td>0.000000</td>\n",
       "      <td>2008</td>\n",
       "      <td>50000</td>\n",
       "      <td>50000</td>\n",
       "    </tr>\n",
       "    <tr>\n",
       "      <th>2</th>\n",
       "      <td>3</td>\n",
       "      <td>Agarkar, AB</td>\n",
       "      <td>2</td>\n",
       "      <td>IND</td>\n",
       "      <td>KKR</td>\n",
       "      <td>Bowler</td>\n",
       "      <td>571</td>\n",
       "      <td>58</td>\n",
       "      <td>1269</td>\n",
       "      <td>80.62</td>\n",
       "      <td>...</td>\n",
       "      <td>121.014493</td>\n",
       "      <td>5</td>\n",
       "      <td>1059</td>\n",
       "      <td>29</td>\n",
       "      <td>36.517241</td>\n",
       "      <td>8.810316</td>\n",
       "      <td>24.896552</td>\n",
       "      <td>2008</td>\n",
       "      <td>200000</td>\n",
       "      <td>350000</td>\n",
       "    </tr>\n",
       "    <tr>\n",
       "      <th>3</th>\n",
       "      <td>4</td>\n",
       "      <td>Ashwin, R</td>\n",
       "      <td>1</td>\n",
       "      <td>IND</td>\n",
       "      <td>CSK</td>\n",
       "      <td>Bowler</td>\n",
       "      <td>284</td>\n",
       "      <td>31</td>\n",
       "      <td>241</td>\n",
       "      <td>84.56</td>\n",
       "      <td>...</td>\n",
       "      <td>76.315789</td>\n",
       "      <td>0</td>\n",
       "      <td>1125</td>\n",
       "      <td>49</td>\n",
       "      <td>22.959184</td>\n",
       "      <td>6.232687</td>\n",
       "      <td>22.142857</td>\n",
       "      <td>2011</td>\n",
       "      <td>100000</td>\n",
       "      <td>850000</td>\n",
       "    </tr>\n",
       "    <tr>\n",
       "      <th>4</th>\n",
       "      <td>5</td>\n",
       "      <td>Badrinath, S</td>\n",
       "      <td>2</td>\n",
       "      <td>IND</td>\n",
       "      <td>CSK</td>\n",
       "      <td>Batsman</td>\n",
       "      <td>63</td>\n",
       "      <td>0</td>\n",
       "      <td>79</td>\n",
       "      <td>45.93</td>\n",
       "      <td>...</td>\n",
       "      <td>120.714940</td>\n",
       "      <td>28</td>\n",
       "      <td>0</td>\n",
       "      <td>0</td>\n",
       "      <td>0.000000</td>\n",
       "      <td>0.000000</td>\n",
       "      <td>0.000000</td>\n",
       "      <td>2011</td>\n",
       "      <td>100000</td>\n",
       "      <td>800000</td>\n",
       "    </tr>\n",
       "  </tbody>\n",
       "</table>\n",
       "<p>5 rows × 26 columns</p>\n",
       "</div>"
      ],
      "text/plain": [
       "   Sl.NO.   PLAYER NAME  AGE COUNTRY  TEAM PLAYING ROLE  T-RUNS  T-WKTS  \\\n",
       "0       1   Abdulla, YA    2      SA  KXIP   Allrounder       0       0   \n",
       "1       2  Abdur Razzak    2     BAN   RCB       Bowler     214      18   \n",
       "2       3   Agarkar, AB    2     IND   KKR       Bowler     571      58   \n",
       "3       4     Ashwin, R    1     IND   CSK       Bowler     284      31   \n",
       "4       5  Badrinath, S    2     IND   CSK      Batsman      63       0   \n",
       "\n",
       "   ODI-RUNS-S  ODI-SR-B  ...       SR -B  SIXERS  RUNS-C  WKTS     AVE-BL  \\\n",
       "0           0      0.00  ...    0.000000       0     307    15  20.466667   \n",
       "1         657     71.41  ...    0.000000       0      29     0   0.000000   \n",
       "2        1269     80.62  ...  121.014493       5    1059    29  36.517241   \n",
       "3         241     84.56  ...   76.315789       0    1125    49  22.959184   \n",
       "4          79     45.93  ...  120.714940      28       0     0   0.000000   \n",
       "\n",
       "        ECON      SR-BL  AUCTION YEAR  BASE PRICE  SOLD PRICE  \n",
       "0   8.898551  13.933333          2009       50000       50000  \n",
       "1  14.500000   0.000000          2008       50000       50000  \n",
       "2   8.810316  24.896552          2008      200000      350000  \n",
       "3   6.232687  22.142857          2011      100000      850000  \n",
       "4   0.000000   0.000000          2011      100000      800000  \n",
       "\n",
       "[5 rows x 26 columns]"
      ]
     },
     "execution_count": 4,
     "metadata": {},
     "output_type": "execute_result"
    }
   ],
   "source": [
    "ipl_auction_df.head(5)\n",
    "\n",
    "# SOLD PRICE(Y) = CONST + B1(T-RUNS) + B2(T-WKTS) + B3(SIXERS) ..... Bn(Featuren)"
   ]
  },
  {
   "cell_type": "code",
   "execution_count": 5,
   "metadata": {},
   "outputs": [],
   "source": [
    "ipl_auction_df.drop(['Sl.NO.','TEAM', 'PLAYER NAME'], axis=1, inplace=True)"
   ]
  },
  {
   "cell_type": "code",
   "execution_count": 6,
   "metadata": {},
   "outputs": [
    {
     "name": "stdout",
     "output_type": "stream",
     "text": [
      "<class 'pandas.core.frame.DataFrame'>\n",
      "RangeIndex: 130 entries, 0 to 129\n",
      "Data columns (total 23 columns):\n",
      " #   Column         Non-Null Count  Dtype  \n",
      "---  ------         --------------  -----  \n",
      " 0   AGE            130 non-null    int64  \n",
      " 1   COUNTRY        130 non-null    object \n",
      " 2   PLAYING ROLE   130 non-null    object \n",
      " 3   T-RUNS         130 non-null    int64  \n",
      " 4   T-WKTS         130 non-null    int64  \n",
      " 5   ODI-RUNS-S     130 non-null    int64  \n",
      " 6   ODI-SR-B       130 non-null    float64\n",
      " 7   ODI-WKTS       130 non-null    int64  \n",
      " 8   ODI-SR-BL      130 non-null    float64\n",
      " 9   CAPTAINCY EXP  130 non-null    int64  \n",
      " 10  RUNS-S         130 non-null    int64  \n",
      " 11  HS             130 non-null    int64  \n",
      " 12  AVE            130 non-null    float64\n",
      " 13  SR -B          130 non-null    float64\n",
      " 14  SIXERS         130 non-null    int64  \n",
      " 15  RUNS-C         130 non-null    int64  \n",
      " 16  WKTS           130 non-null    int64  \n",
      " 17  AVE-BL         130 non-null    float64\n",
      " 18  ECON           130 non-null    float64\n",
      " 19  SR-BL          130 non-null    float64\n",
      " 20  AUCTION YEAR   130 non-null    int64  \n",
      " 21  BASE PRICE     130 non-null    int64  \n",
      " 22  SOLD PRICE     130 non-null    int64  \n",
      "dtypes: float64(7), int64(14), object(2)\n",
      "memory usage: 23.5+ KB\n"
     ]
    }
   ],
   "source": [
    "ipl_auction_df.info()"
   ]
  },
  {
   "cell_type": "code",
   "execution_count": 14,
   "metadata": {},
   "outputs": [],
   "source": [
    "X_features = ipl_auction_df.columns[:-3]"
   ]
  },
  {
   "cell_type": "code",
   "execution_count": 15,
   "metadata": {},
   "outputs": [
    {
     "data": {
      "text/plain": [
       "Index(['AGE', 'COUNTRY', 'PLAYING ROLE', 'T-RUNS', 'T-WKTS', 'ODI-RUNS-S',\n",
       "       'ODI-SR-B', 'ODI-WKTS', 'ODI-SR-BL', 'CAPTAINCY EXP', 'RUNS-S', 'HS ',\n",
       "       'AVE', 'SR -B', 'SIXERS', 'RUNS-C', 'WKTS', 'AVE-BL', 'ECON', 'SR-BL'],\n",
       "      dtype='object')"
      ]
     },
     "execution_count": 15,
     "metadata": {},
     "output_type": "execute_result"
    }
   ],
   "source": [
    "X_features"
   ]
  },
  {
   "cell_type": "code",
   "execution_count": 16,
   "metadata": {},
   "outputs": [
    {
     "data": {
      "text/plain": [
       "array(['Allrounder', 'Bowler', 'Batsman', 'W. Keeper'], dtype=object)"
      ]
     },
     "execution_count": 16,
     "metadata": {},
     "output_type": "execute_result"
    }
   ],
   "source": [
    "ipl_auction_df['PLAYING ROLE'].unique()"
   ]
  },
  {
   "cell_type": "code",
   "execution_count": 17,
   "metadata": {},
   "outputs": [
    {
     "data": {
      "text/html": [
       "<div>\n",
       "<style scoped>\n",
       "    .dataframe tbody tr th:only-of-type {\n",
       "        vertical-align: middle;\n",
       "    }\n",
       "\n",
       "    .dataframe tbody tr th {\n",
       "        vertical-align: top;\n",
       "    }\n",
       "\n",
       "    .dataframe thead th {\n",
       "        text-align: right;\n",
       "    }\n",
       "</style>\n",
       "<table border=\"1\" class=\"dataframe\">\n",
       "  <thead>\n",
       "    <tr style=\"text-align: right;\">\n",
       "      <th></th>\n",
       "      <th>Allrounder</th>\n",
       "      <th>Batsman</th>\n",
       "      <th>Bowler</th>\n",
       "      <th>W. Keeper</th>\n",
       "    </tr>\n",
       "  </thead>\n",
       "  <tbody>\n",
       "    <tr>\n",
       "      <td>0</td>\n",
       "      <td>1</td>\n",
       "      <td>0</td>\n",
       "      <td>0</td>\n",
       "      <td>0</td>\n",
       "    </tr>\n",
       "    <tr>\n",
       "      <td>1</td>\n",
       "      <td>0</td>\n",
       "      <td>0</td>\n",
       "      <td>1</td>\n",
       "      <td>0</td>\n",
       "    </tr>\n",
       "    <tr>\n",
       "      <td>2</td>\n",
       "      <td>0</td>\n",
       "      <td>0</td>\n",
       "      <td>1</td>\n",
       "      <td>0</td>\n",
       "    </tr>\n",
       "    <tr>\n",
       "      <td>3</td>\n",
       "      <td>0</td>\n",
       "      <td>0</td>\n",
       "      <td>1</td>\n",
       "      <td>0</td>\n",
       "    </tr>\n",
       "    <tr>\n",
       "      <td>4</td>\n",
       "      <td>0</td>\n",
       "      <td>1</td>\n",
       "      <td>0</td>\n",
       "      <td>0</td>\n",
       "    </tr>\n",
       "    <tr>\n",
       "      <td>...</td>\n",
       "      <td>...</td>\n",
       "      <td>...</td>\n",
       "      <td>...</td>\n",
       "      <td>...</td>\n",
       "    </tr>\n",
       "    <tr>\n",
       "      <td>125</td>\n",
       "      <td>0</td>\n",
       "      <td>1</td>\n",
       "      <td>0</td>\n",
       "      <td>0</td>\n",
       "    </tr>\n",
       "    <tr>\n",
       "      <td>126</td>\n",
       "      <td>0</td>\n",
       "      <td>1</td>\n",
       "      <td>0</td>\n",
       "      <td>0</td>\n",
       "    </tr>\n",
       "    <tr>\n",
       "      <td>127</td>\n",
       "      <td>0</td>\n",
       "      <td>1</td>\n",
       "      <td>0</td>\n",
       "      <td>0</td>\n",
       "    </tr>\n",
       "    <tr>\n",
       "      <td>128</td>\n",
       "      <td>0</td>\n",
       "      <td>0</td>\n",
       "      <td>1</td>\n",
       "      <td>0</td>\n",
       "    </tr>\n",
       "    <tr>\n",
       "      <td>129</td>\n",
       "      <td>0</td>\n",
       "      <td>0</td>\n",
       "      <td>1</td>\n",
       "      <td>0</td>\n",
       "    </tr>\n",
       "  </tbody>\n",
       "</table>\n",
       "<p>130 rows × 4 columns</p>\n",
       "</div>"
      ],
      "text/plain": [
       "     Allrounder  Batsman  Bowler  W. Keeper\n",
       "0             1        0       0          0\n",
       "1             0        0       1          0\n",
       "2             0        0       1          0\n",
       "3             0        0       1          0\n",
       "4             0        1       0          0\n",
       "..          ...      ...     ...        ...\n",
       "125           0        1       0          0\n",
       "126           0        1       0          0\n",
       "127           0        1       0          0\n",
       "128           0        0       1          0\n",
       "129           0        0       1          0\n",
       "\n",
       "[130 rows x 4 columns]"
      ]
     },
     "execution_count": 17,
     "metadata": {},
     "output_type": "execute_result"
    }
   ],
   "source": [
    "pd.get_dummies(ipl_auction_df['PLAYING ROLE'])"
   ]
  },
  {
   "cell_type": "code",
   "execution_count": 18,
   "metadata": {},
   "outputs": [
    {
     "data": {
      "text/html": [
       "<div>\n",
       "<style scoped>\n",
       "    .dataframe tbody tr th:only-of-type {\n",
       "        vertical-align: middle;\n",
       "    }\n",
       "\n",
       "    .dataframe tbody tr th {\n",
       "        vertical-align: top;\n",
       "    }\n",
       "\n",
       "    .dataframe thead th {\n",
       "        text-align: right;\n",
       "    }\n",
       "</style>\n",
       "<table border=\"1\" class=\"dataframe\">\n",
       "  <thead>\n",
       "    <tr style=\"text-align: right;\">\n",
       "      <th></th>\n",
       "      <th>AGE</th>\n",
       "      <th>COUNTRY</th>\n",
       "      <th>PLAYING ROLE</th>\n",
       "      <th>T-RUNS</th>\n",
       "      <th>T-WKTS</th>\n",
       "      <th>ODI-RUNS-S</th>\n",
       "      <th>ODI-SR-B</th>\n",
       "      <th>ODI-WKTS</th>\n",
       "      <th>ODI-SR-BL</th>\n",
       "      <th>CAPTAINCY EXP</th>\n",
       "      <th>...</th>\n",
       "      <th>SR -B</th>\n",
       "      <th>SIXERS</th>\n",
       "      <th>RUNS-C</th>\n",
       "      <th>WKTS</th>\n",
       "      <th>AVE-BL</th>\n",
       "      <th>ECON</th>\n",
       "      <th>SR-BL</th>\n",
       "      <th>AUCTION YEAR</th>\n",
       "      <th>BASE PRICE</th>\n",
       "      <th>SOLD PRICE</th>\n",
       "    </tr>\n",
       "  </thead>\n",
       "  <tbody>\n",
       "    <tr>\n",
       "      <td>0</td>\n",
       "      <td>2</td>\n",
       "      <td>SA</td>\n",
       "      <td>Allrounder</td>\n",
       "      <td>0</td>\n",
       "      <td>0</td>\n",
       "      <td>0</td>\n",
       "      <td>0.00</td>\n",
       "      <td>0</td>\n",
       "      <td>0.0</td>\n",
       "      <td>0</td>\n",
       "      <td>...</td>\n",
       "      <td>0.000000</td>\n",
       "      <td>0</td>\n",
       "      <td>307</td>\n",
       "      <td>15</td>\n",
       "      <td>20.466667</td>\n",
       "      <td>8.898551</td>\n",
       "      <td>13.933333</td>\n",
       "      <td>2009</td>\n",
       "      <td>50000</td>\n",
       "      <td>50000</td>\n",
       "    </tr>\n",
       "    <tr>\n",
       "      <td>1</td>\n",
       "      <td>2</td>\n",
       "      <td>BAN</td>\n",
       "      <td>Bowler</td>\n",
       "      <td>214</td>\n",
       "      <td>18</td>\n",
       "      <td>657</td>\n",
       "      <td>71.41</td>\n",
       "      <td>185</td>\n",
       "      <td>37.6</td>\n",
       "      <td>0</td>\n",
       "      <td>...</td>\n",
       "      <td>0.000000</td>\n",
       "      <td>0</td>\n",
       "      <td>29</td>\n",
       "      <td>0</td>\n",
       "      <td>0.000000</td>\n",
       "      <td>14.500000</td>\n",
       "      <td>0.000000</td>\n",
       "      <td>2008</td>\n",
       "      <td>50000</td>\n",
       "      <td>50000</td>\n",
       "    </tr>\n",
       "    <tr>\n",
       "      <td>2</td>\n",
       "      <td>2</td>\n",
       "      <td>IND</td>\n",
       "      <td>Bowler</td>\n",
       "      <td>571</td>\n",
       "      <td>58</td>\n",
       "      <td>1269</td>\n",
       "      <td>80.62</td>\n",
       "      <td>288</td>\n",
       "      <td>32.9</td>\n",
       "      <td>0</td>\n",
       "      <td>...</td>\n",
       "      <td>121.014493</td>\n",
       "      <td>5</td>\n",
       "      <td>1059</td>\n",
       "      <td>29</td>\n",
       "      <td>36.517241</td>\n",
       "      <td>8.810316</td>\n",
       "      <td>24.896552</td>\n",
       "      <td>2008</td>\n",
       "      <td>200000</td>\n",
       "      <td>350000</td>\n",
       "    </tr>\n",
       "    <tr>\n",
       "      <td>3</td>\n",
       "      <td>1</td>\n",
       "      <td>IND</td>\n",
       "      <td>Bowler</td>\n",
       "      <td>284</td>\n",
       "      <td>31</td>\n",
       "      <td>241</td>\n",
       "      <td>84.56</td>\n",
       "      <td>51</td>\n",
       "      <td>36.8</td>\n",
       "      <td>0</td>\n",
       "      <td>...</td>\n",
       "      <td>76.315789</td>\n",
       "      <td>0</td>\n",
       "      <td>1125</td>\n",
       "      <td>49</td>\n",
       "      <td>22.959184</td>\n",
       "      <td>6.232687</td>\n",
       "      <td>22.142857</td>\n",
       "      <td>2011</td>\n",
       "      <td>100000</td>\n",
       "      <td>850000</td>\n",
       "    </tr>\n",
       "    <tr>\n",
       "      <td>4</td>\n",
       "      <td>2</td>\n",
       "      <td>IND</td>\n",
       "      <td>Batsman</td>\n",
       "      <td>63</td>\n",
       "      <td>0</td>\n",
       "      <td>79</td>\n",
       "      <td>45.93</td>\n",
       "      <td>0</td>\n",
       "      <td>0.0</td>\n",
       "      <td>0</td>\n",
       "      <td>...</td>\n",
       "      <td>120.714940</td>\n",
       "      <td>28</td>\n",
       "      <td>0</td>\n",
       "      <td>0</td>\n",
       "      <td>0.000000</td>\n",
       "      <td>0.000000</td>\n",
       "      <td>0.000000</td>\n",
       "      <td>2011</td>\n",
       "      <td>100000</td>\n",
       "      <td>800000</td>\n",
       "    </tr>\n",
       "    <tr>\n",
       "      <td>...</td>\n",
       "      <td>...</td>\n",
       "      <td>...</td>\n",
       "      <td>...</td>\n",
       "      <td>...</td>\n",
       "      <td>...</td>\n",
       "      <td>...</td>\n",
       "      <td>...</td>\n",
       "      <td>...</td>\n",
       "      <td>...</td>\n",
       "      <td>...</td>\n",
       "      <td>...</td>\n",
       "      <td>...</td>\n",
       "      <td>...</td>\n",
       "      <td>...</td>\n",
       "      <td>...</td>\n",
       "      <td>...</td>\n",
       "      <td>...</td>\n",
       "      <td>...</td>\n",
       "      <td>...</td>\n",
       "      <td>...</td>\n",
       "      <td>...</td>\n",
       "    </tr>\n",
       "    <tr>\n",
       "      <td>125</td>\n",
       "      <td>2</td>\n",
       "      <td>IND</td>\n",
       "      <td>Batsman</td>\n",
       "      <td>0</td>\n",
       "      <td>0</td>\n",
       "      <td>0</td>\n",
       "      <td>0.00</td>\n",
       "      <td>0</td>\n",
       "      <td>0.0</td>\n",
       "      <td>0</td>\n",
       "      <td>...</td>\n",
       "      <td>125.640000</td>\n",
       "      <td>2</td>\n",
       "      <td>0</td>\n",
       "      <td>0</td>\n",
       "      <td>0.000000</td>\n",
       "      <td>0.000000</td>\n",
       "      <td>0.000000</td>\n",
       "      <td>2010</td>\n",
       "      <td>50000</td>\n",
       "      <td>750000</td>\n",
       "    </tr>\n",
       "    <tr>\n",
       "      <td>126</td>\n",
       "      <td>2</td>\n",
       "      <td>PAK</td>\n",
       "      <td>Batsman</td>\n",
       "      <td>6398</td>\n",
       "      <td>7</td>\n",
       "      <td>6814</td>\n",
       "      <td>75.78</td>\n",
       "      <td>3</td>\n",
       "      <td>86.6</td>\n",
       "      <td>1</td>\n",
       "      <td>...</td>\n",
       "      <td>42.850000</td>\n",
       "      <td>0</td>\n",
       "      <td>0</td>\n",
       "      <td>0</td>\n",
       "      <td>0.000000</td>\n",
       "      <td>0.000000</td>\n",
       "      <td>0.000000</td>\n",
       "      <td>2008</td>\n",
       "      <td>225000</td>\n",
       "      <td>225000</td>\n",
       "    </tr>\n",
       "    <tr>\n",
       "      <td>127</td>\n",
       "      <td>2</td>\n",
       "      <td>IND</td>\n",
       "      <td>Batsman</td>\n",
       "      <td>1775</td>\n",
       "      <td>9</td>\n",
       "      <td>8051</td>\n",
       "      <td>87.58</td>\n",
       "      <td>109</td>\n",
       "      <td>44.3</td>\n",
       "      <td>1</td>\n",
       "      <td>...</td>\n",
       "      <td>131.876333</td>\n",
       "      <td>67</td>\n",
       "      <td>569</td>\n",
       "      <td>23</td>\n",
       "      <td>24.739130</td>\n",
       "      <td>7.024691</td>\n",
       "      <td>21.130435</td>\n",
       "      <td>2011</td>\n",
       "      <td>400000</td>\n",
       "      <td>1800000</td>\n",
       "    </tr>\n",
       "    <tr>\n",
       "      <td>128</td>\n",
       "      <td>2</td>\n",
       "      <td>IND</td>\n",
       "      <td>Bowler</td>\n",
       "      <td>1114</td>\n",
       "      <td>288</td>\n",
       "      <td>790</td>\n",
       "      <td>73.55</td>\n",
       "      <td>278</td>\n",
       "      <td>35.4</td>\n",
       "      <td>0</td>\n",
       "      <td>...</td>\n",
       "      <td>91.666667</td>\n",
       "      <td>1</td>\n",
       "      <td>1783</td>\n",
       "      <td>65</td>\n",
       "      <td>27.430769</td>\n",
       "      <td>7.745439</td>\n",
       "      <td>21.261538</td>\n",
       "      <td>2008</td>\n",
       "      <td>200000</td>\n",
       "      <td>450000</td>\n",
       "    </tr>\n",
       "    <tr>\n",
       "      <td>129</td>\n",
       "      <td>2</td>\n",
       "      <td>SL</td>\n",
       "      <td>Bowler</td>\n",
       "      <td>288</td>\n",
       "      <td>64</td>\n",
       "      <td>343</td>\n",
       "      <td>95.81</td>\n",
       "      <td>108</td>\n",
       "      <td>39.4</td>\n",
       "      <td>0</td>\n",
       "      <td>...</td>\n",
       "      <td>122.220000</td>\n",
       "      <td>0</td>\n",
       "      <td>99</td>\n",
       "      <td>2</td>\n",
       "      <td>49.500000</td>\n",
       "      <td>9.000000</td>\n",
       "      <td>33.000000</td>\n",
       "      <td>2008</td>\n",
       "      <td>100000</td>\n",
       "      <td>110000</td>\n",
       "    </tr>\n",
       "  </tbody>\n",
       "</table>\n",
       "<p>130 rows × 23 columns</p>\n",
       "</div>"
      ],
      "text/plain": [
       "     AGE COUNTRY PLAYING ROLE  T-RUNS  T-WKTS  ODI-RUNS-S  ODI-SR-B  ODI-WKTS  \\\n",
       "0      2      SA   Allrounder       0       0           0      0.00         0   \n",
       "1      2     BAN       Bowler     214      18         657     71.41       185   \n",
       "2      2     IND       Bowler     571      58        1269     80.62       288   \n",
       "3      1     IND       Bowler     284      31         241     84.56        51   \n",
       "4      2     IND      Batsman      63       0          79     45.93         0   \n",
       "..   ...     ...          ...     ...     ...         ...       ...       ...   \n",
       "125    2     IND      Batsman       0       0           0      0.00         0   \n",
       "126    2     PAK      Batsman    6398       7        6814     75.78         3   \n",
       "127    2     IND      Batsman    1775       9        8051     87.58       109   \n",
       "128    2     IND       Bowler    1114     288         790     73.55       278   \n",
       "129    2      SL       Bowler     288      64         343     95.81       108   \n",
       "\n",
       "     ODI-SR-BL  CAPTAINCY EXP  ...       SR -B  SIXERS  RUNS-C  WKTS  \\\n",
       "0          0.0              0  ...    0.000000       0     307    15   \n",
       "1         37.6              0  ...    0.000000       0      29     0   \n",
       "2         32.9              0  ...  121.014493       5    1059    29   \n",
       "3         36.8              0  ...   76.315789       0    1125    49   \n",
       "4          0.0              0  ...  120.714940      28       0     0   \n",
       "..         ...            ...  ...         ...     ...     ...   ...   \n",
       "125        0.0              0  ...  125.640000       2       0     0   \n",
       "126       86.6              1  ...   42.850000       0       0     0   \n",
       "127       44.3              1  ...  131.876333      67     569    23   \n",
       "128       35.4              0  ...   91.666667       1    1783    65   \n",
       "129       39.4              0  ...  122.220000       0      99     2   \n",
       "\n",
       "        AVE-BL       ECON      SR-BL  AUCTION YEAR  BASE PRICE  SOLD PRICE  \n",
       "0    20.466667   8.898551  13.933333          2009       50000       50000  \n",
       "1     0.000000  14.500000   0.000000          2008       50000       50000  \n",
       "2    36.517241   8.810316  24.896552          2008      200000      350000  \n",
       "3    22.959184   6.232687  22.142857          2011      100000      850000  \n",
       "4     0.000000   0.000000   0.000000          2011      100000      800000  \n",
       "..         ...        ...        ...           ...         ...         ...  \n",
       "125   0.000000   0.000000   0.000000          2010       50000      750000  \n",
       "126   0.000000   0.000000   0.000000          2008      225000      225000  \n",
       "127  24.739130   7.024691  21.130435          2011      400000     1800000  \n",
       "128  27.430769   7.745439  21.261538          2008      200000      450000  \n",
       "129  49.500000   9.000000  33.000000          2008      100000      110000  \n",
       "\n",
       "[130 rows x 23 columns]"
      ]
     },
     "execution_count": 18,
     "metadata": {},
     "output_type": "execute_result"
    }
   ],
   "source": [
    "ipl_auction_df"
   ]
  },
  {
   "cell_type": "code",
   "execution_count": 19,
   "metadata": {},
   "outputs": [],
   "source": [
    "categorical_features = ['AGE','COUNTRY', 'PLAYING ROLE', 'CAPTAINCY EXP']"
   ]
  },
  {
   "cell_type": "code",
   "execution_count": 20,
   "metadata": {},
   "outputs": [],
   "source": [
    "ipl_auction_encoded_df = pd.get_dummies(ipl_auction_df[X_features], columns= categorical_features, drop_first = True)"
   ]
  },
  {
   "cell_type": "code",
   "execution_count": 21,
   "metadata": {},
   "outputs": [
    {
     "data": {
      "text/plain": [
       "Index(['T-RUNS', 'T-WKTS', 'ODI-RUNS-S', 'ODI-SR-B', 'ODI-WKTS', 'ODI-SR-BL',\n",
       "       'RUNS-S', 'HS ', 'AVE', 'SR -B', 'SIXERS', 'RUNS-C', 'WKTS', 'AVE-BL',\n",
       "       'ECON', 'SR-BL', 'AGE_2', 'AGE_3', 'COUNTRY_BAN', 'COUNTRY_ENG',\n",
       "       'COUNTRY_IND', 'COUNTRY_NZ', 'COUNTRY_PAK', 'COUNTRY_SA', 'COUNTRY_SL',\n",
       "       'COUNTRY_WI', 'COUNTRY_ZIM', 'PLAYING ROLE_Batsman',\n",
       "       'PLAYING ROLE_Bowler', 'PLAYING ROLE_W. Keeper', 'CAPTAINCY EXP_1'],\n",
       "      dtype='object')"
      ]
     },
     "execution_count": 21,
     "metadata": {},
     "output_type": "execute_result"
    }
   ],
   "source": [
    "ipl_auction_encoded_df.columns"
   ]
  },
  {
   "cell_type": "code",
   "execution_count": 22,
   "metadata": {},
   "outputs": [],
   "source": [
    "X_features = ipl_auction_encoded_df.columns"
   ]
  },
  {
   "cell_type": "code",
   "execution_count": 23,
   "metadata": {},
   "outputs": [
    {
     "name": "stderr",
     "output_type": "stream",
     "text": [
      "C:\\Users\\Admin\\Anaconda3\\lib\\site-packages\\numpy\\core\\fromnumeric.py:2580: FutureWarning: Method .ptp is deprecated and will be removed in a future version. Use numpy.ptp instead.\n",
      "  return ptp(axis=axis, out=out, **kwargs)\n"
     ]
    }
   ],
   "source": [
    "X = sm.add_constant(ipl_auction_encoded_df)\n",
    "Y = ipl_auction_df['SOLD PRICE']"
   ]
  },
  {
   "cell_type": "code",
   "execution_count": 24,
   "metadata": {},
   "outputs": [],
   "source": [
    "train_X, test_X, train_y, test_y = train_test_split(X, Y, train_size = 0.8, random_state = 42 )"
   ]
  },
  {
   "cell_type": "code",
   "execution_count": 25,
   "metadata": {},
   "outputs": [
    {
     "data": {
      "text/html": [
       "<table class=\"simpletable\">\n",
       "<tr>\n",
       "        <td>Model:</td>               <td>OLS</td>         <td>Adj. R-squared:</td>      <td>0.362</td>  \n",
       "</tr>\n",
       "<tr>\n",
       "  <td>Dependent Variable:</td>    <td>SOLD PRICE</td>           <td>AIC:</td>          <td>2965.2855</td>\n",
       "</tr>\n",
       "<tr>\n",
       "         <td>Date:</td>        <td>2022-07-18 16:47</td>        <td>BIC:</td>          <td>3049.9060</td>\n",
       "</tr>\n",
       "<tr>\n",
       "   <td>No. Observations:</td>         <td>104</td>         <td>Log-Likelihood:</td>     <td>-1450.6</td> \n",
       "</tr>\n",
       "<tr>\n",
       "       <td>Df Model:</td>             <td>31</td>           <td>F-statistic:</td>        <td>2.883</td>  \n",
       "</tr>\n",
       "<tr>\n",
       "     <td>Df Residuals:</td>           <td>72</td>        <td>Prob (F-statistic):</td>  <td>0.000114</td> \n",
       "</tr>\n",
       "<tr>\n",
       "      <td>R-squared:</td>            <td>0.554</td>            <td>Scale:</td>        <td>1.1034e+11</td>\n",
       "</tr>\n",
       "</table>\n",
       "<table class=\"simpletable\">\n",
       "<tr>\n",
       "             <td></td>                <th>Coef.</th>     <th>Std.Err.</th>      <th>t</th>     <th>P>|t|</th>    <th>[0.025</th>       <th>0.975]</th>   \n",
       "</tr>\n",
       "<tr>\n",
       "  <th>const</th>                   <td>375816.9723</td> <td>228857.3507</td> <td>1.6421</td>  <td>0.1049</td>  <td>-80401.8183</td>  <td>832035.7628</td>\n",
       "</tr>\n",
       "<tr>\n",
       "  <th>T-RUNS</th>                   <td>-53.7825</td>     <td>32.7172</td>   <td>-1.6439</td> <td>0.1046</td>   <td>-119.0031</td>     <td>11.4381</td>  \n",
       "</tr>\n",
       "<tr>\n",
       "  <th>T-WKTS</th>                   <td>-132.6078</td>   <td>609.7692</td>   <td>-0.2175</td> <td>0.8285</td>  <td>-1348.1605</td>    <td>1082.9450</td> \n",
       "</tr>\n",
       "<tr>\n",
       "  <th>ODI-RUNS-S</th>                <td>57.9487</td>     <td>31.5070</td>   <td>1.8392</td>  <td>0.0700</td>    <td>-4.8594</td>     <td>120.7569</td>  \n",
       "</tr>\n",
       "<tr>\n",
       "  <th>ODI-SR-B</th>                 <td>-523.9786</td>   <td>1576.6348</td>  <td>-0.3323</td> <td>0.7406</td>  <td>-3666.9426</td>    <td>2618.9854</td> \n",
       "</tr>\n",
       "<tr>\n",
       "  <th>ODI-WKTS</th>                 <td>815.4684</td>    <td>832.3989</td>   <td>0.9797</td>  <td>0.3305</td>   <td>-843.8884</td>    <td>2474.8252</td> \n",
       "</tr>\n",
       "<tr>\n",
       "  <th>ODI-SR-BL</th>                <td>-772.7678</td>   <td>1536.3333</td>  <td>-0.5030</td> <td>0.6165</td>  <td>-3835.3923</td>    <td>2289.8566</td> \n",
       "</tr>\n",
       "<tr>\n",
       "  <th>RUNS-S</th>                   <td>114.7169</td>    <td>173.3105</td>   <td>0.6619</td>  <td>0.5101</td>   <td>-230.7712</td>    <td>460.2050</td>  \n",
       "</tr>\n",
       "<tr>\n",
       "  <th>HS </th>                     <td>-5516.3259</td>   <td>2586.3879</td>  <td>-2.1328</td> <td>0.0363</td>  <td>-10672.1960</td>   <td>-360.4558</td> \n",
       "</tr>\n",
       "<tr>\n",
       "  <th>AVE</th>                     <td>21558.9476</td>   <td>7774.5497</td>  <td>2.7730</td>  <td>0.0071</td>   <td>6060.6661</td>   <td>37057.2291</td> \n",
       "</tr>\n",
       "<tr>\n",
       "  <th>SR -B</th>                   <td>-1324.9248</td>   <td>1373.1502</td>  <td>-0.9649</td> <td>0.3378</td>  <td>-4062.2497</td>    <td>1412.4001</td> \n",
       "</tr>\n",
       "<tr>\n",
       "  <th>SIXERS</th>                   <td>4264.6509</td>   <td>4089.6313</td>  <td>1.0428</td>  <td>0.3005</td>  <td>-3887.8801</td>   <td>12417.1818</td> \n",
       "</tr>\n",
       "<tr>\n",
       "  <th>RUNS-C</th>                    <td>69.8912</td>    <td>297.6706</td>   <td>0.2348</td>  <td>0.8150</td>   <td>-523.5044</td>    <td>663.2867</td>  \n",
       "</tr>\n",
       "<tr>\n",
       "  <th>WKTS</th>                     <td>3074.2351</td>   <td>7262.3939</td>  <td>0.4233</td>  <td>0.6733</td>  <td>-11403.0826</td>  <td>17551.5528</td> \n",
       "</tr>\n",
       "<tr>\n",
       "  <th>AVE-BL</th>                   <td>5183.2294</td>  <td>10229.2634</td>  <td>0.5067</td>  <td>0.6139</td>  <td>-15208.4345</td>  <td>25574.8934</td> \n",
       "</tr>\n",
       "<tr>\n",
       "  <th>ECON</th>                    <td>-6816.6095</td>  <td>13109.5774</td>  <td>-0.5200</td> <td>0.6047</td>  <td>-32950.0744</td>  <td>19316.8554</td> \n",
       "</tr>\n",
       "<tr>\n",
       "  <th>SR-BL</th>                   <td>-7661.3607</td>  <td>14041.6868</td>  <td>-0.5456</td> <td>0.5870</td>  <td>-35652.9518</td>  <td>20330.2303</td> \n",
       "</tr>\n",
       "<tr>\n",
       "  <th>AGE_2</th>                  <td>-230759.5427</td> <td>114117.5207</td> <td>-2.0221</td> <td>0.0469</td> <td>-458248.6625</td>  <td>-3270.4228</td> \n",
       "</tr>\n",
       "<tr>\n",
       "  <th>AGE_3</th>                  <td>-216808.7971</td> <td>152248.3461</td> <td>-1.4240</td> <td>0.1588</td> <td>-520310.3280</td>  <td>86692.7338</td> \n",
       "</tr>\n",
       "<tr>\n",
       "  <th>COUNTRY_BAN</th>            <td>-122177.9800</td> <td>438715.2857</td> <td>-0.2785</td> <td>0.7814</td> <td>-996740.9180</td>  <td>752384.9580</td>\n",
       "</tr>\n",
       "<tr>\n",
       "  <th>COUNTRY_ENG</th>             <td>672416.8353</td> <td>238383.0277</td> <td>2.8207</td>  <td>0.0062</td>  <td>197208.9549</td> <td>1147624.7158</td>\n",
       "</tr>\n",
       "<tr>\n",
       "  <th>COUNTRY_IND</th>             <td>155340.8441</td> <td>126320.7873</td> <td>1.2297</td>  <td>0.2228</td>  <td>-96475.0431</td>  <td>407156.7313</td>\n",
       "</tr>\n",
       "<tr>\n",
       "  <th>COUNTRY_NZ</th>              <td>194201.8216</td> <td>173492.1558</td> <td>1.1194</td>  <td>0.2667</td> <td>-151648.4700</td>  <td>540052.1132</td>\n",
       "</tr>\n",
       "<tr>\n",
       "  <th>COUNTRY_PAK</th>             <td>75939.0963</td>  <td>193468.6470</td> <td>0.3925</td>  <td>0.6958</td> <td>-309733.6028</td>  <td>461611.7955</td>\n",
       "</tr>\n",
       "<tr>\n",
       "  <th>COUNTRY_SA</th>              <td>64283.0585</td>  <td>144588.0273</td> <td>0.4446</td>  <td>0.6579</td> <td>-223947.9060</td>  <td>352514.0229</td>\n",
       "</tr>\n",
       "<tr>\n",
       "  <th>COUNTRY_SL</th>              <td>17430.4835</td>  <td>176340.7518</td> <td>0.0988</td>  <td>0.9215</td> <td>-334098.3804</td>  <td>368959.3474</td>\n",
       "</tr>\n",
       "<tr>\n",
       "  <th>COUNTRY_WI</th>              <td>10630.5352</td>  <td>230686.1409</td> <td>0.0461</td>  <td>0.9634</td> <td>-449233.8820</td>  <td>470494.9524</td>\n",
       "</tr>\n",
       "<tr>\n",
       "  <th>COUNTRY_ZIM</th>            <td>-145504.9315</td> <td>401506.5803</td> <td>-0.3624</td> <td>0.7181</td> <td>-945893.6708</td>  <td>654883.8079</td>\n",
       "</tr>\n",
       "<tr>\n",
       "  <th>PLAYING ROLE_Batsman</th>    <td>75746.9462</td>  <td>150249.7161</td> <td>0.5041</td>  <td>0.6157</td> <td>-223770.3886</td>  <td>375264.2810</td>\n",
       "</tr>\n",
       "<tr>\n",
       "  <th>PLAYING ROLE_Bowler</th>     <td>15370.3631</td>  <td>126307.6274</td> <td>0.1217</td>  <td>0.9035</td> <td>-236419.2902</td>  <td>267160.0164</td>\n",
       "</tr>\n",
       "<tr>\n",
       "  <th>PLAYING ROLE_W. Keeper</th>  <td>-71325.4340</td> <td>213587.4521</td> <td>-0.3339</td> <td>0.7394</td> <td>-497104.2380</td>  <td>354453.3701</td>\n",
       "</tr>\n",
       "<tr>\n",
       "  <th>CAPTAINCY EXP_1</th>         <td>164124.5812</td> <td>123431.7812</td> <td>1.3297</td>  <td>0.1878</td>  <td>-81932.1777</td>  <td>410181.3400</td>\n",
       "</tr>\n",
       "</table>\n",
       "<table class=\"simpletable\">\n",
       "<tr>\n",
       "     <td>Omnibus:</td>    <td>0.891</td>  <td>Durbin-Watson:</td>   <td>2.244</td>\n",
       "</tr>\n",
       "<tr>\n",
       "  <td>Prob(Omnibus):</td> <td>0.641</td> <td>Jarque-Bera (JB):</td> <td>0.637</td>\n",
       "</tr>\n",
       "<tr>\n",
       "       <td>Skew:</td>     <td>0.189</td>     <td>Prob(JB):</td>     <td>0.727</td>\n",
       "</tr>\n",
       "<tr>\n",
       "     <td>Kurtosis:</td>   <td>3.059</td>  <td>Condition No.:</td>   <td>84115</td>\n",
       "</tr>\n",
       "</table>"
      ],
      "text/plain": [
       "<class 'statsmodels.iolib.summary2.Summary'>\n",
       "\"\"\"\n",
       "                            Results: Ordinary least squares\n",
       "========================================================================================\n",
       "Model:                     OLS                     Adj. R-squared:            0.362     \n",
       "Dependent Variable:        SOLD PRICE              AIC:                       2965.2855 \n",
       "Date:                      2022-07-18 16:47        BIC:                       3049.9060 \n",
       "No. Observations:          104                     Log-Likelihood:            -1450.6   \n",
       "Df Model:                  31                      F-statistic:               2.883     \n",
       "Df Residuals:              72                      Prob (F-statistic):        0.000114  \n",
       "R-squared:                 0.554                   Scale:                     1.1034e+11\n",
       "----------------------------------------------------------------------------------------\n",
       "                          Coef.       Std.Err.     t    P>|t|     [0.025       0.975]   \n",
       "----------------------------------------------------------------------------------------\n",
       "const                   375816.9723 228857.3507  1.6421 0.1049  -80401.8183  832035.7628\n",
       "T-RUNS                     -53.7825     32.7172 -1.6439 0.1046    -119.0031      11.4381\n",
       "T-WKTS                    -132.6078    609.7692 -0.2175 0.8285   -1348.1605    1082.9450\n",
       "ODI-RUNS-S                  57.9487     31.5070  1.8392 0.0700      -4.8594     120.7569\n",
       "ODI-SR-B                  -523.9786   1576.6348 -0.3323 0.7406   -3666.9426    2618.9854\n",
       "ODI-WKTS                   815.4684    832.3989  0.9797 0.3305    -843.8884    2474.8252\n",
       "ODI-SR-BL                 -772.7678   1536.3333 -0.5030 0.6165   -3835.3923    2289.8566\n",
       "RUNS-S                     114.7169    173.3105  0.6619 0.5101    -230.7712     460.2050\n",
       "HS                       -5516.3259   2586.3879 -2.1328 0.0363  -10672.1960    -360.4558\n",
       "AVE                      21558.9476   7774.5497  2.7730 0.0071    6060.6661   37057.2291\n",
       "SR -B                    -1324.9248   1373.1502 -0.9649 0.3378   -4062.2497    1412.4001\n",
       "SIXERS                    4264.6509   4089.6313  1.0428 0.3005   -3887.8801   12417.1818\n",
       "RUNS-C                      69.8912    297.6706  0.2348 0.8150    -523.5044     663.2867\n",
       "WKTS                      3074.2351   7262.3939  0.4233 0.6733  -11403.0826   17551.5528\n",
       "AVE-BL                    5183.2294  10229.2634  0.5067 0.6139  -15208.4345   25574.8934\n",
       "ECON                     -6816.6095  13109.5774 -0.5200 0.6047  -32950.0744   19316.8554\n",
       "SR-BL                    -7661.3607  14041.6868 -0.5456 0.5870  -35652.9518   20330.2303\n",
       "AGE_2                  -230759.5427 114117.5207 -2.0221 0.0469 -458248.6625   -3270.4228\n",
       "AGE_3                  -216808.7971 152248.3461 -1.4240 0.1588 -520310.3280   86692.7338\n",
       "COUNTRY_BAN            -122177.9800 438715.2857 -0.2785 0.7814 -996740.9180  752384.9580\n",
       "COUNTRY_ENG             672416.8353 238383.0277  2.8207 0.0062  197208.9549 1147624.7158\n",
       "COUNTRY_IND             155340.8441 126320.7873  1.2297 0.2228  -96475.0431  407156.7313\n",
       "COUNTRY_NZ              194201.8216 173492.1558  1.1194 0.2667 -151648.4700  540052.1132\n",
       "COUNTRY_PAK              75939.0963 193468.6470  0.3925 0.6958 -309733.6028  461611.7955\n",
       "COUNTRY_SA               64283.0585 144588.0273  0.4446 0.6579 -223947.9060  352514.0229\n",
       "COUNTRY_SL               17430.4835 176340.7518  0.0988 0.9215 -334098.3804  368959.3474\n",
       "COUNTRY_WI               10630.5352 230686.1409  0.0461 0.9634 -449233.8820  470494.9524\n",
       "COUNTRY_ZIM            -145504.9315 401506.5803 -0.3624 0.7181 -945893.6708  654883.8079\n",
       "PLAYING ROLE_Batsman     75746.9462 150249.7161  0.5041 0.6157 -223770.3886  375264.2810\n",
       "PLAYING ROLE_Bowler      15370.3631 126307.6274  0.1217 0.9035 -236419.2902  267160.0164\n",
       "PLAYING ROLE_W. Keeper  -71325.4340 213587.4521 -0.3339 0.7394 -497104.2380  354453.3701\n",
       "CAPTAINCY EXP_1         164124.5812 123431.7812  1.3297 0.1878  -81932.1777  410181.3400\n",
       "----------------------------------------------------------------------------------------\n",
       "Omnibus:                       0.891               Durbin-Watson:                  2.244\n",
       "Prob(Omnibus):                 0.641               Jarque-Bera (JB):               0.637\n",
       "Skew:                          0.189               Prob(JB):                       0.727\n",
       "Kurtosis:                      3.059               Condition No.:                  84115\n",
       "========================================================================================\n",
       "* The condition number is large (8e+04). This might indicate             strong\n",
       "multicollinearity or other numerical problems.\n",
       "\"\"\""
      ]
     },
     "execution_count": 25,
     "metadata": {},
     "output_type": "execute_result"
    }
   ],
   "source": [
    "ipl_model1 = sm.OLS(train_y, train_X).fit()\n",
    "ipl_model1.summary2()"
   ]
  },
  {
   "cell_type": "markdown",
   "metadata": {},
   "source": [
    "### Performance Metrics"
   ]
  },
  {
   "cell_type": "code",
   "execution_count": 26,
   "metadata": {},
   "outputs": [],
   "source": [
    "from sklearn import metrics"
   ]
  },
  {
   "cell_type": "code",
   "execution_count": 27,
   "metadata": {},
   "outputs": [],
   "source": [
    "pred_y = ipl_model1.predict(test_X)"
   ]
  },
  {
   "cell_type": "code",
   "execution_count": 28,
   "metadata": {},
   "outputs": [
    {
     "data": {
      "text/plain": [
       "304522.7038561025"
      ]
     },
     "execution_count": 28,
     "metadata": {},
     "output_type": "execute_result"
    }
   ],
   "source": [
    "np.sqrt(metrics.mean_squared_error(pred_y, test_y)) #RMSE"
   ]
  },
  {
   "cell_type": "code",
   "execution_count": 29,
   "metadata": {},
   "outputs": [
    {
     "data": {
      "text/plain": [
       "0.0289"
      ]
     },
     "execution_count": 29,
     "metadata": {},
     "output_type": "execute_result"
    }
   ],
   "source": [
    "np.round(metrics.r2_score(pred_y, test_y),4)"
   ]
  },
  {
   "cell_type": "markdown",
   "metadata": {},
   "source": [
    "### Measuring Multicollinearity\n",
    "\n",
    "#vif > 4 [high collinearity]\n",
    "#1,2 VIF = 1/(1-r^2(1,2))\n",
    "#inflates p-values\n",
    "\n",
    "from statsmodels.stats.outliers_influence import variance_inflation_factor"
   ]
  },
  {
   "cell_type": "code",
   "execution_count": 30,
   "metadata": {},
   "outputs": [],
   "source": [
    "def get_vif_factors(X):\n",
    "    X_matrix = X.values\n",
    "    vif = [variance_inflation_factor(X_matrix,i) for i in range(X_matrix.shape[1])]\n",
    "    vif_factors = pd.DataFrame()\n",
    "    vif_factors['column'] = X.columns\n",
    "    vif_factors['VIF'] = vif\n",
    "    return vif_factors"
   ]
  },
  {
   "cell_type": "code",
   "execution_count": 31,
   "metadata": {},
   "outputs": [
    {
     "data": {
      "text/html": [
       "<div>\n",
       "<style scoped>\n",
       "    .dataframe tbody tr th:only-of-type {\n",
       "        vertical-align: middle;\n",
       "    }\n",
       "\n",
       "    .dataframe tbody tr th {\n",
       "        vertical-align: top;\n",
       "    }\n",
       "\n",
       "    .dataframe thead th {\n",
       "        text-align: right;\n",
       "    }\n",
       "</style>\n",
       "<table border=\"1\" class=\"dataframe\">\n",
       "  <thead>\n",
       "    <tr style=\"text-align: right;\">\n",
       "      <th></th>\n",
       "      <th>T-RUNS</th>\n",
       "      <th>T-WKTS</th>\n",
       "      <th>ODI-RUNS-S</th>\n",
       "      <th>ODI-SR-B</th>\n",
       "      <th>ODI-WKTS</th>\n",
       "      <th>ODI-SR-BL</th>\n",
       "      <th>RUNS-S</th>\n",
       "      <th>HS</th>\n",
       "      <th>AVE</th>\n",
       "      <th>SR -B</th>\n",
       "      <th>...</th>\n",
       "      <th>COUNTRY_NZ</th>\n",
       "      <th>COUNTRY_PAK</th>\n",
       "      <th>COUNTRY_SA</th>\n",
       "      <th>COUNTRY_SL</th>\n",
       "      <th>COUNTRY_WI</th>\n",
       "      <th>COUNTRY_ZIM</th>\n",
       "      <th>PLAYING ROLE_Batsman</th>\n",
       "      <th>PLAYING ROLE_Bowler</th>\n",
       "      <th>PLAYING ROLE_W. Keeper</th>\n",
       "      <th>CAPTAINCY EXP_1</th>\n",
       "    </tr>\n",
       "  </thead>\n",
       "  <tbody>\n",
       "    <tr>\n",
       "      <td>0</td>\n",
       "      <td>0</td>\n",
       "      <td>0</td>\n",
       "      <td>0</td>\n",
       "      <td>0.00</td>\n",
       "      <td>0</td>\n",
       "      <td>0.0</td>\n",
       "      <td>0</td>\n",
       "      <td>0</td>\n",
       "      <td>0.000000</td>\n",
       "      <td>0.000000</td>\n",
       "      <td>...</td>\n",
       "      <td>0</td>\n",
       "      <td>0</td>\n",
       "      <td>1</td>\n",
       "      <td>0</td>\n",
       "      <td>0</td>\n",
       "      <td>0</td>\n",
       "      <td>0</td>\n",
       "      <td>0</td>\n",
       "      <td>0</td>\n",
       "      <td>0</td>\n",
       "    </tr>\n",
       "    <tr>\n",
       "      <td>1</td>\n",
       "      <td>214</td>\n",
       "      <td>18</td>\n",
       "      <td>657</td>\n",
       "      <td>71.41</td>\n",
       "      <td>185</td>\n",
       "      <td>37.6</td>\n",
       "      <td>0</td>\n",
       "      <td>0</td>\n",
       "      <td>0.000000</td>\n",
       "      <td>0.000000</td>\n",
       "      <td>...</td>\n",
       "      <td>0</td>\n",
       "      <td>0</td>\n",
       "      <td>0</td>\n",
       "      <td>0</td>\n",
       "      <td>0</td>\n",
       "      <td>0</td>\n",
       "      <td>0</td>\n",
       "      <td>1</td>\n",
       "      <td>0</td>\n",
       "      <td>0</td>\n",
       "    </tr>\n",
       "    <tr>\n",
       "      <td>2</td>\n",
       "      <td>571</td>\n",
       "      <td>58</td>\n",
       "      <td>1269</td>\n",
       "      <td>80.62</td>\n",
       "      <td>288</td>\n",
       "      <td>32.9</td>\n",
       "      <td>167</td>\n",
       "      <td>39</td>\n",
       "      <td>18.555556</td>\n",
       "      <td>121.014493</td>\n",
       "      <td>...</td>\n",
       "      <td>0</td>\n",
       "      <td>0</td>\n",
       "      <td>0</td>\n",
       "      <td>0</td>\n",
       "      <td>0</td>\n",
       "      <td>0</td>\n",
       "      <td>0</td>\n",
       "      <td>1</td>\n",
       "      <td>0</td>\n",
       "      <td>0</td>\n",
       "    </tr>\n",
       "    <tr>\n",
       "      <td>3</td>\n",
       "      <td>284</td>\n",
       "      <td>31</td>\n",
       "      <td>241</td>\n",
       "      <td>84.56</td>\n",
       "      <td>51</td>\n",
       "      <td>36.8</td>\n",
       "      <td>58</td>\n",
       "      <td>11</td>\n",
       "      <td>5.800000</td>\n",
       "      <td>76.315789</td>\n",
       "      <td>...</td>\n",
       "      <td>0</td>\n",
       "      <td>0</td>\n",
       "      <td>0</td>\n",
       "      <td>0</td>\n",
       "      <td>0</td>\n",
       "      <td>0</td>\n",
       "      <td>0</td>\n",
       "      <td>1</td>\n",
       "      <td>0</td>\n",
       "      <td>0</td>\n",
       "    </tr>\n",
       "    <tr>\n",
       "      <td>4</td>\n",
       "      <td>63</td>\n",
       "      <td>0</td>\n",
       "      <td>79</td>\n",
       "      <td>45.93</td>\n",
       "      <td>0</td>\n",
       "      <td>0.0</td>\n",
       "      <td>1317</td>\n",
       "      <td>71</td>\n",
       "      <td>32.925000</td>\n",
       "      <td>120.714940</td>\n",
       "      <td>...</td>\n",
       "      <td>0</td>\n",
       "      <td>0</td>\n",
       "      <td>0</td>\n",
       "      <td>0</td>\n",
       "      <td>0</td>\n",
       "      <td>0</td>\n",
       "      <td>1</td>\n",
       "      <td>0</td>\n",
       "      <td>0</td>\n",
       "      <td>0</td>\n",
       "    </tr>\n",
       "    <tr>\n",
       "      <td>...</td>\n",
       "      <td>...</td>\n",
       "      <td>...</td>\n",
       "      <td>...</td>\n",
       "      <td>...</td>\n",
       "      <td>...</td>\n",
       "      <td>...</td>\n",
       "      <td>...</td>\n",
       "      <td>...</td>\n",
       "      <td>...</td>\n",
       "      <td>...</td>\n",
       "      <td>...</td>\n",
       "      <td>...</td>\n",
       "      <td>...</td>\n",
       "      <td>...</td>\n",
       "      <td>...</td>\n",
       "      <td>...</td>\n",
       "      <td>...</td>\n",
       "      <td>...</td>\n",
       "      <td>...</td>\n",
       "      <td>...</td>\n",
       "      <td>...</td>\n",
       "    </tr>\n",
       "    <tr>\n",
       "      <td>125</td>\n",
       "      <td>0</td>\n",
       "      <td>0</td>\n",
       "      <td>0</td>\n",
       "      <td>0.00</td>\n",
       "      <td>0</td>\n",
       "      <td>0.0</td>\n",
       "      <td>49</td>\n",
       "      <td>16</td>\n",
       "      <td>9.800000</td>\n",
       "      <td>125.640000</td>\n",
       "      <td>...</td>\n",
       "      <td>0</td>\n",
       "      <td>0</td>\n",
       "      <td>0</td>\n",
       "      <td>0</td>\n",
       "      <td>0</td>\n",
       "      <td>0</td>\n",
       "      <td>1</td>\n",
       "      <td>0</td>\n",
       "      <td>0</td>\n",
       "      <td>0</td>\n",
       "    </tr>\n",
       "    <tr>\n",
       "      <td>126</td>\n",
       "      <td>6398</td>\n",
       "      <td>7</td>\n",
       "      <td>6814</td>\n",
       "      <td>75.78</td>\n",
       "      <td>3</td>\n",
       "      <td>86.6</td>\n",
       "      <td>3</td>\n",
       "      <td>3</td>\n",
       "      <td>3.000000</td>\n",
       "      <td>42.850000</td>\n",
       "      <td>...</td>\n",
       "      <td>0</td>\n",
       "      <td>1</td>\n",
       "      <td>0</td>\n",
       "      <td>0</td>\n",
       "      <td>0</td>\n",
       "      <td>0</td>\n",
       "      <td>1</td>\n",
       "      <td>0</td>\n",
       "      <td>0</td>\n",
       "      <td>1</td>\n",
       "    </tr>\n",
       "    <tr>\n",
       "      <td>127</td>\n",
       "      <td>1775</td>\n",
       "      <td>9</td>\n",
       "      <td>8051</td>\n",
       "      <td>87.58</td>\n",
       "      <td>109</td>\n",
       "      <td>44.3</td>\n",
       "      <td>1237</td>\n",
       "      <td>66</td>\n",
       "      <td>26.319149</td>\n",
       "      <td>131.876333</td>\n",
       "      <td>...</td>\n",
       "      <td>0</td>\n",
       "      <td>0</td>\n",
       "      <td>0</td>\n",
       "      <td>0</td>\n",
       "      <td>0</td>\n",
       "      <td>0</td>\n",
       "      <td>1</td>\n",
       "      <td>0</td>\n",
       "      <td>0</td>\n",
       "      <td>1</td>\n",
       "    </tr>\n",
       "    <tr>\n",
       "      <td>128</td>\n",
       "      <td>1114</td>\n",
       "      <td>288</td>\n",
       "      <td>790</td>\n",
       "      <td>73.55</td>\n",
       "      <td>278</td>\n",
       "      <td>35.4</td>\n",
       "      <td>99</td>\n",
       "      <td>23</td>\n",
       "      <td>9.900000</td>\n",
       "      <td>91.666667</td>\n",
       "      <td>...</td>\n",
       "      <td>0</td>\n",
       "      <td>0</td>\n",
       "      <td>0</td>\n",
       "      <td>0</td>\n",
       "      <td>0</td>\n",
       "      <td>0</td>\n",
       "      <td>0</td>\n",
       "      <td>1</td>\n",
       "      <td>0</td>\n",
       "      <td>0</td>\n",
       "    </tr>\n",
       "    <tr>\n",
       "      <td>129</td>\n",
       "      <td>288</td>\n",
       "      <td>64</td>\n",
       "      <td>343</td>\n",
       "      <td>95.81</td>\n",
       "      <td>108</td>\n",
       "      <td>39.4</td>\n",
       "      <td>11</td>\n",
       "      <td>10</td>\n",
       "      <td>11.000000</td>\n",
       "      <td>122.220000</td>\n",
       "      <td>...</td>\n",
       "      <td>0</td>\n",
       "      <td>0</td>\n",
       "      <td>0</td>\n",
       "      <td>1</td>\n",
       "      <td>0</td>\n",
       "      <td>0</td>\n",
       "      <td>0</td>\n",
       "      <td>1</td>\n",
       "      <td>0</td>\n",
       "      <td>0</td>\n",
       "    </tr>\n",
       "  </tbody>\n",
       "</table>\n",
       "<p>130 rows × 31 columns</p>\n",
       "</div>"
      ],
      "text/plain": [
       "     T-RUNS  T-WKTS  ODI-RUNS-S  ODI-SR-B  ODI-WKTS  ODI-SR-BL  RUNS-S  HS   \\\n",
       "0         0       0           0      0.00         0        0.0       0    0   \n",
       "1       214      18         657     71.41       185       37.6       0    0   \n",
       "2       571      58        1269     80.62       288       32.9     167   39   \n",
       "3       284      31         241     84.56        51       36.8      58   11   \n",
       "4        63       0          79     45.93         0        0.0    1317   71   \n",
       "..      ...     ...         ...       ...       ...        ...     ...  ...   \n",
       "125       0       0           0      0.00         0        0.0      49   16   \n",
       "126    6398       7        6814     75.78         3       86.6       3    3   \n",
       "127    1775       9        8051     87.58       109       44.3    1237   66   \n",
       "128    1114     288         790     73.55       278       35.4      99   23   \n",
       "129     288      64         343     95.81       108       39.4      11   10   \n",
       "\n",
       "           AVE       SR -B  ...  COUNTRY_NZ  COUNTRY_PAK  COUNTRY_SA  \\\n",
       "0     0.000000    0.000000  ...           0            0           1   \n",
       "1     0.000000    0.000000  ...           0            0           0   \n",
       "2    18.555556  121.014493  ...           0            0           0   \n",
       "3     5.800000   76.315789  ...           0            0           0   \n",
       "4    32.925000  120.714940  ...           0            0           0   \n",
       "..         ...         ...  ...         ...          ...         ...   \n",
       "125   9.800000  125.640000  ...           0            0           0   \n",
       "126   3.000000   42.850000  ...           0            1           0   \n",
       "127  26.319149  131.876333  ...           0            0           0   \n",
       "128   9.900000   91.666667  ...           0            0           0   \n",
       "129  11.000000  122.220000  ...           0            0           0   \n",
       "\n",
       "     COUNTRY_SL  COUNTRY_WI  COUNTRY_ZIM  PLAYING ROLE_Batsman  \\\n",
       "0             0           0            0                     0   \n",
       "1             0           0            0                     0   \n",
       "2             0           0            0                     0   \n",
       "3             0           0            0                     0   \n",
       "4             0           0            0                     1   \n",
       "..          ...         ...          ...                   ...   \n",
       "125           0           0            0                     1   \n",
       "126           0           0            0                     1   \n",
       "127           0           0            0                     1   \n",
       "128           0           0            0                     0   \n",
       "129           1           0            0                     0   \n",
       "\n",
       "     PLAYING ROLE_Bowler  PLAYING ROLE_W. Keeper  CAPTAINCY EXP_1  \n",
       "0                      0                       0                0  \n",
       "1                      1                       0                0  \n",
       "2                      1                       0                0  \n",
       "3                      1                       0                0  \n",
       "4                      0                       0                0  \n",
       "..                   ...                     ...              ...  \n",
       "125                    0                       0                0  \n",
       "126                    0                       0                1  \n",
       "127                    0                       0                1  \n",
       "128                    1                       0                0  \n",
       "129                    1                       0                0  \n",
       "\n",
       "[130 rows x 31 columns]"
      ]
     },
     "execution_count": 31,
     "metadata": {},
     "output_type": "execute_result"
    }
   ],
   "source": [
    "# [variance_inflation_factor(X.values,i) for i in range(X.values.shape[1])]\n",
    "X[X_features]"
   ]
  },
  {
   "cell_type": "code",
   "execution_count": 32,
   "metadata": {},
   "outputs": [],
   "source": [
    "vif_factors = get_vif_factors(X[X_features])"
   ]
  },
  {
   "cell_type": "code",
   "execution_count": 33,
   "metadata": {},
   "outputs": [
    {
     "data": {
      "text/html": [
       "<div>\n",
       "<style scoped>\n",
       "    .dataframe tbody tr th:only-of-type {\n",
       "        vertical-align: middle;\n",
       "    }\n",
       "\n",
       "    .dataframe tbody tr th {\n",
       "        vertical-align: top;\n",
       "    }\n",
       "\n",
       "    .dataframe thead th {\n",
       "        text-align: right;\n",
       "    }\n",
       "</style>\n",
       "<table border=\"1\" class=\"dataframe\">\n",
       "  <thead>\n",
       "    <tr style=\"text-align: right;\">\n",
       "      <th></th>\n",
       "      <th>column</th>\n",
       "      <th>VIF</th>\n",
       "    </tr>\n",
       "  </thead>\n",
       "  <tbody>\n",
       "    <tr>\n",
       "      <td>0</td>\n",
       "      <td>T-RUNS</td>\n",
       "      <td>12.612804</td>\n",
       "    </tr>\n",
       "    <tr>\n",
       "      <td>1</td>\n",
       "      <td>T-WKTS</td>\n",
       "      <td>7.679373</td>\n",
       "    </tr>\n",
       "    <tr>\n",
       "      <td>2</td>\n",
       "      <td>ODI-RUNS-S</td>\n",
       "      <td>16.425993</td>\n",
       "    </tr>\n",
       "    <tr>\n",
       "      <td>3</td>\n",
       "      <td>ODI-SR-B</td>\n",
       "      <td>13.829124</td>\n",
       "    </tr>\n",
       "    <tr>\n",
       "      <td>4</td>\n",
       "      <td>ODI-WKTS</td>\n",
       "      <td>9.951506</td>\n",
       "    </tr>\n",
       "    <tr>\n",
       "      <td>5</td>\n",
       "      <td>ODI-SR-BL</td>\n",
       "      <td>4.426814</td>\n",
       "    </tr>\n",
       "    <tr>\n",
       "      <td>6</td>\n",
       "      <td>RUNS-S</td>\n",
       "      <td>16.135175</td>\n",
       "    </tr>\n",
       "    <tr>\n",
       "      <td>7</td>\n",
       "      <td>HS</td>\n",
       "      <td>22.781620</td>\n",
       "    </tr>\n",
       "    <tr>\n",
       "      <td>8</td>\n",
       "      <td>AVE</td>\n",
       "      <td>25.227318</td>\n",
       "    </tr>\n",
       "    <tr>\n",
       "      <td>9</td>\n",
       "      <td>SR -B</td>\n",
       "      <td>21.576377</td>\n",
       "    </tr>\n",
       "    <tr>\n",
       "      <td>10</td>\n",
       "      <td>SIXERS</td>\n",
       "      <td>9.547304</td>\n",
       "    </tr>\n",
       "    <tr>\n",
       "      <td>11</td>\n",
       "      <td>RUNS-C</td>\n",
       "      <td>38.230008</td>\n",
       "    </tr>\n",
       "    <tr>\n",
       "      <td>12</td>\n",
       "      <td>WKTS</td>\n",
       "      <td>33.365271</td>\n",
       "    </tr>\n",
       "    <tr>\n",
       "      <td>13</td>\n",
       "      <td>AVE-BL</td>\n",
       "      <td>100.178719</td>\n",
       "    </tr>\n",
       "    <tr>\n",
       "      <td>14</td>\n",
       "      <td>ECON</td>\n",
       "      <td>7.650396</td>\n",
       "    </tr>\n",
       "    <tr>\n",
       "      <td>15</td>\n",
       "      <td>SR-BL</td>\n",
       "      <td>103.715572</td>\n",
       "    </tr>\n",
       "    <tr>\n",
       "      <td>16</td>\n",
       "      <td>AGE_2</td>\n",
       "      <td>6.996196</td>\n",
       "    </tr>\n",
       "    <tr>\n",
       "      <td>17</td>\n",
       "      <td>AGE_3</td>\n",
       "      <td>3.855030</td>\n",
       "    </tr>\n",
       "    <tr>\n",
       "      <td>18</td>\n",
       "      <td>COUNTRY_BAN</td>\n",
       "      <td>1.468983</td>\n",
       "    </tr>\n",
       "    <tr>\n",
       "      <td>19</td>\n",
       "      <td>COUNTRY_ENG</td>\n",
       "      <td>1.391479</td>\n",
       "    </tr>\n",
       "    <tr>\n",
       "      <td>20</td>\n",
       "      <td>COUNTRY_IND</td>\n",
       "      <td>4.569029</td>\n",
       "    </tr>\n",
       "    <tr>\n",
       "      <td>21</td>\n",
       "      <td>COUNTRY_NZ</td>\n",
       "      <td>1.497835</td>\n",
       "    </tr>\n",
       "    <tr>\n",
       "      <td>22</td>\n",
       "      <td>COUNTRY_PAK</td>\n",
       "      <td>1.796382</td>\n",
       "    </tr>\n",
       "    <tr>\n",
       "      <td>23</td>\n",
       "      <td>COUNTRY_SA</td>\n",
       "      <td>1.886549</td>\n",
       "    </tr>\n",
       "    <tr>\n",
       "      <td>24</td>\n",
       "      <td>COUNTRY_SL</td>\n",
       "      <td>1.984945</td>\n",
       "    </tr>\n",
       "    <tr>\n",
       "      <td>25</td>\n",
       "      <td>COUNTRY_WI</td>\n",
       "      <td>1.531819</td>\n",
       "    </tr>\n",
       "    <tr>\n",
       "      <td>26</td>\n",
       "      <td>COUNTRY_ZIM</td>\n",
       "      <td>1.312168</td>\n",
       "    </tr>\n",
       "    <tr>\n",
       "      <td>27</td>\n",
       "      <td>PLAYING ROLE_Batsman</td>\n",
       "      <td>4.843015</td>\n",
       "    </tr>\n",
       "    <tr>\n",
       "      <td>28</td>\n",
       "      <td>PLAYING ROLE_Bowler</td>\n",
       "      <td>3.795828</td>\n",
       "    </tr>\n",
       "    <tr>\n",
       "      <td>29</td>\n",
       "      <td>PLAYING ROLE_W. Keeper</td>\n",
       "      <td>3.131994</td>\n",
       "    </tr>\n",
       "    <tr>\n",
       "      <td>30</td>\n",
       "      <td>CAPTAINCY EXP_1</td>\n",
       "      <td>4.245052</td>\n",
       "    </tr>\n",
       "  </tbody>\n",
       "</table>\n",
       "</div>"
      ],
      "text/plain": [
       "                    column         VIF\n",
       "0                   T-RUNS   12.612804\n",
       "1                   T-WKTS    7.679373\n",
       "2               ODI-RUNS-S   16.425993\n",
       "3                 ODI-SR-B   13.829124\n",
       "4                 ODI-WKTS    9.951506\n",
       "5                ODI-SR-BL    4.426814\n",
       "6                   RUNS-S   16.135175\n",
       "7                      HS    22.781620\n",
       "8                      AVE   25.227318\n",
       "9                    SR -B   21.576377\n",
       "10                  SIXERS    9.547304\n",
       "11                  RUNS-C   38.230008\n",
       "12                    WKTS   33.365271\n",
       "13                  AVE-BL  100.178719\n",
       "14                    ECON    7.650396\n",
       "15                   SR-BL  103.715572\n",
       "16                   AGE_2    6.996196\n",
       "17                   AGE_3    3.855030\n",
       "18             COUNTRY_BAN    1.468983\n",
       "19             COUNTRY_ENG    1.391479\n",
       "20             COUNTRY_IND    4.569029\n",
       "21              COUNTRY_NZ    1.497835\n",
       "22             COUNTRY_PAK    1.796382\n",
       "23              COUNTRY_SA    1.886549\n",
       "24              COUNTRY_SL    1.984945\n",
       "25              COUNTRY_WI    1.531819\n",
       "26             COUNTRY_ZIM    1.312168\n",
       "27    PLAYING ROLE_Batsman    4.843015\n",
       "28     PLAYING ROLE_Bowler    3.795828\n",
       "29  PLAYING ROLE_W. Keeper    3.131994\n",
       "30         CAPTAINCY EXP_1    4.245052"
      ]
     },
     "execution_count": 33,
     "metadata": {},
     "output_type": "execute_result"
    }
   ],
   "source": [
    "vif_factors"
   ]
  },
  {
   "cell_type": "code",
   "execution_count": 34,
   "metadata": {},
   "outputs": [],
   "source": [
    "columns_with_large_vif = vif_factors[vif_factors['VIF'] > 4].column"
   ]
  },
  {
   "cell_type": "code",
   "execution_count": 35,
   "metadata": {},
   "outputs": [
    {
     "data": {
      "text/plain": [
       "0                   T-RUNS\n",
       "1                   T-WKTS\n",
       "2               ODI-RUNS-S\n",
       "3                 ODI-SR-B\n",
       "4                 ODI-WKTS\n",
       "5                ODI-SR-BL\n",
       "6                   RUNS-S\n",
       "7                      HS \n",
       "8                      AVE\n",
       "9                    SR -B\n",
       "10                  SIXERS\n",
       "11                  RUNS-C\n",
       "12                    WKTS\n",
       "13                  AVE-BL\n",
       "14                    ECON\n",
       "15                   SR-BL\n",
       "16                   AGE_2\n",
       "20             COUNTRY_IND\n",
       "27    PLAYING ROLE_Batsman\n",
       "30         CAPTAINCY EXP_1\n",
       "Name: column, dtype: object"
      ]
     },
     "execution_count": 35,
     "metadata": {},
     "output_type": "execute_result"
    }
   ],
   "source": [
    "columns_with_large_vif"
   ]
  },
  {
   "cell_type": "code",
   "execution_count": 36,
   "metadata": {},
   "outputs": [
    {
     "data": {
      "text/plain": [
       "Text(0.5, 1.0, 'Figure 4.5 - Heatmap depicting correlation between features')"
      ]
     },
     "execution_count": 36,
     "metadata": {},
     "output_type": "execute_result"
    },
    {
     "data": {
      "image/png": "[encoded data removed]",
      "text/plain": [
       "<Figure size 1080x1080 with 2 Axes>"
      ]
     },
     "metadata": {
      "needs_background": "light"
     },
     "output_type": "display_data"
    }
   ],
   "source": [
    "plt.figure(figsize = (15,15))\n",
    "sns.heatmap(X[columns_with_large_vif].corr(), annot = True, xticklabels=True, yticklabels=True )\n",
    "plt.title('Figure 4.5 - Heatmap depicting correlation between features')\n"
   ]
  },
  {
   "cell_type": "code",
   "execution_count": 37,
   "metadata": {},
   "outputs": [],
   "source": [
    "# T-RUNS and ODI-RUNS-S are highly correlated\n",
    "# ODI-WKTS and T-WKTS are highly correlated.\n",
    "# Batsman features like RUNS-S, HS, AVE, SIXERS are highly correlated, \n",
    "# bowler’s features like AVE-BL, ECON and SR-BL are highly correlated.\n",
    "\n",
    "columns_to_be_removed = ['T-RUNS','T-WKTS','RUNS-S', 'HS ', 'AVE', 'RUNS-C', 'SR -B', 'AVE-BL', 'ECON',\n",
    "                         'ODI-SR-B', 'ODI-RUNS-S','AGE_2','SR-BL']\n",
    "\n",
    "# 'ODI-SR-B', 'ODI-RUNS-S','AGE_2','SR-BL' were removed as subsequent VIF measure showed high multicollinearity"
   ]
  },
  {
   "cell_type": "code",
   "execution_count": 38,
   "metadata": {},
   "outputs": [],
   "source": [
    "# X_new_features = (X_features) - (columns_to_be_removed)\n",
    "X_new_features = []\n",
    "for column in X_features:\n",
    "    if column not in columns_to_be_removed:\n",
    "        X_new_features.append(column)"
   ]
  },
  {
   "cell_type": "code",
   "execution_count": 39,
   "metadata": {},
   "outputs": [],
   "source": [
    "# columns_to_be_removed"
   ]
  },
  {
   "cell_type": "code",
   "execution_count": 40,
   "metadata": {},
   "outputs": [
    {
     "data": {
      "text/html": [
       "<div>\n",
       "<style scoped>\n",
       "    .dataframe tbody tr th:only-of-type {\n",
       "        vertical-align: middle;\n",
       "    }\n",
       "\n",
       "    .dataframe tbody tr th {\n",
       "        vertical-align: top;\n",
       "    }\n",
       "\n",
       "    .dataframe thead th {\n",
       "        text-align: right;\n",
       "    }\n",
       "</style>\n",
       "<table border=\"1\" class=\"dataframe\">\n",
       "  <thead>\n",
       "    <tr style=\"text-align: right;\">\n",
       "      <th></th>\n",
       "      <th>column</th>\n",
       "      <th>VIF</th>\n",
       "    </tr>\n",
       "  </thead>\n",
       "  <tbody>\n",
       "    <tr>\n",
       "      <td>0</td>\n",
       "      <td>ODI-WKTS</td>\n",
       "      <td>2.742889</td>\n",
       "    </tr>\n",
       "    <tr>\n",
       "      <td>1</td>\n",
       "      <td>ODI-SR-BL</td>\n",
       "      <td>2.822148</td>\n",
       "    </tr>\n",
       "    <tr>\n",
       "      <td>2</td>\n",
       "      <td>SIXERS</td>\n",
       "      <td>2.397409</td>\n",
       "    </tr>\n",
       "    <tr>\n",
       "      <td>3</td>\n",
       "      <td>WKTS</td>\n",
       "      <td>2.883101</td>\n",
       "    </tr>\n",
       "    <tr>\n",
       "      <td>4</td>\n",
       "      <td>AGE_3</td>\n",
       "      <td>1.779861</td>\n",
       "    </tr>\n",
       "    <tr>\n",
       "      <td>5</td>\n",
       "      <td>COUNTRY_BAN</td>\n",
       "      <td>1.094293</td>\n",
       "    </tr>\n",
       "    <tr>\n",
       "      <td>6</td>\n",
       "      <td>COUNTRY_ENG</td>\n",
       "      <td>1.131869</td>\n",
       "    </tr>\n",
       "    <tr>\n",
       "      <td>7</td>\n",
       "      <td>COUNTRY_IND</td>\n",
       "      <td>3.144668</td>\n",
       "    </tr>\n",
       "    <tr>\n",
       "      <td>8</td>\n",
       "      <td>COUNTRY_NZ</td>\n",
       "      <td>1.173418</td>\n",
       "    </tr>\n",
       "    <tr>\n",
       "      <td>9</td>\n",
       "      <td>COUNTRY_PAK</td>\n",
       "      <td>1.334773</td>\n",
       "    </tr>\n",
       "    <tr>\n",
       "      <td>10</td>\n",
       "      <td>COUNTRY_SA</td>\n",
       "      <td>1.416657</td>\n",
       "    </tr>\n",
       "    <tr>\n",
       "      <td>11</td>\n",
       "      <td>COUNTRY_SL</td>\n",
       "      <td>1.519752</td>\n",
       "    </tr>\n",
       "    <tr>\n",
       "      <td>12</td>\n",
       "      <td>COUNTRY_WI</td>\n",
       "      <td>1.194093</td>\n",
       "    </tr>\n",
       "    <tr>\n",
       "      <td>13</td>\n",
       "      <td>COUNTRY_ZIM</td>\n",
       "      <td>1.205305</td>\n",
       "    </tr>\n",
       "    <tr>\n",
       "      <td>14</td>\n",
       "      <td>PLAYING ROLE_Batsman</td>\n",
       "      <td>2.680207</td>\n",
       "    </tr>\n",
       "    <tr>\n",
       "      <td>15</td>\n",
       "      <td>PLAYING ROLE_Bowler</td>\n",
       "      <td>3.060168</td>\n",
       "    </tr>\n",
       "    <tr>\n",
       "      <td>16</td>\n",
       "      <td>PLAYING ROLE_W. Keeper</td>\n",
       "      <td>1.900941</td>\n",
       "    </tr>\n",
       "    <tr>\n",
       "      <td>17</td>\n",
       "      <td>CAPTAINCY EXP_1</td>\n",
       "      <td>2.458745</td>\n",
       "    </tr>\n",
       "  </tbody>\n",
       "</table>\n",
       "</div>"
      ],
      "text/plain": [
       "                    column       VIF\n",
       "0                 ODI-WKTS  2.742889\n",
       "1                ODI-SR-BL  2.822148\n",
       "2                   SIXERS  2.397409\n",
       "3                     WKTS  2.883101\n",
       "4                    AGE_3  1.779861\n",
       "5              COUNTRY_BAN  1.094293\n",
       "6              COUNTRY_ENG  1.131869\n",
       "7              COUNTRY_IND  3.144668\n",
       "8               COUNTRY_NZ  1.173418\n",
       "9              COUNTRY_PAK  1.334773\n",
       "10              COUNTRY_SA  1.416657\n",
       "11              COUNTRY_SL  1.519752\n",
       "12              COUNTRY_WI  1.194093\n",
       "13             COUNTRY_ZIM  1.205305\n",
       "14    PLAYING ROLE_Batsman  2.680207\n",
       "15     PLAYING ROLE_Bowler  3.060168\n",
       "16  PLAYING ROLE_W. Keeper  1.900941\n",
       "17         CAPTAINCY EXP_1  2.458745"
      ]
     },
     "execution_count": 40,
     "metadata": {},
     "output_type": "execute_result"
    }
   ],
   "source": [
    "get_vif_factors(X[X_new_features])"
   ]
  },
  {
   "cell_type": "code",
   "execution_count": 41,
   "metadata": {},
   "outputs": [
    {
     "data": {
      "text/plain": [
       "['ODI-WKTS',\n",
       " 'ODI-SR-BL',\n",
       " 'SIXERS',\n",
       " 'WKTS',\n",
       " 'AGE_3',\n",
       " 'COUNTRY_BAN',\n",
       " 'COUNTRY_ENG',\n",
       " 'COUNTRY_IND',\n",
       " 'COUNTRY_NZ',\n",
       " 'COUNTRY_PAK',\n",
       " 'COUNTRY_SA',\n",
       " 'COUNTRY_SL',\n",
       " 'COUNTRY_WI',\n",
       " 'COUNTRY_ZIM',\n",
       " 'PLAYING ROLE_Batsman',\n",
       " 'PLAYING ROLE_Bowler',\n",
       " 'PLAYING ROLE_W. Keeper',\n",
       " 'CAPTAINCY EXP_1']"
      ]
     },
     "execution_count": 41,
     "metadata": {},
     "output_type": "execute_result"
    }
   ],
   "source": [
    "X_new_features"
   ]
  },
  {
   "cell_type": "code",
   "execution_count": 42,
   "metadata": {},
   "outputs": [],
   "source": [
    "train_X = train_X[X_new_features]"
   ]
  },
  {
   "cell_type": "code",
   "execution_count": 43,
   "metadata": {},
   "outputs": [],
   "source": [
    "ipl_model2 = sm.OLS(train_y, train_X).fit()"
   ]
  },
  {
   "cell_type": "code",
   "execution_count": 44,
   "metadata": {},
   "outputs": [
    {
     "data": {
      "text/html": [
       "<table class=\"simpletable\">\n",
       "<tr>\n",
       "          <td>Model:</td>                 <td>OLS</td>       <td>Adj. R-squared (uncentered):</td>    <td>0.728</td>  \n",
       "</tr>\n",
       "<tr>\n",
       "    <td>Dependent Variable:</td>      <td>SOLD PRICE</td>                <td>AIC:</td>              <td>2965.1080</td>\n",
       "</tr>\n",
       "<tr>\n",
       "           <td>Date:</td>          <td>2022-07-18 16:47</td>             <td>BIC:</td>              <td>3012.7070</td>\n",
       "</tr>\n",
       "<tr>\n",
       "     <td>No. Observations:</td>           <td>104</td>              <td>Log-Likelihood:</td>         <td>-1464.6</td> \n",
       "</tr>\n",
       "<tr>\n",
       "         <td>Df Model:</td>               <td>18</td>                <td>F-statistic:</td>            <td>16.49</td>  \n",
       "</tr>\n",
       "<tr>\n",
       "       <td>Df Residuals:</td>             <td>86</td>             <td>Prob (F-statistic):</td>      <td>1.13e-20</td> \n",
       "</tr>\n",
       "<tr>\n",
       "  <td>R-squared (uncentered):</td>       <td>0.775</td>                 <td>Scale:</td>            <td>1.2071e+11</td>\n",
       "</tr>\n",
       "</table>\n",
       "<table class=\"simpletable\">\n",
       "<tr>\n",
       "             <td></td>                <th>Coef.</th>     <th>Std.Err.</th>      <th>t</th>     <th>P>|t|</th>    <th>[0.025</th>       <th>0.975]</th>   \n",
       "</tr>\n",
       "<tr>\n",
       "  <th>ODI-WKTS</th>                 <td>772.4088</td>    <td>470.6354</td>   <td>1.6412</td>  <td>0.1044</td>   <td>-163.1834</td>    <td>1708.0009</td> \n",
       "</tr>\n",
       "<tr>\n",
       "  <th>ODI-SR-BL</th>                <td>909.0021</td>    <td>1267.4969</td>  <td>0.7172</td>  <td>0.4752</td>  <td>-1610.6983</td>    <td>3428.7026</td> \n",
       "</tr>\n",
       "<tr>\n",
       "  <th>SIXERS</th>                   <td>7862.1259</td>   <td>2086.6101</td>  <td>3.7679</td>  <td>0.0003</td>   <td>3714.0824</td>   <td>12010.1694</td> \n",
       "</tr>\n",
       "<tr>\n",
       "  <th>WKTS</th>                     <td>2431.8988</td>   <td>2105.3524</td>  <td>1.1551</td>  <td>0.2512</td>  <td>-1753.4033</td>    <td>6617.2008</td> \n",
       "</tr>\n",
       "<tr>\n",
       "  <th>AGE_3</th>                   <td>-8950.6659</td>  <td>98041.9325</td>  <td>-0.0913</td> <td>0.9275</td> <td>-203851.5772</td>  <td>185950.2453</td>\n",
       "</tr>\n",
       "<tr>\n",
       "  <th>COUNTRY_BAN</th>            <td>-108758.6040</td> <td>369274.1916</td> <td>-0.2945</td> <td>0.7691</td> <td>-842851.4010</td>  <td>625334.1930</td>\n",
       "</tr>\n",
       "<tr>\n",
       "  <th>COUNTRY_ENG</th>             <td>682934.7166</td> <td>216150.8279</td> <td>3.1595</td>  <td>0.0022</td>  <td>253241.0920</td> <td>1112628.3411</td>\n",
       "</tr>\n",
       "<tr>\n",
       "  <th>COUNTRY_IND</th>             <td>282829.8091</td> <td>96188.0292</td>  <td>2.9404</td>  <td>0.0042</td>  <td>91614.3356</td>   <td>474045.2827</td>\n",
       "</tr>\n",
       "<tr>\n",
       "  <th>COUNTRY_NZ</th>              <td>142968.8843</td> <td>151841.7382</td> <td>0.9416</td>  <td>0.3491</td> <td>-158882.5009</td>  <td>444820.2695</td>\n",
       "</tr>\n",
       "<tr>\n",
       "  <th>COUNTRY_PAK</th>             <td>122810.2480</td> <td>159600.8063</td> <td>0.7695</td>  <td>0.4437</td> <td>-194465.6541</td>  <td>440086.1502</td>\n",
       "</tr>\n",
       "<tr>\n",
       "  <th>COUNTRY_SA</th>              <td>108735.9086</td> <td>115092.9596</td> <td>0.9448</td>  <td>0.3474</td> <td>-120061.3227</td>  <td>337533.1399</td>\n",
       "</tr>\n",
       "<tr>\n",
       "  <th>COUNTRY_SL</th>              <td>55912.3398</td>  <td>142277.1829</td> <td>0.3930</td>  <td>0.6953</td> <td>-226925.3388</td>  <td>338750.0184</td>\n",
       "</tr>\n",
       "<tr>\n",
       "  <th>COUNTRY_WI</th>              <td>-22234.9315</td> <td>213050.5847</td> <td>-0.1044</td> <td>0.9171</td> <td>-445765.4766</td>  <td>401295.6135</td>\n",
       "</tr>\n",
       "<tr>\n",
       "  <th>COUNTRY_ZIM</th>             <td>-67977.6781</td> <td>390859.9289</td> <td>-0.1739</td> <td>0.8623</td> <td>-844981.5006</td>  <td>709026.1444</td>\n",
       "</tr>\n",
       "<tr>\n",
       "  <th>PLAYING ROLE_Batsman</th>    <td>121382.0570</td> <td>106685.0356</td> <td>1.1378</td>  <td>0.2584</td>  <td>-90700.7746</td>  <td>333464.8886</td>\n",
       "</tr>\n",
       "<tr>\n",
       "  <th>PLAYING ROLE_Bowler</th>     <td>-18315.4968</td> <td>106035.9664</td> <td>-0.1727</td> <td>0.8633</td> <td>-229108.0215</td>  <td>192477.0279</td>\n",
       "</tr>\n",
       "<tr>\n",
       "  <th>PLAYING ROLE_W. Keeper</th>  <td>-55121.9240</td> <td>169922.5271</td> <td>-0.3244</td> <td>0.7464</td> <td>-392916.7280</td>  <td>282672.8801</td>\n",
       "</tr>\n",
       "<tr>\n",
       "  <th>CAPTAINCY EXP_1</th>         <td>208376.6957</td> <td>98128.0284</td>  <td>2.1235</td>  <td>0.0366</td>  <td>13304.6315</td>   <td>403448.7600</td>\n",
       "</tr>\n",
       "</table>\n",
       "<table class=\"simpletable\">\n",
       "<tr>\n",
       "     <td>Omnibus:</td>    <td>8.635</td>  <td>Durbin-Watson:</td>   <td>2.252</td>\n",
       "</tr>\n",
       "<tr>\n",
       "  <td>Prob(Omnibus):</td> <td>0.013</td> <td>Jarque-Bera (JB):</td> <td>8.345</td>\n",
       "</tr>\n",
       "<tr>\n",
       "       <td>Skew:</td>     <td>0.623</td>     <td>Prob(JB):</td>     <td>0.015</td>\n",
       "</tr>\n",
       "<tr>\n",
       "     <td>Kurtosis:</td>   <td>3.609</td>  <td>Condition No.:</td>   <td>1492</td> \n",
       "</tr>\n",
       "</table>"
      ],
      "text/plain": [
       "<class 'statsmodels.iolib.summary2.Summary'>\n",
       "\"\"\"\n",
       "                            Results: Ordinary least squares\n",
       "========================================================================================\n",
       "Model:                      OLS                Adj. R-squared (uncentered):   0.728     \n",
       "Dependent Variable:         SOLD PRICE         AIC:                           2965.1080 \n",
       "Date:                       2022-07-18 16:47   BIC:                           3012.7070 \n",
       "No. Observations:           104                Log-Likelihood:                -1464.6   \n",
       "Df Model:                   18                 F-statistic:                   16.49     \n",
       "Df Residuals:               86                 Prob (F-statistic):            1.13e-20  \n",
       "R-squared (uncentered):     0.775              Scale:                         1.2071e+11\n",
       "----------------------------------------------------------------------------------------\n",
       "                          Coef.       Std.Err.     t    P>|t|     [0.025       0.975]   \n",
       "----------------------------------------------------------------------------------------\n",
       "ODI-WKTS                   772.4088    470.6354  1.6412 0.1044    -163.1834    1708.0009\n",
       "ODI-SR-BL                  909.0021   1267.4969  0.7172 0.4752   -1610.6983    3428.7026\n",
       "SIXERS                    7862.1259   2086.6101  3.7679 0.0003    3714.0824   12010.1694\n",
       "WKTS                      2431.8988   2105.3524  1.1551 0.2512   -1753.4033    6617.2008\n",
       "AGE_3                    -8950.6659  98041.9325 -0.0913 0.9275 -203851.5772  185950.2453\n",
       "COUNTRY_BAN            -108758.6040 369274.1916 -0.2945 0.7691 -842851.4010  625334.1930\n",
       "COUNTRY_ENG             682934.7166 216150.8279  3.1595 0.0022  253241.0920 1112628.3411\n",
       "COUNTRY_IND             282829.8091  96188.0292  2.9404 0.0042   91614.3356  474045.2827\n",
       "COUNTRY_NZ              142968.8843 151841.7382  0.9416 0.3491 -158882.5009  444820.2695\n",
       "COUNTRY_PAK             122810.2480 159600.8063  0.7695 0.4437 -194465.6541  440086.1502\n",
       "COUNTRY_SA              108735.9086 115092.9596  0.9448 0.3474 -120061.3227  337533.1399\n",
       "COUNTRY_SL               55912.3398 142277.1829  0.3930 0.6953 -226925.3388  338750.0184\n",
       "COUNTRY_WI              -22234.9315 213050.5847 -0.1044 0.9171 -445765.4766  401295.6135\n",
       "COUNTRY_ZIM             -67977.6781 390859.9289 -0.1739 0.8623 -844981.5006  709026.1444\n",
       "PLAYING ROLE_Batsman    121382.0570 106685.0356  1.1378 0.2584  -90700.7746  333464.8886\n",
       "PLAYING ROLE_Bowler     -18315.4968 106035.9664 -0.1727 0.8633 -229108.0215  192477.0279\n",
       "PLAYING ROLE_W. Keeper  -55121.9240 169922.5271 -0.3244 0.7464 -392916.7280  282672.8801\n",
       "CAPTAINCY EXP_1         208376.6957  98128.0284  2.1235 0.0366   13304.6315  403448.7600\n",
       "----------------------------------------------------------------------------------------\n",
       "Omnibus:                       8.635               Durbin-Watson:                  2.252\n",
       "Prob(Omnibus):                 0.013               Jarque-Bera (JB):               8.345\n",
       "Skew:                          0.623               Prob(JB):                       0.015\n",
       "Kurtosis:                      3.609               Condition No.:                  1492 \n",
       "========================================================================================\n",
       "* The condition number is large (1e+03). This might indicate             strong\n",
       "multicollinearity or other numerical problems.\n",
       "\"\"\""
      ]
     },
     "execution_count": 44,
     "metadata": {},
     "output_type": "execute_result"
    }
   ],
   "source": [
    "ipl_model2.summary2()"
   ]
  },
  {
   "cell_type": "code",
   "execution_count": 45,
   "metadata": {},
   "outputs": [],
   "source": [
    "significant_vars = ['SIXERS', 'COUNTRY_ENG', 'COUNTRY_IND', 'CAPTAINCY EXP_1']"
   ]
  },
  {
   "cell_type": "code",
   "execution_count": 46,
   "metadata": {},
   "outputs": [],
   "source": [
    "train_X = train_X[significant_vars]"
   ]
  },
  {
   "cell_type": "code",
   "execution_count": 47,
   "metadata": {},
   "outputs": [],
   "source": [
    "ipl_model3= sm.OLS(train_y, train_X).fit()"
   ]
  },
  {
   "cell_type": "code",
   "execution_count": 48,
   "metadata": {},
   "outputs": [
    {
     "data": {
      "text/html": [
       "<table class=\"simpletable\">\n",
       "<tr>\n",
       "          <td>Model:</td>                 <td>OLS</td>       <td>Adj. R-squared (uncentered):</td>    <td>0.704</td>  \n",
       "</tr>\n",
       "<tr>\n",
       "    <td>Dependent Variable:</td>      <td>SOLD PRICE</td>                <td>AIC:</td>              <td>2961.8089</td>\n",
       "</tr>\n",
       "<tr>\n",
       "           <td>Date:</td>          <td>2022-07-18 16:47</td>             <td>BIC:</td>              <td>2972.3864</td>\n",
       "</tr>\n",
       "<tr>\n",
       "     <td>No. Observations:</td>           <td>104</td>              <td>Log-Likelihood:</td>         <td>-1476.9</td> \n",
       "</tr>\n",
       "<tr>\n",
       "         <td>Df Model:</td>                <td>4</td>                <td>F-statistic:</td>            <td>62.77</td>  \n",
       "</tr>\n",
       "<tr>\n",
       "       <td>Df Residuals:</td>             <td>100</td>            <td>Prob (F-statistic):</td>      <td>1.97e-26</td> \n",
       "</tr>\n",
       "<tr>\n",
       "  <td>R-squared (uncentered):</td>       <td>0.715</td>                 <td>Scale:</td>            <td>1.3164e+11</td>\n",
       "</tr>\n",
       "</table>\n",
       "<table class=\"simpletable\">\n",
       "<tr>\n",
       "         <td></td>            <th>Coef.</th>     <th>Std.Err.</th>      <th>t</th>    <th>P>|t|</th>   <th>[0.025</th>       <th>0.975]</th>   \n",
       "</tr>\n",
       "<tr>\n",
       "  <th>SIXERS</th>           <td>8637.8344</td>   <td>1675.1313</td>  <td>5.1565</td> <td>0.0000</td>  <td>5314.4216</td>   <td>11961.2472</td> \n",
       "</tr>\n",
       "<tr>\n",
       "  <th>COUNTRY_ENG</th>     <td>731833.6386</td> <td>214164.4988</td> <td>3.4172</td> <td>0.0009</td> <td>306937.3727</td> <td>1156729.9045</td>\n",
       "</tr>\n",
       "<tr>\n",
       "  <th>COUNTRY_IND</th>     <td>387890.2538</td> <td>63007.1511</td>  <td>6.1563</td> <td>0.0000</td> <td>262885.8606</td>  <td>512894.6471</td>\n",
       "</tr>\n",
       "<tr>\n",
       "  <th>CAPTAINCY EXP_1</th> <td>359725.2741</td> <td>74930.3460</td>  <td>4.8008</td> <td>0.0000</td> <td>211065.6018</td>  <td>508384.9463</td>\n",
       "</tr>\n",
       "</table>\n",
       "<table class=\"simpletable\">\n",
       "<tr>\n",
       "     <td>Omnibus:</td>    <td>1.130</td>  <td>Durbin-Watson:</td>   <td>2.238</td>\n",
       "</tr>\n",
       "<tr>\n",
       "  <td>Prob(Omnibus):</td> <td>0.568</td> <td>Jarque-Bera (JB):</td> <td>0.874</td>\n",
       "</tr>\n",
       "<tr>\n",
       "       <td>Skew:</td>     <td>0.223</td>     <td>Prob(JB):</td>     <td>0.646</td>\n",
       "</tr>\n",
       "<tr>\n",
       "     <td>Kurtosis:</td>   <td>3.046</td>  <td>Condition No.:</td>    <td>165</td> \n",
       "</tr>\n",
       "</table>"
      ],
      "text/plain": [
       "<class 'statsmodels.iolib.summary2.Summary'>\n",
       "\"\"\"\n",
       "                        Results: Ordinary least squares\n",
       "================================================================================\n",
       "Model:                  OLS              Adj. R-squared (uncentered): 0.704     \n",
       "Dependent Variable:     SOLD PRICE       AIC:                         2961.8089 \n",
       "Date:                   2022-07-18 16:47 BIC:                         2972.3864 \n",
       "No. Observations:       104              Log-Likelihood:              -1476.9   \n",
       "Df Model:               4                F-statistic:                 62.77     \n",
       "Df Residuals:           100              Prob (F-statistic):          1.97e-26  \n",
       "R-squared (uncentered): 0.715            Scale:                       1.3164e+11\n",
       "--------------------------------------------------------------------------------\n",
       "                     Coef.      Std.Err.    t    P>|t|     [0.025      0.975]   \n",
       "--------------------------------------------------------------------------------\n",
       "SIXERS              8637.8344   1675.1313 5.1565 0.0000   5314.4216   11961.2472\n",
       "COUNTRY_ENG       731833.6386 214164.4988 3.4172 0.0009 306937.3727 1156729.9045\n",
       "COUNTRY_IND       387890.2538  63007.1511 6.1563 0.0000 262885.8606  512894.6471\n",
       "CAPTAINCY EXP_1   359725.2741  74930.3460 4.8008 0.0000 211065.6018  508384.9463\n",
       "--------------------------------------------------------------------------------\n",
       "Omnibus:                   1.130             Durbin-Watson:                2.238\n",
       "Prob(Omnibus):             0.568             Jarque-Bera (JB):             0.874\n",
       "Skew:                      0.223             Prob(JB):                     0.646\n",
       "Kurtosis:                  3.046             Condition No.:                165  \n",
       "================================================================================\n",
       "\n",
       "\"\"\""
      ]
     },
     "execution_count": 48,
     "metadata": {},
     "output_type": "execute_result"
    }
   ],
   "source": [
    "ipl_model3.summary2()"
   ]
  },
  {
   "cell_type": "code",
   "execution_count": 49,
   "metadata": {},
   "outputs": [
    {
     "data": {
      "text/plain": [
       "SIXERS               8637.834426\n",
       "COUNTRY_ENG        731833.638616\n",
       "COUNTRY_IND        387890.253821\n",
       "CAPTAINCY EXP_1    359725.274051\n",
       "dtype: float64"
      ]
     },
     "execution_count": 49,
     "metadata": {},
     "output_type": "execute_result"
    }
   ],
   "source": [
    "ipl_model3.params"
   ]
  },
  {
   "cell_type": "code",
   "execution_count": 50,
   "metadata": {},
   "outputs": [
    {
     "data": {
      "image/png": "[encoded data removed]",
      "text/plain": [
       "<Figure size 432x288 with 1 Axes>"
      ]
     },
     "metadata": {
      "needs_background": "light"
     },
     "output_type": "display_data"
    }
   ],
   "source": [
    "import scipy.stats as st\n",
    "probplot = st.probplot(ipl_model3.resid,plot=plt )"
   ]
  },
  {
   "cell_type": "code",
   "execution_count": 51,
   "metadata": {},
   "outputs": [
    {
     "data": {
      "image/png": "[encoded data removed]",
      "text/plain": [
       "<Figure size 432x288 with 1 Axes>"
      ]
     },
     "metadata": {
      "needs_background": "light"
     },
     "output_type": "display_data"
    }
   ],
   "source": [
    "def get_standardized_values(vals):\n",
    "    return (vals - vals.mean())/vals.std()\n",
    "# scaler = StandardScaler()\n",
    "# # standardized_predicted_values = scaler.fit_transform(np.array(ipl_model3.fittedvalues).reshape(-1,2))\n",
    "# standardized_residual_values = scaler.fit_transform(np.array(ipl_model3.resid).reshape(-1,2))\n",
    "\n",
    "plt.scatter (get_standardized_values(ipl_model3.fittedvalues), get_standardized_values(ipl_model3.resid) )\n",
    "plt.title('Residual Plot')\n",
    "plt.xlabel('Standardized predicted values')\n",
    "plt.ylabel('Standardized residual values')\n",
    "plt.show()"
   ]
  },
  {
   "cell_type": "markdown",
   "metadata": {},
   "source": [
    "### Performance Metrics"
   ]
  },
  {
   "cell_type": "code",
   "execution_count": 52,
   "metadata": {},
   "outputs": [],
   "source": [
    "from sklearn import metrics"
   ]
  },
  {
   "cell_type": "code",
   "execution_count": 53,
   "metadata": {},
   "outputs": [],
   "source": [
    "pred_y = ipl_model3.predict(test_X[train_X.columns])"
   ]
  },
  {
   "cell_type": "code",
   "execution_count": 54,
   "metadata": {},
   "outputs": [
    {
     "data": {
      "text/plain": [
       "333693.41475245566"
      ]
     },
     "execution_count": 54,
     "metadata": {},
     "output_type": "execute_result"
    }
   ],
   "source": [
    "np.sqrt(metrics.mean_squared_error(pred_y, test_y)) #standard deviation"
   ]
  },
  {
   "cell_type": "code",
   "execution_count": 55,
   "metadata": {},
   "outputs": [
    {
     "data": {
      "text/plain": [
       "0.3058"
      ]
     },
     "execution_count": 55,
     "metadata": {},
     "output_type": "execute_result"
    }
   ],
   "source": [
    "np.round(metrics.r2_score(pred_y, test_y),4)"
   ]
  },
  {
   "cell_type": "code",
   "execution_count": null,
   "metadata": {},
   "outputs": [],
   "source": []
  },
  {
   "cell_type": "markdown",
   "metadata": {},
   "source": [
    "### Measuring Influential Observations\n",
    "### influence > 3(K+1)/N cut-off"
   ]
  },
  {
   "cell_type": "code",
   "execution_count": 56,
   "metadata": {},
   "outputs": [],
   "source": [
    "k = train_X.shape[1]\n",
    "n = train_X.shape[0]"
   ]
  },
  {
   "cell_type": "code",
   "execution_count": 57,
   "metadata": {},
   "outputs": [
    {
     "name": "stdout",
     "output_type": "stream",
     "text": [
      "Number of variables: 4 and number of observations: 104\n"
     ]
    }
   ],
   "source": [
    "print('Number of variables:', k, 'and number of observations:', n)"
   ]
  },
  {
   "cell_type": "code",
   "execution_count": 58,
   "metadata": {},
   "outputs": [],
   "source": [
    "leverage_cut_off = 3* ((k+1)/n)"
   ]
  },
  {
   "cell_type": "code",
   "execution_count": 59,
   "metadata": {},
   "outputs": [
    {
     "data": {
      "text/plain": [
       "0.14423076923076925"
      ]
     },
     "execution_count": 59,
     "metadata": {},
     "output_type": "execute_result"
    }
   ],
   "source": [
    "leverage_cut_off"
   ]
  },
  {
   "cell_type": "code",
   "execution_count": 60,
   "metadata": {},
   "outputs": [],
   "source": [
    "from statsmodels.graphics.regressionplots import influence_plot"
   ]
  },
  {
   "cell_type": "code",
   "execution_count": 61,
   "metadata": {},
   "outputs": [
    {
     "data": {
      "image/png": "[encoded data removed]",
      "text/plain": [
       "<Figure size 432x288 with 1 Axes>"
      ]
     },
     "execution_count": 61,
     "metadata": {},
     "output_type": "execute_result"
    },
    {
     "data": {
      "image/png": "[encoded data removed]",
      "text/plain": [
       "<Figure size 432x288 with 1 Axes>"
      ]
     },
     "metadata": {
      "needs_background": "light"
     },
     "output_type": "display_data"
    }
   ],
   "source": [
    "# fig, ax = plt.subplots(figsize=(8,6))\n",
    "# plt.figure(figsize=(10,10))\n",
    "influence_plot(ipl_model3)"
   ]
  },
  {
   "cell_type": "code",
   "execution_count": 62,
   "metadata": {},
   "outputs": [
    {
     "data": {
      "text/html": [
       "<div>\n",
       "<style scoped>\n",
       "    .dataframe tbody tr th:only-of-type {\n",
       "        vertical-align: middle;\n",
       "    }\n",
       "\n",
       "    .dataframe tbody tr th {\n",
       "        vertical-align: top;\n",
       "    }\n",
       "\n",
       "    .dataframe thead th {\n",
       "        text-align: right;\n",
       "    }\n",
       "</style>\n",
       "<table border=\"1\" class=\"dataframe\">\n",
       "  <thead>\n",
       "    <tr style=\"text-align: right;\">\n",
       "      <th></th>\n",
       "      <th>AGE</th>\n",
       "      <th>COUNTRY</th>\n",
       "      <th>PLAYING ROLE</th>\n",
       "      <th>T-RUNS</th>\n",
       "      <th>T-WKTS</th>\n",
       "      <th>ODI-RUNS-S</th>\n",
       "      <th>ODI-SR-B</th>\n",
       "      <th>ODI-WKTS</th>\n",
       "      <th>ODI-SR-BL</th>\n",
       "      <th>CAPTAINCY EXP</th>\n",
       "      <th>...</th>\n",
       "      <th>SR -B</th>\n",
       "      <th>SIXERS</th>\n",
       "      <th>RUNS-C</th>\n",
       "      <th>WKTS</th>\n",
       "      <th>AVE-BL</th>\n",
       "      <th>ECON</th>\n",
       "      <th>SR-BL</th>\n",
       "      <th>AUCTION YEAR</th>\n",
       "      <th>BASE PRICE</th>\n",
       "      <th>SOLD PRICE</th>\n",
       "    </tr>\n",
       "  </thead>\n",
       "  <tbody>\n",
       "    <tr>\n",
       "      <td>23</td>\n",
       "      <td>2</td>\n",
       "      <td>ENG</td>\n",
       "      <td>Allrounder</td>\n",
       "      <td>3845</td>\n",
       "      <td>226</td>\n",
       "      <td>3394</td>\n",
       "      <td>88.82</td>\n",
       "      <td>169</td>\n",
       "      <td>33.2</td>\n",
       "      <td>1</td>\n",
       "      <td>...</td>\n",
       "      <td>116.980000</td>\n",
       "      <td>2</td>\n",
       "      <td>105</td>\n",
       "      <td>2</td>\n",
       "      <td>52.500000</td>\n",
       "      <td>9.545455</td>\n",
       "      <td>33.000000</td>\n",
       "      <td>2009</td>\n",
       "      <td>950000</td>\n",
       "      <td>1550000</td>\n",
       "    </tr>\n",
       "    <tr>\n",
       "      <td>58</td>\n",
       "      <td>2</td>\n",
       "      <td>ENG</td>\n",
       "      <td>Allrounder</td>\n",
       "      <td>0</td>\n",
       "      <td>0</td>\n",
       "      <td>245</td>\n",
       "      <td>95.33</td>\n",
       "      <td>13</td>\n",
       "      <td>63.2</td>\n",
       "      <td>0</td>\n",
       "      <td>...</td>\n",
       "      <td>101.369863</td>\n",
       "      <td>1</td>\n",
       "      <td>331</td>\n",
       "      <td>19</td>\n",
       "      <td>17.421053</td>\n",
       "      <td>7.012712</td>\n",
       "      <td>14.947368</td>\n",
       "      <td>2011</td>\n",
       "      <td>100000</td>\n",
       "      <td>100000</td>\n",
       "    </tr>\n",
       "    <tr>\n",
       "      <td>88</td>\n",
       "      <td>1</td>\n",
       "      <td>IND</td>\n",
       "      <td>Batsman</td>\n",
       "      <td>710</td>\n",
       "      <td>13</td>\n",
       "      <td>3525</td>\n",
       "      <td>92.71</td>\n",
       "      <td>16</td>\n",
       "      <td>61.9</td>\n",
       "      <td>0</td>\n",
       "      <td>...</td>\n",
       "      <td>139.393939</td>\n",
       "      <td>97</td>\n",
       "      <td>678</td>\n",
       "      <td>20</td>\n",
       "      <td>33.900000</td>\n",
       "      <td>7.047817</td>\n",
       "      <td>28.900000</td>\n",
       "      <td>2008</td>\n",
       "      <td>125000</td>\n",
       "      <td>650000</td>\n",
       "    </tr>\n",
       "  </tbody>\n",
       "</table>\n",
       "<p>3 rows × 23 columns</p>\n",
       "</div>"
      ],
      "text/plain": [
       "    AGE COUNTRY PLAYING ROLE  T-RUNS  T-WKTS  ODI-RUNS-S  ODI-SR-B  ODI-WKTS  \\\n",
       "23    2     ENG   Allrounder    3845     226        3394     88.82       169   \n",
       "58    2     ENG   Allrounder       0       0         245     95.33        13   \n",
       "88    1     IND      Batsman     710      13        3525     92.71        16   \n",
       "\n",
       "    ODI-SR-BL  CAPTAINCY EXP  ...       SR -B  SIXERS  RUNS-C  WKTS  \\\n",
       "23       33.2              1  ...  116.980000       2     105     2   \n",
       "58       63.2              0  ...  101.369863       1     331    19   \n",
       "88       61.9              0  ...  139.393939      97     678    20   \n",
       "\n",
       "       AVE-BL      ECON      SR-BL  AUCTION YEAR  BASE PRICE  SOLD PRICE  \n",
       "23  52.500000  9.545455  33.000000          2009      950000     1550000  \n",
       "58  17.421053  7.012712  14.947368          2011      100000      100000  \n",
       "88  33.900000  7.047817  28.900000          2008      125000      650000  \n",
       "\n",
       "[3 rows x 23 columns]"
      ]
     },
     "execution_count": 62,
     "metadata": {},
     "output_type": "execute_result"
    }
   ],
   "source": [
    "ipl_auction_df.iloc[ipl_auction_df.index.isin([23, 58, 88])]"
   ]
  },
  {
   "cell_type": "code",
   "execution_count": 63,
   "metadata": {},
   "outputs": [],
   "source": [
    "train_X_new = train_X.drop([23, 58, 88], axis = 0)\n",
    "train_y_new = train_y.drop([23, 58, 88], axis = 0)\n",
    "# len(train_X_new)\n",
    "# train_X_new"
   ]
  },
  {
   "cell_type": "code",
   "execution_count": 64,
   "metadata": {},
   "outputs": [
    {
     "data": {
      "text/html": [
       "<table class=\"simpletable\">\n",
       "<tr>\n",
       "          <td>Model:</td>                 <td>OLS</td>       <td>Adj. R-squared (uncentered):</td>    <td>0.710</td>  \n",
       "</tr>\n",
       "<tr>\n",
       "    <td>Dependent Variable:</td>      <td>SOLD PRICE</td>                <td>AIC:</td>              <td>2870.9052</td>\n",
       "</tr>\n",
       "<tr>\n",
       "           <td>Date:</td>          <td>2022-07-18 16:47</td>             <td>BIC:</td>              <td>2881.3656</td>\n",
       "</tr>\n",
       "<tr>\n",
       "     <td>No. Observations:</td>           <td>101</td>              <td>Log-Likelihood:</td>         <td>-1431.5</td> \n",
       "</tr>\n",
       "<tr>\n",
       "         <td>Df Model:</td>                <td>4</td>                <td>F-statistic:</td>            <td>62.82</td>  \n",
       "</tr>\n",
       "<tr>\n",
       "       <td>Df Residuals:</td>             <td>97</td>             <td>Prob (F-statistic):</td>      <td>4.28e-26</td> \n",
       "</tr>\n",
       "<tr>\n",
       "  <td>R-squared (uncentered):</td>       <td>0.721</td>                 <td>Scale:</td>            <td>1.2457e+11</td>\n",
       "</tr>\n",
       "</table>\n",
       "<table class=\"simpletable\">\n",
       "<tr>\n",
       "         <td></td>            <th>Coef.</th>     <th>Std.Err.</th>      <th>t</th>    <th>P>|t|</th>   <th>[0.025</th>       <th>0.975]</th>   \n",
       "</tr>\n",
       "<tr>\n",
       "  <th>SIXERS</th>          <td>10029.1011</td>   <td>1770.0111</td>  <td>5.6661</td> <td>0.0000</td>  <td>6516.1191</td>   <td>13542.0831</td> \n",
       "</tr>\n",
       "<tr>\n",
       "  <th>COUNTRY_ENG</th>     <td>945392.2638</td> <td>359288.4466</td> <td>2.6313</td> <td>0.0099</td> <td>232304.1533</td> <td>1658480.3743</td>\n",
       "</tr>\n",
       "<tr>\n",
       "  <th>COUNTRY_IND</th>     <td>387924.6265</td> <td>61366.7462</td>  <td>6.3214</td> <td>0.0000</td> <td>266128.6225</td>  <td>509720.6304</td>\n",
       "</tr>\n",
       "<tr>\n",
       "  <th>CAPTAINCY EXP_1</th> <td>303734.7027</td> <td>75592.1328</td>  <td>4.0181</td> <td>0.0001</td> <td>153705.2441</td>  <td>453764.1614</td>\n",
       "</tr>\n",
       "</table>\n",
       "<table class=\"simpletable\">\n",
       "<tr>\n",
       "     <td>Omnibus:</td>    <td>1.737</td>  <td>Durbin-Watson:</td>   <td>2.206</td>\n",
       "</tr>\n",
       "<tr>\n",
       "  <td>Prob(Omnibus):</td> <td>0.420</td> <td>Jarque-Bera (JB):</td> <td>1.247</td>\n",
       "</tr>\n",
       "<tr>\n",
       "       <td>Skew:</td>     <td>0.250</td>     <td>Prob(JB):</td>     <td>0.536</td>\n",
       "</tr>\n",
       "<tr>\n",
       "     <td>Kurtosis:</td>   <td>3.216</td>  <td>Condition No.:</td>    <td>266</td> \n",
       "</tr>\n",
       "</table>"
      ],
      "text/plain": [
       "<class 'statsmodels.iolib.summary2.Summary'>\n",
       "\"\"\"\n",
       "                        Results: Ordinary least squares\n",
       "================================================================================\n",
       "Model:                  OLS              Adj. R-squared (uncentered): 0.710     \n",
       "Dependent Variable:     SOLD PRICE       AIC:                         2870.9052 \n",
       "Date:                   2022-07-18 16:47 BIC:                         2881.3656 \n",
       "No. Observations:       101              Log-Likelihood:              -1431.5   \n",
       "Df Model:               4                F-statistic:                 62.82     \n",
       "Df Residuals:           97               Prob (F-statistic):          4.28e-26  \n",
       "R-squared (uncentered): 0.721            Scale:                       1.2457e+11\n",
       "--------------------------------------------------------------------------------\n",
       "                     Coef.      Std.Err.    t    P>|t|     [0.025      0.975]   \n",
       "--------------------------------------------------------------------------------\n",
       "SIXERS             10029.1011   1770.0111 5.6661 0.0000   6516.1191   13542.0831\n",
       "COUNTRY_ENG       945392.2638 359288.4466 2.6313 0.0099 232304.1533 1658480.3743\n",
       "COUNTRY_IND       387924.6265  61366.7462 6.3214 0.0000 266128.6225  509720.6304\n",
       "CAPTAINCY EXP_1   303734.7027  75592.1328 4.0181 0.0001 153705.2441  453764.1614\n",
       "--------------------------------------------------------------------------------\n",
       "Omnibus:                   1.737             Durbin-Watson:                2.206\n",
       "Prob(Omnibus):             0.420             Jarque-Bera (JB):             1.247\n",
       "Skew:                      0.250             Prob(JB):                     0.536\n",
       "Kurtosis:                  3.216             Condition No.:                266  \n",
       "================================================================================\n",
       "\n",
       "\"\"\""
      ]
     },
     "execution_count": 64,
     "metadata": {},
     "output_type": "execute_result"
    }
   ],
   "source": [
    "ipl_model4= sm.OLS(train_y_new, train_X_new).fit()\n",
    "ipl_model4.summary2()"
   ]
  },
  {
   "cell_type": "code",
   "execution_count": 65,
   "metadata": {},
   "outputs": [
    {
     "data": {
      "image/png": "[encoded data removed]",
      "text/plain": [
       "<Figure size 432x288 with 1 Axes>"
      ]
     },
     "metadata": {
      "needs_background": "light"
     },
     "output_type": "display_data"
    }
   ],
   "source": [
    "probplot = st.probplot(ipl_model4.resid,plot=plt )"
   ]
  },
  {
   "cell_type": "code",
   "execution_count": null,
   "metadata": {},
   "outputs": [],
   "source": []
  },
  {
   "cell_type": "code",
   "execution_count": 66,
   "metadata": {},
   "outputs": [],
   "source": [
    "from sklearn import metrics"
   ]
  },
  {
   "cell_type": "code",
   "execution_count": 67,
   "metadata": {},
   "outputs": [],
   "source": [
    "pred_y = ipl_model4.predict(test_X[train_X_new.columns])"
   ]
  },
  {
   "cell_type": "code",
   "execution_count": 68,
   "metadata": {},
   "outputs": [
    {
     "data": {
      "text/plain": [
       "344680.47272913647"
      ]
     },
     "execution_count": 68,
     "metadata": {},
     "output_type": "execute_result"
    }
   ],
   "source": [
    "np.sqrt(metrics.mean_squared_error(pred_y, test_y))"
   ]
  },
  {
   "cell_type": "code",
   "execution_count": 69,
   "metadata": {},
   "outputs": [
    {
     "data": {
      "text/plain": [
       "0.3422"
      ]
     },
     "execution_count": 69,
     "metadata": {},
     "output_type": "execute_result"
    }
   ],
   "source": [
    "np.round(metrics.r2_score(pred_y, test_y),4)"
   ]
  },
  {
   "cell_type": "markdown",
   "metadata": {},
   "source": [
    "### Outlier Analysis\n",
    "### Cook's Distance"
   ]
  },
  {
   "cell_type": "code",
   "execution_count": 70,
   "metadata": {},
   "outputs": [],
   "source": [
    "# np.set_printoptions(suppress=True)"
   ]
  },
  {
   "cell_type": "code",
   "execution_count": 71,
   "metadata": {},
   "outputs": [],
   "source": [
    "influence = ipl_model4.get_influence()"
   ]
  },
  {
   "cell_type": "code",
   "execution_count": 114,
   "metadata": {},
   "outputs": [],
   "source": [
    "cooks = influence.cooks_distance[0]"
   ]
  },
  {
   "cell_type": "code",
   "execution_count": 115,
   "metadata": {},
   "outputs": [
    {
     "name": "stdout",
     "output_type": "stream",
     "text": [
      "[0.00000000e+00 5.53553302e-03 1.34112177e-03 0.00000000e+00\n",
      " 3.36060210e-04 2.09002666e-03 3.95909795e-03 8.25140380e-03\n",
      " 5.67796179e-03 5.74317218e-02 1.73222649e-05 4.19770268e-03\n",
      " 4.93303252e-04 2.45834010e-05 4.48311126e-03 1.19877535e-03\n",
      " 2.06201016e-03 4.26299583e-04 0.00000000e+00 6.92675931e-04\n",
      " 1.97137289e-05 2.06734125e-05 0.00000000e+00 5.17908478e-02\n",
      " 1.31208109e-05 8.21799149e-02 0.00000000e+00 1.70627955e-04\n",
      " 8.52675852e-07 6.51054036e-03 4.17954426e-05 0.00000000e+00\n",
      " 3.52655406e-03 4.64862798e-05 8.56100643e-04 6.45367516e-03\n",
      " 7.20387135e-03 8.06453904e-08 3.62328311e-05 2.40299721e-05\n",
      " 2.94083849e-03 8.10341472e-04 4.08597625e-07 6.44438317e-03\n",
      " 3.56619426e-02 1.79317482e-02 8.50541957e-03 1.37744200e-02\n",
      " 1.07766475e-05 6.93462621e-03 1.28717237e-02 1.43348099e-02\n",
      " 6.55941659e-04 2.88212413e+00 2.53102307e-04 1.41165522e-03\n",
      " 2.11510793e-02 4.21389404e-02 2.93707673e-04 8.54418348e-03\n",
      " 8.15287249e-02 1.28566569e-06 3.11476532e-02 8.22668751e-04\n",
      " 6.51379513e-04 1.19487386e-03 7.24925688e-03 1.08358573e-02\n",
      " 4.60771660e-05 8.04185876e-02 7.76133844e-05 5.05274972e-02\n",
      " 4.74354092e-04 1.02910582e-02 5.03934901e-03 6.12112337e-03\n",
      " 3.23053955e-03 2.70226947e-03 1.27305479e-03 9.54381227e-06\n",
      " 5.81826757e-03 0.00000000e+00 6.58927510e-03 0.00000000e+00\n",
      " 4.50370011e-04 1.72032651e-03 3.89533068e-03 3.27313803e-03\n",
      " 2.96214328e-06 0.00000000e+00 7.33217866e-04 1.97398339e-01\n",
      " 7.91895143e-05 0.00000000e+00 0.00000000e+00 8.46049019e-04\n",
      " 2.70451693e-03 5.00763399e-06 1.64697341e-02 2.33265797e-06\n",
      " 5.92578215e-04]\n"
     ]
    }
   ],
   "source": [
    "print(cooks)"
   ]
  },
  {
   "cell_type": "code",
   "execution_count": 116,
   "metadata": {},
   "outputs": [
    {
     "data": {
      "image/png": "[encoded data removed]",
      "text/plain": [
       "<Figure size 432x288 with 1 Axes>"
      ]
     },
     "metadata": {
      "needs_background": "light"
     },
     "output_type": "display_data"
    }
   ],
   "source": [
    "plt.scatter(x=range(0, len(cooks)),y= cooks)\n",
    "plt.xlabel('x')\n",
    "plt.ylabel('Cooks Distance')\n",
    "plt.show()\n",
    "\n",
    "tolerable_cooks_distance = 1\n",
    "# print(tolerable_cooks_distance)"
   ]
  },
  {
   "cell_type": "code",
   "execution_count": 118,
   "metadata": {},
   "outputs": [],
   "source": [
    "high_cooks = cooks[cooks > tolerable_cooks_distance]"
   ]
  },
  {
   "cell_type": "code",
   "execution_count": 123,
   "metadata": {},
   "outputs": [
    {
     "data": {
      "text/plain": [
       "array([2.88212413])"
      ]
     },
     "execution_count": 123,
     "metadata": {},
     "output_type": "execute_result"
    }
   ],
   "source": [
    "high_cooks"
   ]
  },
  {
   "cell_type": "code",
   "execution_count": 127,
   "metadata": {},
   "outputs": [],
   "source": [
    "pos = []\n",
    "\n",
    "for i in high_cooks:\n",
    "    pos.append(np.where(cooks == i))"
   ]
  },
  {
   "cell_type": "code",
   "execution_count": 128,
   "metadata": {},
   "outputs": [
    {
     "data": {
      "text/plain": [
       "array([2.88212413])"
      ]
     },
     "execution_count": 128,
     "metadata": {},
     "output_type": "execute_result"
    }
   ],
   "source": [
    "high_cooks"
   ]
  },
  {
   "cell_type": "code",
   "execution_count": 129,
   "metadata": {},
   "outputs": [
    {
     "data": {
      "text/plain": [
       "[(array([53], dtype=int64),)]"
      ]
     },
     "execution_count": 129,
     "metadata": {},
     "output_type": "execute_result"
    }
   ],
   "source": [
    "pos"
   ]
  },
  {
   "cell_type": "code",
   "execution_count": 133,
   "metadata": {},
   "outputs": [
    {
     "data": {
      "text/html": [
       "<div>\n",
       "<style scoped>\n",
       "    .dataframe tbody tr th:only-of-type {\n",
       "        vertical-align: middle;\n",
       "    }\n",
       "\n",
       "    .dataframe tbody tr th {\n",
       "        vertical-align: top;\n",
       "    }\n",
       "\n",
       "    .dataframe thead th {\n",
       "        text-align: right;\n",
       "    }\n",
       "</style>\n",
       "<table border=\"1\" class=\"dataframe\">\n",
       "  <thead>\n",
       "    <tr style=\"text-align: right;\">\n",
       "      <th></th>\n",
       "      <th>SIXERS</th>\n",
       "      <th>COUNTRY_ENG</th>\n",
       "      <th>COUNTRY_IND</th>\n",
       "      <th>CAPTAINCY EXP_1</th>\n",
       "    </tr>\n",
       "  </thead>\n",
       "  <tbody>\n",
       "    <tr>\n",
       "      <td>53</td>\n",
       "      <td>1</td>\n",
       "      <td>0</td>\n",
       "      <td>0</td>\n",
       "      <td>0</td>\n",
       "    </tr>\n",
       "  </tbody>\n",
       "</table>\n",
       "</div>"
      ],
      "text/plain": [
       "    SIXERS  COUNTRY_ENG  COUNTRY_IND  CAPTAINCY EXP_1\n",
       "53       1            0            0                0"
      ]
     },
     "execution_count": 133,
     "metadata": {},
     "output_type": "execute_result"
    }
   ],
   "source": [
    "train_X_new[train_X_new.index.isin([53])]"
   ]
  },
  {
   "cell_type": "code",
   "execution_count": 134,
   "metadata": {},
   "outputs": [],
   "source": [
    "train_X_new_cooks = train_X_new.drop([53], axis = 0)\n",
    "train_y_new_cooks = train_y_new.drop([53], axis = 0)"
   ]
  },
  {
   "cell_type": "code",
   "execution_count": 135,
   "metadata": {},
   "outputs": [
    {
     "data": {
      "text/html": [
       "<table class=\"simpletable\">\n",
       "<tr>\n",
       "          <td>Model:</td>                 <td>OLS</td>       <td>Adj. R-squared (uncentered):</td>    <td>0.710</td>  \n",
       "</tr>\n",
       "<tr>\n",
       "    <td>Dependent Variable:</td>      <td>SOLD PRICE</td>                <td>AIC:</td>              <td>2843.4147</td>\n",
       "</tr>\n",
       "<tr>\n",
       "           <td>Date:</td>          <td>2022-07-18 17:03</td>             <td>BIC:</td>              <td>2853.8354</td>\n",
       "</tr>\n",
       "<tr>\n",
       "     <td>No. Observations:</td>           <td>100</td>              <td>Log-Likelihood:</td>         <td>-1417.7</td> \n",
       "</tr>\n",
       "<tr>\n",
       "         <td>Df Model:</td>                <td>4</td>                <td>F-statistic:</td>            <td>62.25</td>  \n",
       "</tr>\n",
       "<tr>\n",
       "       <td>Df Residuals:</td>             <td>96</td>             <td>Prob (F-statistic):</td>      <td>7.68e-26</td> \n",
       "</tr>\n",
       "<tr>\n",
       "  <td>R-squared (uncentered):</td>       <td>0.722</td>                 <td>Scale:</td>            <td>1.2569e+11</td>\n",
       "</tr>\n",
       "</table>\n",
       "<table class=\"simpletable\">\n",
       "<tr>\n",
       "         <td></td>            <th>Coef.</th>     <th>Std.Err.</th>      <th>t</th>    <th>P>|t|</th>   <th>[0.025</th>       <th>0.975]</th>   \n",
       "</tr>\n",
       "<tr>\n",
       "  <th>SIXERS</th>          <td>10025.8322</td>   <td>1777.9842</td>  <td>5.6389</td> <td>0.0000</td>  <td>6496.5615</td>   <td>13555.1030</td> \n",
       "</tr>\n",
       "<tr>\n",
       "  <th>COUNTRY_ENG</th>     <td>945420.5111</td> <td>360902.3577</td> <td>2.6196</td> <td>0.0102</td> <td>229034.9931</td> <td>1661806.0290</td>\n",
       "</tr>\n",
       "<tr>\n",
       "  <th>COUNTRY_IND</th>     <td>387969.9837</td> <td>61642.5262</td>  <td>6.2939</td> <td>0.0000</td> <td>265610.5364</td>  <td>510329.4311</td>\n",
       "</tr>\n",
       "<tr>\n",
       "  <th>CAPTAINCY EXP_1</th> <td>303804.5217</td> <td>75931.9271</td>  <td>4.0010</td> <td>0.0001</td> <td>153080.8377</td>  <td>454528.2057</td>\n",
       "</tr>\n",
       "</table>\n",
       "<table class=\"simpletable\">\n",
       "<tr>\n",
       "     <td>Omnibus:</td>    <td>1.672</td>  <td>Durbin-Watson:</td>   <td>2.204</td>\n",
       "</tr>\n",
       "<tr>\n",
       "  <td>Prob(Omnibus):</td> <td>0.433</td> <td>Jarque-Bera (JB):</td> <td>1.210</td>\n",
       "</tr>\n",
       "<tr>\n",
       "       <td>Skew:</td>     <td>0.253</td>     <td>Prob(JB):</td>     <td>0.546</td>\n",
       "</tr>\n",
       "<tr>\n",
       "     <td>Kurtosis:</td>   <td>3.186</td>  <td>Condition No.:</td>    <td>266</td> \n",
       "</tr>\n",
       "</table>"
      ],
      "text/plain": [
       "<class 'statsmodels.iolib.summary2.Summary'>\n",
       "\"\"\"\n",
       "                        Results: Ordinary least squares\n",
       "================================================================================\n",
       "Model:                  OLS              Adj. R-squared (uncentered): 0.710     \n",
       "Dependent Variable:     SOLD PRICE       AIC:                         2843.4147 \n",
       "Date:                   2022-07-18 17:03 BIC:                         2853.8354 \n",
       "No. Observations:       100              Log-Likelihood:              -1417.7   \n",
       "Df Model:               4                F-statistic:                 62.25     \n",
       "Df Residuals:           96               Prob (F-statistic):          7.68e-26  \n",
       "R-squared (uncentered): 0.722            Scale:                       1.2569e+11\n",
       "--------------------------------------------------------------------------------\n",
       "                     Coef.      Std.Err.    t    P>|t|     [0.025      0.975]   \n",
       "--------------------------------------------------------------------------------\n",
       "SIXERS             10025.8322   1777.9842 5.6389 0.0000   6496.5615   13555.1030\n",
       "COUNTRY_ENG       945420.5111 360902.3577 2.6196 0.0102 229034.9931 1661806.0290\n",
       "COUNTRY_IND       387969.9837  61642.5262 6.2939 0.0000 265610.5364  510329.4311\n",
       "CAPTAINCY EXP_1   303804.5217  75931.9271 4.0010 0.0001 153080.8377  454528.2057\n",
       "--------------------------------------------------------------------------------\n",
       "Omnibus:                   1.672             Durbin-Watson:                2.204\n",
       "Prob(Omnibus):             0.433             Jarque-Bera (JB):             1.210\n",
       "Skew:                      0.253             Prob(JB):                     0.546\n",
       "Kurtosis:                  3.186             Condition No.:                266  \n",
       "================================================================================\n",
       "\n",
       "\"\"\""
      ]
     },
     "execution_count": 135,
     "metadata": {},
     "output_type": "execute_result"
    }
   ],
   "source": [
    "ipl_model5 = sm.OLS(train_y_new_cooks, train_X_new_cooks).fit()\n",
    "ipl_model5.summary2()"
   ]
  },
  {
   "cell_type": "markdown",
   "metadata": {},
   "source": [
    "### Performance Metrics"
   ]
  },
  {
   "cell_type": "code",
   "execution_count": 136,
   "metadata": {},
   "outputs": [],
   "source": [
    "pred_y = ipl_model5.predict(test_X[train_X_new.columns])"
   ]
  },
  {
   "cell_type": "code",
   "execution_count": 137,
   "metadata": {},
   "outputs": [
    {
     "data": {
      "text/plain": [
       "344643.74875502137"
      ]
     },
     "execution_count": 137,
     "metadata": {},
     "output_type": "execute_result"
    }
   ],
   "source": [
    "np.sqrt(metrics.mean_squared_error(pred_y, test_y))"
   ]
  },
  {
   "cell_type": "code",
   "execution_count": 138,
   "metadata": {},
   "outputs": [
    {
     "data": {
      "text/plain": [
       "0.3421"
      ]
     },
     "execution_count": 138,
     "metadata": {},
     "output_type": "execute_result"
    }
   ],
   "source": [
    "np.round(metrics.r2_score(pred_y, test_y),4)"
   ]
  },
  {
   "cell_type": "markdown",
   "metadata": {},
   "source": [
    "### Transforming Response Variable"
   ]
  },
  {
   "cell_type": "code",
   "execution_count": 139,
   "metadata": {},
   "outputs": [],
   "source": [
    "train_y_new_cooks = np.sqrt(train_y_new_cooks)"
   ]
  },
  {
   "cell_type": "code",
   "execution_count": 140,
   "metadata": {},
   "outputs": [
    {
     "data": {
      "text/html": [
       "<table class=\"simpletable\">\n",
       "<tr>\n",
       "          <td>Model:</td>                 <td>OLS</td>       <td>Adj. R-squared (uncentered):</td>    <td>0.740</td>  \n",
       "</tr>\n",
       "<tr>\n",
       "    <td>Dependent Variable:</td>      <td>SOLD PRICE</td>                <td>AIC:</td>              <td>1469.0142</td>\n",
       "</tr>\n",
       "<tr>\n",
       "           <td>Date:</td>          <td>2022-07-18 17:04</td>             <td>BIC:</td>              <td>1479.4349</td>\n",
       "</tr>\n",
       "<tr>\n",
       "     <td>No. Observations:</td>           <td>100</td>              <td>Log-Likelihood:</td>         <td>-730.51</td> \n",
       "</tr>\n",
       "<tr>\n",
       "         <td>Df Model:</td>                <td>4</td>                <td>F-statistic:</td>            <td>72.14</td>  \n",
       "</tr>\n",
       "<tr>\n",
       "       <td>Df Residuals:</td>             <td>96</td>             <td>Prob (F-statistic):</td>      <td>4.35e-28</td> \n",
       "</tr>\n",
       "<tr>\n",
       "  <td>R-squared (uncentered):</td>       <td>0.750</td>                 <td>Scale:</td>            <td>1.3501e+05</td>\n",
       "</tr>\n",
       "</table>\n",
       "<table class=\"simpletable\">\n",
       "<tr>\n",
       "         <td></td>           <th>Coef.</th>  <th>Std.Err.</th>    <th>t</th>    <th>P>|t|</th>  <th>[0.025</th>    <th>0.975]</th>  \n",
       "</tr>\n",
       "<tr>\n",
       "  <th>SIXERS</th>           <td>9.7205</td>   <td>1.8427</td>  <td>5.2751</td> <td>0.0000</td>  <td>6.0628</td>    <td>13.3782</td> \n",
       "</tr>\n",
       "<tr>\n",
       "  <th>COUNTRY_ENG</th>     <td>573.5235</td> <td>374.0391</td> <td>1.5333</td> <td>0.1285</td> <td>-168.9384</td> <td>1315.9853</td>\n",
       "</tr>\n",
       "<tr>\n",
       "  <th>COUNTRY_IND</th>     <td>489.1303</td>  <td>63.8863</td> <td>7.6563</td> <td>0.0000</td> <td>362.3170</td>  <td>615.9436</td> \n",
       "</tr>\n",
       "<tr>\n",
       "  <th>CAPTAINCY EXP_1</th> <td>379.8518</td>  <td>78.6958</td> <td>4.8268</td> <td>0.0000</td> <td>223.6418</td>  <td>536.0618</td> \n",
       "</tr>\n",
       "</table>\n",
       "<table class=\"simpletable\">\n",
       "<tr>\n",
       "     <td>Omnibus:</td>     <td>0.027</td>  <td>Durbin-Watson:</td>   <td>1.906</td>\n",
       "</tr>\n",
       "<tr>\n",
       "  <td>Prob(Omnibus):</td>  <td>0.986</td> <td>Jarque-Bera (JB):</td> <td>0.031</td>\n",
       "</tr>\n",
       "<tr>\n",
       "       <td>Skew:</td>     <td>-0.019</td>     <td>Prob(JB):</td>     <td>0.984</td>\n",
       "</tr>\n",
       "<tr>\n",
       "     <td>Kurtosis:</td>    <td>2.922</td>  <td>Condition No.:</td>    <td>266</td> \n",
       "</tr>\n",
       "</table>"
      ],
      "text/plain": [
       "<class 'statsmodels.iolib.summary2.Summary'>\n",
       "\"\"\"\n",
       "                        Results: Ordinary least squares\n",
       "================================================================================\n",
       "Model:                  OLS              Adj. R-squared (uncentered): 0.740     \n",
       "Dependent Variable:     SOLD PRICE       AIC:                         1469.0142 \n",
       "Date:                   2022-07-18 17:04 BIC:                         1479.4349 \n",
       "No. Observations:       100              Log-Likelihood:              -730.51   \n",
       "Df Model:               4                F-statistic:                 72.14     \n",
       "Df Residuals:           96               Prob (F-statistic):          4.35e-28  \n",
       "R-squared (uncentered): 0.750            Scale:                       1.3501e+05\n",
       "----------------------------------------------------------------------------------\n",
       "                      Coef.     Std.Err.     t      P>|t|      [0.025      0.975] \n",
       "----------------------------------------------------------------------------------\n",
       "SIXERS                 9.7205     1.8427   5.2751   0.0000      6.0628     13.3782\n",
       "COUNTRY_ENG          573.5235   374.0391   1.5333   0.1285   -168.9384   1315.9853\n",
       "COUNTRY_IND          489.1303    63.8863   7.6563   0.0000    362.3170    615.9436\n",
       "CAPTAINCY EXP_1      379.8518    78.6958   4.8268   0.0000    223.6418    536.0618\n",
       "--------------------------------------------------------------------------------\n",
       "Omnibus:                    0.027             Durbin-Watson:               1.906\n",
       "Prob(Omnibus):              0.986             Jarque-Bera (JB):            0.031\n",
       "Skew:                       -0.019            Prob(JB):                    0.984\n",
       "Kurtosis:                   2.922             Condition No.:               266  \n",
       "================================================================================\n",
       "\n",
       "\"\"\""
      ]
     },
     "execution_count": 140,
     "metadata": {},
     "output_type": "execute_result"
    }
   ],
   "source": [
    "ipl_model6 = sm.OLS(train_y_new_cooks, train_X_new_cooks).fit()\n",
    "ipl_model6.summary2()"
   ]
  },
  {
   "cell_type": "code",
   "execution_count": 141,
   "metadata": {},
   "outputs": [],
   "source": [
    "pred_y = np.power(ipl_model6.predict(test_X[train_X_new_cooks.columns]),2)"
   ]
  },
  {
   "cell_type": "code",
   "execution_count": 142,
   "metadata": {},
   "outputs": [
    {
     "data": {
      "text/plain": [
       "562061.1554670468"
      ]
     },
     "execution_count": 142,
     "metadata": {},
     "output_type": "execute_result"
    }
   ],
   "source": [
    "np.sqrt(metrics.mean_squared_error(pred_y, test_y))"
   ]
  },
  {
   "cell_type": "code",
   "execution_count": 143,
   "metadata": {},
   "outputs": [
    {
     "data": {
      "text/plain": [
       "0.4232"
      ]
     },
     "execution_count": 143,
     "metadata": {},
     "output_type": "execute_result"
    }
   ],
   "source": [
    "np.round(metrics.r2_score(pred_y, test_y),4)"
   ]
  },
  {
   "cell_type": "markdown",
   "metadata": {},
   "source": [
    "The presence of auto-correlation can be established using the Durbin−Watson test. \n",
    "As a thumb rule, a Durbin−Watson statistic close to 2 would\n",
    "imply the absence of autocorrelation. The model summary shows that the\n",
    "Durbin−Watson statistics value is 1.9, which is less than 2; hence it can be concluded \n",
    "that the error terms are not auto-correlated. Note that auto-correlation is more\n",
    "relevant in the case of time-series data."
   ]
  },
  {
   "cell_type": "code",
   "execution_count": null,
   "metadata": {},
   "outputs": [],
   "source": []
  },
  {
   "cell_type": "code",
   "execution_count": null,
   "metadata": {},
   "outputs": [],
   "source": []
  },
  {
   "cell_type": "code",
   "execution_count": null,
   "metadata": {},
   "outputs": [],
   "source": []
  },
  {
   "cell_type": "code",
   "execution_count": null,
   "metadata": {},
   "outputs": [],
   "source": []
  },
  {
   "cell_type": "code",
   "execution_count": null,
   "metadata": {},
   "outputs": [],
   "source": []
  },
  {
   "cell_type": "code",
   "execution_count": null,
   "metadata": {},
   "outputs": [],
   "source": []
  },
  {
   "cell_type": "code",
   "execution_count": null,
   "metadata": {},
   "outputs": [],
   "source": []
  },
  {
   "cell_type": "code",
   "execution_count": null,
   "metadata": {},
   "outputs": [],
   "source": []
  },
  {
   "cell_type": "code",
   "execution_count": null,
   "metadata": {},
   "outputs": [],
   "source": []
  },
  {
   "cell_type": "code",
   "execution_count": null,
   "metadata": {},
   "outputs": [],
   "source": []
  },
  {
   "cell_type": "code",
   "execution_count": null,
   "metadata": {},
   "outputs": [],
   "source": []
  },
  {
   "cell_type": "code",
   "execution_count": null,
   "metadata": {},
   "outputs": [],
   "source": []
  },
  {
   "cell_type": "code",
   "execution_count": null,
   "metadata": {},
   "outputs": [],
   "source": []
  },
  {
   "cell_type": "code",
   "execution_count": null,
   "metadata": {},
   "outputs": [],
   "source": []
  },
  {
   "cell_type": "code",
   "execution_count": null,
   "metadata": {},
   "outputs": [],
   "source": []
  }
 ],
 "metadata": {
  "kernelspec": {
   "display_name": "Python 3 (ipykernel)",
   "language": "python",
   "name": "python3"
  },
  "language_info": {
   "codemirror_mode": {
    "name": "ipython",
    "version": 3
   },
   "file_extension": ".py",
   "mimetype": "text/x-python",
   "name": "python",
   "nbconvert_exporter": "python",
   "pygments_lexer": "ipython3",
   "version": "3.9.12"
  }
 },
 "nbformat": 4,
 "nbformat_minor": 2
}
