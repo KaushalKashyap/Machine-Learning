{
 "cells": [
  {
   "cell_type": "code",
   "execution_count": 37,
   "id": "6be0a3c2",
   "metadata": {},
   "outputs": [],
   "source": [
    "import pandas as pd\n",
    "import numpy as np\n",
    "from sklearn import metrics\n",
    "from sklearn.model_selection import train_test_split\n",
    "from sklearn.linear_model import LinearRegression\n",
    "from sklearn.preprocessing import StandardScaler\n",
    "from sklearn.model_selection import cross_val_score\n",
    "from sklearn.linear_model import Lasso, LassoCV\n",
    "from sklearn.linear_model import Ridge, RidgeCV\n",
    "from sklearn.linear_model import ElasticNet, ElasticNetCV\n",
    "from sklearn.model_selection import GridSearchCV\n",
    "import warnings\n",
    "warnings.filterwarnings('ignore')\n",
    "import matplotlib.pyplot as plt"
   ]
  },
  {
   "cell_type": "code",
   "execution_count": 38,
   "id": "4be0fe78",
   "metadata": {},
   "outputs": [
    {
     "data": {
      "text/html": [
       "<div>\n",
       "<style scoped>\n",
       "    .dataframe tbody tr th:only-of-type {\n",
       "        vertical-align: middle;\n",
       "    }\n",
       "\n",
       "    .dataframe tbody tr th {\n",
       "        vertical-align: top;\n",
       "    }\n",
       "\n",
       "    .dataframe thead th {\n",
       "        text-align: right;\n",
       "    }\n",
       "</style>\n",
       "<table border=\"1\" class=\"dataframe\">\n",
       "  <thead>\n",
       "    <tr style=\"text-align: right;\">\n",
       "      <th></th>\n",
       "      <th>TV</th>\n",
       "      <th>Radio</th>\n",
       "      <th>Newspaper</th>\n",
       "      <th>Sales</th>\n",
       "      <th>Unnamed: 4</th>\n",
       "      <th>TV^2</th>\n",
       "      <th>tv.radio</th>\n",
       "      <th>tv.news</th>\n",
       "      <th>radio^2</th>\n",
       "      <th>radio.news</th>\n",
       "      <th>news^2</th>\n",
       "    </tr>\n",
       "  </thead>\n",
       "  <tbody>\n",
       "    <tr>\n",
       "      <th>0</th>\n",
       "      <td>230.1</td>\n",
       "      <td>37.8</td>\n",
       "      <td>69.2</td>\n",
       "      <td>22.1</td>\n",
       "      <td>NaN</td>\n",
       "      <td>52,946</td>\n",
       "      <td>8,698</td>\n",
       "      <td>15,923</td>\n",
       "      <td>1,429</td>\n",
       "      <td>2,616</td>\n",
       "      <td>4,789</td>\n",
       "    </tr>\n",
       "    <tr>\n",
       "      <th>1</th>\n",
       "      <td>44.5</td>\n",
       "      <td>39.3</td>\n",
       "      <td>45.1</td>\n",
       "      <td>10.4</td>\n",
       "      <td>NaN</td>\n",
       "      <td>NaN</td>\n",
       "      <td>NaN</td>\n",
       "      <td>NaN</td>\n",
       "      <td>NaN</td>\n",
       "      <td>NaN</td>\n",
       "      <td>NaN</td>\n",
       "    </tr>\n",
       "    <tr>\n",
       "      <th>2</th>\n",
       "      <td>17.2</td>\n",
       "      <td>45.9</td>\n",
       "      <td>69.3</td>\n",
       "      <td>9.3</td>\n",
       "      <td>NaN</td>\n",
       "      <td>NaN</td>\n",
       "      <td>NaN</td>\n",
       "      <td>NaN</td>\n",
       "      <td>NaN</td>\n",
       "      <td>NaN</td>\n",
       "      <td>NaN</td>\n",
       "    </tr>\n",
       "    <tr>\n",
       "      <th>3</th>\n",
       "      <td>151.5</td>\n",
       "      <td>41.3</td>\n",
       "      <td>58.5</td>\n",
       "      <td>18.5</td>\n",
       "      <td>NaN</td>\n",
       "      <td>NaN</td>\n",
       "      <td>NaN</td>\n",
       "      <td>NaN</td>\n",
       "      <td>NaN</td>\n",
       "      <td>NaN</td>\n",
       "      <td>NaN</td>\n",
       "    </tr>\n",
       "    <tr>\n",
       "      <th>4</th>\n",
       "      <td>180.8</td>\n",
       "      <td>10.8</td>\n",
       "      <td>58.4</td>\n",
       "      <td>12.9</td>\n",
       "      <td>NaN</td>\n",
       "      <td>NaN</td>\n",
       "      <td>NaN</td>\n",
       "      <td>NaN</td>\n",
       "      <td>NaN</td>\n",
       "      <td>NaN</td>\n",
       "      <td>NaN</td>\n",
       "    </tr>\n",
       "  </tbody>\n",
       "</table>\n",
       "</div>"
      ],
      "text/plain": [
       "      TV  Radio  Newspaper  Sales  Unnamed: 4      TV^2 tv.radio   tv.news  \\\n",
       "0  230.1   37.8       69.2   22.1         NaN   52,946    8,698    15,923    \n",
       "1   44.5   39.3       45.1   10.4         NaN       NaN      NaN       NaN   \n",
       "2   17.2   45.9       69.3    9.3         NaN       NaN      NaN       NaN   \n",
       "3  151.5   41.3       58.5   18.5         NaN       NaN      NaN       NaN   \n",
       "4  180.8   10.8       58.4   12.9         NaN       NaN      NaN       NaN   \n",
       "\n",
       "   radio^2 radio.news   news^2  \n",
       "0   1,429      2,616    4,789   \n",
       "1      NaN        NaN      NaN  \n",
       "2      NaN        NaN      NaN  \n",
       "3      NaN        NaN      NaN  \n",
       "4      NaN        NaN      NaN  "
      ]
     },
     "execution_count": 38,
     "metadata": {},
     "output_type": "execute_result"
    }
   ],
   "source": [
    "sales_df = pd.read_csv('Advertising.csv')\n",
    "sales_df.head()"
   ]
  },
  {
   "cell_type": "code",
   "execution_count": 39,
   "id": "7776ce2d",
   "metadata": {},
   "outputs": [],
   "source": [
    "X = sales_df[['TV', 'Radio', 'Newspaper']]\n",
    "y = sales_df['Sales']"
   ]
  },
  {
   "cell_type": "code",
   "execution_count": 40,
   "id": "62736659",
   "metadata": {},
   "outputs": [],
   "source": [
    "# X = X.apply(lambda rec: (rec - rec.mean())/rec.std(), axis= 0)\n",
    "# y = np.array((y - y.mean())/y.std())"
   ]
  },
  {
   "cell_type": "code",
   "execution_count": 41,
   "id": "e54a6a70",
   "metadata": {},
   "outputs": [
    {
     "data": {
      "text/html": [
       "<div>\n",
       "<style scoped>\n",
       "    .dataframe tbody tr th:only-of-type {\n",
       "        vertical-align: middle;\n",
       "    }\n",
       "\n",
       "    .dataframe tbody tr th {\n",
       "        vertical-align: top;\n",
       "    }\n",
       "\n",
       "    .dataframe thead th {\n",
       "        text-align: right;\n",
       "    }\n",
       "</style>\n",
       "<table border=\"1\" class=\"dataframe\">\n",
       "  <thead>\n",
       "    <tr style=\"text-align: right;\">\n",
       "      <th></th>\n",
       "      <th>TV</th>\n",
       "      <th>Radio</th>\n",
       "      <th>Newspaper</th>\n",
       "    </tr>\n",
       "  </thead>\n",
       "  <tbody>\n",
       "    <tr>\n",
       "      <th>0</th>\n",
       "      <td>230.1</td>\n",
       "      <td>37.8</td>\n",
       "      <td>69.2</td>\n",
       "    </tr>\n",
       "    <tr>\n",
       "      <th>1</th>\n",
       "      <td>44.5</td>\n",
       "      <td>39.3</td>\n",
       "      <td>45.1</td>\n",
       "    </tr>\n",
       "    <tr>\n",
       "      <th>2</th>\n",
       "      <td>17.2</td>\n",
       "      <td>45.9</td>\n",
       "      <td>69.3</td>\n",
       "    </tr>\n",
       "    <tr>\n",
       "      <th>3</th>\n",
       "      <td>151.5</td>\n",
       "      <td>41.3</td>\n",
       "      <td>58.5</td>\n",
       "    </tr>\n",
       "    <tr>\n",
       "      <th>4</th>\n",
       "      <td>180.8</td>\n",
       "      <td>10.8</td>\n",
       "      <td>58.4</td>\n",
       "    </tr>\n",
       "    <tr>\n",
       "      <th>...</th>\n",
       "      <td>...</td>\n",
       "      <td>...</td>\n",
       "      <td>...</td>\n",
       "    </tr>\n",
       "    <tr>\n",
       "      <th>195</th>\n",
       "      <td>38.2</td>\n",
       "      <td>3.7</td>\n",
       "      <td>13.8</td>\n",
       "    </tr>\n",
       "    <tr>\n",
       "      <th>196</th>\n",
       "      <td>94.2</td>\n",
       "      <td>4.9</td>\n",
       "      <td>8.1</td>\n",
       "    </tr>\n",
       "    <tr>\n",
       "      <th>197</th>\n",
       "      <td>177.0</td>\n",
       "      <td>9.3</td>\n",
       "      <td>6.4</td>\n",
       "    </tr>\n",
       "    <tr>\n",
       "      <th>198</th>\n",
       "      <td>283.6</td>\n",
       "      <td>42.0</td>\n",
       "      <td>66.2</td>\n",
       "    </tr>\n",
       "    <tr>\n",
       "      <th>199</th>\n",
       "      <td>232.1</td>\n",
       "      <td>8.6</td>\n",
       "      <td>8.7</td>\n",
       "    </tr>\n",
       "  </tbody>\n",
       "</table>\n",
       "<p>200 rows × 3 columns</p>\n",
       "</div>"
      ],
      "text/plain": [
       "        TV  Radio  Newspaper\n",
       "0    230.1   37.8       69.2\n",
       "1     44.5   39.3       45.1\n",
       "2     17.2   45.9       69.3\n",
       "3    151.5   41.3       58.5\n",
       "4    180.8   10.8       58.4\n",
       "..     ...    ...        ...\n",
       "195   38.2    3.7       13.8\n",
       "196   94.2    4.9        8.1\n",
       "197  177.0    9.3        6.4\n",
       "198  283.6   42.0       66.2\n",
       "199  232.1    8.6        8.7\n",
       "\n",
       "[200 rows x 3 columns]"
      ]
     },
     "execution_count": 41,
     "metadata": {},
     "output_type": "execute_result"
    }
   ],
   "source": [
    "X"
   ]
  },
  {
   "cell_type": "markdown",
   "id": "93535002",
   "metadata": {},
   "source": [
    "### Scikit-Learn Library for Machine Learning"
   ]
  },
  {
   "cell_type": "code",
   "execution_count": 42,
   "id": "a874ded1",
   "metadata": {},
   "outputs": [],
   "source": [
    "X_train, X_test, y_train, y_test = train_test_split(X, y, train_size=0.7, \n",
    "random_state = 42)"
   ]
  },
  {
   "cell_type": "code",
   "execution_count": 43,
   "id": "dd7fef6d",
   "metadata": {},
   "outputs": [
    {
     "data": {
      "text/plain": [
       "140"
      ]
     },
     "execution_count": 43,
     "metadata": {},
     "output_type": "execute_result"
    }
   ],
   "source": [
    "len(X_train)"
   ]
  },
  {
   "cell_type": "code",
   "execution_count": 44,
   "id": "096766d6",
   "metadata": {},
   "outputs": [
    {
     "data": {
      "text/plain": [
       "60"
      ]
     },
     "execution_count": 44,
     "metadata": {},
     "output_type": "execute_result"
    }
   ],
   "source": [
    "len(X_test)"
   ]
  },
  {
   "cell_type": "code",
   "execution_count": 45,
   "id": "0553e4e4",
   "metadata": {},
   "outputs": [
    {
     "data": {
      "text/plain": [
       "LinearRegression()"
      ]
     },
     "execution_count": 45,
     "metadata": {},
     "output_type": "execute_result"
    }
   ],
   "source": [
    "# Initializing the model\n",
    "model = LinearRegression()\n",
    "# Fitting training data to the model\n",
    "model.fit(X_train, y_train)"
   ]
  },
  {
   "cell_type": "code",
   "execution_count": 46,
   "id": "773a1d23",
   "metadata": {},
   "outputs": [
    {
     "data": {
      "text/plain": [
       "2.70894909251591"
      ]
     },
     "execution_count": 46,
     "metadata": {},
     "output_type": "execute_result"
    }
   ],
   "source": [
    "model.intercept_"
   ]
  },
  {
   "cell_type": "code",
   "execution_count": 47,
   "id": "2173a354",
   "metadata": {},
   "outputs": [
    {
     "data": {
      "text/plain": [
       "array([0.04405928, 0.1992875 , 0.00688245])"
      ]
     },
     "execution_count": 47,
     "metadata": {},
     "output_type": "execute_result"
    }
   ],
   "source": [
    "model.coef_"
   ]
  },
  {
   "cell_type": "code",
   "execution_count": 48,
   "id": "4aa1b1be",
   "metadata": {},
   "outputs": [
    {
     "data": {
      "text/plain": [
       "[('TV', 0.0440592809574652),\n",
       " ('Radio', 0.19928749689893954),\n",
       " ('Newspaper', 0.006882452222275456)]"
      ]
     },
     "execution_count": 48,
     "metadata": {},
     "output_type": "execute_result"
    }
   ],
   "source": [
    "# this line is also showing the the coeffients but in the form of the list\n",
    "list((zip(X_train.columns, model.coef_)))"
   ]
  },
  {
   "cell_type": "markdown",
   "id": "f43b9523",
   "metadata": {},
   "source": [
    "Sales = 2.708 + 0.044*TV + 0.199*Radio + 0.006*Newspaper"
   ]
  },
  {
   "cell_type": "code",
   "execution_count": 49,
   "id": "8d06a23c",
   "metadata": {},
   "outputs": [],
   "source": [
    "# Predicting the y value from the test set"
   ]
  },
  {
   "cell_type": "code",
   "execution_count": 50,
   "id": "ea5ac61d",
   "metadata": {},
   "outputs": [],
   "source": [
    "y_pred = model.predict(X_test)"
   ]
  },
  {
   "cell_type": "code",
   "execution_count": 51,
   "id": "7062d2dc",
   "metadata": {},
   "outputs": [],
   "source": [
    "# Creating DataFrame with 3 columns named: actual, predicted and residuals\n",
    "# to store the respective values\n",
    "\n",
    "test_pred_df = pd.DataFrame({'actual': y_test, \n",
    "                             'predicted': np.round(y_pred,2)})"
   ]
  },
  {
   "cell_type": "code",
   "execution_count": 52,
   "id": "04bf81d3",
   "metadata": {},
   "outputs": [
    {
     "data": {
      "text/html": [
       "<div>\n",
       "<style scoped>\n",
       "    .dataframe tbody tr th:only-of-type {\n",
       "        vertical-align: middle;\n",
       "    }\n",
       "\n",
       "    .dataframe tbody tr th {\n",
       "        vertical-align: top;\n",
       "    }\n",
       "\n",
       "    .dataframe thead th {\n",
       "        text-align: right;\n",
       "    }\n",
       "</style>\n",
       "<table border=\"1\" class=\"dataframe\">\n",
       "  <thead>\n",
       "    <tr style=\"text-align: right;\">\n",
       "      <th></th>\n",
       "      <th>actual</th>\n",
       "      <th>predicted</th>\n",
       "    </tr>\n",
       "  </thead>\n",
       "  <tbody>\n",
       "    <tr>\n",
       "      <th>95</th>\n",
       "      <td>16.9</td>\n",
       "      <td>16.57</td>\n",
       "    </tr>\n",
       "    <tr>\n",
       "      <th>15</th>\n",
       "      <td>22.4</td>\n",
       "      <td>21.19</td>\n",
       "    </tr>\n",
       "    <tr>\n",
       "      <th>30</th>\n",
       "      <td>21.4</td>\n",
       "      <td>21.55</td>\n",
       "    </tr>\n",
       "    <tr>\n",
       "      <th>158</th>\n",
       "      <td>7.3</td>\n",
       "      <td>10.89</td>\n",
       "    </tr>\n",
       "    <tr>\n",
       "      <th>128</th>\n",
       "      <td>24.7</td>\n",
       "      <td>22.20</td>\n",
       "    </tr>\n",
       "    <tr>\n",
       "      <th>115</th>\n",
       "      <td>12.6</td>\n",
       "      <td>13.36</td>\n",
       "    </tr>\n",
       "    <tr>\n",
       "      <th>69</th>\n",
       "      <td>22.3</td>\n",
       "      <td>21.20</td>\n",
       "    </tr>\n",
       "    <tr>\n",
       "      <th>170</th>\n",
       "      <td>8.4</td>\n",
       "      <td>7.35</td>\n",
       "    </tr>\n",
       "    <tr>\n",
       "      <th>174</th>\n",
       "      <td>11.5</td>\n",
       "      <td>13.28</td>\n",
       "    </tr>\n",
       "    <tr>\n",
       "      <th>45</th>\n",
       "      <td>14.9</td>\n",
       "      <td>15.12</td>\n",
       "    </tr>\n",
       "    <tr>\n",
       "      <th>66</th>\n",
       "      <td>9.5</td>\n",
       "      <td>9.01</td>\n",
       "    </tr>\n",
       "    <tr>\n",
       "      <th>182</th>\n",
       "      <td>8.7</td>\n",
       "      <td>6.53</td>\n",
       "    </tr>\n",
       "    <tr>\n",
       "      <th>165</th>\n",
       "      <td>11.9</td>\n",
       "      <td>14.30</td>\n",
       "    </tr>\n",
       "    <tr>\n",
       "      <th>78</th>\n",
       "      <td>5.3</td>\n",
       "      <td>8.97</td>\n",
       "    </tr>\n",
       "    <tr>\n",
       "      <th>186</th>\n",
       "      <td>10.3</td>\n",
       "      <td>9.46</td>\n",
       "    </tr>\n",
       "    <tr>\n",
       "      <th>177</th>\n",
       "      <td>11.7</td>\n",
       "      <td>12.00</td>\n",
       "    </tr>\n",
       "    <tr>\n",
       "      <th>56</th>\n",
       "      <td>5.5</td>\n",
       "      <td>8.92</td>\n",
       "    </tr>\n",
       "    <tr>\n",
       "      <th>152</th>\n",
       "      <td>16.6</td>\n",
       "      <td>16.16</td>\n",
       "    </tr>\n",
       "    <tr>\n",
       "      <th>82</th>\n",
       "      <td>11.3</td>\n",
       "      <td>10.30</td>\n",
       "    </tr>\n",
       "    <tr>\n",
       "      <th>68</th>\n",
       "      <td>18.9</td>\n",
       "      <td>18.72</td>\n",
       "    </tr>\n",
       "    <tr>\n",
       "      <th>124</th>\n",
       "      <td>19.7</td>\n",
       "      <td>19.77</td>\n",
       "    </tr>\n",
       "    <tr>\n",
       "      <th>16</th>\n",
       "      <td>12.5</td>\n",
       "      <td>13.77</td>\n",
       "    </tr>\n",
       "    <tr>\n",
       "      <th>148</th>\n",
       "      <td>10.9</td>\n",
       "      <td>12.50</td>\n",
       "    </tr>\n",
       "    <tr>\n",
       "      <th>93</th>\n",
       "      <td>22.2</td>\n",
       "      <td>21.54</td>\n",
       "    </tr>\n",
       "    <tr>\n",
       "      <th>65</th>\n",
       "      <td>9.3</td>\n",
       "      <td>7.61</td>\n",
       "    </tr>\n",
       "    <tr>\n",
       "      <th>60</th>\n",
       "      <td>8.1</td>\n",
       "      <td>5.61</td>\n",
       "    </tr>\n",
       "    <tr>\n",
       "      <th>84</th>\n",
       "      <td>21.7</td>\n",
       "      <td>20.92</td>\n",
       "    </tr>\n",
       "    <tr>\n",
       "      <th>67</th>\n",
       "      <td>13.4</td>\n",
       "      <td>11.81</td>\n",
       "    </tr>\n",
       "    <tr>\n",
       "      <th>125</th>\n",
       "      <td>10.6</td>\n",
       "      <td>9.08</td>\n",
       "    </tr>\n",
       "    <tr>\n",
       "      <th>132</th>\n",
       "      <td>5.7</td>\n",
       "      <td>8.51</td>\n",
       "    </tr>\n",
       "    <tr>\n",
       "      <th>9</th>\n",
       "      <td>10.6</td>\n",
       "      <td>12.18</td>\n",
       "    </tr>\n",
       "    <tr>\n",
       "      <th>18</th>\n",
       "      <td>11.3</td>\n",
       "      <td>9.97</td>\n",
       "    </tr>\n",
       "    <tr>\n",
       "      <th>55</th>\n",
       "      <td>23.7</td>\n",
       "      <td>21.73</td>\n",
       "    </tr>\n",
       "    <tr>\n",
       "      <th>75</th>\n",
       "      <td>8.7</td>\n",
       "      <td>12.78</td>\n",
       "    </tr>\n",
       "    <tr>\n",
       "      <th>150</th>\n",
       "      <td>16.1</td>\n",
       "      <td>18.10</td>\n",
       "    </tr>\n",
       "    <tr>\n",
       "      <th>104</th>\n",
       "      <td>20.7</td>\n",
       "      <td>20.08</td>\n",
       "    </tr>\n",
       "    <tr>\n",
       "      <th>135</th>\n",
       "      <td>11.6</td>\n",
       "      <td>14.26</td>\n",
       "    </tr>\n",
       "    <tr>\n",
       "      <th>137</th>\n",
       "      <td>20.8</td>\n",
       "      <td>20.94</td>\n",
       "    </tr>\n",
       "    <tr>\n",
       "      <th>164</th>\n",
       "      <td>11.9</td>\n",
       "      <td>10.84</td>\n",
       "    </tr>\n",
       "    <tr>\n",
       "      <th>76</th>\n",
       "      <td>6.9</td>\n",
       "      <td>4.38</td>\n",
       "    </tr>\n",
       "    <tr>\n",
       "      <th>79</th>\n",
       "      <td>11.0</td>\n",
       "      <td>9.51</td>\n",
       "    </tr>\n",
       "    <tr>\n",
       "      <th>197</th>\n",
       "      <td>12.8</td>\n",
       "      <td>12.40</td>\n",
       "    </tr>\n",
       "    <tr>\n",
       "      <th>38</th>\n",
       "      <td>10.1</td>\n",
       "      <td>10.17</td>\n",
       "    </tr>\n",
       "    <tr>\n",
       "      <th>24</th>\n",
       "      <td>9.7</td>\n",
       "      <td>8.09</td>\n",
       "    </tr>\n",
       "    <tr>\n",
       "      <th>122</th>\n",
       "      <td>11.6</td>\n",
       "      <td>13.16</td>\n",
       "    </tr>\n",
       "    <tr>\n",
       "      <th>195</th>\n",
       "      <td>7.6</td>\n",
       "      <td>5.22</td>\n",
       "    </tr>\n",
       "    <tr>\n",
       "      <th>29</th>\n",
       "      <td>10.5</td>\n",
       "      <td>9.29</td>\n",
       "    </tr>\n",
       "    <tr>\n",
       "      <th>19</th>\n",
       "      <td>14.6</td>\n",
       "      <td>14.09</td>\n",
       "    </tr>\n",
       "    <tr>\n",
       "      <th>143</th>\n",
       "      <td>10.4</td>\n",
       "      <td>8.69</td>\n",
       "    </tr>\n",
       "    <tr>\n",
       "      <th>86</th>\n",
       "      <td>12.0</td>\n",
       "      <td>11.66</td>\n",
       "    </tr>\n",
       "    <tr>\n",
       "      <th>114</th>\n",
       "      <td>14.6</td>\n",
       "      <td>15.72</td>\n",
       "    </tr>\n",
       "    <tr>\n",
       "      <th>173</th>\n",
       "      <td>11.7</td>\n",
       "      <td>11.63</td>\n",
       "    </tr>\n",
       "    <tr>\n",
       "      <th>5</th>\n",
       "      <td>7.2</td>\n",
       "      <td>13.35</td>\n",
       "    </tr>\n",
       "    <tr>\n",
       "      <th>126</th>\n",
       "      <td>6.6</td>\n",
       "      <td>11.15</td>\n",
       "    </tr>\n",
       "    <tr>\n",
       "      <th>117</th>\n",
       "      <td>9.4</td>\n",
       "      <td>6.34</td>\n",
       "    </tr>\n",
       "    <tr>\n",
       "      <th>73</th>\n",
       "      <td>11.0</td>\n",
       "      <td>9.76</td>\n",
       "    </tr>\n",
       "    <tr>\n",
       "      <th>140</th>\n",
       "      <td>10.9</td>\n",
       "      <td>9.42</td>\n",
       "    </tr>\n",
       "    <tr>\n",
       "      <th>98</th>\n",
       "      <td>25.4</td>\n",
       "      <td>24.26</td>\n",
       "    </tr>\n",
       "    <tr>\n",
       "      <th>172</th>\n",
       "      <td>7.6</td>\n",
       "      <td>7.70</td>\n",
       "    </tr>\n",
       "    <tr>\n",
       "      <th>96</th>\n",
       "      <td>11.7</td>\n",
       "      <td>12.15</td>\n",
       "    </tr>\n",
       "  </tbody>\n",
       "</table>\n",
       "</div>"
      ],
      "text/plain": [
       "     actual  predicted\n",
       "95     16.9      16.57\n",
       "15     22.4      21.19\n",
       "30     21.4      21.55\n",
       "158     7.3      10.89\n",
       "128    24.7      22.20\n",
       "115    12.6      13.36\n",
       "69     22.3      21.20\n",
       "170     8.4       7.35\n",
       "174    11.5      13.28\n",
       "45     14.9      15.12\n",
       "66      9.5       9.01\n",
       "182     8.7       6.53\n",
       "165    11.9      14.30\n",
       "78      5.3       8.97\n",
       "186    10.3       9.46\n",
       "177    11.7      12.00\n",
       "56      5.5       8.92\n",
       "152    16.6      16.16\n",
       "82     11.3      10.30\n",
       "68     18.9      18.72\n",
       "124    19.7      19.77\n",
       "16     12.5      13.77\n",
       "148    10.9      12.50\n",
       "93     22.2      21.54\n",
       "65      9.3       7.61\n",
       "60      8.1       5.61\n",
       "84     21.7      20.92\n",
       "67     13.4      11.81\n",
       "125    10.6       9.08\n",
       "132     5.7       8.51\n",
       "9      10.6      12.18\n",
       "18     11.3       9.97\n",
       "55     23.7      21.73\n",
       "75      8.7      12.78\n",
       "150    16.1      18.10\n",
       "104    20.7      20.08\n",
       "135    11.6      14.26\n",
       "137    20.8      20.94\n",
       "164    11.9      10.84\n",
       "76      6.9       4.38\n",
       "79     11.0       9.51\n",
       "197    12.8      12.40\n",
       "38     10.1      10.17\n",
       "24      9.7       8.09\n",
       "122    11.6      13.16\n",
       "195     7.6       5.22\n",
       "29     10.5       9.29\n",
       "19     14.6      14.09\n",
       "143    10.4       8.69\n",
       "86     12.0      11.66\n",
       "114    14.6      15.72\n",
       "173    11.7      11.63\n",
       "5       7.2      13.35\n",
       "126     6.6      11.15\n",
       "117     9.4       6.34\n",
       "73     11.0       9.76\n",
       "140    10.9       9.42\n",
       "98     25.4      24.26\n",
       "172     7.6       7.70\n",
       "96     11.7      12.15"
      ]
     },
     "execution_count": 52,
     "metadata": {},
     "output_type": "execute_result"
    }
   ],
   "source": [
    "test_pred_df"
   ]
  },
  {
   "cell_type": "markdown",
   "id": "96bec25a",
   "metadata": {},
   "source": [
    "# below we are checking if the Coefficients are high or not"
   ]
  },
  {
   "cell_type": "markdown",
   "id": "81912374",
   "metadata": {},
   "source": [
    "Here below are the 2 line which if you compare the both R2score for x_train and x_test . you can see the output have very small gap . which means the coefficients are not high"
   ]
  },
  {
   "cell_type": "code",
   "execution_count": 53,
   "id": "94eeadc0",
   "metadata": {},
   "outputs": [
    {
     "name": "stdout",
     "output_type": "stream",
     "text": [
      "R Squared:  0.9055159502227753\n"
     ]
    }
   ],
   "source": [
    "# y_train contains the actual value and the predicted value is\n",
    "# returned from predict() method after passing the X values of the\n",
    "# training data.\n",
    "\n",
    "r2 = metrics.r2_score(y_train, model.predict(X_train))\n",
    "print('R Squared: ', r2)"
   ]
  },
  {
   "cell_type": "code",
   "execution_count": 54,
   "id": "41fc5e54",
   "metadata": {},
   "outputs": [
    {
     "name": "stdout",
     "output_type": "stream",
     "text": [
      "R Squared:  0.8609466508230368\n"
     ]
    }
   ],
   "source": [
    "r2 = metrics.r2_score(y_test, model.predict(X_test))\n",
    "print('R Squared: ', r2)"
   ]
  },
  {
   "cell_type": "code",
   "execution_count": 55,
   "id": "b10ba1f8",
   "metadata": {},
   "outputs": [],
   "source": [
    "# y_pred contains predicted value of test data\n",
    "mse = metrics.mean_squared_error(y_test, y_pred)"
   ]
  },
  {
   "cell_type": "code",
   "execution_count": 56,
   "id": "52f20842",
   "metadata": {},
   "outputs": [
    {
     "name": "stdout",
     "output_type": "stream",
     "text": [
      "RMSE:  1.95\n"
     ]
    }
   ],
   "source": [
    "# Taking square root of MSE and then round off to two decimal values\n",
    "rmse = round(np.sqrt(mse), 2)\n",
    "print('RMSE: ', rmse)"
   ]
  },
  {
   "cell_type": "markdown",
   "id": "0a3982b8",
   "metadata": {},
   "source": [
    "# Till here we have only performed the train data, split , perform predict on train_data and get r2score to confirm the coefficients are not high"
   ]
  },
  {
   "cell_type": "markdown",
   "id": "e58c5d03",
   "metadata": {},
   "source": [
    "### Validation Dataset"
   ]
  },
  {
   "cell_type": "code",
   "execution_count": 57,
   "id": "e871d82f",
   "metadata": {},
   "outputs": [
    {
     "data": {
      "text/html": [
       "<div>\n",
       "<style scoped>\n",
       "    .dataframe tbody tr th:only-of-type {\n",
       "        vertical-align: middle;\n",
       "    }\n",
       "\n",
       "    .dataframe tbody tr th {\n",
       "        vertical-align: top;\n",
       "    }\n",
       "\n",
       "    .dataframe thead th {\n",
       "        text-align: right;\n",
       "    }\n",
       "</style>\n",
       "<table border=\"1\" class=\"dataframe\">\n",
       "  <thead>\n",
       "    <tr style=\"text-align: right;\">\n",
       "      <th></th>\n",
       "      <th>TV</th>\n",
       "      <th>Radio</th>\n",
       "      <th>Newspaper</th>\n",
       "      <th>Sales</th>\n",
       "      <th>Unnamed: 4</th>\n",
       "      <th>TV^2</th>\n",
       "      <th>tv.radio</th>\n",
       "      <th>tv.news</th>\n",
       "      <th>radio^2</th>\n",
       "      <th>radio.news</th>\n",
       "      <th>news^2</th>\n",
       "    </tr>\n",
       "  </thead>\n",
       "  <tbody>\n",
       "    <tr>\n",
       "      <th>0</th>\n",
       "      <td>230.1</td>\n",
       "      <td>37.8</td>\n",
       "      <td>69.2</td>\n",
       "      <td>22.1</td>\n",
       "      <td>NaN</td>\n",
       "      <td>52,946</td>\n",
       "      <td>8,698</td>\n",
       "      <td>15,923</td>\n",
       "      <td>1,429</td>\n",
       "      <td>2,616</td>\n",
       "      <td>4,789</td>\n",
       "    </tr>\n",
       "    <tr>\n",
       "      <th>1</th>\n",
       "      <td>44.5</td>\n",
       "      <td>39.3</td>\n",
       "      <td>45.1</td>\n",
       "      <td>10.4</td>\n",
       "      <td>NaN</td>\n",
       "      <td>NaN</td>\n",
       "      <td>NaN</td>\n",
       "      <td>NaN</td>\n",
       "      <td>NaN</td>\n",
       "      <td>NaN</td>\n",
       "      <td>NaN</td>\n",
       "    </tr>\n",
       "    <tr>\n",
       "      <th>2</th>\n",
       "      <td>17.2</td>\n",
       "      <td>45.9</td>\n",
       "      <td>69.3</td>\n",
       "      <td>9.3</td>\n",
       "      <td>NaN</td>\n",
       "      <td>NaN</td>\n",
       "      <td>NaN</td>\n",
       "      <td>NaN</td>\n",
       "      <td>NaN</td>\n",
       "      <td>NaN</td>\n",
       "      <td>NaN</td>\n",
       "    </tr>\n",
       "    <tr>\n",
       "      <th>3</th>\n",
       "      <td>151.5</td>\n",
       "      <td>41.3</td>\n",
       "      <td>58.5</td>\n",
       "      <td>18.5</td>\n",
       "      <td>NaN</td>\n",
       "      <td>NaN</td>\n",
       "      <td>NaN</td>\n",
       "      <td>NaN</td>\n",
       "      <td>NaN</td>\n",
       "      <td>NaN</td>\n",
       "      <td>NaN</td>\n",
       "    </tr>\n",
       "    <tr>\n",
       "      <th>4</th>\n",
       "      <td>180.8</td>\n",
       "      <td>10.8</td>\n",
       "      <td>58.4</td>\n",
       "      <td>12.9</td>\n",
       "      <td>NaN</td>\n",
       "      <td>NaN</td>\n",
       "      <td>NaN</td>\n",
       "      <td>NaN</td>\n",
       "      <td>NaN</td>\n",
       "      <td>NaN</td>\n",
       "      <td>NaN</td>\n",
       "    </tr>\n",
       "  </tbody>\n",
       "</table>\n",
       "</div>"
      ],
      "text/plain": [
       "      TV  Radio  Newspaper  Sales  Unnamed: 4      TV^2 tv.radio   tv.news  \\\n",
       "0  230.1   37.8       69.2   22.1         NaN   52,946    8,698    15,923    \n",
       "1   44.5   39.3       45.1   10.4         NaN       NaN      NaN       NaN   \n",
       "2   17.2   45.9       69.3    9.3         NaN       NaN      NaN       NaN   \n",
       "3  151.5   41.3       58.5   18.5         NaN       NaN      NaN       NaN   \n",
       "4  180.8   10.8       58.4   12.9         NaN       NaN      NaN       NaN   \n",
       "\n",
       "   radio^2 radio.news   news^2  \n",
       "0   1,429      2,616    4,789   \n",
       "1      NaN        NaN      NaN  \n",
       "2      NaN        NaN      NaN  \n",
       "3      NaN        NaN      NaN  \n",
       "4      NaN        NaN      NaN  "
      ]
     },
     "execution_count": 57,
     "metadata": {},
     "output_type": "execute_result"
    }
   ],
   "source": [
    "sales_df = pd.read_csv('Advertising.csv')\n",
    "sales_df.head()"
   ]
  },
  {
   "cell_type": "markdown",
   "id": "49b85da1",
   "metadata": {},
   "source": [
    "# here we are performing the splitting but not only for train and test data, but for Validation data too."
   ]
  },
  {
   "cell_type": "code",
   "execution_count": 58,
   "id": "b43831b4",
   "metadata": {},
   "outputs": [],
   "source": [
    "# here X_other and Y_other will have 30% of splitted data. \n",
    "X_train, X_other, y_train, y_other = train_test_split(sales_df[['TV', 'Radio',\n",
    "'Newspaper']], sales_df['Sales'], train_size=0.7, random_state = 42)"
   ]
  },
  {
   "cell_type": "code",
   "execution_count": 64,
   "id": "261359ee",
   "metadata": {},
   "outputs": [],
   "source": [
    "# now here we are again splitting that 30% part(X_other,Y_other) of above splitted data into 50%-50%, \n",
    "#X_other,Y_other is splitted into X_eval,X_test,y_eval,y_test\n",
    "# this part splition is for Testing Data and Validation data\n",
    "X_eval, X_test, y_eval, y_test = train_test_split(X_other, y_other, \n",
    "train_size=0.5, random_state = 42)"
   ]
  },
  {
   "cell_type": "code",
   "execution_count": 67,
   "id": "dfb0443d",
   "metadata": {},
   "outputs": [],
   "source": [
    "from sklearn.preprocessing import StandardScaler\n",
    "#  The idea behind StandardScaler is that it will transform your data such that \n",
    "#  its distribution will have a mean value 0 and standard deviation of 1.\n",
    "# (actual value - mean)/standard deviation (aka Z score)\n",
    "# [mean = 0\n",
    "# std = 1]\n",
    "# this is required when the numbers are vey big or datasets are huge or the units in the features are differeent like\n",
    "# kg,heights and cm's."
   ]
  },
  {
   "cell_type": "code",
   "execution_count": 68,
   "id": "b01fe263",
   "metadata": {},
   "outputs": [],
   "source": [
    "# it is standardization (z-score)= X(values & Features)-Mean of X/Standard Deviation of X\n",
    "scaler = StandardScaler()"
   ]
  },
  {
   "cell_type": "code",
   "execution_count": 69,
   "id": "17574440",
   "metadata": {},
   "outputs": [],
   "source": [
    "X_train = scaler.fit_transform(X_train)"
   ]
  },
  {
   "cell_type": "code",
   "execution_count": 70,
   "id": "0759340b",
   "metadata": {},
   "outputs": [],
   "source": [
    "X_test = scaler.transform(X_test)"
   ]
  },
  {
   "cell_type": "code",
   "execution_count": 71,
   "id": "9ec72178",
   "metadata": {},
   "outputs": [],
   "source": [
    "X_eval = scaler.transform(X_eval)"
   ]
  },
  {
   "cell_type": "code",
   "execution_count": 72,
   "id": "3e2ad67a",
   "metadata": {},
   "outputs": [],
   "source": [
    "lm = LinearRegression()"
   ]
  },
  {
   "cell_type": "code",
   "execution_count": 14,
   "id": "14f24bb7",
   "metadata": {},
   "outputs": [
    {
     "data": {
      "text/plain": [
       "LinearRegression()"
      ]
     },
     "execution_count": 14,
     "metadata": {},
     "output_type": "execute_result"
    }
   ],
   "source": [
    "lm.fit(X_train, y_train)"
   ]
  },
  {
   "cell_type": "code",
   "execution_count": 68,
   "id": "94970e56",
   "metadata": {},
   "outputs": [],
   "source": [
    "pred = lm.predict(X_eval)"
   ]
  },
  {
   "cell_type": "code",
   "execution_count": 69,
   "id": "d02ca963",
   "metadata": {},
   "outputs": [
    {
     "data": {
      "text/plain": [
       "2.549038568717419"
      ]
     },
     "execution_count": 69,
     "metadata": {},
     "output_type": "execute_result"
    }
   ],
   "source": [
    "metrics.mean_squared_error(y_eval, pred)"
   ]
  },
  {
   "cell_type": "code",
   "execution_count": 70,
   "id": "6abf58aa",
   "metadata": {},
   "outputs": [],
   "source": [
    "# evaluate and perform usual operations and finally use the test data only once"
   ]
  },
  {
   "cell_type": "markdown",
   "id": "8d110f60",
   "metadata": {},
   "source": [
    "### KFold Validation"
   ]
  },
  {
   "cell_type": "code",
   "execution_count": 79,
   "id": "29db3c29",
   "metadata": {},
   "outputs": [],
   "source": [
    "sales_df = pd.read_csv('Advertising.csv')\n",
    "# Printing first few records\n",
    "sales_df.head()\n",
    "X = sales_df[['TV', 'Radio', 'Newspaper']]\n",
    "y = sales_df['Sales']\n",
    "\n",
    "X_train, X_test, y_train, y_test = train_test_split(X, y, test_size=0.3, random_state=101)"
   ]
  },
  {
   "cell_type": "code",
   "execution_count": 80,
   "id": "c06b5b65",
   "metadata": {},
   "outputs": [],
   "source": [
    "lm = LinearRegression()"
   ]
  },
  {
   "cell_type": "code",
   "execution_count": 81,
   "id": "2a8da3d6",
   "metadata": {},
   "outputs": [],
   "source": [
    "# this Standardization is required when you are performing Cross validation.\n",
    "scaler = StandardScaler()\n",
    "\n",
    "X_train = scaler.fit_transform(X_train)\n",
    "X_test = scaler.transform(X_test)"
   ]
  },
  {
   "cell_type": "code",
   "execution_count": 82,
   "id": "eddfa2c1",
   "metadata": {},
   "outputs": [],
   "source": [
    "# it is nothing but cross validation \n",
    "from sklearn.model_selection import cross_val_score"
   ]
  },
  {
   "cell_type": "code",
   "execution_count": 83,
   "id": "74c48310",
   "metadata": {},
   "outputs": [],
   "source": [
    "#here we are storing scores of crossvalidation in scores ( where its paramter is model(LinearRegression,Training\n",
    "#data,scoring('which kind of score you want to', and the last is how many time you want to perform cross validation)))\n",
    "scores = cross_val_score(lm, X_train, y_train, scoring = 'r2', cv=5)"
   ]
  },
  {
   "cell_type": "code",
   "execution_count": 84,
   "id": "5f6c44c8",
   "metadata": {},
   "outputs": [],
   "source": [
    "# r2 = .75, .85\n",
    "# MSE = -2.5, -3.5"
   ]
  },
  {
   "cell_type": "code",
   "execution_count": 85,
   "id": "0acc9ff8",
   "metadata": {},
   "outputs": [],
   "source": [
    "# this is the library which showing that many kind of scores you can find.\n",
    "from sklearn.metrics import SCORERS"
   ]
  },
  {
   "cell_type": "code",
   "execution_count": 86,
   "id": "c2da912a",
   "metadata": {},
   "outputs": [
    {
     "data": {
      "text/plain": [
       "dict_keys(['explained_variance', 'r2', 'max_error', 'neg_median_absolute_error', 'neg_mean_absolute_error', 'neg_mean_absolute_percentage_error', 'neg_mean_squared_error', 'neg_mean_squared_log_error', 'neg_root_mean_squared_error', 'neg_mean_poisson_deviance', 'neg_mean_gamma_deviance', 'accuracy', 'top_k_accuracy', 'roc_auc', 'roc_auc_ovr', 'roc_auc_ovo', 'roc_auc_ovr_weighted', 'roc_auc_ovo_weighted', 'balanced_accuracy', 'average_precision', 'neg_log_loss', 'neg_brier_score', 'adjusted_rand_score', 'rand_score', 'homogeneity_score', 'completeness_score', 'v_measure_score', 'mutual_info_score', 'adjusted_mutual_info_score', 'normalized_mutual_info_score', 'fowlkes_mallows_score', 'precision', 'precision_macro', 'precision_micro', 'precision_samples', 'precision_weighted', 'recall', 'recall_macro', 'recall_micro', 'recall_samples', 'recall_weighted', 'f1', 'f1_macro', 'f1_micro', 'f1_samples', 'f1_weighted', 'jaccard', 'jaccard_macro', 'jaccard_micro', 'jaccard_samples', 'jaccard_weighted'])"
      ]
     },
     "execution_count": 86,
     "metadata": {},
     "output_type": "execute_result"
    }
   ],
   "source": [
    "# number of score metrics , which you can perform as you want\n",
    "SCORERS.keys()"
   ]
  },
  {
   "cell_type": "code",
   "execution_count": 87,
   "id": "9aeafdae",
   "metadata": {},
   "outputs": [],
   "source": [
    "# https://scikit-learn.org/stable/modules/model_evaluation.html"
   ]
  },
  {
   "cell_type": "code",
   "execution_count": 91,
   "id": "99ddf78e",
   "metadata": {},
   "outputs": [
    {
     "data": {
      "text/plain": [
       "0.8627872839147471"
      ]
     },
     "execution_count": 91,
     "metadata": {},
     "output_type": "execute_result"
    }
   ],
   "source": [
    "# this is the avg r2 score is 86%\n",
    "abs(scores.mean())"
   ]
  },
  {
   "cell_type": "code",
   "execution_count": 92,
   "id": "0945516e",
   "metadata": {},
   "outputs": [
    {
     "data": {
      "text/plain": [
       "array([0.89667066, 0.92803914, 0.80641155, 0.91762366, 0.7651914 ])"
      ]
     },
     "execution_count": 92,
     "metadata": {},
     "output_type": "execute_result"
    }
   ],
   "source": [
    "# if you want to know scores of each fold . Below are the outputs\n",
    "scores"
   ]
  },
  {
   "cell_type": "code",
   "execution_count": 93,
   "id": "dc533692",
   "metadata": {},
   "outputs": [
    {
     "data": {
      "text/plain": [
       "LinearRegression()"
      ]
     },
     "execution_count": 93,
     "metadata": {},
     "output_type": "execute_result"
    }
   ],
   "source": [
    "lm.fit(X_train, y_train)"
   ]
  },
  {
   "cell_type": "code",
   "execution_count": 94,
   "id": "9ce7264a",
   "metadata": {},
   "outputs": [
    {
     "data": {
      "text/plain": [
       "array([ 3.76599021,  2.76548662, -0.00690986])"
      ]
     },
     "execution_count": 94,
     "metadata": {},
     "output_type": "execute_result"
    }
   ],
   "source": [
    "lm.coef_"
   ]
  },
  {
   "cell_type": "code",
   "execution_count": 95,
   "id": "df6c840e",
   "metadata": {},
   "outputs": [],
   "source": [
    "pred = lm.predict(X_test)"
   ]
  },
  {
   "cell_type": "code",
   "execution_count": 96,
   "id": "7b1063fc",
   "metadata": {},
   "outputs": [
    {
     "data": {
      "text/plain": [
       "0.9185780903322446"
      ]
     },
     "execution_count": 96,
     "metadata": {},
     "output_type": "execute_result"
    }
   ],
   "source": [
    "metrics.r2_score(y_test, pred)"
   ]
  },
  {
   "cell_type": "markdown",
   "id": "2010a94c",
   "metadata": {},
   "source": [
    "The choice of k is usually 5 or 10."
   ]
  },
  {
   "cell_type": "markdown",
   "id": "55c916d4",
   "metadata": {},
   "source": [
    "### Lasso Regression"
   ]
  },
  {
   "cell_type": "markdown",
   "id": "67aaa5ff",
   "metadata": {},
   "source": [
    "# L1 Norm"
   ]
  },
  {
   "cell_type": "code",
   "execution_count": 102,
   "id": "64dc8842",
   "metadata": {},
   "outputs": [],
   "source": [
    "# for perform Lasso Regularisation This library should be called\n",
    "from sklearn.linear_model import Lasso"
   ]
  },
  {
   "cell_type": "code",
   "execution_count": 107,
   "id": "7328598a",
   "metadata": {},
   "outputs": [],
   "source": [
    "scaler = StandardScaler()\n",
    "\n",
    "X_train = scaler.fit_transform(X_train)\n",
    "X_test = scaler.transform(X_test)"
   ]
  },
  {
   "cell_type": "code",
   "execution_count": 108,
   "id": "d9b4ae3a",
   "metadata": {},
   "outputs": [],
   "source": [
    "# it is the penality factor represents as alpha\n",
    "lasso_model = Lasso(alpha = 0.01)"
   ]
  },
  {
   "cell_type": "code",
   "execution_count": 109,
   "id": "648f35cf",
   "metadata": {},
   "outputs": [
    {
     "data": {
      "text/plain": [
       "Lasso(alpha=0.01)"
      ]
     },
     "execution_count": 109,
     "metadata": {},
     "output_type": "execute_result"
    }
   ],
   "source": [
    "lasso_model.fit(X_train, y_train)"
   ]
  },
  {
   "cell_type": "code",
   "execution_count": 110,
   "id": "ebc0d49f",
   "metadata": {},
   "outputs": [
    {
     "data": {
      "text/plain": [
       "array([ 3.75598404,  2.7540475 , -0.        ])"
      ]
     },
     "execution_count": 110,
     "metadata": {},
     "output_type": "execute_result"
    }
   ],
   "source": [
    "# here you can see as per concept some coefficient can become zero. Here you can see the last feature is zero after performing lasso.\n",
    "lasso_model.coef_"
   ]
  },
  {
   "cell_type": "code",
   "execution_count": 111,
   "id": "d033e8e0",
   "metadata": {},
   "outputs": [],
   "source": [
    "predict = lasso_model.predict(X_test)"
   ]
  },
  {
   "cell_type": "code",
   "execution_count": 112,
   "id": "7047a3f8",
   "metadata": {},
   "outputs": [
    {
     "data": {
      "text/plain": [
       "0.9182975460753905"
      ]
     },
     "execution_count": 112,
     "metadata": {},
     "output_type": "execute_result"
    }
   ],
   "source": [
    "metrics.r2_score(y_test, predict)"
   ]
  },
  {
   "cell_type": "markdown",
   "id": "c3a20a01",
   "metadata": {},
   "source": [
    "### Lasso with CV"
   ]
  },
  {
   "cell_type": "code",
   "execution_count": 116,
   "id": "7c8aa633",
   "metadata": {},
   "outputs": [],
   "source": [
    "# how will i know that 0.01 is the ideal Lasso penality factor which actually support with all Features\n",
    "# for checking that we will perform Lasso with Cross validation\n",
    "from sklearn.linear_model import LassoCV"
   ]
  },
  {
   "cell_type": "code",
   "execution_count": 119,
   "id": "caf3e8c5",
   "metadata": {},
   "outputs": [],
   "source": [
    "# in here we will given three penality factors randomly and we will perform cross validation on basis of this \n",
    "lassoCV_model = LassoCV(alphas=[.1, 0.01, 10])"
   ]
  },
  {
   "cell_type": "code",
   "execution_count": 120,
   "id": "f3110904",
   "metadata": {},
   "outputs": [
    {
     "data": {
      "text/plain": [
       "LassoCV(alphas=[0.1, 0.01, 10])"
      ]
     },
     "execution_count": 120,
     "metadata": {},
     "output_type": "execute_result"
    }
   ],
   "source": [
    "lassoCV_model.fit(X_train, y_train)"
   ]
  },
  {
   "cell_type": "code",
   "execution_count": 122,
   "id": "fbddb86e",
   "metadata": {},
   "outputs": [
    {
     "data": {
      "text/plain": [
       "0.1"
      ]
     },
     "execution_count": 122,
     "metadata": {},
     "output_type": "execute_result"
    }
   ],
   "source": [
    "# upside we fit the model with features and the model chooses 0.1 as good lasso penality factor which can perform well.\n",
    "lassoCV_model.alpha_"
   ]
  },
  {
   "cell_type": "code",
   "execution_count": 155,
   "id": "e5879903",
   "metadata": {},
   "outputs": [],
   "source": [
    "predict = lassoCV_model.predict(X_test)"
   ]
  },
  {
   "cell_type": "code",
   "execution_count": 156,
   "id": "b7fcaf6d",
   "metadata": {},
   "outputs": [
    {
     "data": {
      "text/plain": [
       "0.915438906791447"
      ]
     },
     "execution_count": 156,
     "metadata": {},
     "output_type": "execute_result"
    }
   ],
   "source": [
    "metrics.r2_score(y_test, predict)"
   ]
  },
  {
   "cell_type": "code",
   "execution_count": 124,
   "id": "e7bc935d",
   "metadata": {},
   "outputs": [],
   "source": [
    "# or set alpha to automatic( here we don't need to give penality factors. just tell machine to choose 1000 penality\n",
    "# factors randomly and based on that fit to find good suitable one.)"
   ]
  },
  {
   "cell_type": "code",
   "execution_count": 126,
   "id": "ac1f8b7f",
   "metadata": {},
   "outputs": [],
   "source": [
    "lassoCV_model = LassoCV(n_alphas=1000)"
   ]
  },
  {
   "cell_type": "code",
   "execution_count": 127,
   "id": "f3681016",
   "metadata": {},
   "outputs": [
    {
     "data": {
      "text/plain": [
       "LassoCV(n_alphas=1000)"
      ]
     },
     "execution_count": 127,
     "metadata": {},
     "output_type": "execute_result"
    }
   ],
   "source": [
    "lassoCV_model.fit(X_train, y_train)"
   ]
  },
  {
   "cell_type": "code",
   "execution_count": 131,
   "id": "adada481",
   "metadata": {},
   "outputs": [
    {
     "data": {
      "text/plain": [
       "0.09472651317300003"
      ]
     },
     "execution_count": 131,
     "metadata": {},
     "output_type": "execute_result"
    }
   ],
   "source": [
    "# here are the choosen one which good suitable for performing the model\n",
    "lassoCV_model.alpha_"
   ]
  },
  {
   "cell_type": "code",
   "execution_count": 132,
   "id": "f650f57a",
   "metadata": {},
   "outputs": [],
   "source": [
    "predict = lassoCV_model.predict(X_test)"
   ]
  },
  {
   "cell_type": "code",
   "execution_count": 133,
   "id": "da54f82f",
   "metadata": {},
   "outputs": [
    {
     "data": {
      "text/plain": [
       "0.9156366097134607"
      ]
     },
     "execution_count": 133,
     "metadata": {},
     "output_type": "execute_result"
    }
   ],
   "source": [
    "metrics.r2_score(y_test, predict)"
   ]
  },
  {
   "cell_type": "code",
   "execution_count": null,
   "id": "c0dacb60",
   "metadata": {},
   "outputs": [],
   "source": []
  },
  {
   "cell_type": "markdown",
   "id": "a252456c",
   "metadata": {},
   "source": [
    "# L2 Norm"
   ]
  },
  {
   "cell_type": "code",
   "execution_count": 134,
   "id": "e29fe723",
   "metadata": {},
   "outputs": [],
   "source": [
    "# 2nd form of regularization is Ridge\n",
    "from sklearn.linear_model import Ridge"
   ]
  },
  {
   "cell_type": "code",
   "execution_count": 135,
   "id": "2648ec1a",
   "metadata": {},
   "outputs": [],
   "source": [
    "# Same as we previous did. giving the penality factor\n",
    "ridge_model  = Ridge(alpha = .1)"
   ]
  },
  {
   "cell_type": "code",
   "execution_count": 136,
   "id": "c89c6ea1",
   "metadata": {
    "scrolled": true
   },
   "outputs": [
    {
     "data": {
      "text/plain": [
       "Ridge(alpha=0.1)"
      ]
     },
     "execution_count": 136,
     "metadata": {},
     "output_type": "execute_result"
    }
   ],
   "source": [
    "ridge_model.fit(X_train, y_train)"
   ]
  },
  {
   "cell_type": "code",
   "execution_count": 137,
   "id": "bdebd883",
   "metadata": {},
   "outputs": [
    {
     "data": {
      "text/plain": [
       "array([ 3.76333559,  2.76339947, -0.00593674])"
      ]
     },
     "execution_count": 137,
     "metadata": {},
     "output_type": "execute_result"
    }
   ],
   "source": [
    "ridge_model.coef_"
   ]
  },
  {
   "cell_type": "code",
   "execution_count": 138,
   "id": "ec56bafc",
   "metadata": {},
   "outputs": [],
   "source": [
    "predict = ridge_model.predict(X_test)"
   ]
  },
  {
   "cell_type": "code",
   "execution_count": 139,
   "id": "d1b0d402",
   "metadata": {},
   "outputs": [
    {
     "data": {
      "text/plain": [
       "0.918509515975792"
      ]
     },
     "execution_count": 139,
     "metadata": {},
     "output_type": "execute_result"
    }
   ],
   "source": [
    "metrics.r2_score(y_test, predict)"
   ]
  },
  {
   "cell_type": "code",
   "execution_count": 146,
   "id": "d1aff7ac",
   "metadata": {},
   "outputs": [],
   "source": [
    "# change alpha parameter penality factor"
   ]
  },
  {
   "cell_type": "code",
   "execution_count": 147,
   "id": "c8759c03",
   "metadata": {},
   "outputs": [],
   "source": [
    "ridge_model  = Ridge(alpha = 5)"
   ]
  },
  {
   "cell_type": "code",
   "execution_count": 148,
   "id": "3f493675",
   "metadata": {},
   "outputs": [
    {
     "data": {
      "text/plain": [
       "Ridge(alpha=5)"
      ]
     },
     "execution_count": 148,
     "metadata": {},
     "output_type": "execute_result"
    }
   ],
   "source": [
    "ridge_model.fit(X_train, y_train)"
   ]
  },
  {
   "cell_type": "code",
   "execution_count": 149,
   "id": "4384a755",
   "metadata": {},
   "outputs": [
    {
     "data": {
      "text/plain": [
       "array([3.63784885, 2.66537911, 0.03829115])"
      ]
     },
     "execution_count": 149,
     "metadata": {},
     "output_type": "execute_result"
    }
   ],
   "source": [
    "ridge_model.coef_"
   ]
  },
  {
   "cell_type": "code",
   "execution_count": 150,
   "id": "b4ca8946",
   "metadata": {},
   "outputs": [],
   "source": [
    "predict = ridge_model.predict(X_test)"
   ]
  },
  {
   "cell_type": "code",
   "execution_count": 151,
   "id": "1dcb5156",
   "metadata": {},
   "outputs": [
    {
     "data": {
      "text/plain": [
       "0.9142964955815641"
      ]
     },
     "execution_count": 151,
     "metadata": {},
     "output_type": "execute_result"
    }
   ],
   "source": [
    "metrics.r2_score(y_test, predict)"
   ]
  },
  {
   "cell_type": "markdown",
   "id": "02eb91e9",
   "metadata": {},
   "source": [
    "### Ridge with CV"
   ]
  },
  {
   "cell_type": "code",
   "execution_count": 152,
   "id": "0e064652",
   "metadata": {},
   "outputs": [],
   "source": [
    "from sklearn.linear_model import RidgeCV"
   ]
  },
  {
   "cell_type": "code",
   "execution_count": 153,
   "id": "0aa5730b",
   "metadata": {},
   "outputs": [],
   "source": [
    "ridge_modelCV  = RidgeCV(alphas=(0.1, 1.0, 10))"
   ]
  },
  {
   "cell_type": "code",
   "execution_count": 154,
   "id": "71396bc7",
   "metadata": {},
   "outputs": [
    {
     "data": {
      "text/plain": [
       "RidgeCV(alphas=array([ 0.1,  1. , 10. ]))"
      ]
     },
     "execution_count": 154,
     "metadata": {},
     "output_type": "execute_result"
    }
   ],
   "source": [
    "ridge_modelCV.fit(X_train, y_train)"
   ]
  },
  {
   "cell_type": "code",
   "execution_count": 155,
   "id": "c8f19c98",
   "metadata": {},
   "outputs": [],
   "source": [
    "# ridge_modelCV.cv_values_"
   ]
  },
  {
   "cell_type": "code",
   "execution_count": 156,
   "id": "418f007a",
   "metadata": {},
   "outputs": [
    {
     "data": {
      "text/plain": [
       "array([ 3.76333559,  2.76339947, -0.00593674])"
      ]
     },
     "execution_count": 156,
     "metadata": {},
     "output_type": "execute_result"
    }
   ],
   "source": [
    "ridge_modelCV.coef_"
   ]
  },
  {
   "cell_type": "code",
   "execution_count": 157,
   "id": "4e30253c",
   "metadata": {},
   "outputs": [],
   "source": [
    "predict = ridge_modelCV.predict(X_test)"
   ]
  },
  {
   "cell_type": "code",
   "execution_count": 158,
   "id": "c086ed9c",
   "metadata": {},
   "outputs": [
    {
     "data": {
      "text/plain": [
       "0.9185095159757849"
      ]
     },
     "execution_count": 158,
     "metadata": {},
     "output_type": "execute_result"
    }
   ],
   "source": [
    "metrics.r2_score(y_test, predict)"
   ]
  },
  {
   "cell_type": "markdown",
   "id": "55559319",
   "metadata": {},
   "source": [
    "### Elastic Net"
   ]
  },
  {
   "cell_type": "code",
   "execution_count": 159,
   "id": "474a49a6",
   "metadata": {},
   "outputs": [],
   "source": [
    "from sklearn.linear_model import ElasticNet"
   ]
  },
  {
   "cell_type": "code",
   "execution_count": 161,
   "id": "8b4e8879",
   "metadata": {},
   "outputs": [],
   "source": [
    "# Now here 1 extra parameter l1_ratio. as per concept in elastic net you can choose the how much lasso and ridge you want to add.\n",
    "# here if you give l1_ratio as 0.5( ridge is 50). it mean 50% of lasso and 50% of ridge\n",
    "enet = ElasticNet(alpha = .01, l1_ratio = 0.5)"
   ]
  },
  {
   "cell_type": "code",
   "execution_count": 162,
   "id": "fffa1874",
   "metadata": {},
   "outputs": [
    {
     "data": {
      "text/plain": [
       "ElasticNet(alpha=0.01)"
      ]
     },
     "execution_count": 162,
     "metadata": {},
     "output_type": "execute_result"
    }
   ],
   "source": [
    "enet.fit(X_train, y_train)"
   ]
  },
  {
   "cell_type": "code",
   "execution_count": 163,
   "id": "9e61f109",
   "metadata": {},
   "outputs": [],
   "source": [
    "pred = enet.predict(X_test)"
   ]
  },
  {
   "cell_type": "code",
   "execution_count": 164,
   "id": "a05051ae",
   "metadata": {},
   "outputs": [
    {
     "data": {
      "text/plain": [
       "0.9179478260809931"
      ]
     },
     "execution_count": 164,
     "metadata": {},
     "output_type": "execute_result"
    }
   ],
   "source": [
    "metrics.r2_score(y_test, pred)"
   ]
  },
  {
   "cell_type": "markdown",
   "id": "1baecbf4",
   "metadata": {},
   "source": [
    "### Elastic Net with CV"
   ]
  },
  {
   "cell_type": "code",
   "execution_count": 188,
   "id": "6f614dbc",
   "metadata": {},
   "outputs": [],
   "source": [
    "from sklearn.linear_model import ElasticNetCV"
   ]
  },
  {
   "cell_type": "code",
   "execution_count": 165,
   "id": "006d6d52",
   "metadata": {},
   "outputs": [],
   "source": [
    "# here the value mean 1=10%,5=50%,7=70%,8=80%,9=90% and n_alphas is the randomly alpha value 100 times\n",
    "enetCV = ElasticNetCV(l1_ratio = [.1, .5, .7, .8, .9], \n",
    "                     n_alphas=100)"
   ]
  },
  {
   "cell_type": "code",
   "execution_count": 166,
   "id": "78297281",
   "metadata": {},
   "outputs": [
    {
     "data": {
      "text/plain": [
       "ElasticNetCV(l1_ratio=[0.1, 0.5, 0.7, 0.8, 0.9])"
      ]
     },
     "execution_count": 166,
     "metadata": {},
     "output_type": "execute_result"
    }
   ],
   "source": [
    "enetCV.fit(X_train, y_train)"
   ]
  },
  {
   "cell_type": "code",
   "execution_count": 170,
   "id": "394d582a",
   "metadata": {},
   "outputs": [
    {
     "data": {
      "text/plain": [
       "0.9"
      ]
     },
     "execution_count": 170,
     "metadata": {},
     "output_type": "execute_result"
    }
   ],
   "source": [
    "# here l1_raio is selected as 0.9\n",
    "enetCV.l1_ratio_"
   ]
  },
  {
   "cell_type": "code",
   "execution_count": 171,
   "id": "8183bc02",
   "metadata": {},
   "outputs": [
    {
     "data": {
      "text/plain": [
       "0.08848730467563237"
      ]
     },
     "execution_count": 171,
     "metadata": {},
     "output_type": "execute_result"
    }
   ],
   "source": [
    "# here alpha is selected as 0.088....\n",
    "enetCV.alpha_"
   ]
  },
  {
   "cell_type": "code",
   "execution_count": 172,
   "id": "bdf7dc18",
   "metadata": {},
   "outputs": [],
   "source": [
    "pred = enetCV.predict(X_test)"
   ]
  },
  {
   "cell_type": "code",
   "execution_count": 173,
   "id": "7a81c6f3",
   "metadata": {},
   "outputs": [
    {
     "data": {
      "text/plain": [
       "0.9150494125440356"
      ]
     },
     "execution_count": 173,
     "metadata": {},
     "output_type": "execute_result"
    }
   ],
   "source": [
    "metrics.r2_score(y_test, pred)"
   ]
  },
  {
   "cell_type": "markdown",
   "id": "63b1e4c5",
   "metadata": {},
   "source": [
    "### Grid Search CV"
   ]
  },
  {
   "cell_type": "code",
   "execution_count": 177,
   "id": "9ba7f8f2",
   "metadata": {},
   "outputs": [],
   "source": [
    "sales_df = pd.read_csv('Advertising.csv')\n",
    "# Printing first few records\n",
    "sales_df.head()\n",
    "X = sales_df[['TV', 'Radio', 'Newspaper']]\n",
    "y = sales_df['Sales'] "
   ]
  },
  {
   "cell_type": "code",
   "execution_count": 178,
   "id": "8c8121bd",
   "metadata": {},
   "outputs": [],
   "source": [
    "X_train, X_test, y_train, y_test = train_test_split(X, y,train_size=0.7, random_state = 101)"
   ]
  },
  {
   "cell_type": "code",
   "execution_count": 179,
   "id": "96e2e92d",
   "metadata": {},
   "outputs": [],
   "source": [
    "scaler = StandardScaler()\n",
    "X_train = scaler.fit_transform(X_train)\n",
    "X_test = scaler.transform(X_test)"
   ]
  },
  {
   "cell_type": "code",
   "execution_count": 180,
   "id": "9f681348",
   "metadata": {},
   "outputs": [],
   "source": [
    "base_model = ElasticNet()"
   ]
  },
  {
   "cell_type": "markdown",
   "id": "54aa8bad",
   "metadata": {},
   "source": [
    "# HYPERPARAMETER(Tuning the Hyperparameter)"
   ]
  },
  {
   "cell_type": "code",
   "execution_count": null,
   "id": "c6c9ee2f",
   "metadata": {},
   "outputs": [],
   "source": [
    "# giving the multiple value for one parameter is called hyperparameter. Tuning is changing in the values of parameter"
   ]
  },
  {
   "cell_type": "markdown",
   "id": "3d58775d",
   "metadata": {},
   "source": [
    "In ElasticNet we can't provide the multiple value for 1 parameter. so we will use 'Hyperparameter' and will tune it \n",
    "until we get upon our expected."
   ]
  },
  {
   "cell_type": "code",
   "execution_count": 187,
   "id": "9b03dade",
   "metadata": {},
   "outputs": [],
   "source": [
    "# here we making dictionary which holds data parameter alpha and l1_ratio of ElasticNet. \n",
    "# this is why because we can pass this as dictionary data to for parameter alpha and parameter l1_ratio.\n",
    "param = {'alpha': [ 0.001, 0.01, 1, 5, 10, 50], 'l1_ratio': [.1, .5, .7, .95, .99, 1]}"
   ]
  },
  {
   "cell_type": "code",
   "execution_count": 188,
   "id": "dbbad8ab",
   "metadata": {},
   "outputs": [],
   "source": [
    "from sklearn.model_selection import GridSearchCV"
   ]
  },
  {
   "cell_type": "code",
   "execution_count": 189,
   "id": "e14d4865",
   "metadata": {},
   "outputs": [],
   "source": [
    "#here are passing that instance (base_model) and giving the dictionary which we have created to param_grid. so it \n",
    "grid_model = GridSearchCV(estimator=base_model, param_grid=param, scoring='r2', \n",
    "                          cv=5,verbose=0)"
   ]
  },
  {
   "cell_type": "code",
   "execution_count": 190,
   "id": "936f47df",
   "metadata": {},
   "outputs": [
    {
     "data": {
      "text/plain": [
       "GridSearchCV(cv=5, estimator=ElasticNet(),\n",
       "             param_grid={'alpha': [0.001, 0.01, 1, 5, 10, 50],\n",
       "                         'l1_ratio': [0.1, 0.5, 0.7, 0.95, 0.99, 1]},\n",
       "             scoring='r2')"
      ]
     },
     "execution_count": 190,
     "metadata": {},
     "output_type": "execute_result"
    }
   ],
   "source": [
    "grid_model.fit(X_train, y_train)"
   ]
  },
  {
   "cell_type": "code",
   "execution_count": 192,
   "id": "103eb550",
   "metadata": {},
   "outputs": [
    {
     "data": {
      "text/plain": [
       "ElasticNet(alpha=0.01, l1_ratio=1)"
      ]
     },
     "execution_count": 192,
     "metadata": {},
     "output_type": "execute_result"
    }
   ],
   "source": [
    "# here the best_estimator will choose the one good and suitable alpha and l1_ratio value and give output.\n",
    "grid_model.best_estimator_"
   ]
  },
  {
   "cell_type": "code",
   "execution_count": 193,
   "id": "6e7d27a0",
   "metadata": {},
   "outputs": [],
   "source": [
    "# grid_model.cv_results_\n",
    "# pd.DataFrame(grid_model.cv_results_)"
   ]
  },
  {
   "cell_type": "code",
   "execution_count": 203,
   "id": "cbe31d14",
   "metadata": {},
   "outputs": [],
   "source": [
    "y_pred = grid_model.predict(X_test)"
   ]
  },
  {
   "cell_type": "code",
   "execution_count": 204,
   "id": "adadb99b",
   "metadata": {},
   "outputs": [
    {
     "data": {
      "text/plain": [
       "0.9182975460753906"
      ]
     },
     "execution_count": 204,
     "metadata": {},
     "output_type": "execute_result"
    }
   ],
   "source": [
    "metrics.r2_score(y_test, y_pred)"
   ]
  },
  {
   "cell_type": "code",
   "execution_count": null,
   "id": "3d838a4c",
   "metadata": {},
   "outputs": [],
   "source": []
  },
  {
   "cell_type": "code",
   "execution_count": null,
   "id": "db0622a0",
   "metadata": {},
   "outputs": [],
   "source": []
  }
 ],
 "metadata": {
  "kernelspec": {
   "display_name": "Python 3 (ipykernel)",
   "language": "python",
   "name": "python3"
  },
  "language_info": {
   "codemirror_mode": {
    "name": "ipython",
    "version": 3
   },
   "file_extension": ".py",
   "mimetype": "text/x-python",
   "name": "python",
   "nbconvert_exporter": "python",
   "pygments_lexer": "ipython3",
   "version": "3.9.7"
  }
 },
 "nbformat": 4,
 "nbformat_minor": 5
}
