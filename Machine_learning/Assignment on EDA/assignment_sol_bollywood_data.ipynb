{
 "cells": [
  {
   "cell_type": "code",
   "execution_count": 64,
   "id": "6da9dffb",
   "metadata": {},
   "outputs": [],
   "source": [
    "import pandas as pd\n",
    "bollywood_data=pd.read_csv('bollywood.csv',encoding='cp1252')"
   ]
  },
  {
   "cell_type": "code",
   "execution_count": 65,
   "id": "bf357d6c",
   "metadata": {},
   "outputs": [
    {
     "data": {
      "text/html": [
       "<div>\n",
       "<style scoped>\n",
       "    .dataframe tbody tr th:only-of-type {\n",
       "        vertical-align: middle;\n",
       "    }\n",
       "\n",
       "    .dataframe tbody tr th {\n",
       "        vertical-align: top;\n",
       "    }\n",
       "\n",
       "    .dataframe thead th {\n",
       "        text-align: right;\n",
       "    }\n",
       "</style>\n",
       "<table border=\"1\" class=\"dataframe\">\n",
       "  <thead>\n",
       "    <tr style=\"text-align: right;\">\n",
       "      <th></th>\n",
       "      <th>S No</th>\n",
       "      <th>Release Date</th>\n",
       "      <th>Movie Name</th>\n",
       "      <th>Release Date (N / LW / Festive)</th>\n",
       "      <th>Genre - Defined</th>\n",
       "      <th>Budget</th>\n",
       "      <th>Box Office Collection</th>\n",
       "      <th>Youtube Views</th>\n",
       "      <th>Youtube Likes</th>\n",
       "      <th>Youtube Dislikes</th>\n",
       "    </tr>\n",
       "  </thead>\n",
       "  <tbody>\n",
       "    <tr>\n",
       "      <th>0</th>\n",
       "      <td>1</td>\n",
       "      <td>18-Apr-14</td>\n",
       "      <td>2 States</td>\n",
       "      <td>LW</td>\n",
       "      <td>Romance</td>\n",
       "      <td>36</td>\n",
       "      <td>104.00</td>\n",
       "      <td>8576361</td>\n",
       "      <td>26622</td>\n",
       "      <td>2527</td>\n",
       "    </tr>\n",
       "    <tr>\n",
       "      <th>1</th>\n",
       "      <td>2</td>\n",
       "      <td>4-Jan-13</td>\n",
       "      <td>Table No. 21</td>\n",
       "      <td>N</td>\n",
       "      <td>Thriller</td>\n",
       "      <td>10</td>\n",
       "      <td>12.00</td>\n",
       "      <td>1087320</td>\n",
       "      <td>1129</td>\n",
       "      <td>137</td>\n",
       "    </tr>\n",
       "    <tr>\n",
       "      <th>2</th>\n",
       "      <td>3</td>\n",
       "      <td>18-Jul-14</td>\n",
       "      <td>Amit Sahni Ki List</td>\n",
       "      <td>N</td>\n",
       "      <td>Comedy</td>\n",
       "      <td>10</td>\n",
       "      <td>4.00</td>\n",
       "      <td>572336</td>\n",
       "      <td>586</td>\n",
       "      <td>54</td>\n",
       "    </tr>\n",
       "    <tr>\n",
       "      <th>3</th>\n",
       "      <td>4</td>\n",
       "      <td>4-Jan-13</td>\n",
       "      <td>Rajdhani Express</td>\n",
       "      <td>N</td>\n",
       "      <td>Drama</td>\n",
       "      <td>7</td>\n",
       "      <td>0.35</td>\n",
       "      <td>42626</td>\n",
       "      <td>86</td>\n",
       "      <td>19</td>\n",
       "    </tr>\n",
       "    <tr>\n",
       "      <th>4</th>\n",
       "      <td>5</td>\n",
       "      <td>4-Jul-14</td>\n",
       "      <td>Bobby Jasoos</td>\n",
       "      <td>N</td>\n",
       "      <td>Comedy</td>\n",
       "      <td>18</td>\n",
       "      <td>10.80</td>\n",
       "      <td>3113427</td>\n",
       "      <td>4512</td>\n",
       "      <td>1224</td>\n",
       "    </tr>\n",
       "    <tr>\n",
       "      <th>...</th>\n",
       "      <td>...</td>\n",
       "      <td>...</td>\n",
       "      <td>...</td>\n",
       "      <td>...</td>\n",
       "      <td>...</td>\n",
       "      <td>...</td>\n",
       "      <td>...</td>\n",
       "      <td>...</td>\n",
       "      <td>...</td>\n",
       "      <td>...</td>\n",
       "    </tr>\n",
       "    <tr>\n",
       "      <th>144</th>\n",
       "      <td>145</td>\n",
       "      <td>27-Feb-15</td>\n",
       "      <td>Dum Laga Ke Haisha</td>\n",
       "      <td>N</td>\n",
       "      <td>Comedy</td>\n",
       "      <td>15</td>\n",
       "      <td>30.00</td>\n",
       "      <td>3250917</td>\n",
       "      <td>8185</td>\n",
       "      <td>615</td>\n",
       "    </tr>\n",
       "    <tr>\n",
       "      <th>145</th>\n",
       "      <td>146</td>\n",
       "      <td>13-Mar-15</td>\n",
       "      <td>NH10</td>\n",
       "      <td>N</td>\n",
       "      <td>Thriller</td>\n",
       "      <td>13</td>\n",
       "      <td>32.10</td>\n",
       "      <td>5592977</td>\n",
       "      <td>15464</td>\n",
       "      <td>1513</td>\n",
       "    </tr>\n",
       "    <tr>\n",
       "      <th>146</th>\n",
       "      <td>147</td>\n",
       "      <td>20-Mar-15</td>\n",
       "      <td>Dilliwali Zaalim Girlfriend</td>\n",
       "      <td>N</td>\n",
       "      <td>Comedy</td>\n",
       "      <td>32</td>\n",
       "      <td>12.00</td>\n",
       "      <td>2316047</td>\n",
       "      <td>4289</td>\n",
       "      <td>807</td>\n",
       "    </tr>\n",
       "    <tr>\n",
       "      <th>147</th>\n",
       "      <td>148</td>\n",
       "      <td>20-Mar-15</td>\n",
       "      <td>Hunterrr</td>\n",
       "      <td>N</td>\n",
       "      <td>Comedy</td>\n",
       "      <td>5</td>\n",
       "      <td>11.89</td>\n",
       "      <td>4674795</td>\n",
       "      <td>3706</td>\n",
       "      <td>762</td>\n",
       "    </tr>\n",
       "    <tr>\n",
       "      <th>148</th>\n",
       "      <td>149</td>\n",
       "      <td>23-May-14</td>\n",
       "      <td>Kochadaiiyaan</td>\n",
       "      <td>HS</td>\n",
       "      <td>Action</td>\n",
       "      <td>150</td>\n",
       "      <td>120.00</td>\n",
       "      <td>4740727</td>\n",
       "      <td>13466</td>\n",
       "      <td>2649</td>\n",
       "    </tr>\n",
       "  </tbody>\n",
       "</table>\n",
       "<p>149 rows × 10 columns</p>\n",
       "</div>"
      ],
      "text/plain": [
       "     S No Release Date                   Movie Name  \\\n",
       "0       1    18-Apr-14                     2 States   \n",
       "1       2     4-Jan-13                 Table No. 21   \n",
       "2       3    18-Jul-14           Amit Sahni Ki List   \n",
       "3       4     4-Jan-13             Rajdhani Express   \n",
       "4       5     4-Jul-14                 Bobby Jasoos   \n",
       "..    ...          ...                          ...   \n",
       "144   145    27-Feb-15           Dum Laga Ke Haisha   \n",
       "145   146    13-Mar-15                         NH10   \n",
       "146   147    20-Mar-15  Dilliwali Zaalim Girlfriend   \n",
       "147   148    20-Mar-15                     Hunterrr   \n",
       "148   149    23-May-14                Kochadaiiyaan   \n",
       "\n",
       "    Release Date (N / LW / Festive) Genre - Defined  Budget  \\\n",
       "0                                LW         Romance      36   \n",
       "1                                 N       Thriller       10   \n",
       "2                                 N          Comedy      10   \n",
       "3                                 N          Drama        7   \n",
       "4                                 N          Comedy      18   \n",
       "..                              ...             ...     ...   \n",
       "144                               N          Comedy      15   \n",
       "145                               N        Thriller      13   \n",
       "146                               N          Comedy      32   \n",
       "147                               N          Comedy       5   \n",
       "148                              HS          Action     150   \n",
       "\n",
       "     Box Office Collection  Youtube Views  Youtube Likes  Youtube Dislikes  \n",
       "0                   104.00        8576361          26622              2527  \n",
       "1                    12.00        1087320           1129               137  \n",
       "2                     4.00         572336            586                54  \n",
       "3                     0.35          42626             86                19  \n",
       "4                    10.80        3113427           4512              1224  \n",
       "..                     ...            ...            ...               ...  \n",
       "144                  30.00        3250917           8185               615  \n",
       "145                  32.10        5592977          15464              1513  \n",
       "146                  12.00        2316047           4289               807  \n",
       "147                  11.89        4674795           3706               762  \n",
       "148                 120.00        4740727          13466              2649  \n",
       "\n",
       "[149 rows x 10 columns]"
      ]
     },
     "execution_count": 65,
     "metadata": {},
     "output_type": "execute_result"
    }
   ],
   "source": [
    "bollywood_data"
   ]
  },
  {
   "cell_type": "code",
   "execution_count": 66,
   "id": "835d75a3",
   "metadata": {},
   "outputs": [
    {
     "name": "stdout",
     "output_type": "stream",
     "text": [
      "<class 'pandas.core.frame.DataFrame'>\n",
      "RangeIndex: 149 entries, 0 to 148\n",
      "Data columns (total 10 columns):\n",
      " #   Column                           Non-Null Count  Dtype  \n",
      "---  ------                           --------------  -----  \n",
      " 0   S No                             149 non-null    int64  \n",
      " 1   Release Date                     149 non-null    object \n",
      " 2   Movie Name                       149 non-null    object \n",
      " 3   Release Date (N / LW / Festive)  149 non-null    object \n",
      " 4   Genre - Defined                  149 non-null    object \n",
      " 5   Budget                           149 non-null    int64  \n",
      " 6   Box Office Collection            149 non-null    float64\n",
      " 7   Youtube Views                    149 non-null    int64  \n",
      " 8   Youtube Likes                    149 non-null    int64  \n",
      " 9   Youtube Dislikes                 149 non-null    int64  \n",
      "dtypes: float64(1), int64(5), object(4)\n",
      "memory usage: 11.8+ KB\n"
     ]
    }
   ],
   "source": [
    "# 1    How many records are present in the dataset? Print the metadata information of the dataset.\n",
    "bollywood_data.shape\n",
    "bollywood_data.info()"
   ]
  },
  {
   "cell_type": "code",
   "execution_count": 67,
   "id": "d109d1c6",
   "metadata": {},
   "outputs": [
    {
     "data": {
      "text/html": [
       "<div>\n",
       "<style scoped>\n",
       "    .dataframe tbody tr th:only-of-type {\n",
       "        vertical-align: middle;\n",
       "    }\n",
       "\n",
       "    .dataframe tbody tr th {\n",
       "        vertical-align: top;\n",
       "    }\n",
       "\n",
       "    .dataframe thead th {\n",
       "        text-align: right;\n",
       "    }\n",
       "</style>\n",
       "<table border=\"1\" class=\"dataframe\">\n",
       "  <thead>\n",
       "    <tr style=\"text-align: right;\">\n",
       "      <th></th>\n",
       "      <th>S No</th>\n",
       "      <th>Budget</th>\n",
       "      <th>Box Office Collection</th>\n",
       "      <th>Youtube Views</th>\n",
       "      <th>Youtube Likes</th>\n",
       "      <th>Youtube Dislikes</th>\n",
       "    </tr>\n",
       "  </thead>\n",
       "  <tbody>\n",
       "    <tr>\n",
       "      <th>count</th>\n",
       "      <td>149.000000</td>\n",
       "      <td>149.000000</td>\n",
       "      <td>149.000000</td>\n",
       "      <td>1.490000e+02</td>\n",
       "      <td>149.000000</td>\n",
       "      <td>149.000000</td>\n",
       "    </tr>\n",
       "    <tr>\n",
       "      <th>mean</th>\n",
       "      <td>75.000000</td>\n",
       "      <td>29.442953</td>\n",
       "      <td>55.667248</td>\n",
       "      <td>3.337920e+06</td>\n",
       "      <td>7877.536913</td>\n",
       "      <td>1207.818792</td>\n",
       "    </tr>\n",
       "    <tr>\n",
       "      <th>std</th>\n",
       "      <td>43.156691</td>\n",
       "      <td>28.237981</td>\n",
       "      <td>94.494531</td>\n",
       "      <td>3.504407e+06</td>\n",
       "      <td>12748.047191</td>\n",
       "      <td>1852.692938</td>\n",
       "    </tr>\n",
       "    <tr>\n",
       "      <th>min</th>\n",
       "      <td>1.000000</td>\n",
       "      <td>2.000000</td>\n",
       "      <td>0.010000</td>\n",
       "      <td>4.354000e+03</td>\n",
       "      <td>1.000000</td>\n",
       "      <td>1.000000</td>\n",
       "    </tr>\n",
       "    <tr>\n",
       "      <th>25%</th>\n",
       "      <td>38.000000</td>\n",
       "      <td>11.000000</td>\n",
       "      <td>8.780000</td>\n",
       "      <td>1.076591e+06</td>\n",
       "      <td>1377.000000</td>\n",
       "      <td>189.000000</td>\n",
       "    </tr>\n",
       "    <tr>\n",
       "      <th>50%</th>\n",
       "      <td>75.000000</td>\n",
       "      <td>21.000000</td>\n",
       "      <td>28.000000</td>\n",
       "      <td>2.375050e+06</td>\n",
       "      <td>4111.000000</td>\n",
       "      <td>614.000000</td>\n",
       "    </tr>\n",
       "    <tr>\n",
       "      <th>75%</th>\n",
       "      <td>112.000000</td>\n",
       "      <td>35.000000</td>\n",
       "      <td>57.450000</td>\n",
       "      <td>4.550051e+06</td>\n",
       "      <td>9100.000000</td>\n",
       "      <td>1419.000000</td>\n",
       "    </tr>\n",
       "    <tr>\n",
       "      <th>max</th>\n",
       "      <td>149.000000</td>\n",
       "      <td>150.000000</td>\n",
       "      <td>735.000000</td>\n",
       "      <td>2.317107e+07</td>\n",
       "      <td>101275.000000</td>\n",
       "      <td>11888.000000</td>\n",
       "    </tr>\n",
       "  </tbody>\n",
       "</table>\n",
       "</div>"
      ],
      "text/plain": [
       "             S No      Budget  Box Office Collection  Youtube Views  \\\n",
       "count  149.000000  149.000000             149.000000   1.490000e+02   \n",
       "mean    75.000000   29.442953              55.667248   3.337920e+06   \n",
       "std     43.156691   28.237981              94.494531   3.504407e+06   \n",
       "min      1.000000    2.000000               0.010000   4.354000e+03   \n",
       "25%     38.000000   11.000000               8.780000   1.076591e+06   \n",
       "50%     75.000000   21.000000              28.000000   2.375050e+06   \n",
       "75%    112.000000   35.000000              57.450000   4.550051e+06   \n",
       "max    149.000000  150.000000             735.000000   2.317107e+07   \n",
       "\n",
       "       Youtube Likes  Youtube Dislikes  \n",
       "count     149.000000        149.000000  \n",
       "mean     7877.536913       1207.818792  \n",
       "std     12748.047191       1852.692938  \n",
       "min         1.000000          1.000000  \n",
       "25%      1377.000000        189.000000  \n",
       "50%      4111.000000        614.000000  \n",
       "75%      9100.000000       1419.000000  \n",
       "max    101275.000000      11888.000000  "
      ]
     },
     "execution_count": 67,
     "metadata": {},
     "output_type": "execute_result"
    }
   ],
   "source": [
    "bollywood_data.describe()"
   ]
  },
  {
   "cell_type": "code",
   "execution_count": 68,
   "id": "76ef53ae",
   "metadata": {},
   "outputs": [],
   "source": [
    "# 2   How many movies got released in each genre? Which genre had highest number of releases? \n",
    "#Sort number of releases in each genre in descending order."
   ]
  },
  {
   "cell_type": "code",
   "execution_count": 69,
   "id": "604bdb6e",
   "metadata": {},
   "outputs": [
    {
     "data": {
      "text/plain": [
       "Thriller      3\n",
       "Action        3\n",
       "Action       21\n",
       "Romance      25\n",
       "Thriller     26\n",
       " Drama       35\n",
       "Comedy       36\n",
       "Name: Genre - Defined, dtype: int64"
      ]
     },
     "execution_count": 69,
     "metadata": {},
     "output_type": "execute_result"
    }
   ],
   "source": [
    "# How many movies got released in each genre?\n",
    "bollywood_data['Genre - Defined'].value_counts(ascending=True)"
   ]
  },
  {
   "cell_type": "code",
   "execution_count": 70,
   "id": "2617e454",
   "metadata": {},
   "outputs": [
    {
     "data": {
      "text/plain": [
       "36"
      ]
     },
     "execution_count": 70,
     "metadata": {},
     "output_type": "execute_result"
    }
   ],
   "source": [
    "# Which genre had highest number of releases?\n",
    "bollywood_data['Genre - Defined'].value_counts().max()"
   ]
  },
  {
   "cell_type": "code",
   "execution_count": 71,
   "id": "68a391ea",
   "metadata": {},
   "outputs": [
    {
     "data": {
      "text/plain": [
       "Comedy       36\n",
       " Drama       35\n",
       "Thriller     26\n",
       "Romance      25\n",
       "Action       21\n",
       "Thriller      3\n",
       "Action        3\n",
       "Name: Genre - Defined, dtype: int64"
      ]
     },
     "execution_count": 71,
     "metadata": {},
     "output_type": "execute_result"
    }
   ],
   "source": [
    "#Sort number of releases in each genre in descending order.\n",
    "bollywood_data['Genre - Defined'].value_counts(ascending=False)"
   ]
  },
  {
   "cell_type": "code",
   "execution_count": 72,
   "id": "2500f6fe",
   "metadata": {},
   "outputs": [
    {
     "data": {
      "text/html": [
       "<div>\n",
       "<style scoped>\n",
       "    .dataframe tbody tr th:only-of-type {\n",
       "        vertical-align: middle;\n",
       "    }\n",
       "\n",
       "    .dataframe tbody tr th {\n",
       "        vertical-align: top;\n",
       "    }\n",
       "\n",
       "    .dataframe thead th {\n",
       "        text-align: right;\n",
       "    }\n",
       "</style>\n",
       "<table border=\"1\" class=\"dataframe\">\n",
       "  <thead>\n",
       "    <tr style=\"text-align: right;\">\n",
       "      <th>Release Date (N / LW / Festive)</th>\n",
       "      <th>FS</th>\n",
       "      <th>HS</th>\n",
       "      <th>LW</th>\n",
       "      <th>N</th>\n",
       "    </tr>\n",
       "    <tr>\n",
       "      <th>Genre - Defined</th>\n",
       "      <th></th>\n",
       "      <th></th>\n",
       "      <th></th>\n",
       "      <th></th>\n",
       "    </tr>\n",
       "  </thead>\n",
       "  <tbody>\n",
       "    <tr>\n",
       "      <th>Drama</th>\n",
       "      <td>4</td>\n",
       "      <td>6</td>\n",
       "      <td>1</td>\n",
       "      <td>24</td>\n",
       "    </tr>\n",
       "    <tr>\n",
       "      <th>Action</th>\n",
       "      <td>3</td>\n",
       "      <td>3</td>\n",
       "      <td>3</td>\n",
       "      <td>12</td>\n",
       "    </tr>\n",
       "    <tr>\n",
       "      <th>Action</th>\n",
       "      <td>0</td>\n",
       "      <td>0</td>\n",
       "      <td>0</td>\n",
       "      <td>3</td>\n",
       "    </tr>\n",
       "    <tr>\n",
       "      <th>Comedy</th>\n",
       "      <td>3</td>\n",
       "      <td>5</td>\n",
       "      <td>5</td>\n",
       "      <td>23</td>\n",
       "    </tr>\n",
       "    <tr>\n",
       "      <th>Romance</th>\n",
       "      <td>3</td>\n",
       "      <td>3</td>\n",
       "      <td>4</td>\n",
       "      <td>15</td>\n",
       "    </tr>\n",
       "    <tr>\n",
       "      <th>Thriller</th>\n",
       "      <td>4</td>\n",
       "      <td>1</td>\n",
       "      <td>1</td>\n",
       "      <td>20</td>\n",
       "    </tr>\n",
       "    <tr>\n",
       "      <th>Thriller</th>\n",
       "      <td>0</td>\n",
       "      <td>0</td>\n",
       "      <td>1</td>\n",
       "      <td>2</td>\n",
       "    </tr>\n",
       "  </tbody>\n",
       "</table>\n",
       "</div>"
      ],
      "text/plain": [
       "Release Date (N / LW / Festive)  FS  HS  LW   N\n",
       "Genre - Defined                                \n",
       " Drama                            4   6   1  24\n",
       "Action                            3   3   3  12\n",
       "Action                            0   0   0   3\n",
       "Comedy                            3   5   5  23\n",
       "Romance                           3   3   4  15\n",
       "Thriller                          4   1   1  20\n",
       "Thriller                          0   0   1   2"
      ]
     },
     "execution_count": 72,
     "metadata": {},
     "output_type": "execute_result"
    }
   ],
   "source": [
    "# 3   How many movies in each genre got released in different release times like long weekend, festive season, etc. (Note: Do a cross tabulation between Genre and ReleaseTime.)\n",
    "pd.crosstab(bollywood_data['Genre - Defined'],bollywood_data['Release Date (N / LW / Festive)'])\n"
   ]
  },
  {
   "cell_type": "code",
   "execution_count": 73,
   "id": "d8214425",
   "metadata": {},
   "outputs": [],
   "source": [
    "#   4  Which month of the year, maximum number movie releases are seen? (Note: Extract a new column called month from ReleaseDate column.)\n",
    "from datetime import datetime\n",
    "bollywood_data[\"month_from_ReleaseDate\"]=pd.DatetimeIndex(bollywood_data['Release Date']).month"
   ]
  },
  {
   "cell_type": "code",
   "execution_count": 74,
   "id": "df3a7136",
   "metadata": {},
   "outputs": [
    {
     "data": {
      "text/plain": [
       "20"
      ]
     },
     "execution_count": 74,
     "metadata": {},
     "output_type": "execute_result"
    }
   ],
   "source": [
    "bollywood_data['month_from_ReleaseDate'].value_counts().max()"
   ]
  },
  {
   "cell_type": "code",
   "execution_count": 75,
   "id": "98994c3e",
   "metadata": {},
   "outputs": [],
   "source": [
    "#  6   Which are the top 5 movies with maximum return on investment (ROI)? \n",
    "#Calculate return on investment (ROI) as (BoxOfficeCollection – Budget) / Budget.\n",
    "bollywood_data[\"ROI\"]=bollywood_data['Box Office Collection']-bollywood_data['Budget']/bollywood_data['Budget']"
   ]
  },
  {
   "cell_type": "code",
   "execution_count": 76,
   "id": "cb30e184",
   "metadata": {},
   "outputs": [
    {
     "data": {
      "text/plain": [
       "89     734.0\n",
       "115    394.0\n",
       "26     382.0\n",
       "43     376.0\n",
       "92     339.0\n",
       "Name: ROI, dtype: float64"
      ]
     },
     "execution_count": 76,
     "metadata": {},
     "output_type": "execute_result"
    }
   ],
   "source": [
    "bollywood_data['ROI'].sort_values(ascending=False)[0:5]"
   ]
  },
  {
   "cell_type": "code",
   "execution_count": 87,
   "id": "b269fa14",
   "metadata": {},
   "outputs": [],
   "source": [
    "#  7  Do the movies have higher ROI if they get released on festive seasons or long weekend? \n",
    "#  Calculate the average ROI for different release times.\n",
    "#bollywood_data[['ROI','Release Date (N / LW / Festive)']].sort_values('ROI',ascending=False)[0:5]"
   ]
  },
  {
   "cell_type": "code",
   "execution_count": 78,
   "id": "112f3d8b",
   "metadata": {},
   "outputs": [],
   "source": [
    "a=pd.crosstab(bollywood_data['Release Date (N / LW / Festive)'],bollywood_data['ROI'])"
   ]
  },
  {
   "cell_type": "code",
   "execution_count": 79,
   "id": "bdeb8a0e",
   "metadata": {},
   "outputs": [
    {
     "data": {
      "text/html": [
       "<div>\n",
       "<style scoped>\n",
       "    .dataframe tbody tr th:only-of-type {\n",
       "        vertical-align: middle;\n",
       "    }\n",
       "\n",
       "    .dataframe tbody tr th {\n",
       "        vertical-align: top;\n",
       "    }\n",
       "\n",
       "    .dataframe thead th {\n",
       "        text-align: right;\n",
       "    }\n",
       "</style>\n",
       "<table border=\"1\" class=\"dataframe\">\n",
       "  <thead>\n",
       "    <tr style=\"text-align: right;\">\n",
       "      <th>ROI</th>\n",
       "      <th>-0.99</th>\n",
       "      <th>-0.91</th>\n",
       "      <th>-0.76</th>\n",
       "      <th>-0.65</th>\n",
       "      <th>-0.50</th>\n",
       "      <th>-0.30</th>\n",
       "      <th>0.10</th>\n",
       "      <th>0.50</th>\n",
       "      <th>0.75</th>\n",
       "      <th>0.80</th>\n",
       "      <th>...</th>\n",
       "      <th>163.00</th>\n",
       "      <th>199.00</th>\n",
       "      <th>297.00</th>\n",
       "      <th>299.00</th>\n",
       "      <th>310.00</th>\n",
       "      <th>339.00</th>\n",
       "      <th>376.00</th>\n",
       "      <th>382.00</th>\n",
       "      <th>394.00</th>\n",
       "      <th>734.00</th>\n",
       "    </tr>\n",
       "    <tr>\n",
       "      <th>Release Date (N / LW / Festive)</th>\n",
       "      <th></th>\n",
       "      <th></th>\n",
       "      <th></th>\n",
       "      <th></th>\n",
       "      <th></th>\n",
       "      <th></th>\n",
       "      <th></th>\n",
       "      <th></th>\n",
       "      <th></th>\n",
       "      <th></th>\n",
       "      <th></th>\n",
       "      <th></th>\n",
       "      <th></th>\n",
       "      <th></th>\n",
       "      <th></th>\n",
       "      <th></th>\n",
       "      <th></th>\n",
       "      <th></th>\n",
       "      <th></th>\n",
       "      <th></th>\n",
       "      <th></th>\n",
       "    </tr>\n",
       "  </thead>\n",
       "  <tbody>\n",
       "    <tr>\n",
       "      <th>FS</th>\n",
       "      <td>0</td>\n",
       "      <td>0</td>\n",
       "      <td>0</td>\n",
       "      <td>0</td>\n",
       "      <td>0</td>\n",
       "      <td>0</td>\n",
       "      <td>1</td>\n",
       "      <td>1</td>\n",
       "      <td>0</td>\n",
       "      <td>0</td>\n",
       "      <td>...</td>\n",
       "      <td>0</td>\n",
       "      <td>0</td>\n",
       "      <td>0</td>\n",
       "      <td>1</td>\n",
       "      <td>0</td>\n",
       "      <td>1</td>\n",
       "      <td>0</td>\n",
       "      <td>0</td>\n",
       "      <td>1</td>\n",
       "      <td>0</td>\n",
       "    </tr>\n",
       "    <tr>\n",
       "      <th>HS</th>\n",
       "      <td>0</td>\n",
       "      <td>0</td>\n",
       "      <td>0</td>\n",
       "      <td>0</td>\n",
       "      <td>1</td>\n",
       "      <td>0</td>\n",
       "      <td>1</td>\n",
       "      <td>0</td>\n",
       "      <td>1</td>\n",
       "      <td>0</td>\n",
       "      <td>...</td>\n",
       "      <td>0</td>\n",
       "      <td>0</td>\n",
       "      <td>0</td>\n",
       "      <td>0</td>\n",
       "      <td>0</td>\n",
       "      <td>0</td>\n",
       "      <td>0</td>\n",
       "      <td>0</td>\n",
       "      <td>0</td>\n",
       "      <td>1</td>\n",
       "    </tr>\n",
       "    <tr>\n",
       "      <th>LW</th>\n",
       "      <td>0</td>\n",
       "      <td>0</td>\n",
       "      <td>0</td>\n",
       "      <td>0</td>\n",
       "      <td>0</td>\n",
       "      <td>0</td>\n",
       "      <td>0</td>\n",
       "      <td>0</td>\n",
       "      <td>0</td>\n",
       "      <td>0</td>\n",
       "      <td>...</td>\n",
       "      <td>0</td>\n",
       "      <td>1</td>\n",
       "      <td>1</td>\n",
       "      <td>0</td>\n",
       "      <td>0</td>\n",
       "      <td>0</td>\n",
       "      <td>0</td>\n",
       "      <td>1</td>\n",
       "      <td>0</td>\n",
       "      <td>0</td>\n",
       "    </tr>\n",
       "    <tr>\n",
       "      <th>N</th>\n",
       "      <td>1</td>\n",
       "      <td>1</td>\n",
       "      <td>1</td>\n",
       "      <td>1</td>\n",
       "      <td>0</td>\n",
       "      <td>1</td>\n",
       "      <td>0</td>\n",
       "      <td>1</td>\n",
       "      <td>0</td>\n",
       "      <td>1</td>\n",
       "      <td>...</td>\n",
       "      <td>1</td>\n",
       "      <td>0</td>\n",
       "      <td>0</td>\n",
       "      <td>0</td>\n",
       "      <td>1</td>\n",
       "      <td>0</td>\n",
       "      <td>1</td>\n",
       "      <td>0</td>\n",
       "      <td>0</td>\n",
       "      <td>0</td>\n",
       "    </tr>\n",
       "  </tbody>\n",
       "</table>\n",
       "<p>4 rows × 118 columns</p>\n",
       "</div>"
      ],
      "text/plain": [
       "ROI                              -0.99    -0.91    -0.76    -0.65    -0.50    \\\n",
       "Release Date (N / LW / Festive)                                                \n",
       "FS                                     0        0        0        0        0   \n",
       "HS                                     0        0        0        0        1   \n",
       "LW                                     0        0        0        0        0   \n",
       "N                                      1        1        1        1        0   \n",
       "\n",
       "ROI                              -0.30     0.10     0.50     0.75     0.80    \\\n",
       "Release Date (N / LW / Festive)                                                \n",
       "FS                                     0        1        1        0        0   \n",
       "HS                                     0        1        0        1        0   \n",
       "LW                                     0        0        0        0        0   \n",
       "N                                      1        0        1        0        1   \n",
       "\n",
       "ROI                              ...   163.00   199.00   297.00   299.00  \\\n",
       "Release Date (N / LW / Festive)  ...                                       \n",
       "FS                               ...        0        0        0        1   \n",
       "HS                               ...        0        0        0        0   \n",
       "LW                               ...        0        1        1        0   \n",
       "N                                ...        1        0        0        0   \n",
       "\n",
       "ROI                               310.00   339.00   376.00   382.00   394.00  \\\n",
       "Release Date (N / LW / Festive)                                                \n",
       "FS                                     0        1        0        0        1   \n",
       "HS                                     0        0        0        0        0   \n",
       "LW                                     0        0        0        1        0   \n",
       "N                                      1        0        1        0        0   \n",
       "\n",
       "ROI                               734.00  \n",
       "Release Date (N / LW / Festive)           \n",
       "FS                                     0  \n",
       "HS                                     1  \n",
       "LW                                     0  \n",
       "N                                      0  \n",
       "\n",
       "[4 rows x 118 columns]"
      ]
     },
     "execution_count": 79,
     "metadata": {},
     "output_type": "execute_result"
    }
   ],
   "source": [
    "a"
   ]
  },
  {
   "cell_type": "code",
   "execution_count": 86,
   "id": "aeca1e13",
   "metadata": {},
   "outputs": [
    {
     "data": {
      "text/plain": [
       "Release Date (N / LW / Festive)\n",
       "FS    88.535294\n",
       "HS    73.619444\n",
       "LW    97.322000\n",
       "N     38.942828\n",
       "Name: ROI, dtype: float64"
      ]
     },
     "execution_count": 86,
     "metadata": {},
     "output_type": "execute_result"
    }
   ],
   "source": [
    "#Average of ROI as per release time\n",
    "#bollywood_data['ROI'].mean()\n",
    "bollywood_data.groupby('Release Date (N / LW / Festive)')['ROI'].mean()"
   ]
  },
  {
   "cell_type": "code",
   "execution_count": 88,
   "id": "9e336018",
   "metadata": {},
   "outputs": [],
   "source": [
    "#  8  Draw a histogram and a distribution plot to find out the distribution of movie budgets. Interpret the plot to conclude if the most movies are high or low budgeted movies"
   ]
  },
  {
   "cell_type": "code",
   "execution_count": 92,
   "id": "f0fd865d",
   "metadata": {},
   "outputs": [],
   "source": [
    "import matplotlib.pyplot as plt\n",
    "import seaborn as sns"
   ]
  },
  {
   "cell_type": "code",
   "execution_count": 105,
   "id": "6df162fa",
   "metadata": {},
   "outputs": [
    {
     "data": {
      "text/plain": [
       "(array([0., 0., 0., 0., 0., 1., 0., 0., 0., 0.]),\n",
       " array([-0.5, -0.4, -0.3, -0.2, -0.1,  0. ,  0.1,  0.2,  0.3,  0.4,  0.5]),\n",
       " <BarContainer object of 10 artists>)"
      ]
     },
     "execution_count": 105,
     "metadata": {},
     "output_type": "execute_result"
    },
    {
     "data": {
      "image/png": "[encoded data removed]",
      "text/plain": [
       "<Figure size 432x288 with 1 Axes>"
      ]
     },
     "metadata": {
      "needs_background": "light"
     },
     "output_type": "display_data"
    }
   ],
   "source": [
    "plt.hist('Budget')"
   ]
  },
  {
   "cell_type": "code",
   "execution_count": 106,
   "id": "b2081fdc",
   "metadata": {},
   "outputs": [
    {
     "data": {
      "text/plain": [
       "<seaborn.axisgrid.FacetGrid at 0x7fb003fe4850>"
      ]
     },
     "execution_count": 106,
     "metadata": {},
     "output_type": "execute_result"
    },
    {
     "data": {
      "image/png": "[encoded data removed]",
      "text/plain": [
       "<Figure size 360x360 with 1 Axes>"
      ]
     },
     "metadata": {
      "needs_background": "light"
     },
     "output_type": "display_data"
    }
   ],
   "source": [
    "sns.displot('Budget')"
   ]
  },
  {
   "cell_type": "code",
   "execution_count": 107,
   "id": "fdf84c66",
   "metadata": {},
   "outputs": [
    {
     "data": {
      "text/plain": [
       "29.44295302013423"
      ]
     },
     "execution_count": 107,
     "metadata": {},
     "output_type": "execute_result"
    }
   ],
   "source": [
    "bollywood_data['Budget'].mean()"
   ]
  }
 ],
 "metadata": {
  "kernelspec": {
   "display_name": "Python 3 (ipykernel)",
   "language": "python",
   "name": "python3"
  },
  "language_info": {
   "codemirror_mode": {
    "name": "ipython",
    "version": 3
   },
   "file_extension": ".py",
   "mimetype": "text/x-python",
   "name": "python",
   "nbconvert_exporter": "python",
   "pygments_lexer": "ipython3",
   "version": "3.9.7"
  }
 },
 "nbformat": 4,
 "nbformat_minor": 5
}
