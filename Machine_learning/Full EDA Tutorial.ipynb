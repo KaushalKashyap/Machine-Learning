{
 "cells": [
  {
   "cell_type": "code",
   "execution_count": 1,
   "id": "ecab76b5",
   "metadata": {},
   "outputs": [],
   "source": [
    "import pandas as pd\n",
    "import numpy as np\n",
    "import statsmodels.api as sm"
   ]
  },
  {
   "cell_type": "code",
   "execution_count": 2,
   "id": "62c78e29",
   "metadata": {},
   "outputs": [],
   "source": [
    "uni=pd.read_csv(\"tips.csv\")"
   ]
  },
  {
   "cell_type": "code",
   "execution_count": 3,
   "id": "1c7db096",
   "metadata": {},
   "outputs": [
    {
     "data": {
      "text/html": [
       "<div>\n",
       "<style scoped>\n",
       "    .dataframe tbody tr th:only-of-type {\n",
       "        vertical-align: middle;\n",
       "    }\n",
       "\n",
       "    .dataframe tbody tr th {\n",
       "        vertical-align: top;\n",
       "    }\n",
       "\n",
       "    .dataframe thead th {\n",
       "        text-align: right;\n",
       "    }\n",
       "</style>\n",
       "<table border=\"1\" class=\"dataframe\">\n",
       "  <thead>\n",
       "    <tr style=\"text-align: right;\">\n",
       "      <th></th>\n",
       "      <th>total_bill</th>\n",
       "      <th>tip</th>\n",
       "      <th>sex</th>\n",
       "      <th>smoker</th>\n",
       "      <th>day</th>\n",
       "      <th>time</th>\n",
       "      <th>size</th>\n",
       "    </tr>\n",
       "  </thead>\n",
       "  <tbody>\n",
       "    <tr>\n",
       "      <th>0</th>\n",
       "      <td>16.99</td>\n",
       "      <td>1.01</td>\n",
       "      <td>Female</td>\n",
       "      <td>No</td>\n",
       "      <td>Sun</td>\n",
       "      <td>Dinner</td>\n",
       "      <td>2</td>\n",
       "    </tr>\n",
       "    <tr>\n",
       "      <th>1</th>\n",
       "      <td>10.34</td>\n",
       "      <td>1.66</td>\n",
       "      <td>Male</td>\n",
       "      <td>No</td>\n",
       "      <td>Sun</td>\n",
       "      <td>Dinner</td>\n",
       "      <td>3</td>\n",
       "    </tr>\n",
       "    <tr>\n",
       "      <th>2</th>\n",
       "      <td>21.01</td>\n",
       "      <td>3.50</td>\n",
       "      <td>Male</td>\n",
       "      <td>No</td>\n",
       "      <td>Sun</td>\n",
       "      <td>Dinner</td>\n",
       "      <td>3</td>\n",
       "    </tr>\n",
       "    <tr>\n",
       "      <th>3</th>\n",
       "      <td>23.68</td>\n",
       "      <td>3.31</td>\n",
       "      <td>Male</td>\n",
       "      <td>No</td>\n",
       "      <td>Sun</td>\n",
       "      <td>Dinner</td>\n",
       "      <td>2</td>\n",
       "    </tr>\n",
       "    <tr>\n",
       "      <th>4</th>\n",
       "      <td>24.59</td>\n",
       "      <td>3.61</td>\n",
       "      <td>Female</td>\n",
       "      <td>No</td>\n",
       "      <td>Sun</td>\n",
       "      <td>Dinner</td>\n",
       "      <td>4</td>\n",
       "    </tr>\n",
       "  </tbody>\n",
       "</table>\n",
       "</div>"
      ],
      "text/plain": [
       "   total_bill   tip     sex smoker  day    time  size\n",
       "0       16.99  1.01  Female     No  Sun  Dinner     2\n",
       "1       10.34  1.66    Male     No  Sun  Dinner     3\n",
       "2       21.01  3.50    Male     No  Sun  Dinner     3\n",
       "3       23.68  3.31    Male     No  Sun  Dinner     2\n",
       "4       24.59  3.61  Female     No  Sun  Dinner     4"
      ]
     },
     "execution_count": 3,
     "metadata": {},
     "output_type": "execute_result"
    }
   ],
   "source": [
    "uni.head()"
   ]
  },
  {
   "cell_type": "code",
   "execution_count": 33,
   "id": "088e7625",
   "metadata": {},
   "outputs": [
    {
     "data": {
      "text/html": [
       "<div>\n",
       "<style scoped>\n",
       "    .dataframe tbody tr th:only-of-type {\n",
       "        vertical-align: middle;\n",
       "    }\n",
       "\n",
       "    .dataframe tbody tr th {\n",
       "        vertical-align: top;\n",
       "    }\n",
       "\n",
       "    .dataframe thead th {\n",
       "        text-align: right;\n",
       "    }\n",
       "</style>\n",
       "<table border=\"1\" class=\"dataframe\">\n",
       "  <thead>\n",
       "    <tr style=\"text-align: right;\">\n",
       "      <th></th>\n",
       "      <th>total_bill</th>\n",
       "      <th>tip</th>\n",
       "      <th>size</th>\n",
       "    </tr>\n",
       "  </thead>\n",
       "  <tbody>\n",
       "    <tr>\n",
       "      <th>count</th>\n",
       "      <td>244.000000</td>\n",
       "      <td>244.000000</td>\n",
       "      <td>244.000000</td>\n",
       "    </tr>\n",
       "    <tr>\n",
       "      <th>mean</th>\n",
       "      <td>19.785943</td>\n",
       "      <td>2.998279</td>\n",
       "      <td>2.569672</td>\n",
       "    </tr>\n",
       "    <tr>\n",
       "      <th>std</th>\n",
       "      <td>8.902412</td>\n",
       "      <td>1.383638</td>\n",
       "      <td>0.951100</td>\n",
       "    </tr>\n",
       "    <tr>\n",
       "      <th>min</th>\n",
       "      <td>3.070000</td>\n",
       "      <td>1.000000</td>\n",
       "      <td>1.000000</td>\n",
       "    </tr>\n",
       "    <tr>\n",
       "      <th>25%</th>\n",
       "      <td>13.347500</td>\n",
       "      <td>2.000000</td>\n",
       "      <td>2.000000</td>\n",
       "    </tr>\n",
       "    <tr>\n",
       "      <th>50%</th>\n",
       "      <td>17.795000</td>\n",
       "      <td>2.900000</td>\n",
       "      <td>2.000000</td>\n",
       "    </tr>\n",
       "    <tr>\n",
       "      <th>75%</th>\n",
       "      <td>24.127500</td>\n",
       "      <td>3.562500</td>\n",
       "      <td>3.000000</td>\n",
       "    </tr>\n",
       "    <tr>\n",
       "      <th>max</th>\n",
       "      <td>50.810000</td>\n",
       "      <td>10.000000</td>\n",
       "      <td>6.000000</td>\n",
       "    </tr>\n",
       "  </tbody>\n",
       "</table>\n",
       "</div>"
      ],
      "text/plain": [
       "       total_bill         tip        size\n",
       "count  244.000000  244.000000  244.000000\n",
       "mean    19.785943    2.998279    2.569672\n",
       "std      8.902412    1.383638    0.951100\n",
       "min      3.070000    1.000000    1.000000\n",
       "25%     13.347500    2.000000    2.000000\n",
       "50%     17.795000    2.900000    2.000000\n",
       "75%     24.127500    3.562500    3.000000\n",
       "max     50.810000   10.000000    6.000000"
      ]
     },
     "execution_count": 33,
     "metadata": {},
     "output_type": "execute_result"
    }
   ],
   "source": [
    "uni.describe()"
   ]
  },
  {
   "cell_type": "code",
   "execution_count": 34,
   "id": "b3fd0f6d",
   "metadata": {},
   "outputs": [
    {
     "data": {
      "text/plain": [
       "(244, 7)"
      ]
     },
     "execution_count": 34,
     "metadata": {},
     "output_type": "execute_result"
    }
   ],
   "source": [
    "uni.shape"
   ]
  },
  {
   "cell_type": "code",
   "execution_count": 35,
   "id": "bfd9192a",
   "metadata": {},
   "outputs": [
    {
     "data": {
      "text/plain": [
       "Index(['total_bill', 'tip', 'sex', 'smoker', 'day', 'time', 'size'], dtype='object')"
      ]
     },
     "execution_count": 35,
     "metadata": {},
     "output_type": "execute_result"
    }
   ],
   "source": [
    "uni.columns"
   ]
  },
  {
   "cell_type": "code",
   "execution_count": 36,
   "id": "c0483043",
   "metadata": {},
   "outputs": [
    {
     "name": "stdout",
     "output_type": "stream",
     "text": [
      "total_bill: 244\n",
      "tip: 244\n",
      "sex: 244\n",
      "smoker: 244\n",
      "day: 244\n",
      "time: 244\n"
     ]
    }
   ],
   "source": [
    "print(f'total_bill: {uni.total_bill.count()}')\n",
    "print(f'tip: {uni.tip.count()}')\n",
    "print(f'sex: {uni.sex.count()}')\n",
    "print(f'smoker: {uni.smoker.count()}')\n",
    "print(f'day: {uni.day.count()}')\n",
    "print(f'time: {uni.time.count()}')"
   ]
  },
  {
   "cell_type": "code",
   "execution_count": 37,
   "id": "e0a9150e",
   "metadata": {},
   "outputs": [
    {
     "name": "stdout",
     "output_type": "stream",
     "text": [
      "total_bill: 229\n",
      "tip: 123\n",
      "sex: 2\n",
      "smoker: 2\n",
      "day: 4\n",
      "time: 2\n"
     ]
    },
    {
     "data": {
      "text/html": [
       "<div>\n",
       "<style scoped>\n",
       "    .dataframe tbody tr th:only-of-type {\n",
       "        vertical-align: middle;\n",
       "    }\n",
       "\n",
       "    .dataframe tbody tr th {\n",
       "        vertical-align: top;\n",
       "    }\n",
       "\n",
       "    .dataframe thead th {\n",
       "        text-align: right;\n",
       "    }\n",
       "</style>\n",
       "<table border=\"1\" class=\"dataframe\">\n",
       "  <thead>\n",
       "    <tr style=\"text-align: right;\">\n",
       "      <th></th>\n",
       "      <th>total_bill</th>\n",
       "      <th>tip</th>\n",
       "      <th>sex</th>\n",
       "      <th>smoker</th>\n",
       "      <th>day</th>\n",
       "      <th>time</th>\n",
       "      <th>size</th>\n",
       "    </tr>\n",
       "  </thead>\n",
       "  <tbody>\n",
       "    <tr>\n",
       "      <th>0</th>\n",
       "      <td>16.99</td>\n",
       "      <td>1.01</td>\n",
       "      <td>Female</td>\n",
       "      <td>No</td>\n",
       "      <td>Sun</td>\n",
       "      <td>Dinner</td>\n",
       "      <td>2</td>\n",
       "    </tr>\n",
       "    <tr>\n",
       "      <th>1</th>\n",
       "      <td>10.34</td>\n",
       "      <td>1.66</td>\n",
       "      <td>Male</td>\n",
       "      <td>No</td>\n",
       "      <td>Sun</td>\n",
       "      <td>Dinner</td>\n",
       "      <td>3</td>\n",
       "    </tr>\n",
       "    <tr>\n",
       "      <th>2</th>\n",
       "      <td>21.01</td>\n",
       "      <td>3.50</td>\n",
       "      <td>Male</td>\n",
       "      <td>No</td>\n",
       "      <td>Sun</td>\n",
       "      <td>Dinner</td>\n",
       "      <td>3</td>\n",
       "    </tr>\n",
       "    <tr>\n",
       "      <th>3</th>\n",
       "      <td>23.68</td>\n",
       "      <td>3.31</td>\n",
       "      <td>Male</td>\n",
       "      <td>No</td>\n",
       "      <td>Sun</td>\n",
       "      <td>Dinner</td>\n",
       "      <td>2</td>\n",
       "    </tr>\n",
       "    <tr>\n",
       "      <th>4</th>\n",
       "      <td>24.59</td>\n",
       "      <td>3.61</td>\n",
       "      <td>Female</td>\n",
       "      <td>No</td>\n",
       "      <td>Sun</td>\n",
       "      <td>Dinner</td>\n",
       "      <td>4</td>\n",
       "    </tr>\n",
       "    <tr>\n",
       "      <th>...</th>\n",
       "      <td>...</td>\n",
       "      <td>...</td>\n",
       "      <td>...</td>\n",
       "      <td>...</td>\n",
       "      <td>...</td>\n",
       "      <td>...</td>\n",
       "      <td>...</td>\n",
       "    </tr>\n",
       "    <tr>\n",
       "      <th>239</th>\n",
       "      <td>29.03</td>\n",
       "      <td>5.92</td>\n",
       "      <td>Male</td>\n",
       "      <td>No</td>\n",
       "      <td>Sat</td>\n",
       "      <td>Dinner</td>\n",
       "      <td>3</td>\n",
       "    </tr>\n",
       "    <tr>\n",
       "      <th>240</th>\n",
       "      <td>27.18</td>\n",
       "      <td>2.00</td>\n",
       "      <td>Female</td>\n",
       "      <td>Yes</td>\n",
       "      <td>Sat</td>\n",
       "      <td>Dinner</td>\n",
       "      <td>2</td>\n",
       "    </tr>\n",
       "    <tr>\n",
       "      <th>241</th>\n",
       "      <td>22.67</td>\n",
       "      <td>2.00</td>\n",
       "      <td>Male</td>\n",
       "      <td>Yes</td>\n",
       "      <td>Sat</td>\n",
       "      <td>Dinner</td>\n",
       "      <td>2</td>\n",
       "    </tr>\n",
       "    <tr>\n",
       "      <th>242</th>\n",
       "      <td>17.82</td>\n",
       "      <td>1.75</td>\n",
       "      <td>Male</td>\n",
       "      <td>No</td>\n",
       "      <td>Sat</td>\n",
       "      <td>Dinner</td>\n",
       "      <td>2</td>\n",
       "    </tr>\n",
       "    <tr>\n",
       "      <th>243</th>\n",
       "      <td>18.78</td>\n",
       "      <td>3.00</td>\n",
       "      <td>Female</td>\n",
       "      <td>No</td>\n",
       "      <td>Thur</td>\n",
       "      <td>Dinner</td>\n",
       "      <td>2</td>\n",
       "    </tr>\n",
       "  </tbody>\n",
       "</table>\n",
       "<p>244 rows × 7 columns</p>\n",
       "</div>"
      ],
      "text/plain": [
       "     total_bill   tip     sex smoker   day    time  size\n",
       "0         16.99  1.01  Female     No   Sun  Dinner     2\n",
       "1         10.34  1.66    Male     No   Sun  Dinner     3\n",
       "2         21.01  3.50    Male     No   Sun  Dinner     3\n",
       "3         23.68  3.31    Male     No   Sun  Dinner     2\n",
       "4         24.59  3.61  Female     No   Sun  Dinner     4\n",
       "..          ...   ...     ...    ...   ...     ...   ...\n",
       "239       29.03  5.92    Male     No   Sat  Dinner     3\n",
       "240       27.18  2.00  Female    Yes   Sat  Dinner     2\n",
       "241       22.67  2.00    Male    Yes   Sat  Dinner     2\n",
       "242       17.82  1.75    Male     No   Sat  Dinner     2\n",
       "243       18.78  3.00  Female     No  Thur  Dinner     2\n",
       "\n",
       "[244 rows x 7 columns]"
      ]
     },
     "execution_count": 37,
     "metadata": {},
     "output_type": "execute_result"
    }
   ],
   "source": [
    "# nuninque function will find unique variable that occurs one time or type of value like yes/no, male/female etc.\n",
    "print(f'total_bill: {uni.total_bill.nunique()}')\n",
    "print(f'tip: {uni.tip.nunique()}')\n",
    "print(f'sex: {uni.sex.nunique()}')\n",
    "print(f'smoker: {uni.smoker.nunique()}')\n",
    "print(f'day: {uni.day.nunique()}')\n",
    "print(f'time: {uni.time.nunique()}')\n",
    "uni"
   ]
  },
  {
   "cell_type": "code",
   "execution_count": 38,
   "id": "0f8c0c91",
   "metadata": {},
   "outputs": [
    {
     "name": "stdout",
     "output_type": "stream",
     "text": [
      "total_bill: float64\n",
      "tip: float64\n",
      "sex: object\n",
      "smoker: object\n",
      "day: object\n",
      "time: object\n"
     ]
    }
   ],
   "source": [
    "print(f'total_bill: {uni.total_bill.dtype}')\n",
    "print(f'tip: {uni.tip.dtype}')\n",
    "print(f'sex: {uni.sex.dtype}')\n",
    "print(f'smoker: {uni.smoker.dtype}')\n",
    "print(f'day: {uni.day.dtype}')\n",
    "print(f'time: {uni.time.dtype}')"
   ]
  },
  {
   "cell_type": "code",
   "execution_count": 39,
   "id": "f64c9aaa",
   "metadata": {},
   "outputs": [
    {
     "name": "stdout",
     "output_type": "stream",
     "text": [
      "total_bill: 0\n",
      "tip: <bound method NDFrame._add_numeric_operations.<locals>.sum of 0      False\n",
      "1      False\n",
      "2      False\n",
      "3      False\n",
      "4      False\n",
      "       ...  \n",
      "239    False\n",
      "240    False\n",
      "241    False\n",
      "242    False\n",
      "243    False\n",
      "Name: tip, Length: 244, dtype: bool>\n",
      "sex: <bound method NDFrame._add_numeric_operations.<locals>.sum of 0      False\n",
      "1      False\n",
      "2      False\n",
      "3      False\n",
      "4      False\n",
      "       ...  \n",
      "239    False\n",
      "240    False\n",
      "241    False\n",
      "242    False\n",
      "243    False\n",
      "Name: sex, Length: 244, dtype: bool>\n",
      "smoker: <bound method NDFrame._add_numeric_operations.<locals>.sum of 0      False\n",
      "1      False\n",
      "2      False\n",
      "3      False\n",
      "4      False\n",
      "       ...  \n",
      "239    False\n",
      "240    False\n",
      "241    False\n",
      "242    False\n",
      "243    False\n",
      "Name: smoker, Length: 244, dtype: bool>\n",
      "day: <bound method NDFrame._add_numeric_operations.<locals>.sum of 0      False\n",
      "1      False\n",
      "2      False\n",
      "3      False\n",
      "4      False\n",
      "       ...  \n",
      "239    False\n",
      "240    False\n",
      "241    False\n",
      "242    False\n",
      "243    False\n",
      "Name: day, Length: 244, dtype: bool>\n",
      "time: <bound method NDFrame._add_numeric_operations.<locals>.sum of 0      False\n",
      "1      False\n",
      "2      False\n",
      "3      False\n",
      "4      False\n",
      "       ...  \n",
      "239    False\n",
      "240    False\n",
      "241    False\n",
      "242    False\n",
      "243    False\n",
      "Name: time, Length: 244, dtype: bool>\n"
     ]
    }
   ],
   "source": [
    "print(f'total_bill: {uni.total_bill.isnull().sum()}')\n",
    "print(f'tip: {uni.tip.isnull().sum}')\n",
    "print(f'sex: {uni.sex.isnull().sum}')\n",
    "print(f'smoker: {uni.smoker.isnull().sum}')\n",
    "print(f'day: {uni.day.isnull().sum}')\n",
    "print(f'time: {uni.time.isnull().sum}')"
   ]
  },
  {
   "cell_type": "code",
   "execution_count": 40,
   "id": "490aede4",
   "metadata": {},
   "outputs": [
    {
     "name": "stdout",
     "output_type": "stream",
     "text": [
      "2.9982786885245902\n",
      "2.9\n",
      "0    2.0\n",
      "dtype: float64\n",
      "2.0\n",
      "2.9\n",
      "3.5625\n",
      "10.0\n",
      "1.0\n"
     ]
    }
   ],
   "source": [
    "# although we already know about quartiles, mean, median, mode, min, max. But there is function for it get the value\n",
    "# the output value is only for tip column.\n",
    "print(uni.tip.mean())\n",
    "print(uni.tip.median())\n",
    "print(uni.tip.mode())\n",
    "print(uni.tip.quantile(.25))\n",
    "print(uni.tip.quantile(.50))\n",
    "print(uni.tip.quantile(.75))\n",
    "print(uni.tip.max())\n",
    "print(uni.tip.min())"
   ]
  },
  {
   "cell_type": "code",
   "execution_count": 41,
   "id": "51a4295d",
   "metadata": {},
   "outputs": [
    {
     "data": {
      "text/plain": [
       "1.3836381890011826"
      ]
     },
     "execution_count": 41,
     "metadata": {},
     "output_type": "execute_result"
    }
   ],
   "source": [
    "#for getting standard deviation of any column,\n",
    "uni.tip.std()"
   ]
  },
  {
   "cell_type": "code",
   "execution_count": 42,
   "id": "efed3e5b",
   "metadata": {},
   "outputs": [
    {
     "data": {
      "text/plain": [
       "1.3807999538298958"
      ]
     },
     "execution_count": 42,
     "metadata": {},
     "output_type": "execute_result"
    }
   ],
   "source": [
    "#another way of standard deviation by using numpy is \n",
    "np.std(uni.tip)"
   ]
  },
  {
   "attachments": {
    "image.png": {
     "image/png": "[encoded data removed]"
    }
   },
   "cell_type": "markdown",
   "id": "aae80eb2",
   "metadata": {},
   "source": [
    "# skewness and kurtosis ![image.png](attachment:image.png)\n",
    "from scipy.stats import kurtosis,skew"
   ]
  },
  {
   "cell_type": "code",
   "execution_count": 43,
   "id": "161e0a38",
   "metadata": {},
   "outputs": [
    {
     "name": "stdout",
     "output_type": "stream",
     "text": [
      "1.46545103709794\n",
      "3.648375873352852\n"
     ]
    }
   ],
   "source": [
    "from scipy.stats import kurtosis,skew\n",
    "print(skew(uni.tip,bias=False))\n",
    "print(kurtosis(uni.tip,bias=False))"
   ]
  },
  {
   "cell_type": "code",
   "execution_count": 44,
   "id": "f477af62",
   "metadata": {},
   "outputs": [
    {
     "name": "stdout",
     "output_type": "stream",
     "text": [
      "1.4654510370979401\n",
      "3.648375873352852\n"
     ]
    }
   ],
   "source": [
    "# another way is \n",
    "print(uni.tip.skew())\n",
    "print(uni.tip.kurt())"
   ]
  },
  {
   "cell_type": "markdown",
   "id": "130694df",
   "metadata": {},
   "source": [
    "# Correlation between two entity"
   ]
  },
  {
   "cell_type": "code",
   "execution_count": 45,
   "id": "8261de29",
   "metadata": {},
   "outputs": [
    {
     "data": {
      "text/plain": [
       "array([[1.        , 0.92989745],\n",
       "       [0.92989745, 1.        ]])"
      ]
     },
     "execution_count": 45,
     "metadata": {},
     "output_type": "execute_result"
    }
   ],
   "source": [
    "height=[60,62,65,68,70,74]\n",
    "weight=[140,138,150,166,190,250]\n",
    "# below line will find the correlation between these two entity and provide and result (height (1,----),\n",
    "# weight(-----. 1))\n",
    "np.corrcoef(height,weight)"
   ]
  },
  {
   "cell_type": "code",
   "execution_count": 46,
   "id": "e2b9c59c",
   "metadata": {},
   "outputs": [
    {
     "data": {
      "text/plain": [
       "0.9298974521408027"
      ]
     },
     "execution_count": 46,
     "metadata": {},
     "output_type": "execute_result"
    }
   ],
   "source": [
    "#if you want to know the correlation between two any particular value . given it an index\n",
    "np.corrcoef(height,weight)[0][1]"
   ]
  },
  {
   "cell_type": "code",
   "execution_count": 47,
   "id": "78635e9f",
   "metadata": {},
   "outputs": [
    {
     "data": {
      "text/html": [
       "<div>\n",
       "<style scoped>\n",
       "    .dataframe tbody tr th:only-of-type {\n",
       "        vertical-align: middle;\n",
       "    }\n",
       "\n",
       "    .dataframe tbody tr th {\n",
       "        vertical-align: top;\n",
       "    }\n",
       "\n",
       "    .dataframe thead th {\n",
       "        text-align: right;\n",
       "    }\n",
       "</style>\n",
       "<table border=\"1\" class=\"dataframe\">\n",
       "  <thead>\n",
       "    <tr style=\"text-align: right;\">\n",
       "      <th></th>\n",
       "      <th>total_bill</th>\n",
       "      <th>tip</th>\n",
       "      <th>size</th>\n",
       "    </tr>\n",
       "  </thead>\n",
       "  <tbody>\n",
       "    <tr>\n",
       "      <th>total_bill</th>\n",
       "      <td>1.000000</td>\n",
       "      <td>0.675734</td>\n",
       "      <td>0.598315</td>\n",
       "    </tr>\n",
       "    <tr>\n",
       "      <th>tip</th>\n",
       "      <td>0.675734</td>\n",
       "      <td>1.000000</td>\n",
       "      <td>0.489299</td>\n",
       "    </tr>\n",
       "    <tr>\n",
       "      <th>size</th>\n",
       "      <td>0.598315</td>\n",
       "      <td>0.489299</td>\n",
       "      <td>1.000000</td>\n",
       "    </tr>\n",
       "  </tbody>\n",
       "</table>\n",
       "</div>"
      ],
      "text/plain": [
       "            total_bill       tip      size\n",
       "total_bill    1.000000  0.675734  0.598315\n",
       "tip           0.675734  1.000000  0.489299\n",
       "size          0.598315  0.489299  1.000000"
      ]
     },
     "execution_count": 47,
     "metadata": {},
     "output_type": "execute_result"
    }
   ],
   "source": [
    "# here we are gettng result of correlation by using dataframe 'uni' and using pandas\n",
    "uni.corr()\n",
    "#below line is show result as corr(row,Column) so, corr(total_bill,total_bill) , corr(tip,total_bill)=0.675734"
   ]
  },
  {
   "cell_type": "code",
   "execution_count": 48,
   "id": "65cabc29",
   "metadata": {},
   "outputs": [
    {
     "data": {
      "text/plain": [
       "0.6757341092113641"
      ]
     },
     "execution_count": 48,
     "metadata": {},
     "output_type": "execute_result"
    }
   ],
   "source": [
    "# if you want to do find the correlation between two column \n",
    "uni.tip.corr(uni.total_bill)"
   ]
  },
  {
   "cell_type": "code",
   "execution_count": 49,
   "id": "849bb217",
   "metadata": {},
   "outputs": [
    {
     "data": {
      "text/plain": [
       "(0.6757341092113645, 6.692470646863477e-34)"
      ]
     },
     "execution_count": 49,
     "metadata": {},
     "output_type": "execute_result"
    }
   ],
   "source": [
    "# if you want to find correlation according to pearson observation formula\n",
    "from scipy import stats\n",
    "cor=stats.pearsonr(uni.tip,uni.total_bill)\n",
    "cor\n",
    "# below is the output. first is correlation value and other is p-value"
   ]
  },
  {
   "cell_type": "code",
   "execution_count": 50,
   "id": "34eb9a96",
   "metadata": {},
   "outputs": [
    {
     "name": "stdout",
     "output_type": "stream",
     "text": [
      "0.6757341092113645\n",
      "6.692470646863477e-34\n"
     ]
    }
   ],
   "source": [
    "#because the pearson funcion is passing two value, so we can store it in two variable.r represent correlation \n",
    "# and p represent p-value\n",
    "r,p=stats.pearsonr(uni.tip,uni.total_bill)\n",
    "print(r)\n",
    "print(p)"
   ]
  },
  {
   "cell_type": "code",
   "execution_count": 51,
   "id": "7dcdfaf1",
   "metadata": {},
   "outputs": [],
   "source": [
    "corr_df=pd.DataFrame(columns=['r','p'])"
   ]
  },
  {
   "cell_type": "code",
   "execution_count": 52,
   "id": "0c415a15",
   "metadata": {},
   "outputs": [],
   "source": [
    "for col in uni:\n",
    "    if pd.api.types.is_numeric_dtype(uni[col]):\n",
    "        r,p=stats.pearsonr(uni.tip,uni[col])\n",
    "        corr_df.loc[col]=[round(r,3),round(p,3)]"
   ]
  },
  {
   "cell_type": "code",
   "execution_count": 53,
   "id": "450dda62",
   "metadata": {},
   "outputs": [
    {
     "data": {
      "text/html": [
       "<div>\n",
       "<style scoped>\n",
       "    .dataframe tbody tr th:only-of-type {\n",
       "        vertical-align: middle;\n",
       "    }\n",
       "\n",
       "    .dataframe tbody tr th {\n",
       "        vertical-align: top;\n",
       "    }\n",
       "\n",
       "    .dataframe thead th {\n",
       "        text-align: right;\n",
       "    }\n",
       "</style>\n",
       "<table border=\"1\" class=\"dataframe\">\n",
       "  <thead>\n",
       "    <tr style=\"text-align: right;\">\n",
       "      <th></th>\n",
       "      <th>r</th>\n",
       "      <th>p</th>\n",
       "    </tr>\n",
       "  </thead>\n",
       "  <tbody>\n",
       "    <tr>\n",
       "      <th>total_bill</th>\n",
       "      <td>0.676</td>\n",
       "      <td>0.0</td>\n",
       "    </tr>\n",
       "    <tr>\n",
       "      <th>tip</th>\n",
       "      <td>1.000</td>\n",
       "      <td>0.0</td>\n",
       "    </tr>\n",
       "    <tr>\n",
       "      <th>size</th>\n",
       "      <td>0.489</td>\n",
       "      <td>0.0</td>\n",
       "    </tr>\n",
       "  </tbody>\n",
       "</table>\n",
       "</div>"
      ],
      "text/plain": [
       "                r    p\n",
       "total_bill  0.676  0.0\n",
       "tip         1.000  0.0\n",
       "size        0.489  0.0"
      ]
     },
     "execution_count": 53,
     "metadata": {},
     "output_type": "execute_result"
    }
   ],
   "source": [
    "corr_df"
   ]
  },
  {
   "cell_type": "code",
   "execution_count": 54,
   "id": "70f1bacd",
   "metadata": {},
   "outputs": [
    {
     "data": {
      "image/png": "[encoded data removed]",
      "text/plain": [
       "<Figure size 432x288 with 1 Axes>"
      ]
     },
     "metadata": {
      "needs_background": "light"
     },
     "output_type": "display_data"
    }
   ],
   "source": [
    "import matplotlib.pyplot as plt\n",
    "plt.scatter(uni.tip,uni.total_bill)\n",
    "plt.title('tips vs total_bill')\n",
    "plt.xlabel('tip')\n",
    "plt.ylabel('total_bill')\n",
    "plt.show()"
   ]
  },
  {
   "cell_type": "markdown",
   "id": "b13e2040",
   "metadata": {},
   "source": [
    "# Below markdown code is not working as per aspect"
   ]
  },
  {
   "cell_type": "code",
   "execution_count": 68,
   "id": "a7c6930d",
   "metadata": {},
   "outputs": [
    {
     "data": {
      "image/png": "[encoded data removed]",
      "text/plain": [
       "<Figure size 432x288 with 1 Axes>"
      ]
     },
     "metadata": {
      "needs_background": "light"
     },
     "output_type": "display_data"
    }
   ],
   "source": [
    "# Not working as per aspect\n",
    "# now here we have to show it conditionally.\n",
    "# like show differently smoker and non smoker two graph in single plot.\n",
    "uni_smoker=uni[uni['smoker']=='yes']\n",
    "uni_nonsmoker=uni[uni['smoker']=='no']\n",
    "plt.scatter(uni_smoker.total_bill,uni_smoker.half_of_total_bill,label=\"smoker\")\n",
    "plt.scatter(uni_nonsmoker.total_bill,uni_nonsmoker.half_of_total_bill,label=\"non smoker\")\n",
    "plt.xlabel('half of total bill')\n",
    "plt.ylabel('total_bill')\n",
    "plt.show()"
   ]
  },
  {
   "cell_type": "code",
   "execution_count": 70,
   "id": "8960ab45",
   "metadata": {},
   "outputs": [
    {
     "data": {
      "image/png": "[encoded data removed]",
      "text/plain": [
       "<Figure size 432x288 with 1 Axes>"
      ]
     },
     "metadata": {
      "needs_background": "light"
     },
     "output_type": "display_data"
    },
    {
     "name": "stderr",
     "output_type": "stream",
     "text": [
      "No handles with labels found to put in legend.\n"
     ]
    },
    {
     "data": {
      "text/plain": [
       "<matplotlib.legend.Legend at 0x7f9ad0950e80>"
      ]
     },
     "execution_count": 70,
     "metadata": {},
     "output_type": "execute_result"
    },
    {
     "data": {
      "image/png": "[encoded data removed]",
      "text/plain": [
       "<Figure size 432x288 with 1 Axes>"
      ]
     },
     "metadata": {
      "needs_background": "light"
     },
     "output_type": "display_data"
    }
   ],
   "source": [
    "plt.scatter(uni.tip,uni.total_bill,label=\"tip vs total bill\")\n",
    "plt.scatter(uni.smoker,uni.total_bill,label=\"smoker vs total bill\")\n",
    "plt.title('tips vs total_bill')\n",
    "plt.xlabel('tip')\n",
    "plt.ylabel('total_bill')\n",
    "plt.show()\n",
    "plt.legend()"
   ]
  },
  {
   "cell_type": "code",
   "execution_count": 74,
   "id": "339bdf60",
   "metadata": {},
   "outputs": [
    {
     "ename": "ValueError",
     "evalue": "a must be greater than 0 unless no samples are taken",
     "output_type": "error",
     "traceback": [
      "\u001b[0;31m---------------------------------------------------------------------------\u001b[0m",
      "\u001b[0;31mValueError\u001b[0m                                Traceback (most recent call last)",
      "\u001b[0;32m/tmp/ipykernel_218402/2764617729.py\u001b[0m in \u001b[0;36m<module>\u001b[0;34m\u001b[0m\n\u001b[0;32m----> 1\u001b[0;31m \u001b[0muni_smoker_reduced\u001b[0m\u001b[0;34m=\u001b[0m\u001b[0muni_smoker\u001b[0m\u001b[0;34m.\u001b[0m\u001b[0msample\u001b[0m\u001b[0;34m(\u001b[0m\u001b[0;36m50\u001b[0m\u001b[0;34m)\u001b[0m\u001b[0;34m\u001b[0m\u001b[0;34m\u001b[0m\u001b[0m\n\u001b[0m\u001b[1;32m      2\u001b[0m \u001b[0muni_nonsmoker_reduced\u001b[0m\u001b[0;34m=\u001b[0m\u001b[0muni_nonsmoker\u001b[0m\u001b[0;34m.\u001b[0m\u001b[0msample\u001b[0m\u001b[0;34m(\u001b[0m\u001b[0;36m50\u001b[0m\u001b[0;34m)\u001b[0m\u001b[0;34m\u001b[0m\u001b[0;34m\u001b[0m\u001b[0m\n\u001b[1;32m      3\u001b[0m \u001b[0mplt\u001b[0m\u001b[0;34m.\u001b[0m\u001b[0mscatter\u001b[0m\u001b[0;34m(\u001b[0m\u001b[0muni_smoker_reduced\u001b[0m\u001b[0;34m.\u001b[0m\u001b[0mtip\u001b[0m\u001b[0;34m,\u001b[0m\u001b[0muni_smoker_reduced\u001b[0m\u001b[0;34m.\u001b[0m\u001b[0mtotal_bill\u001b[0m\u001b[0;34m,\u001b[0m\u001b[0mlabel\u001b[0m\u001b[0;34m=\u001b[0m\u001b[0;34m\"tip vs total bill\"\u001b[0m\u001b[0;34m)\u001b[0m\u001b[0;34m\u001b[0m\u001b[0;34m\u001b[0m\u001b[0m\n\u001b[1;32m      4\u001b[0m \u001b[0mplt\u001b[0m\u001b[0;34m.\u001b[0m\u001b[0mscatter\u001b[0m\u001b[0;34m(\u001b[0m\u001b[0muni_nonsmoker_reduced\u001b[0m\u001b[0;34m.\u001b[0m\u001b[0mtip\u001b[0m\u001b[0;34m,\u001b[0m\u001b[0muni_nonsmoker_reduced\u001b[0m\u001b[0;34m.\u001b[0m\u001b[0mtotal_bill\u001b[0m\u001b[0;34m,\u001b[0m\u001b[0mlabel\u001b[0m\u001b[0;34m=\u001b[0m\u001b[0;34m\"smoker vs total bill\"\u001b[0m\u001b[0;34m)\u001b[0m\u001b[0;34m\u001b[0m\u001b[0;34m\u001b[0m\u001b[0m\n\u001b[1;32m      5\u001b[0m \u001b[0mplt\u001b[0m\u001b[0;34m.\u001b[0m\u001b[0mtitle\u001b[0m\u001b[0;34m(\u001b[0m\u001b[0;34m'tips vs total_bill'\u001b[0m\u001b[0;34m)\u001b[0m\u001b[0;34m\u001b[0m\u001b[0;34m\u001b[0m\u001b[0m\n",
      "\u001b[0;32m~/anaconda3/lib/python3.9/site-packages/pandas/core/generic.py\u001b[0m in \u001b[0;36msample\u001b[0;34m(self, n, frac, replace, weights, random_state, axis, ignore_index)\u001b[0m\n\u001b[1;32m   5363\u001b[0m             )\n\u001b[1;32m   5364\u001b[0m \u001b[0;34m\u001b[0m\u001b[0m\n\u001b[0;32m-> 5365\u001b[0;31m         \u001b[0mlocs\u001b[0m \u001b[0;34m=\u001b[0m \u001b[0mrs\u001b[0m\u001b[0;34m.\u001b[0m\u001b[0mchoice\u001b[0m\u001b[0;34m(\u001b[0m\u001b[0maxis_length\u001b[0m\u001b[0;34m,\u001b[0m \u001b[0msize\u001b[0m\u001b[0;34m=\u001b[0m\u001b[0mn\u001b[0m\u001b[0;34m,\u001b[0m \u001b[0mreplace\u001b[0m\u001b[0;34m=\u001b[0m\u001b[0mreplace\u001b[0m\u001b[0;34m,\u001b[0m \u001b[0mp\u001b[0m\u001b[0;34m=\u001b[0m\u001b[0mweights\u001b[0m\u001b[0;34m)\u001b[0m\u001b[0;34m\u001b[0m\u001b[0;34m\u001b[0m\u001b[0m\n\u001b[0m\u001b[1;32m   5366\u001b[0m         \u001b[0mresult\u001b[0m \u001b[0;34m=\u001b[0m \u001b[0mself\u001b[0m\u001b[0;34m.\u001b[0m\u001b[0mtake\u001b[0m\u001b[0;34m(\u001b[0m\u001b[0mlocs\u001b[0m\u001b[0;34m,\u001b[0m \u001b[0maxis\u001b[0m\u001b[0;34m=\u001b[0m\u001b[0maxis\u001b[0m\u001b[0;34m)\u001b[0m\u001b[0;34m\u001b[0m\u001b[0;34m\u001b[0m\u001b[0m\n\u001b[1;32m   5367\u001b[0m         \u001b[0;32mif\u001b[0m \u001b[0mignore_index\u001b[0m\u001b[0;34m:\u001b[0m\u001b[0;34m\u001b[0m\u001b[0;34m\u001b[0m\u001b[0m\n",
      "\u001b[0;32mmtrand.pyx\u001b[0m in \u001b[0;36mnumpy.random.mtrand.RandomState.choice\u001b[0;34m()\u001b[0m\n",
      "\u001b[0;31mValueError\u001b[0m: a must be greater than 0 unless no samples are taken"
     ]
    }
   ],
   "source": [
    "#not working \n",
    "uni_smoker_reduced=uni_smoker.sample(50)\n",
    "uni_nonsmoker_reduced=uni_nonsmoker.sample(50)\n",
    "plt.scatter(uni_smoker_reduced.tip,uni_smoker_reduced.total_bill,label=\"tip vs total bill\")\n",
    "plt.scatter(uni_nonsmoker_reduced.tip,uni_nonsmoker_reduced.total_bill,label=\"smoker vs total bill\")\n",
    "plt.title('tips vs total_bill')\n",
    "plt.xlabel('tip')\n",
    "plt.ylabel('total_bill')\n",
    "plt.show()\n",
    "plt.legend()"
   ]
  },
  {
   "cell_type": "code",
   "execution_count": 76,
   "id": "071da96a",
   "metadata": {},
   "outputs": [
    {
     "name": "stdout",
     "output_type": "stream",
     "text": [
      "LinregressResult(slope=4.347714207346625, intercept=6.7502837712678545, rvalue=0.6757341092113641, pvalue=6.692470646864404e-34, stderr=0.30488120542754066, intercept_stderr=1.0063982017397524)\n"
     ]
    },
    {
     "data": {
      "image/png": "[encoded data removed]",
      "text/plain": [
       "<Figure size 432x288 with 1 Axes>"
      ]
     },
     "metadata": {
      "needs_background": "light"
     },
     "output_type": "display_data"
    }
   ],
   "source": [
    "#to do regressioin analysis in graph also to find all value of regression model from graph\n",
    "from scipy import stats\n",
    "print(stats.linregress(uni.tip,uni.total_bill))\n",
    "plt.scatter(uni.tip,uni.total_bill)\n",
    "plt.title(\"jfdkljslk\")\n",
    "plt.xlabel('tip')\n",
    "plt.ylabel('total_bill')\n",
    "plt.show()\n",
    "#below are graph which is showing tip vs total bill with value in text slope,intercept,rvalue,p-value,stderr,intercept stderr."
   ]
  },
  {
   "cell_type": "code",
   "execution_count": null,
   "id": "0983f029",
   "metadata": {},
   "outputs": [],
   "source": [
    "    "
   ]
  }
 ],
 "metadata": {
  "kernelspec": {
   "display_name": "Python 3 (ipykernel)",
   "language": "python",
   "name": "python3"
  },
  "language_info": {
   "codemirror_mode": {
    "name": "ipython",
    "version": 3
   },
   "file_extension": ".py",
   "mimetype": "text/x-python",
   "name": "python",
   "nbconvert_exporter": "python",
   "pygments_lexer": "ipython3",
   "version": "3.9.7"
  }
 },
 "nbformat": 4,
 "nbformat_minor": 5
}
