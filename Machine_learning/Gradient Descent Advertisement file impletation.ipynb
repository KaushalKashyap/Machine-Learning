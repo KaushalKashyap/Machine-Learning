{
 "cells": [
  {
   "cell_type": "code",
   "execution_count": 48,
   "id": "f2763673",
   "metadata": {},
   "outputs": [],
   "source": [
    "# Gradient Descent have no specific library . you just have to use function and loops to derive this concept . \n",
    "# basically it is the concept where you calculate the MSE(mean squared error) and adding some penality factors\n",
    "# to get desired output.\n",
    "import warnings \n",
    "warnings.filterwarnings('ignore')\n",
    "import pandas as pd\n",
    "import numpy as np\n",
    "import matplotlib.pyplot as plt"
   ]
  },
  {
   "cell_type": "code",
   "execution_count": 49,
   "id": "728ed230",
   "metadata": {},
   "outputs": [
    {
     "data": {
      "text/html": [
       "<div>\n",
       "<style scoped>\n",
       "    .dataframe tbody tr th:only-of-type {\n",
       "        vertical-align: middle;\n",
       "    }\n",
       "\n",
       "    .dataframe tbody tr th {\n",
       "        vertical-align: top;\n",
       "    }\n",
       "\n",
       "    .dataframe thead th {\n",
       "        text-align: right;\n",
       "    }\n",
       "</style>\n",
       "<table border=\"1\" class=\"dataframe\">\n",
       "  <thead>\n",
       "    <tr style=\"text-align: right;\">\n",
       "      <th></th>\n",
       "      <th>TV</th>\n",
       "      <th>Radio</th>\n",
       "      <th>Newspaper</th>\n",
       "      <th>Sales</th>\n",
       "      <th>Unnamed: 4</th>\n",
       "      <th>TV^2</th>\n",
       "      <th>tv.radio</th>\n",
       "      <th>tv.news</th>\n",
       "      <th>radio^2</th>\n",
       "      <th>radio.news</th>\n",
       "      <th>news^2</th>\n",
       "    </tr>\n",
       "  </thead>\n",
       "  <tbody>\n",
       "    <tr>\n",
       "      <th>0</th>\n",
       "      <td>230.1</td>\n",
       "      <td>37.8</td>\n",
       "      <td>69.2</td>\n",
       "      <td>22.1</td>\n",
       "      <td>NaN</td>\n",
       "      <td>52,946</td>\n",
       "      <td>8,698</td>\n",
       "      <td>15,923</td>\n",
       "      <td>1,429</td>\n",
       "      <td>2,616</td>\n",
       "      <td>4,789</td>\n",
       "    </tr>\n",
       "    <tr>\n",
       "      <th>1</th>\n",
       "      <td>44.5</td>\n",
       "      <td>39.3</td>\n",
       "      <td>45.1</td>\n",
       "      <td>10.4</td>\n",
       "      <td>NaN</td>\n",
       "      <td>NaN</td>\n",
       "      <td>NaN</td>\n",
       "      <td>NaN</td>\n",
       "      <td>NaN</td>\n",
       "      <td>NaN</td>\n",
       "      <td>NaN</td>\n",
       "    </tr>\n",
       "    <tr>\n",
       "      <th>2</th>\n",
       "      <td>17.2</td>\n",
       "      <td>45.9</td>\n",
       "      <td>69.3</td>\n",
       "      <td>9.3</td>\n",
       "      <td>NaN</td>\n",
       "      <td>NaN</td>\n",
       "      <td>NaN</td>\n",
       "      <td>NaN</td>\n",
       "      <td>NaN</td>\n",
       "      <td>NaN</td>\n",
       "      <td>NaN</td>\n",
       "    </tr>\n",
       "    <tr>\n",
       "      <th>3</th>\n",
       "      <td>151.5</td>\n",
       "      <td>41.3</td>\n",
       "      <td>58.5</td>\n",
       "      <td>18.5</td>\n",
       "      <td>NaN</td>\n",
       "      <td>NaN</td>\n",
       "      <td>NaN</td>\n",
       "      <td>NaN</td>\n",
       "      <td>NaN</td>\n",
       "      <td>NaN</td>\n",
       "      <td>NaN</td>\n",
       "    </tr>\n",
       "    <tr>\n",
       "      <th>4</th>\n",
       "      <td>180.8</td>\n",
       "      <td>10.8</td>\n",
       "      <td>58.4</td>\n",
       "      <td>12.9</td>\n",
       "      <td>NaN</td>\n",
       "      <td>NaN</td>\n",
       "      <td>NaN</td>\n",
       "      <td>NaN</td>\n",
       "      <td>NaN</td>\n",
       "      <td>NaN</td>\n",
       "      <td>NaN</td>\n",
       "    </tr>\n",
       "  </tbody>\n",
       "</table>\n",
       "</div>"
      ],
      "text/plain": [
       "      TV  Radio  Newspaper  Sales  Unnamed: 4      TV^2 tv.radio   tv.news  \\\n",
       "0  230.1   37.8       69.2   22.1         NaN   52,946    8,698    15,923    \n",
       "1   44.5   39.3       45.1   10.4         NaN       NaN      NaN       NaN   \n",
       "2   17.2   45.9       69.3    9.3         NaN       NaN      NaN       NaN   \n",
       "3  151.5   41.3       58.5   18.5         NaN       NaN      NaN       NaN   \n",
       "4  180.8   10.8       58.4   12.9         NaN       NaN      NaN       NaN   \n",
       "\n",
       "   radio^2 radio.news   news^2  \n",
       "0   1,429      2,616    4,789   \n",
       "1      NaN        NaN      NaN  \n",
       "2      NaN        NaN      NaN  \n",
       "3      NaN        NaN      NaN  \n",
       "4      NaN        NaN      NaN  "
      ]
     },
     "execution_count": 49,
     "metadata": {},
     "output_type": "execute_result"
    }
   ],
   "source": [
    "sales_df=pd.read_csv('Advertising.csv')\n",
    "sales_df.head()"
   ]
  },
  {
   "cell_type": "markdown",
   "id": "0434f19d",
   "metadata": {},
   "source": [
    "# defing X and y"
   ]
  },
  {
   "cell_type": "code",
   "execution_count": 50,
   "id": "0f9c7cce",
   "metadata": {},
   "outputs": [],
   "source": [
    "X=sales_df[['TV','Radio','Newspaper']]\n",
    "y=sales_df['Sales']"
   ]
  },
  {
   "cell_type": "markdown",
   "id": "0eb54f17",
   "metadata": {},
   "source": [
    "# Standardizing the value , means we take the Y value and Convert it into Normal distribution kind of values ..Like calculating its Z-Score(x-x.mean())/x.std(). So now X will have standardized data as Z-score.\n",
    "It will be better for gradient descent algorithm if value be in small range"
   ]
  },
  {
   "cell_type": "code",
   "execution_count": 51,
   "id": "b26d35e3",
   "metadata": {},
   "outputs": [],
   "source": [
    "# Because of Standardisation the data will be better for Gradient Descent algorithm if the values are in small range.\n",
    "# for X feature it has several column so, .apply will or can be used to be standardize each column data at a time.\n",
    "X=X.apply(lambda rec: (rec -rec.mean())/rec.std(),axis=1)\n",
    "y=np.array((y-y.mean())/y.std())"
   ]
  },
  {
   "cell_type": "code",
   "execution_count": 52,
   "id": "2b904959",
   "metadata": {},
   "outputs": [
    {
     "data": {
      "text/html": [
       "<div>\n",
       "<style scoped>\n",
       "    .dataframe tbody tr th:only-of-type {\n",
       "        vertical-align: middle;\n",
       "    }\n",
       "\n",
       "    .dataframe tbody tr th {\n",
       "        vertical-align: top;\n",
       "    }\n",
       "\n",
       "    .dataframe thead th {\n",
       "        text-align: right;\n",
       "    }\n",
       "</style>\n",
       "<table border=\"1\" class=\"dataframe\">\n",
       "  <thead>\n",
       "    <tr style=\"text-align: right;\">\n",
       "      <th></th>\n",
       "      <th>TV</th>\n",
       "      <th>Radio</th>\n",
       "      <th>Newspaper</th>\n",
       "    </tr>\n",
       "  </thead>\n",
       "  <tbody>\n",
       "    <tr>\n",
       "      <th>0</th>\n",
       "      <td>1.141250</td>\n",
       "      <td>-0.722813</td>\n",
       "      <td>-0.418437</td>\n",
       "    </tr>\n",
       "    <tr>\n",
       "      <th>1</th>\n",
       "      <td>0.480734</td>\n",
       "      <td>-1.149582</td>\n",
       "      <td>0.668847</td>\n",
       "    </tr>\n",
       "    <tr>\n",
       "      <th>2</th>\n",
       "      <td>-1.032131</td>\n",
       "      <td>0.067702</td>\n",
       "      <td>0.964429</td>\n",
       "    </tr>\n",
       "    <tr>\n",
       "      <th>3</th>\n",
       "      <td>1.142487</td>\n",
       "      <td>-0.716303</td>\n",
       "      <td>-0.426184</td>\n",
       "    </tr>\n",
       "    <tr>\n",
       "      <th>4</th>\n",
       "      <td>1.111367</td>\n",
       "      <td>-0.827064</td>\n",
       "      <td>-0.284303</td>\n",
       "    </tr>\n",
       "    <tr>\n",
       "      <th>...</th>\n",
       "      <td>...</td>\n",
       "      <td>...</td>\n",
       "      <td>...</td>\n",
       "    </tr>\n",
       "    <tr>\n",
       "      <th>195</th>\n",
       "      <td>1.106910</td>\n",
       "      <td>-0.838170</td>\n",
       "      <td>-0.268741</td>\n",
       "    </tr>\n",
       "    <tr>\n",
       "      <th>196</th>\n",
       "      <td>1.154124</td>\n",
       "      <td>-0.608646</td>\n",
       "      <td>-0.545478</td>\n",
       "    </tr>\n",
       "    <tr>\n",
       "      <th>197</th>\n",
       "      <td>1.154573</td>\n",
       "      <td>-0.562441</td>\n",
       "      <td>-0.592133</td>\n",
       "    </tr>\n",
       "    <tr>\n",
       "      <th>198</th>\n",
       "      <td>1.149916</td>\n",
       "      <td>-0.665899</td>\n",
       "      <td>-0.484017</td>\n",
       "    </tr>\n",
       "    <tr>\n",
       "      <th>199</th>\n",
       "      <td>1.154700</td>\n",
       "      <td>-0.577738</td>\n",
       "      <td>-0.576963</td>\n",
       "    </tr>\n",
       "  </tbody>\n",
       "</table>\n",
       "<p>200 rows × 3 columns</p>\n",
       "</div>"
      ],
      "text/plain": [
       "           TV     Radio  Newspaper\n",
       "0    1.141250 -0.722813  -0.418437\n",
       "1    0.480734 -1.149582   0.668847\n",
       "2   -1.032131  0.067702   0.964429\n",
       "3    1.142487 -0.716303  -0.426184\n",
       "4    1.111367 -0.827064  -0.284303\n",
       "..        ...       ...        ...\n",
       "195  1.106910 -0.838170  -0.268741\n",
       "196  1.154124 -0.608646  -0.545478\n",
       "197  1.154573 -0.562441  -0.592133\n",
       "198  1.149916 -0.665899  -0.484017\n",
       "199  1.154700 -0.577738  -0.576963\n",
       "\n",
       "[200 rows x 3 columns]"
      ]
     },
     "execution_count": 52,
     "metadata": {},
     "output_type": "execute_result"
    }
   ],
   "source": [
    "X"
   ]
  },
  {
   "cell_type": "code",
   "execution_count": 53,
   "id": "55079941",
   "metadata": {},
   "outputs": [],
   "source": [
    "# Step 1 ---- As per the Concept of Gradient Descent, Here we are initialising Bias and Weight with random Number . \n",
    "# there is no calculation in this block . we are just intialising the bias and weight\n",
    "# as we know bias is constant and here w(X Features) has three column so w will store 3 random number\n",
    "# as you can see we have passed 3 as an argument to calculate..\n",
    "\n",
    "import random\n",
    "#dim is the number of weights(each data of X Features) to be initialised besides the bias\n",
    "# here we are doing for both B0 and B1\n",
    "\n",
    "def initialize(dim):\n",
    "    #for reproducable result the seed is set to 42\n",
    "    np.random.seed(seed=42)\n",
    "    random.seed(42)\n",
    "    #initialize the bias\n",
    "    # b will have one random value \n",
    "    b=random.random()\n",
    "    #initialize the weights\n",
    "    # w has dim no. of value when the function called with value\n",
    "    w=np.random.rand(dim)\n",
    "    return (b,w)\n",
    "# b is the bias which is constant for every value of X feature. it is B0\n",
    "# w represents the each weight(each data) it is B1\n",
    "\n",
    "    "
   ]
  },
  {
   "cell_type": "code",
   "execution_count": 54,
   "id": "4adadfcc",
   "metadata": {},
   "outputs": [
    {
     "name": "stdout",
     "output_type": "stream",
     "text": [
      "Bias: 0.6394267984578837 Weight: [0.37454012 0.95071431 0.73199394]\n"
     ]
    }
   ],
   "source": [
    "# here we are calling that function to get bias and weight value\n",
    "b,w=initialize(3)\n",
    "print('Bias:',b,'Weight:',w)"
   ]
  },
  {
   "cell_type": "code",
   "execution_count": 55,
   "id": "7423e2c9",
   "metadata": {},
   "outputs": [],
   "source": [
    "# Step 2 ---here we are performing the step 2 which is predict the Y_hat As per concept of gradient Descent\n",
    "# here we are performing predict using linear regression formula(B0+B1.X)\n",
    "#bias- b\n",
    "#weight- w\n",
    "#X- the input matrix\n",
    "def predict_y(b,w,X):\n",
    "    return b + np.dot(X,w)\n",
    "# here we are using dot matrix . in return the same formula use as linear reg. i.e, B0(b)+B1(w).X(input matrix)\n",
    "#y_hat=B0+B1X"
   ]
  },
  {
   "cell_type": "code",
   "execution_count": 56,
   "id": "3ddf4696",
   "metadata": {},
   "outputs": [
    {
     "data": {
      "text/plain": [
       "array([0.07338863, 0.21614965, 1.02317352, 0.07437026, 0.06126864,\n",
       "       1.05014616, 0.17749303, 0.11603025, 0.13453933, 0.08368457])"
      ]
     },
     "execution_count": 56,
     "metadata": {},
     "output_type": "execute_result"
    }
   ],
   "source": [
    "# here we are caling the predict function to see the predicted values\n",
    "b,w=initialize(3)\n",
    "y_hat=predict_y(b,w,X)\n",
    "y_hat[0:10]\n",
    "# below are the predict value from 0 to 10 count.   "
   ]
  },
  {
   "cell_type": "code",
   "execution_count": 57,
   "id": "b5b3bfa1",
   "metadata": {},
   "outputs": [],
   "source": [
    "# Step 3------ calculating MSE As per concept of gradient Descent\n",
    "# we can import library and use that but instead we are doing manually calculation \n",
    "import math\n",
    "#inputs\n",
    "# Y - Actual value of y\n",
    "# y_hat- predict value of Y.\n",
    "def get_cost(Y,Y_hat):\n",
    "    #calculating the residuals- difference between actual and predicted value\n",
    "    Y_resid= Y-Y_hat\n",
    "    # matrix multiplication with self will give the squared value\n",
    "    # then take the sum and divide the number of example to \n",
    "    # calculate the mean\n",
    "    # here .T is transpose matrix , term of matrix.\n",
    "    return np.sum(np.dot(Y_resid.T, Y_resid) ) / len(Y_resid)"
   ]
  },
  {
   "cell_type": "code",
   "execution_count": 58,
   "id": "01cb59b5",
   "metadata": {},
   "outputs": [
    {
     "data": {
      "text/plain": [
       "1.3522983207444292"
      ]
     },
     "execution_count": 58,
     "metadata": {},
     "output_type": "execute_result"
    }
   ],
   "source": [
    "b, w = initialize(3)\n",
    "y_hat = predict_y(b, w, X)\n",
    "# here we are giving the actual y and the predicted y_hat values\n",
    "get_cost(y, y_hat)"
   ]
  },
  {
   "cell_type": "code",
   "execution_count": 59,
   "id": "59a572fe",
   "metadata": {},
   "outputs": [],
   "source": [
    "# Step 4-----Adjusting the B1 and B0\n",
    "# Now for Adjusting the MSE to reach Its minimal value , This update_beta function will increase the step size\n",
    "def update_beta(X, y, y_hat, b_0, w_0, learning_rate ):\n",
    "    #gradient of bias or can say Doe B0\n",
    "    db = (np.sum(y_hat - y) * 2) / len(y) # partial diff w.r.t B0. This is nothing but slope\n",
    "    #gradient of weights ( as X have 3 features so we have to multiply with dot product)\n",
    "    dw = (np.dot((y_hat - y), X) * 2 ) / len(y) # partial diff wrt B1\n",
    "    \n",
    "    #here we are updating Step size update bias\n",
    "    b_1 = b_0 - learning_rate * db\n",
    "    #update beta\n",
    "    w_1 = w_0 - learning_rate * dw\n",
    "    #return the new bias and beta values\n",
    "    return b_1, w_1"
   ]
  },
  {
   "cell_type": "code",
   "execution_count": 60,
   "id": "ae5affbe",
   "metadata": {},
   "outputs": [
    {
     "name": "stdout",
     "output_type": "stream",
     "text": [
      "After Initialization - Bias: 0.6394267984578837 Weights:  [0.37454012 0.95071431 0.73199394]\n",
      "After first update - Bias: 0.6354976177507318 Weights:  [0.37964358 0.94925831 0.72834648]\n"
     ]
    }
   ],
   "source": [
    "b, w = initialize(3)\n",
    "print('After Initialization - Bias:', b, 'Weights: ', w )\n",
    "y_hat = predict_y( b, w, X)\n",
    "# below passing the parameter value as per its occurance in function. learning rate is 0.01\n",
    "b, w = update_beta(X, y, y_hat, b, w, 0.01)\n",
    "print('After first update - Bias:', b, 'Weights: ', w)\n",
    "# Now as per the Output we are getting reduced gradient value which makes closer to gradient level 0."
   ]
  },
  {
   "cell_type": "code",
   "execution_count": 61,
   "id": "4dc5c481",
   "metadata": {},
   "outputs": [],
   "source": [
    "# Now Model is ready but to reach at its minimal point all the process have to keep repeated until step size is 0. \n",
    "# so for iteration this function is made which will terminate when the previous and current data will be same.\n",
    "def run_gradient_descent(X, y, alpha = 0.01, num_iterations = 100):\n",
    "    \n",
    "    # Initialize the bias and weights\n",
    "    \n",
    "    b, w = initialize(X.shape[1])\n",
    "    \n",
    "    # gd_iterations_df keeps track of the cost every 10 iterations\n",
    "   \n",
    "    iter_num = 0\n",
    "      \n",
    "    gd_iterations_df = pd.DataFrame(columns = ['iteration', 'cost'])\n",
    "    \n",
    "    result_idx = 0\n",
    "    \n",
    "    # Run the iterations in loop\n",
    "    \n",
    "    for each_iter in range(num_iterations):\n",
    "   \n",
    "        # Calculate predicted value of y\n",
    "    \n",
    "        y_hat = predict_y(b, w, X)\n",
    "    \n",
    "        # Calculate the cost\n",
    "    \n",
    "        this_cost = get_cost(y, y_hat)\n",
    "    \n",
    "        # Save the previous bias and weights\n",
    "    \n",
    "        prev_b = b\n",
    "        prev_w = w\n",
    "    \n",
    "        # Update and calculate the new values of bias and weights\n",
    "    \n",
    "        b, w = update_beta(X, y, y_hat, prev_b, prev_w, alpha)\n",
    "    \n",
    "        # For every 10 iterations, store the cost i.e. MSE\n",
    "    \n",
    "        if(iter_num % 10 == 0):\n",
    "            \n",
    "            gd_iterations_df.loc[result_idx] = [iter_num, this_cost]\n",
    "            \n",
    "            result_idx += 1\n",
    "        \n",
    "        iter_num += 1\n",
    "       \n",
    "    print('Final estimate of b and w: ', b, w)\n",
    "    \n",
    "    #return the final bias, weights and the cost at the end\n",
    "    return gd_iterations_df, b, w"
   ]
  },
  {
   "cell_type": "code",
   "execution_count": 62,
   "id": "f2bbbc5e",
   "metadata": {
    "scrolled": true
   },
   "outputs": [
    {
     "name": "stdout",
     "output_type": "stream",
     "text": [
      "Final estimate of b and w:  -0.8010818284444251 [1.2818374  0.49240327 0.2830077 ]\n"
     ]
    }
   ],
   "source": [
    "# learning parameter - 0.01\n",
    "gd_iterations_df1, b, w =  run_gradient_descent(X, y, alpha = 0.01, num_iterations = 10000)"
   ]
  },
  {
   "cell_type": "code",
   "execution_count": 63,
   "id": "d80f6b58",
   "metadata": {},
   "outputs": [
    {
     "data": {
      "text/plain": [
       "iteration    5000.000000\n",
       "cost            0.722532\n",
       "Name: 500, dtype: float64"
      ]
     },
     "execution_count": 63,
     "metadata": {},
     "output_type": "execute_result"
    }
   ],
   "source": [
    "gd_iterations_df1.iloc[500]"
   ]
  },
  {
   "cell_type": "code",
   "execution_count": 64,
   "id": "3edbaa5f",
   "metadata": {},
   "outputs": [
    {
     "data": {
      "text/plain": [
       "(0.0, 200.0)"
      ]
     },
     "execution_count": 64,
     "metadata": {},
     "output_type": "execute_result"
    },
    {
     "data": {
      "image/png": "[encoded data removed]",
      "text/plain": [
       "<Figure size 432x288 with 1 Axes>"
      ]
     },
     "metadata": {
      "needs_background": "light"
     },
     "output_type": "display_data"
    }
   ],
   "source": [
    "plt.plot(gd_iterations_df1['iteration'], gd_iterations_df1['cost'])\n",
    "plt.xlim(0,200)"
   ]
  },
  {
   "cell_type": "code",
   "execution_count": 65,
   "id": "a0b19de3",
   "metadata": {},
   "outputs": [
    {
     "name": "stdout",
     "output_type": "stream",
     "text": [
      "Final estimate of b and w:  -0.7561490125459945 [1.25639155 0.52178817 0.27906865]\n"
     ]
    }
   ],
   "source": [
    "# learning parameter - 0.001\n",
    "gd_iterations_df2, b, w =  run_gradient_descent(X, y, alpha = 0.001, num_iterations = 10000)"
   ]
  },
  {
   "cell_type": "code",
   "execution_count": 66,
   "id": "ffdeef4c",
   "metadata": {},
   "outputs": [
    {
     "data": {
      "text/plain": [
       "(0.0, 800.0)"
      ]
     },
     "execution_count": 66,
     "metadata": {},
     "output_type": "execute_result"
    },
    {
     "data": {
      "image/png": "[encoded data removed]",
      "text/plain": [
       "<Figure size 432x288 with 1 Axes>"
      ]
     },
     "metadata": {
      "needs_background": "light"
     },
     "output_type": "display_data"
    }
   ],
   "source": [
    "plt.plot(gd_iterations_df2['iteration'], gd_iterations_df2['cost'])\n",
    "plt.xlim(0,800)"
   ]
  },
  {
   "cell_type": "code",
   "execution_count": null,
   "id": "c8d1d8b3",
   "metadata": {},
   "outputs": [],
   "source": [
    "######################--New Program of gradient Descent--##############################################################################"
   ]
  },
  {
   "cell_type": "code",
   "execution_count": 67,
   "id": "f3826b81",
   "metadata": {},
   "outputs": [
    {
     "data": {
      "text/html": [
       "<div>\n",
       "<style scoped>\n",
       "    .dataframe tbody tr th:only-of-type {\n",
       "        vertical-align: middle;\n",
       "    }\n",
       "\n",
       "    .dataframe tbody tr th {\n",
       "        vertical-align: top;\n",
       "    }\n",
       "\n",
       "    .dataframe thead th {\n",
       "        text-align: right;\n",
       "    }\n",
       "</style>\n",
       "<table border=\"1\" class=\"dataframe\">\n",
       "  <thead>\n",
       "    <tr style=\"text-align: right;\">\n",
       "      <th></th>\n",
       "      <th>Ambient Temparature</th>\n",
       "      <th>Vaccum</th>\n",
       "      <th>Ambient Pressure</th>\n",
       "      <th>Relative Humidity</th>\n",
       "      <th>Per hour Electricity</th>\n",
       "    </tr>\n",
       "  </thead>\n",
       "  <tbody>\n",
       "    <tr>\n",
       "      <th>0</th>\n",
       "      <td>14.96</td>\n",
       "      <td>41.76</td>\n",
       "      <td>1024.07</td>\n",
       "      <td>73.17</td>\n",
       "      <td>463.26</td>\n",
       "    </tr>\n",
       "    <tr>\n",
       "      <th>1</th>\n",
       "      <td>25.18</td>\n",
       "      <td>62.96</td>\n",
       "      <td>1020.04</td>\n",
       "      <td>59.08</td>\n",
       "      <td>444.37</td>\n",
       "    </tr>\n",
       "    <tr>\n",
       "      <th>2</th>\n",
       "      <td>5.11</td>\n",
       "      <td>39.40</td>\n",
       "      <td>1012.16</td>\n",
       "      <td>92.14</td>\n",
       "      <td>488.56</td>\n",
       "    </tr>\n",
       "    <tr>\n",
       "      <th>3</th>\n",
       "      <td>20.86</td>\n",
       "      <td>57.32</td>\n",
       "      <td>1010.24</td>\n",
       "      <td>76.64</td>\n",
       "      <td>446.48</td>\n",
       "    </tr>\n",
       "    <tr>\n",
       "      <th>4</th>\n",
       "      <td>10.82</td>\n",
       "      <td>37.50</td>\n",
       "      <td>1009.23</td>\n",
       "      <td>96.62</td>\n",
       "      <td>473.90</td>\n",
       "    </tr>\n",
       "  </tbody>\n",
       "</table>\n",
       "</div>"
      ],
      "text/plain": [
       "   Ambient Temparature  Vaccum  Ambient Pressure  Relative Humidity  \\\n",
       "0                14.96   41.76           1024.07              73.17   \n",
       "1                25.18   62.96           1020.04              59.08   \n",
       "2                 5.11   39.40           1012.16              92.14   \n",
       "3                20.86   57.32           1010.24              76.64   \n",
       "4                10.82   37.50           1009.23              96.62   \n",
       "\n",
       "   Per hour Electricity  \n",
       "0                463.26  \n",
       "1                444.37  \n",
       "2                488.56  \n",
       "3                446.48  \n",
       "4                473.90  "
      ]
     },
     "execution_count": 67,
     "metadata": {},
     "output_type": "execute_result"
    }
   ],
   "source": [
    "data=pd.read_excel('Folds5x2_pp.xlsx')\n",
    "data.head()"
   ]
  },
  {
   "cell_type": "code",
   "execution_count": 75,
   "id": "cbc3fbf9",
   "metadata": {},
   "outputs": [],
   "source": [
    "X=data[['Ambient Temparature','Vaccum','Ambient Pressure','Relative Humidity']]\n",
    "y=data['Per hour Electricity']"
   ]
  },
  {
   "cell_type": "code",
   "execution_count": 76,
   "id": "d01413b3",
   "metadata": {},
   "outputs": [
    {
     "data": {
      "text/plain": [
       "(9568, 4)"
      ]
     },
     "execution_count": 76,
     "metadata": {},
     "output_type": "execute_result"
    }
   ],
   "source": [
    "X.shape"
   ]
  },
  {
   "cell_type": "code",
   "execution_count": 77,
   "id": "35e4a6e1",
   "metadata": {},
   "outputs": [
    {
     "data": {
      "text/plain": [
       "(9568,)"
      ]
     },
     "execution_count": 77,
     "metadata": {},
     "output_type": "execute_result"
    }
   ],
   "source": [
    "y.shape"
   ]
  },
  {
   "cell_type": "code",
   "execution_count": 78,
   "id": "1043a2a7",
   "metadata": {},
   "outputs": [],
   "source": [
    "#standardizing the x and y as like normal distribution or z score.\n",
    "X = X.apply(lambda rec: (rec - rec.mean())/rec.std(), axis= 0)\n",
    "y = np.array((y - y.mean())/y.std())"
   ]
  },
  {
   "cell_type": "code",
   "execution_count": 79,
   "id": "07221559",
   "metadata": {},
   "outputs": [
    {
     "data": {
      "text/html": [
       "<div>\n",
       "<style scoped>\n",
       "    .dataframe tbody tr th:only-of-type {\n",
       "        vertical-align: middle;\n",
       "    }\n",
       "\n",
       "    .dataframe tbody tr th {\n",
       "        vertical-align: top;\n",
       "    }\n",
       "\n",
       "    .dataframe thead th {\n",
       "        text-align: right;\n",
       "    }\n",
       "</style>\n",
       "<table border=\"1\" class=\"dataframe\">\n",
       "  <thead>\n",
       "    <tr style=\"text-align: right;\">\n",
       "      <th></th>\n",
       "      <th>Ambient Temparature</th>\n",
       "      <th>Vaccum</th>\n",
       "      <th>Ambient Pressure</th>\n",
       "      <th>Relative Humidity</th>\n",
       "    </tr>\n",
       "  </thead>\n",
       "  <tbody>\n",
       "    <tr>\n",
       "      <th>0</th>\n",
       "      <td>-0.629486</td>\n",
       "      <td>-0.987245</td>\n",
       "      <td>1.820393</td>\n",
       "      <td>-0.009519</td>\n",
       "    </tr>\n",
       "    <tr>\n",
       "      <th>1</th>\n",
       "      <td>0.741870</td>\n",
       "      <td>0.681010</td>\n",
       "      <td>1.141803</td>\n",
       "      <td>-0.974570</td>\n",
       "    </tr>\n",
       "    <tr>\n",
       "      <th>2</th>\n",
       "      <td>-1.951195</td>\n",
       "      <td>-1.172956</td>\n",
       "      <td>-0.185068</td>\n",
       "      <td>1.289772</td>\n",
       "    </tr>\n",
       "    <tr>\n",
       "      <th>3</th>\n",
       "      <td>0.162197</td>\n",
       "      <td>0.237191</td>\n",
       "      <td>-0.508366</td>\n",
       "      <td>0.228148</td>\n",
       "    </tr>\n",
       "    <tr>\n",
       "      <th>4</th>\n",
       "      <td>-1.185007</td>\n",
       "      <td>-1.322470</td>\n",
       "      <td>-0.678435</td>\n",
       "      <td>1.596616</td>\n",
       "    </tr>\n",
       "    <tr>\n",
       "      <th>...</th>\n",
       "      <td>...</td>\n",
       "      <td>...</td>\n",
       "      <td>...</td>\n",
       "      <td>...</td>\n",
       "    </tr>\n",
       "    <tr>\n",
       "      <th>9563</th>\n",
       "      <td>-0.402716</td>\n",
       "      <td>-0.363223</td>\n",
       "      <td>0.126444</td>\n",
       "      <td>1.211692</td>\n",
       "    </tr>\n",
       "    <tr>\n",
       "      <th>9564</th>\n",
       "      <td>-0.866992</td>\n",
       "      <td>-1.190268</td>\n",
       "      <td>1.753039</td>\n",
       "      <td>-0.447182</td>\n",
       "    </tr>\n",
       "    <tr>\n",
       "      <th>9565</th>\n",
       "      <td>1.565758</td>\n",
       "      <td>1.575729</td>\n",
       "      <td>-0.057096</td>\n",
       "      <td>-2.522486</td>\n",
       "    </tr>\n",
       "    <tr>\n",
       "      <th>9566</th>\n",
       "      <td>0.647942</td>\n",
       "      <td>1.191716</td>\n",
       "      <td>0.101186</td>\n",
       "      <td>-0.747861</td>\n",
       "    </tr>\n",
       "    <tr>\n",
       "      <th>9567</th>\n",
       "      <td>0.261493</td>\n",
       "      <td>0.646385</td>\n",
       "      <td>0.668642</td>\n",
       "      <td>-0.372526</td>\n",
       "    </tr>\n",
       "  </tbody>\n",
       "</table>\n",
       "<p>9568 rows × 4 columns</p>\n",
       "</div>"
      ],
      "text/plain": [
       "      Ambient Temparature    Vaccum  Ambient Pressure  Relative Humidity\n",
       "0               -0.629486 -0.987245          1.820393          -0.009519\n",
       "1                0.741870  0.681010          1.141803          -0.974570\n",
       "2               -1.951195 -1.172956         -0.185068           1.289772\n",
       "3                0.162197  0.237191         -0.508366           0.228148\n",
       "4               -1.185007 -1.322470         -0.678435           1.596616\n",
       "...                   ...       ...               ...                ...\n",
       "9563            -0.402716 -0.363223          0.126444           1.211692\n",
       "9564            -0.866992 -1.190268          1.753039          -0.447182\n",
       "9565             1.565758  1.575729         -0.057096          -2.522486\n",
       "9566             0.647942  1.191716          0.101186          -0.747861\n",
       "9567             0.261493  0.646385          0.668642          -0.372526\n",
       "\n",
       "[9568 rows x 4 columns]"
      ]
     },
     "execution_count": 79,
     "metadata": {},
     "output_type": "execute_result"
    }
   ],
   "source": [
    "X"
   ]
  },
  {
   "cell_type": "code",
   "execution_count": null,
   "id": "588581b5",
   "metadata": {},
   "outputs": [],
   "source": []
  }
 ],
 "metadata": {
  "kernelspec": {
   "display_name": "Python 3 (ipykernel)",
   "language": "python",
   "name": "python3"
  },
  "language_info": {
   "codemirror_mode": {
    "name": "ipython",
    "version": 3
   },
   "file_extension": ".py",
   "mimetype": "text/x-python",
   "name": "python",
   "nbconvert_exporter": "python",
   "pygments_lexer": "ipython3",
   "version": "3.9.7"
  }
 },
 "nbformat": 4,
 "nbformat_minor": 5
}
