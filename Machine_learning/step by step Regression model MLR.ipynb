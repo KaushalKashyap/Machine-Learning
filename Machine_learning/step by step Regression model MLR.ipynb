{
 "cells": [
  {
   "cell_type": "code",
   "execution_count": 122,
   "id": "12a67a67",
   "metadata": {},
   "outputs": [],
   "source": [
    "import pandas as pd\n",
    "import numpy as np\n",
    "from sklearn.linear_model import LinearRegression\n",
    "from sklearn.model_selection import train_test_split\n",
    "from sklearn.metrics import mean_absolute_error,mean_squared_error,mean_squared_log_error,r2_score,mean_absolute_percentage_error"
   ]
  },
  {
   "cell_type": "code",
   "execution_count": 123,
   "id": "4cfdfcff",
   "metadata": {},
   "outputs": [
    {
     "data": {
      "text/html": [
       "<div>\n",
       "<style scoped>\n",
       "    .dataframe tbody tr th:only-of-type {\n",
       "        vertical-align: middle;\n",
       "    }\n",
       "\n",
       "    .dataframe tbody tr th {\n",
       "        vertical-align: top;\n",
       "    }\n",
       "\n",
       "    .dataframe thead th {\n",
       "        text-align: right;\n",
       "    }\n",
       "</style>\n",
       "<table border=\"1\" class=\"dataframe\">\n",
       "  <thead>\n",
       "    <tr style=\"text-align: right;\">\n",
       "      <th></th>\n",
       "      <th>Ambient Temparature</th>\n",
       "      <th>Vaccum</th>\n",
       "      <th>Ambient Pressure</th>\n",
       "      <th>Relative Humidity</th>\n",
       "      <th>Per hour Electricity</th>\n",
       "    </tr>\n",
       "  </thead>\n",
       "  <tbody>\n",
       "    <tr>\n",
       "      <th>0</th>\n",
       "      <td>14.96</td>\n",
       "      <td>41.76</td>\n",
       "      <td>1024.07</td>\n",
       "      <td>73.17</td>\n",
       "      <td>463.26</td>\n",
       "    </tr>\n",
       "    <tr>\n",
       "      <th>1</th>\n",
       "      <td>25.18</td>\n",
       "      <td>62.96</td>\n",
       "      <td>1020.04</td>\n",
       "      <td>59.08</td>\n",
       "      <td>444.37</td>\n",
       "    </tr>\n",
       "    <tr>\n",
       "      <th>2</th>\n",
       "      <td>5.11</td>\n",
       "      <td>39.40</td>\n",
       "      <td>1012.16</td>\n",
       "      <td>92.14</td>\n",
       "      <td>488.56</td>\n",
       "    </tr>\n",
       "    <tr>\n",
       "      <th>3</th>\n",
       "      <td>20.86</td>\n",
       "      <td>57.32</td>\n",
       "      <td>1010.24</td>\n",
       "      <td>76.64</td>\n",
       "      <td>446.48</td>\n",
       "    </tr>\n",
       "    <tr>\n",
       "      <th>4</th>\n",
       "      <td>10.82</td>\n",
       "      <td>37.50</td>\n",
       "      <td>1009.23</td>\n",
       "      <td>96.62</td>\n",
       "      <td>473.90</td>\n",
       "    </tr>\n",
       "  </tbody>\n",
       "</table>\n",
       "</div>"
      ],
      "text/plain": [
       "   Ambient Temparature  Vaccum  Ambient Pressure  Relative Humidity  \\\n",
       "0                14.96   41.76           1024.07              73.17   \n",
       "1                25.18   62.96           1020.04              59.08   \n",
       "2                 5.11   39.40           1012.16              92.14   \n",
       "3                20.86   57.32           1010.24              76.64   \n",
       "4                10.82   37.50           1009.23              96.62   \n",
       "\n",
       "   Per hour Electricity  \n",
       "0                463.26  \n",
       "1                444.37  \n",
       "2                488.56  \n",
       "3                446.48  \n",
       "4                473.90  "
      ]
     },
     "execution_count": 123,
     "metadata": {},
     "output_type": "execute_result"
    }
   ],
   "source": [
    "data=pd.read_excel('Folds5x2_pp.xlsx')\n",
    "data.head()"
   ]
  },
  {
   "cell_type": "code",
   "execution_count": 124,
   "id": "0d1e3c10",
   "metadata": {},
   "outputs": [],
   "source": [
    "X=data.drop(['Per hour Electricity'],axis=1).values\n",
    "y=data['Per hour Electricity']"
   ]
  },
  {
   "cell_type": "code",
   "execution_count": 125,
   "id": "23abdc7a",
   "metadata": {},
   "outputs": [
    {
     "data": {
      "text/plain": [
       "(9568, 4)"
      ]
     },
     "execution_count": 125,
     "metadata": {},
     "output_type": "execute_result"
    }
   ],
   "source": [
    "X.shape"
   ]
  },
  {
   "cell_type": "code",
   "execution_count": 126,
   "id": "f6e0397e",
   "metadata": {},
   "outputs": [
    {
     "data": {
      "text/plain": [
       "(9568,)"
      ]
     },
     "execution_count": 126,
     "metadata": {},
     "output_type": "execute_result"
    }
   ],
   "source": [
    "y.shape"
   ]
  },
  {
   "cell_type": "code",
   "execution_count": 127,
   "id": "110b5d74",
   "metadata": {},
   "outputs": [],
   "source": [
    "x_train,x_test,y_train,y_test=train_test_split(X,y,test_size=0.3)"
   ]
  },
  {
   "cell_type": "code",
   "execution_count": 128,
   "id": "6fbdf120",
   "metadata": {},
   "outputs": [
    {
     "data": {
      "text/plain": [
       "(6697, 4)"
      ]
     },
     "execution_count": 128,
     "metadata": {},
     "output_type": "execute_result"
    }
   ],
   "source": [
    "x_train.shape"
   ]
  },
  {
   "cell_type": "code",
   "execution_count": 129,
   "id": "bed9101b",
   "metadata": {},
   "outputs": [
    {
     "data": {
      "text/plain": [
       "(2871, 4)"
      ]
     },
     "execution_count": 129,
     "metadata": {},
     "output_type": "execute_result"
    }
   ],
   "source": [
    "x_test.shape"
   ]
  },
  {
   "cell_type": "code",
   "execution_count": 130,
   "id": "2cffaef1",
   "metadata": {},
   "outputs": [
    {
     "data": {
      "text/plain": [
       "(6697,)"
      ]
     },
     "execution_count": 130,
     "metadata": {},
     "output_type": "execute_result"
    }
   ],
   "source": [
    "y_train.shape"
   ]
  },
  {
   "cell_type": "code",
   "execution_count": 131,
   "id": "7938eb52",
   "metadata": {},
   "outputs": [
    {
     "data": {
      "text/plain": [
       "(2871,)"
      ]
     },
     "execution_count": 131,
     "metadata": {},
     "output_type": "execute_result"
    }
   ],
   "source": [
    "y_test.shape"
   ]
  },
  {
   "cell_type": "code",
   "execution_count": 149,
   "id": "f397b428",
   "metadata": {},
   "outputs": [],
   "source": [
    "model=LinearRegression()"
   ]
  },
  {
   "cell_type": "code",
   "execution_count": 150,
   "id": "3fa84677",
   "metadata": {},
   "outputs": [
    {
     "data": {
      "text/plain": [
       "LinearRegression()"
      ]
     },
     "execution_count": 150,
     "metadata": {},
     "output_type": "execute_result"
    }
   ],
   "source": [
    "model.fit(x_train,y_train)"
   ]
  },
  {
   "cell_type": "code",
   "execution_count": 151,
   "id": "8c7372de",
   "metadata": {},
   "outputs": [],
   "source": [
    "Pred=model.predict(x_test)"
   ]
  },
  {
   "cell_type": "code",
   "execution_count": 152,
   "id": "92c4b84d",
   "metadata": {},
   "outputs": [
    {
     "data": {
      "text/plain": [
       "array([464.65965087, 438.58895991, 483.58525618, ..., 464.58061083,\n",
       "       441.64415024, 469.44613122])"
      ]
     },
     "execution_count": 152,
     "metadata": {},
     "output_type": "execute_result"
    }
   ],
   "source": [
    "Pred"
   ]
  },
  {
   "cell_type": "code",
   "execution_count": 153,
   "id": "01a20058",
   "metadata": {},
   "outputs": [
    {
     "data": {
      "text/plain": [
       "array([467.27303794])"
      ]
     },
     "execution_count": 153,
     "metadata": {},
     "output_type": "execute_result"
    }
   ],
   "source": [
    "# here we are checking the predict result that is how close the prediction from actual value.\n",
    "# the numbers are first rows of X and done prediction is 467.2212 which is close to the actual 463.26\n",
    "model.predict([[14.96,41.76,1024.07,73.17]])"
   ]
  },
  {
   "cell_type": "markdown",
   "id": "67761c31",
   "metadata": {},
   "source": [
    "# Here the Evaluation Starts"
   ]
  },
  {
   "cell_type": "code",
   "execution_count": 154,
   "id": "2df045c9",
   "metadata": {},
   "outputs": [
    {
     "data": {
      "text/plain": [
       "0.9304209156660203"
      ]
     },
     "execution_count": 154,
     "metadata": {},
     "output_type": "execute_result"
    }
   ],
   "source": [
    "#here we are testing the x_train,y_train data features\n",
    "model.score(x_train,y_train)# its quite good because 1 is the last perfect score number. and it is near to 1"
   ]
  },
  {
   "cell_type": "code",
   "execution_count": 155,
   "id": "a7d8c4ad",
   "metadata": {},
   "outputs": [
    {
     "data": {
      "text/plain": [
       "0.92445785848982"
      ]
     },
     "execution_count": 155,
     "metadata": {},
     "output_type": "execute_result"
    }
   ],
   "source": [
    "# here we are testing the x_test,y_test data features\n",
    "model.score(x_test,y_test)# it is also goot .near to 1 "
   ]
  },
  {
   "cell_type": "markdown",
   "id": "65e55398",
   "metadata": {},
   "source": [
    "Now Evaluation : \n",
    "    explained_variance-  metrics.explained_variance_score\n",
    "\t\n",
    "\n",
    "‘max_error’-   metrics.max_error\n",
    "\t\n",
    "\n",
    "‘mean_absolute_error’-   metrics.mean_absolute_error\n",
    "\t‘\n",
    "`neg_mean_squared_error’-     metrics.mean_squared_error\n",
    "\t\n",
    "\n",
    "‘neg_root_mean_squared_error’-    metrics.mean_squared_error or np.sqrt(mean_squared_error)\n",
    "\t\n",
    "\n",
    "‘neg_mean_squared_log_error’-    metrics.mean_squared_log_error\n",
    "\t\n",
    "\n",
    "‘neg_median_absolute_error’-    metrics.median_absolute_error\n",
    "\t\n",
    "\n",
    "‘r2’-    metrics.r2_score\n",
    "\t\n",
    "\n",
    "‘neg_mean_poisson_deviance’-    metrics.mean_poisson_deviance\n",
    "\t\n",
    "\n",
    "‘neg_mean_gamma_deviance’-    metrics.mean_gamma_deviance\n",
    "\t\n",
    "\n",
    "‘neg_mean_absolute_percentage_error’-    metrics.mean_absolute_percentage_error\n",
    "\t\n",
    "\n",
    "‘d2_absolute_error_score’-    metrics.d2_absolute_error_score\n",
    "\t\n",
    "\n",
    "‘d2_pinball_score’-    metrics.d2_pinball_score\n",
    "\t\n",
    "\n",
    "‘d2_tweedie_score’-    metrics.d2_tweedie_score\n",
    "\n",
    "\n",
    "Evaluation metrics;\n",
    "\n",
    "    Mean/Median of prediction\n",
    "    Standard Deviation of prediction\n",
    "    Range of prediction\n",
    "    Coefficient of Determination (R2)\n",
    "    Relative Standard Deviation/Coefficient of Variation (RSD)\n",
    "    Relative Squared Error (RSE)\n",
    "    Mean Absolute Error (MAE)\n",
    "    Relative Absolute Error (RAE)\n",
    "    Mean Squared Error (MSE)\n",
    "    Root Mean Squared Error on Prediction (RMSE/RMSEP)\n",
    "    Normalized Root Mean Squared Error (Norm RMSEP)\n",
    "    Relative Root Mean Squared Error (RRMSEP)\n"
   ]
  },
  {
   "cell_type": "code",
   "execution_count": 156,
   "id": "f8b8b1a8",
   "metadata": {},
   "outputs": [
    {
     "data": {
      "text/plain": [
       "3.626794147620155"
      ]
     },
     "execution_count": 156,
     "metadata": {},
     "output_type": "execute_result"
    }
   ],
   "source": [
    "# For mean absolute error, the best value is  0.0. \n",
    "mabe=mean_absolute_error(y_test,Pred)\n",
    "mabe"
   ]
  },
  {
   "cell_type": "code",
   "execution_count": 157,
   "id": "f8fbea72",
   "metadata": {},
   "outputs": [
    {
     "data": {
      "text/plain": [
       "21.692890734596023"
      ]
     },
     "execution_count": 157,
     "metadata": {},
     "output_type": "execute_result"
    }
   ],
   "source": [
    "# for mean squared error, the best value is 0.0\n",
    "mse=mean_squared_error(y_test,Pred)\n",
    "mse"
   ]
  },
  {
   "cell_type": "code",
   "execution_count": 158,
   "id": "d4ed6b07",
   "metadata": {},
   "outputs": [
    {
     "data": {
      "text/plain": [
       "0.92445785848982"
      ]
     },
     "execution_count": 158,
     "metadata": {},
     "output_type": "execute_result"
    }
   ],
   "source": [
    "# for r2 score, the 1.0 if prediction is perfect, 0.0 otherwise.\n",
    "#r2 score \n",
    "r2=r2_score(y_test,Pred)\n",
    "r2"
   ]
  },
  {
   "cell_type": "code",
   "execution_count": 159,
   "id": "6e650c41",
   "metadata": {},
   "outputs": [
    {
     "data": {
      "text/plain": [
       "0.00798866524278561"
      ]
     },
     "execution_count": 159,
     "metadata": {},
     "output_type": "execute_result"
    }
   ],
   "source": [
    "# for mean absolute percentage error,MAPE output is non-negative floating point.\n",
    "#The best value is 0.0. But note that bad predictions can lead to arbitrarily large MAPE values,\n",
    "#especially if some y_true  values are very close to zero\n",
    "mabpe=mean_absolute_percentage_error(y_test,Pred)\n",
    "mabpe"
   ]
  },
  {
   "cell_type": "code",
   "execution_count": 160,
   "id": "585da6a0",
   "metadata": {},
   "outputs": [
    {
     "data": {
      "text/plain": [
       "Text(0, 0.5, 'Pred')"
      ]
     },
     "execution_count": 160,
     "metadata": {},
     "output_type": "execute_result"
    },
    {
     "data": {
      "image/png": "[encoded data removed]",
      "text/plain": [
       "<Figure size 432x288 with 1 Axes>"
      ]
     },
     "metadata": {
      "needs_background": "light"
     },
     "output_type": "display_data"
    }
   ],
   "source": [
    "import matplotlib.pyplot as plt\n",
    "plt.scatter(y_test,Pred)\n",
    "plt.xlabel(\"y_test\")\n",
    "plt.ylabel('Pred')"
   ]
  },
  {
   "cell_type": "markdown",
   "id": "bf046e58",
   "metadata": {},
   "source": [
    "# Printing the Difference between predicted and actual"
   ]
  },
  {
   "cell_type": "code",
   "execution_count": 161,
   "id": "c037ddc5",
   "metadata": {},
   "outputs": [
    {
     "data": {
      "text/html": [
       "<div>\n",
       "<style scoped>\n",
       "    .dataframe tbody tr th:only-of-type {\n",
       "        vertical-align: middle;\n",
       "    }\n",
       "\n",
       "    .dataframe tbody tr th {\n",
       "        vertical-align: top;\n",
       "    }\n",
       "\n",
       "    .dataframe thead th {\n",
       "        text-align: right;\n",
       "    }\n",
       "</style>\n",
       "<table border=\"1\" class=\"dataframe\">\n",
       "  <thead>\n",
       "    <tr style=\"text-align: right;\">\n",
       "      <th></th>\n",
       "      <th>Actual value:</th>\n",
       "      <th>Predicted value</th>\n",
       "      <th>Difference</th>\n",
       "    </tr>\n",
       "  </thead>\n",
       "  <tbody>\n",
       "    <tr>\n",
       "      <th>4926</th>\n",
       "      <td>465.72</td>\n",
       "      <td>464.659651</td>\n",
       "      <td>1.060349</td>\n",
       "    </tr>\n",
       "    <tr>\n",
       "      <th>3010</th>\n",
       "      <td>436.27</td>\n",
       "      <td>438.588960</td>\n",
       "      <td>-2.318960</td>\n",
       "    </tr>\n",
       "    <tr>\n",
       "      <th>8455</th>\n",
       "      <td>485.57</td>\n",
       "      <td>483.585256</td>\n",
       "      <td>1.984744</td>\n",
       "    </tr>\n",
       "    <tr>\n",
       "      <th>3456</th>\n",
       "      <td>431.70</td>\n",
       "      <td>437.205424</td>\n",
       "      <td>-5.505424</td>\n",
       "    </tr>\n",
       "    <tr>\n",
       "      <th>8009</th>\n",
       "      <td>441.90</td>\n",
       "      <td>435.897873</td>\n",
       "      <td>6.002127</td>\n",
       "    </tr>\n",
       "    <tr>\n",
       "      <th>...</th>\n",
       "      <td>...</td>\n",
       "      <td>...</td>\n",
       "      <td>...</td>\n",
       "    </tr>\n",
       "    <tr>\n",
       "      <th>245</th>\n",
       "      <td>444.69</td>\n",
       "      <td>447.243749</td>\n",
       "      <td>-2.553749</td>\n",
       "    </tr>\n",
       "    <tr>\n",
       "      <th>8349</th>\n",
       "      <td>427.90</td>\n",
       "      <td>434.250915</td>\n",
       "      <td>-6.350915</td>\n",
       "    </tr>\n",
       "    <tr>\n",
       "      <th>1694</th>\n",
       "      <td>460.17</td>\n",
       "      <td>464.580611</td>\n",
       "      <td>-4.410611</td>\n",
       "    </tr>\n",
       "    <tr>\n",
       "      <th>7524</th>\n",
       "      <td>439.77</td>\n",
       "      <td>441.644150</td>\n",
       "      <td>-1.874150</td>\n",
       "    </tr>\n",
       "    <tr>\n",
       "      <th>297</th>\n",
       "      <td>460.70</td>\n",
       "      <td>469.446131</td>\n",
       "      <td>-8.746131</td>\n",
       "    </tr>\n",
       "  </tbody>\n",
       "</table>\n",
       "<p>2871 rows × 3 columns</p>\n",
       "</div>"
      ],
      "text/plain": [
       "      Actual value:  Predicted value  Difference\n",
       "4926         465.72       464.659651    1.060349\n",
       "3010         436.27       438.588960   -2.318960\n",
       "8455         485.57       483.585256    1.984744\n",
       "3456         431.70       437.205424   -5.505424\n",
       "8009         441.90       435.897873    6.002127\n",
       "...             ...              ...         ...\n",
       "245          444.69       447.243749   -2.553749\n",
       "8349         427.90       434.250915   -6.350915\n",
       "1694         460.17       464.580611   -4.410611\n",
       "7524         439.77       441.644150   -1.874150\n",
       "297          460.70       469.446131   -8.746131\n",
       "\n",
       "[2871 rows x 3 columns]"
      ]
     },
     "execution_count": 161,
     "metadata": {},
     "output_type": "execute_result"
    }
   ],
   "source": [
    "pred_diff=pd.DataFrame({'Actual value:':y_test,'Predicted value':Pred,'Difference':y_test-Pred})\n",
    "pred_diff"
   ]
  },
  {
   "cell_type": "code",
   "execution_count": 162,
   "id": "30ed3d33",
   "metadata": {},
   "outputs": [
    {
     "data": {
      "text/plain": [
       "454.9896644477809"
      ]
     },
     "execution_count": 162,
     "metadata": {},
     "output_type": "execute_result"
    }
   ],
   "source": [
    "np.mean(Pred)"
   ]
  },
  {
   "cell_type": "code",
   "execution_count": 165,
   "id": "d1d5682a",
   "metadata": {},
   "outputs": [
    {
     "data": {
      "text/plain": [
       "4926    1.060349\n",
       "3010   -2.318960\n",
       "8455    1.984744\n",
       "3456   -5.505424\n",
       "8009    6.002127\n",
       "          ...   \n",
       "245    -2.553749\n",
       "8349   -6.350915\n",
       "1694   -4.410611\n",
       "7524   -1.874150\n",
       "297    -8.746131\n",
       "Name: Per hour Electricity, Length: 2871, dtype: float64"
      ]
     },
     "execution_count": 165,
     "metadata": {},
     "output_type": "execute_result"
    }
   ],
   "source": [
    "# In LinearRegression instance resid do not work . so you can go for y_test-Pred.\n",
    "residuals=y_test-Pred\n",
    "residuals"
   ]
  },
  {
   "cell_type": "code",
   "execution_count": 166,
   "id": "a000a618",
   "metadata": {},
   "outputs": [
    {
     "data": {
      "text/plain": [
       "(9568, 4)"
      ]
     },
     "execution_count": 166,
     "metadata": {},
     "output_type": "execute_result"
    }
   ],
   "source": [
    "X.shape"
   ]
  },
  {
   "cell_type": "markdown",
   "id": "8a5e7294",
   "metadata": {},
   "source": [
    "# Outlier's Analysis"
   ]
  },
  {
   "cell_type": "code",
   "execution_count": 147,
   "id": "819ddd82",
   "metadata": {},
   "outputs": [],
   "source": [
    "# first we will go for Z-score\n"
   ]
  },
  {
   "cell_type": "code",
   "execution_count": null,
   "id": "a56a9ea6",
   "metadata": {},
   "outputs": [],
   "source": []
  }
 ],
 "metadata": {
  "kernelspec": {
   "display_name": "Python 3 (ipykernel)",
   "language": "python",
   "name": "python3"
  },
  "language_info": {
   "codemirror_mode": {
    "name": "ipython",
    "version": 3
   },
   "file_extension": ".py",
   "mimetype": "text/x-python",
   "name": "python",
   "nbconvert_exporter": "python",
   "pygments_lexer": "ipython3",
   "version": "3.9.7"
  }
 },
 "nbformat": 4,
 "nbformat_minor": 5
}
