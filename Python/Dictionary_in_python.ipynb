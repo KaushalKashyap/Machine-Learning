{
 "cells": [
  {
   "cell_type": "code",
   "execution_count": null,
   "id": "a00d7ce1",
   "metadata": {},
   "outputs": [],
   "source": [
    "# dictionary is nothing but key value pair\n",
    "# 1) key must be unique but values can be duplicate\n",
    "# 2) keys are supposed to immutable type.\n",
    "# 3) values can be mutable or mutable\n",
    "# 4) Dictionaries are mutable\n",
    "# 5) It doesn't support indexing, slicing, addition, repetition\n",
    "# 6) It is iterable\n",
    "\n",
    "\n",
    "# Note: defined {key1:Valu1, key2:value}"
   ]
  },
  {
   "cell_type": "code",
   "execution_count": 4,
   "id": "3b3e36d6",
   "metadata": {},
   "outputs": [
    {
     "name": "stdout",
     "output_type": "stream",
     "text": [
      "Kashyap\n",
      "{101: 'Mr.', 102: 'Kaushal', 103: 'Kashyap', 104: 'Kreeforce', 105: [1.2, 5]}\n"
     ]
    }
   ],
   "source": [
    "my_dict={101:\"Mr.\",102:\"Kaushal\",103:\"Kashyap\",104:\"Kreeforce\",105:[1.2,5]}\n",
    "print(my_dict[103])\n",
    "print(my_dict)"
   ]
  },
  {
   "cell_type": "code",
   "execution_count": 1,
   "id": "f8474582",
   "metadata": {},
   "outputs": [
    {
     "name": "stdout",
     "output_type": "stream",
     "text": [
      "{101: 'Mr.', 102: 'Kaushal', 103: 'Kashyap', 104: 'Kreeforce', 105: [1.2, 5]}\n",
      "{101: 'Mr.', 102: 'Kaushal', 103: 'Kumar', 104: 'Kreeforce', 105: [1.2, 5]}\n"
     ]
    }
   ],
   "source": [
    "my_dict={101:\"Mr.\",102:\"Kaushal\",103:\"Kashyap\",104:\"Kreeforce\",105:[1.2,5]}\n",
    "print(my_dict)\n",
    "my_dict[103]=\"Kumar\"\n",
    "print(my_dict)"
   ]
  },
  {
   "cell_type": "code",
   "execution_count": 2,
   "id": "14c72f40",
   "metadata": {},
   "outputs": [
    {
     "name": "stdout",
     "output_type": "stream",
     "text": [
      "101 <class 'int'>\n",
      "102 <class 'int'>\n",
      "103 <class 'int'>\n",
      "104 <class 'int'>\n",
      "105 <class 'int'>\n"
     ]
    }
   ],
   "source": [
    "for i in my_dict:\n",
    "    print(i,type(i))"
   ]
  },
  {
   "cell_type": "code",
   "execution_count": null,
   "id": "ef2df499",
   "metadata": {},
   "outputs": [],
   "source": [
    "# creation of dictionary\n",
    "# 1) when the vales are knows\n",
    "my_dict={101:\"Mr.\",102:\"Kaushal\",103:\"Kashyap\",104:\"Kreeforce\",105:[1.2,5}\n",
    "\n",
    "# 2) input from user\n",
    "my_dict=eval(input(\"Enter the dictionary\"))\n",
    "\n",
    "# 3) using function dict , dict(iterable)\n",
    "my_dict1=dict(zip([101,102],[\"Garvit\",\"Shreya\"]))\n",
    "\n",
    "# 4) creating an empty dictionary\n",
    "empty_dict={}"
   ]
  },
  {
   "cell_type": "code",
   "execution_count": 3,
   "id": "d66f3a03",
   "metadata": {},
   "outputs": [
    {
     "name": "stdout",
     "output_type": "stream",
     "text": [
      "{101: 'Mr.', 102: 'Kaushal', 103: 'Kumar', 104: 'Kreeforce', 105: [1.2, 5]}\n",
      "{101: 'Mr.', 102: 'Kaushal', 103: 'Kumar30', 104: 'Kreeforce', 105: [1.2, 5]}\n"
     ]
    }
   ],
   "source": [
    "# concatenate new thing in any item\n",
    "print(my_dict)\n",
    "my_dict[103]=my_dict[103]+\"30\"\n",
    "print(my_dict)"
   ]
  },
  {
   "cell_type": "code",
   "execution_count": 2,
   "id": "c5de24dc",
   "metadata": {},
   "outputs": [
    {
     "name": "stdout",
     "output_type": "stream",
     "text": [
      "Data Scienctist\n"
     ]
    }
   ],
   "source": [
    "mydict={\"Name\":\"Kaushal Kashyap\",\"Position\":\"Data Scienctist\",\"joinyear\":\"2022\"}\n",
    "a=mydict[\"Position\"]\n",
    "print(a)"
   ]
  },
  {
   "cell_type": "code",
   "execution_count": 3,
   "id": "c4c3dc84",
   "metadata": {},
   "outputs": [
    {
     "name": "stdout",
     "output_type": "stream",
     "text": [
      "3\n"
     ]
    }
   ],
   "source": [
    "#dictionary Length\n",
    "mydict={\"Name\":\"Kaushal Kashyap\",\"Position\":\"Data Scienctist\",\"joinyear\":\"2022\"}\n",
    "print(len(mydict))"
   ]
  },
  {
   "cell_type": "code",
   "execution_count": 4,
   "id": "a0f2a2c8",
   "metadata": {},
   "outputs": [
    {
     "name": "stdout",
     "output_type": "stream",
     "text": [
      "{'Name': 'Kaushal Kashyap', 'Position': 'Data Scienctist', 'joinyear': '2022', 'Age': 24}\n"
     ]
    }
   ],
   "source": [
    "#Add new item\n",
    "mydict[\"Age\"]=24\n",
    "print(mydict)"
   ]
  },
  {
   "cell_type": "code",
   "execution_count": 9,
   "id": "df017018",
   "metadata": {},
   "outputs": [
    {
     "name": "stdout",
     "output_type": "stream",
     "text": [
      "{'Name': 'Kaushal Kashyap', 'joinyear': '2022'}\n"
     ]
    }
   ],
   "source": [
    "#Removing items\n",
    "#using pop function\n",
    "mydict={\"Name\":\"Kaushal Kashyap\",\"Position\":\"Data Scienctist\",\"joinyear\":\"2022\"}\n",
    "mydict.pop(\"Position\")\n",
    "print(mydict)"
   ]
  },
  {
   "cell_type": "code",
   "execution_count": 11,
   "id": "4ec0c7a8",
   "metadata": {},
   "outputs": [
    {
     "name": "stdout",
     "output_type": "stream",
     "text": [
      "{'Name': 'Kaushal Kashyap', 'Position': 'Data Scienctist'}\n"
     ]
    }
   ],
   "source": [
    "#using popitem function It will remove the last item of the list\n",
    "mydict={\"Name\":\"Kaushal Kashyap\",\"Position\":\"Data Scienctist\",\"joinyear\":\"2022\"}\n",
    "mydict.popitem()\n",
    "print(mydict)"
   ]
  },
  {
   "cell_type": "code",
   "execution_count": 13,
   "id": "54ba60e5",
   "metadata": {},
   "outputs": [
    {
     "name": "stdout",
     "output_type": "stream",
     "text": [
      "{'Name': 'Kaushal Kashyap', 'joinyear': '2022'}\n"
     ]
    }
   ],
   "source": [
    "#using del function will delete the item if given otherwise it will de\n",
    "mydict={\"Name\":\"Kaushal Kashyap\",\"Position\":\"Data Scienctist\",\"joinyear\":\"2022\"}\n",
    "del mydict[\"Position\"]\n",
    "print(mydict)"
   ]
  },
  {
   "cell_type": "code",
   "execution_count": 14,
   "id": "6d99efd1",
   "metadata": {},
   "outputs": [
    {
     "name": "stdout",
     "output_type": "stream",
     "text": [
      "{}\n"
     ]
    }
   ],
   "source": [
    "#using clear function\n",
    "mydict={\"Name\":\"Kaushal Kashyap\",\"Position\":\"Data Scienctist\",\"joinyear\":\"2022\"}\n",
    "mydict.clear()\n",
    "print(mydict)"
   ]
  },
  {
   "cell_type": "code",
   "execution_count": 15,
   "id": "66fc6ddc",
   "metadata": {},
   "outputs": [
    {
     "name": "stdout",
     "output_type": "stream",
     "text": [
      "{'Member1': {'name': 'shubham', 'year': 28}, 'Member2': {'name': 'jonas', 'year': 2009}, 'Member3': {'name': 'John', 'year': 2011}}\n"
     ]
    }
   ],
   "source": [
    "#Nested Dictionaries\n",
    "myfamily={\"Member1\":{\"name\":\"shubham\",\"year\":28},\"Member2\":{\"name\":\"jonas\",\"year\":2009},\"Member3\":{\"name\":\"John\",\"year\":2011}}\n",
    "print(myfamily)"
   ]
  },
  {
   "cell_type": "code",
   "execution_count": 16,
   "id": "f80a36e5",
   "metadata": {},
   "outputs": [
    {
     "name": "stdout",
     "output_type": "stream",
     "text": [
      "Help on method_descriptor:\n",
      "\n",
      "get(self, key, default=None, /)\n",
      "    Return the value for key if key is in the dictionary, else default.\n",
      "\n",
      "None\n"
     ]
    }
   ],
   "source": [
    "# get function in dictionary\n",
    "#if the key is present, return the value.\n",
    "#if the key is absent and second argument is not passed, return None\n",
    "#if the key is absent and second argument is passed, return second argument\n",
    "#It doesn't make change to the existing dictionary\n",
    "print(help(dict.get))"
   ]
  },
  {
   "cell_type": "code",
   "execution_count": 20,
   "id": "e608737f",
   "metadata": {},
   "outputs": [
    {
     "data": {
      "text/plain": [
       "'Data Scienctist'"
      ]
     },
     "execution_count": 20,
     "metadata": {},
     "output_type": "execute_result"
    }
   ],
   "source": [
    "mydict={\"Name\":\"Kaushal Kashyap\",\"Position\":\"Data Scienctist\",\"joinyear\":2022}\n",
    "mydict.get(\"Position\")"
   ]
  },
  {
   "cell_type": "code",
   "execution_count": 21,
   "id": "6c982ac5",
   "metadata": {},
   "outputs": [],
   "source": [
    "#if key is in the dictionary then return its value otherwise it will return default\n",
    "mydict.get(\"salary\")"
   ]
  },
  {
   "cell_type": "code",
   "execution_count": 23,
   "id": "51cea76a",
   "metadata": {},
   "outputs": [
    {
     "name": "stdout",
     "output_type": "stream",
     "text": [
      "Help on method_descriptor:\n",
      "\n",
      "setdefault(self, key, default=None, /)\n",
      "    Insert key with a value of default if key is not in the dictionary.\n",
      "    \n",
      "    Return the value for key if key is in the dictionary, else default.\n",
      "\n",
      "None\n"
     ]
    }
   ],
   "source": [
    "#to set default value what to return if none is there\n",
    "print(help(dict.setdefault))"
   ]
  },
  {
   "cell_type": "code",
   "execution_count": 25,
   "id": "ad2f188c",
   "metadata": {},
   "outputs": [
    {
     "name": "stdout",
     "output_type": "stream",
     "text": [
      "didn't inserted yet\n",
      "{'Name': 'Kaushal Kashyap', 'Position': 'Data Scienctist', 'joinyear': 2022, 'salary': \"didn't inserted yet\"}\n"
     ]
    }
   ],
   "source": [
    "print(mydict.setdefault(\"salary\",\"didn't inserted yet\"))\n",
    "print(mydict)"
   ]
  },
  {
   "cell_type": "code",
   "execution_count": 26,
   "id": "e3b9638f",
   "metadata": {},
   "outputs": [
    {
     "name": "stdout",
     "output_type": "stream",
     "text": [
      "Help on method_descriptor:\n",
      "\n",
      "update(...)\n",
      "    D.update([E, ]**F) -> None.  Update D from dict/iterable E and F.\n",
      "    If E is present and has a .keys() method, then does:  for k in E: D[k] = E[k]\n",
      "    If E is present and lacks a .keys() method, then does:  for k, v in E: D[k] = v\n",
      "    In either case, this is followed by: for k in F:  D[k] = F[k]\n",
      "\n",
      "None\n"
     ]
    }
   ],
   "source": [
    "#update in dictionry\n",
    "print(help(dict.update))"
   ]
  },
  {
   "cell_type": "code",
   "execution_count": 29,
   "id": "ea2f8e92",
   "metadata": {},
   "outputs": [
    {
     "name": "stdout",
     "output_type": "stream",
     "text": [
      "{'Name': 'Kaushal Kashyap', 'Position': 'Data Scienctist', 'joinyear': 2022, 'salary': \"didn't inserted yet\", \"Manager's Name\": 'Ajay Singh', 'Prev Companies': ['Amazon', 'meta'], 'Location': 'Delhi'}\n",
      "dict_keys(['Name', 'Position', 'joinyear', 'salary', \"Manager's Name\", 'Prev Companies', 'Location'])\n"
     ]
    }
   ],
   "source": [
    "#update the newitem by creating a new list and update it to the list you want to update. it will add it in the list\n",
    "adding_new_info={\"Manager's Name\":\"Ajay Singh\", \"Prev Companies\":[\"Amazon\", \"meta\"],\"Location\":\"Delhi\"}\n",
    "mydict.update(adding_new_info)\n",
    "print(mydict)\n",
    "key_object=mydict.keys()\n",
    "print(key_object)"
   ]
  },
  {
   "cell_type": "code",
   "execution_count": 30,
   "id": "859653d3",
   "metadata": {},
   "outputs": [
    {
     "name": "stdout",
     "output_type": "stream",
     "text": [
      "Name\n",
      "Position\n",
      "joinyear\n",
      "salary\n",
      "Manager's Name\n",
      "Prev Companies\n",
      "Location\n"
     ]
    }
   ],
   "source": [
    "# for print it sequentially one by one\n",
    "for i in key_object:\n",
    "    print(i)"
   ]
  },
  {
   "cell_type": "code",
   "execution_count": 32,
   "id": "63ce01dd",
   "metadata": {},
   "outputs": [
    {
     "name": "stdout",
     "output_type": "stream",
     "text": [
      "dict_values(['Kaushal Kashyap', 'Data Scienctist', 2022, \"didn't inserted yet\", 'Ajay Singh', ['Amazon', 'meta'], 'Delhi'])\n"
     ]
    }
   ],
   "source": [
    "# for printing only values of keys\n",
    "value_object=mydict.values()\n",
    "print(value_object)"
   ]
  },
  {
   "cell_type": "code",
   "execution_count": 33,
   "id": "cbec6ea3",
   "metadata": {},
   "outputs": [
    {
     "name": "stdout",
     "output_type": "stream",
     "text": [
      "dict_values(['Kaushal Kashyap', 'Data Scienctist', 2022, \"didn't inserted yet\", 'Ajay Singh', ['Amazon', 'meta'], 'Delhi'])\n",
      "dict_values(['Kaushal Kashyap', 'Data Scienctist', 2022, \"didn't inserted yet\", 'Ajay Singh', ['Amazon', 'meta'], 'Delhi'])\n",
      "dict_values(['Kaushal Kashyap', 'Data Scienctist', 2022, \"didn't inserted yet\", 'Ajay Singh', ['Amazon', 'meta'], 'Delhi'])\n",
      "dict_values(['Kaushal Kashyap', 'Data Scienctist', 2022, \"didn't inserted yet\", 'Ajay Singh', ['Amazon', 'meta'], 'Delhi'])\n",
      "dict_values(['Kaushal Kashyap', 'Data Scienctist', 2022, \"didn't inserted yet\", 'Ajay Singh', ['Amazon', 'meta'], 'Delhi'])\n",
      "dict_values(['Kaushal Kashyap', 'Data Scienctist', 2022, \"didn't inserted yet\", 'Ajay Singh', ['Amazon', 'meta'], 'Delhi'])\n",
      "dict_values(['Kaushal Kashyap', 'Data Scienctist', 2022, \"didn't inserted yet\", 'Ajay Singh', ['Amazon', 'meta'], 'Delhi'])\n"
     ]
    }
   ],
   "source": [
    "for i in value_object:\n",
    "    print(value_object)"
   ]
  },
  {
   "cell_type": "code",
   "execution_count": 36,
   "id": "c9f4584f",
   "metadata": {},
   "outputs": [
    {
     "name": "stdout",
     "output_type": "stream",
     "text": [
      "{'Name': 'Kashyap Kaushal', 'Position': 'Data Scienctist', 'joinyear': 2022, 'salary': \"didn't inserted yet\", \"Manager's Name\": 'Ajay Singh', 'Prev Companies': ['Amazon', 'meta'], 'Location': 'Delhi'}\n"
     ]
    }
   ],
   "source": [
    "#When you copy any dictionary in new dictionary, It is also mutable in there.\n",
    "dictcopy=mydict.copy()\n",
    "dictcopy[\"Name\"]=\"Kashyap Kaushal\"\n",
    "print(dictcopy)"
   ]
  },
  {
   "cell_type": "code",
   "execution_count": 37,
   "id": "e7622ce0",
   "metadata": {},
   "outputs": [
    {
     "name": "stdout",
     "output_type": "stream",
     "text": [
      "Help on built-in function fromkeys:\n",
      "\n",
      "fromkeys(iterable, value=None, /) method of builtins.type instance\n",
      "    Create a new dictionary with keys from iterable and values set to value.\n",
      "\n",
      "None\n"
     ]
    }
   ],
   "source": [
    "#fromkeys\n",
    "print(help(dict.fromkeys))"
   ]
  },
  {
   "cell_type": "code",
   "execution_count": 39,
   "id": "57a55f59",
   "metadata": {},
   "outputs": [
    {
     "name": "stdout",
     "output_type": "stream",
     "text": [
      "{'occupation': None, 'salary': None, 'gender': None}\n"
     ]
    }
   ],
   "source": [
    "#fromkeys will generally create new dictionary with with default value \"None\". \n",
    "#fromkeys accept at most 2 argument only.\n",
    "new_dict=dict.fromkeys([\"occupation\",\"salary\",\"gender\"])\n",
    "print(new_dict)"
   ]
  },
  {
   "cell_type": "code",
   "execution_count": 40,
   "id": "f4b534da",
   "metadata": {},
   "outputs": [
    {
     "name": "stdout",
     "output_type": "stream",
     "text": [
      "{'occupation': ['Postmaster', 40000, 'male'], 'salary': ['Postmaster', 40000, 'male'], 'gender': ['Postmaster', 40000, 'male']}\n"
     ]
    }
   ],
   "source": [
    "#in Fromkeys you can only give one value for all the keys\n",
    "new_dict=dict.fromkeys([\"occupation\",\"salary\",\"gender\"],[\"Postmaster\",40000,\"male\"])\n",
    "print(new_dict)"
   ]
  },
  {
   "cell_type": "code",
   "execution_count": 41,
   "id": "f372577a",
   "metadata": {},
   "outputs": [],
   "source": [
    "new_dict=dict.fromkeys([\"occupation\",\"salary\",\"gender\"],\"Yet to be decided\")"
   ]
  },
  {
   "cell_type": "code",
   "execution_count": 42,
   "id": "189277fd",
   "metadata": {},
   "outputs": [
    {
     "name": "stdout",
     "output_type": "stream",
     "text": [
      "{'occupation': 'Yet to be decided', 'salary': 'Yet to be decided', 'gender': 'Yet to be decided'}\n"
     ]
    }
   ],
   "source": [
    "print(new_dict)"
   ]
  },
  {
   "cell_type": "code",
   "execution_count": null,
   "id": "7844d497",
   "metadata": {},
   "outputs": [],
   "source": []
  }
 ],
 "metadata": {
  "kernelspec": {
   "display_name": "Python 3 (ipykernel)",
   "language": "python",
   "name": "python3"
  },
  "language_info": {
   "codemirror_mode": {
    "name": "ipython",
    "version": 3
   },
   "file_extension": ".py",
   "mimetype": "text/x-python",
   "name": "python",
   "nbconvert_exporter": "python",
   "pygments_lexer": "ipython3",
   "version": "3.9.7"
  }
 },
 "nbformat": 4,
 "nbformat_minor": 5
}
