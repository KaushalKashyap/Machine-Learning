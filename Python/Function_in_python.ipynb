{
 "cells": [
  {
   "cell_type": "code",
   "execution_count": 2,
   "id": "c99c96b2",
   "metadata": {},
   "outputs": [],
   "source": [
    "#Function\n",
    "#In function there are two important things Local and Global variable\n",
    "#IN function if you adding two integer it will return value in integer. But in case of string it will concatenate like 20+30=2030\n",
    "def add_two_integer(a,b):\n",
    "    print(a+b)"
   ]
  },
  {
   "cell_type": "code",
   "execution_count": 3,
   "id": "aad1597d",
   "metadata": {},
   "outputs": [
    {
     "name": "stdout",
     "output_type": "stream",
     "text": [
      "30\n"
     ]
    }
   ],
   "source": [
    "add_two_integer(10,20)"
   ]
  },
  {
   "cell_type": "code",
   "execution_count": 4,
   "id": "052bd62f",
   "metadata": {},
   "outputs": [
    {
     "name": "stdout",
     "output_type": "stream",
     "text": [
      "10\n",
      "11\n",
      "10\n"
     ]
    }
   ],
   "source": [
    "#Example : 1\n",
    "def increment_by_one(a):\n",
    "    a=a+1\n",
    "    print(a)\n",
    "    return \n",
    "\n",
    "a=10\n",
    "print(a)\n",
    "increment_by_one(a)\n",
    "print(a)"
   ]
  },
  {
   "cell_type": "code",
   "execution_count": 5,
   "id": "8bce6731",
   "metadata": {},
   "outputs": [
    {
     "name": "stdout",
     "output_type": "stream",
     "text": [
      "[1, 2, 3, 4]\n",
      "[1, 2, 3, 4, 5]\n"
     ]
    }
   ],
   "source": [
    "#Example : 2\n",
    "def append_on_list(a):\n",
    "    a.append(5)\n",
    "    return\n",
    "\n",
    "a=[1,2,3,4]\n",
    "print(a)\n",
    "append_on_list(a)\n",
    "print(a)"
   ]
  },
  {
   "cell_type": "code",
   "execution_count": 6,
   "id": "6f6016fb",
   "metadata": {},
   "outputs": [
    {
     "name": "stdout",
     "output_type": "stream",
     "text": [
      "[1, 2, 3, 4]\n",
      "[1, 2, 3, 4]\n"
     ]
    }
   ],
   "source": [
    "# Python, it is not passed by value, it is not passed by reference either. It is something called as pass by object.\n",
    "\n",
    "def append_on_list_new(a):\n",
    "    a=a+[5]\n",
    "    return\n",
    "\n",
    "a=[1,2,3,4]\n",
    "print(a)\n",
    "append_on_list_new(a)\n",
    "print(a)"
   ]
  },
  {
   "cell_type": "code",
   "execution_count": 17,
   "id": "bb7b2d6b",
   "metadata": {},
   "outputs": [],
   "source": [
    "#Arbitrary Arguments  \n",
    "#suppose we don't know how many argument have to be passed into function . for this situation we will use pointer in parameter. which will contain number of value passed though at the time of calling a function.\n",
    "def my_function(*students):\n",
    "    print(students[2])"
   ]
  },
  {
   "cell_type": "code",
   "execution_count": 18,
   "id": "cf9dda83",
   "metadata": {},
   "outputs": [
    {
     "name": "stdout",
     "output_type": "stream",
     "text": [
      "mass\n"
     ]
    }
   ],
   "source": [
    "my_function(\"jacob\",\"marathon\",\"mass\")"
   ]
  },
  {
   "cell_type": "code",
   "execution_count": 23,
   "id": "e1b8f2c3",
   "metadata": {},
   "outputs": [],
   "source": [
    "def my_functionss(s1,s2,s3):\n",
    "    print(s1,s2,s3)"
   ]
  },
  {
   "cell_type": "code",
   "execution_count": 24,
   "id": "82d20d21",
   "metadata": {},
   "outputs": [
    {
     "name": "stdout",
     "output_type": "stream",
     "text": [
      "Mr. kaushal kashyap\n"
     ]
    }
   ],
   "source": [
    "my_functionss(s1=\"Mr.\",s2=\"kaushal\",s3=\"kashyap\")"
   ]
  },
  {
   "cell_type": "code",
   "execution_count": 34,
   "id": "9dd5f781",
   "metadata": {},
   "outputs": [],
   "source": [
    "#defining defaulth  value of the parameter\n",
    "#here we are giving calling function with no value; so it will take the default which is \"python\"\n",
    "def call_name(language=\"python\"):\n",
    "    print(\"I Love \"+ language)"
   ]
  },
  {
   "cell_type": "code",
   "execution_count": 35,
   "id": "91be6a5f",
   "metadata": {},
   "outputs": [
    {
     "name": "stdout",
     "output_type": "stream",
     "text": [
      "I Love java\n",
      "I Love  c\n",
      "I Love python\n"
     ]
    }
   ],
   "source": [
    "call_name(\"java\")\n",
    "call_name(\" c\")\n",
    "call_name()"
   ]
  },
  {
   "cell_type": "code",
   "execution_count": 36,
   "id": "ee2e15cb",
   "metadata": {},
   "outputs": [],
   "source": [
    "#passing a list as an argument\n",
    "#you can define the list at the time of calling\n",
    "def my_function(students):\n",
    "    for x in students:\n",
    "        print(x)"
   ]
  },
  {
   "cell_type": "code",
   "execution_count": 37,
   "id": "1976fac1",
   "metadata": {},
   "outputs": [
    {
     "name": "stdout",
     "output_type": "stream",
     "text": [
      "john\n",
      "Shamhu\n",
      "maverick\n"
     ]
    }
   ],
   "source": [
    "students=[\"john\",\"Shamhu\",\"maverick\"]\n",
    "my_function(students)"
   ]
  },
  {
   "cell_type": "code",
   "execution_count": 38,
   "id": "837638ce",
   "metadata": {},
   "outputs": [],
   "source": [
    "#return values:\n",
    "#after calling the function the given value will be calculated and return the value to console.\n",
    "def my_functions(x):\n",
    "    return 3*x"
   ]
  },
  {
   "cell_type": "code",
   "execution_count": 39,
   "id": "6ce923bc",
   "metadata": {},
   "outputs": [
    {
     "name": "stdout",
     "output_type": "stream",
     "text": [
      "6\n",
      "9\n",
      "12\n"
     ]
    }
   ],
   "source": [
    "print(my_functions(2))\n",
    "print(my_functions(3))\n",
    "print(my_functions(4))"
   ]
  },
  {
   "cell_type": "code",
   "execution_count": 40,
   "id": "7067e995",
   "metadata": {},
   "outputs": [],
   "source": [
    "#if any function have no body then use \"pass\" statement to avoid the error.\n",
    "def functions():\n",
    "    pass"
   ]
  },
  {
   "cell_type": "code",
   "execution_count": 42,
   "id": "5e890ae4",
   "metadata": {},
   "outputs": [],
   "source": [
    "#Recursion if a program allows you to call a function inside the same function, then it is called a recursive call of the function.\n",
    "def recursion(n):\n",
    "    if(n>0):\n",
    "        result=n+recursion(n-1)\n",
    "        print(result)\n",
    "    else:\n",
    "            result=0\n",
    "            return result"
   ]
  },
  {
   "cell_type": "code",
   "execution_count": 43,
   "id": "e7dc1080",
   "metadata": {},
   "outputs": [
    {
     "name": "stdout",
     "output_type": "stream",
     "text": [
      "1\n"
     ]
    },
    {
     "ename": "TypeError",
     "evalue": "unsupported operand type(s) for +: 'int' and 'NoneType'",
     "output_type": "error",
     "traceback": [
      "\u001b[0;31m---------------------------------------------------------------------------\u001b[0m",
      "\u001b[0;31mTypeError\u001b[0m                                 Traceback (most recent call last)",
      "\u001b[0;32m/tmp/ipykernel_35687/2896154039.py\u001b[0m in \u001b[0;36m<module>\u001b[0;34m\u001b[0m\n\u001b[0;32m----> 1\u001b[0;31m \u001b[0mrecursion\u001b[0m\u001b[0;34m(\u001b[0m\u001b[0;36m4\u001b[0m\u001b[0;34m)\u001b[0m\u001b[0;34m\u001b[0m\u001b[0;34m\u001b[0m\u001b[0m\n\u001b[0m",
      "\u001b[0;32m/tmp/ipykernel_35687/2700869181.py\u001b[0m in \u001b[0;36mrecursion\u001b[0;34m(n)\u001b[0m\n\u001b[1;32m      2\u001b[0m \u001b[0;32mdef\u001b[0m \u001b[0mrecursion\u001b[0m\u001b[0;34m(\u001b[0m\u001b[0mn\u001b[0m\u001b[0;34m)\u001b[0m\u001b[0;34m:\u001b[0m\u001b[0;34m\u001b[0m\u001b[0;34m\u001b[0m\u001b[0m\n\u001b[1;32m      3\u001b[0m     \u001b[0;32mif\u001b[0m\u001b[0;34m(\u001b[0m\u001b[0mn\u001b[0m\u001b[0;34m>\u001b[0m\u001b[0;36m0\u001b[0m\u001b[0;34m)\u001b[0m\u001b[0;34m:\u001b[0m\u001b[0;34m\u001b[0m\u001b[0;34m\u001b[0m\u001b[0m\n\u001b[0;32m----> 4\u001b[0;31m         \u001b[0mresult\u001b[0m\u001b[0;34m=\u001b[0m\u001b[0mn\u001b[0m\u001b[0;34m+\u001b[0m\u001b[0mrecursion\u001b[0m\u001b[0;34m(\u001b[0m\u001b[0mn\u001b[0m\u001b[0;34m-\u001b[0m\u001b[0;36m1\u001b[0m\u001b[0;34m)\u001b[0m\u001b[0;34m\u001b[0m\u001b[0;34m\u001b[0m\u001b[0m\n\u001b[0m\u001b[1;32m      5\u001b[0m         \u001b[0mprint\u001b[0m\u001b[0;34m(\u001b[0m\u001b[0mresult\u001b[0m\u001b[0;34m)\u001b[0m\u001b[0;34m\u001b[0m\u001b[0;34m\u001b[0m\u001b[0m\n\u001b[1;32m      6\u001b[0m     \u001b[0;32melse\u001b[0m\u001b[0;34m:\u001b[0m\u001b[0;34m\u001b[0m\u001b[0;34m\u001b[0m\u001b[0m\n",
      "\u001b[0;32m/tmp/ipykernel_35687/2700869181.py\u001b[0m in \u001b[0;36mrecursion\u001b[0;34m(n)\u001b[0m\n\u001b[1;32m      2\u001b[0m \u001b[0;32mdef\u001b[0m \u001b[0mrecursion\u001b[0m\u001b[0;34m(\u001b[0m\u001b[0mn\u001b[0m\u001b[0;34m)\u001b[0m\u001b[0;34m:\u001b[0m\u001b[0;34m\u001b[0m\u001b[0;34m\u001b[0m\u001b[0m\n\u001b[1;32m      3\u001b[0m     \u001b[0;32mif\u001b[0m\u001b[0;34m(\u001b[0m\u001b[0mn\u001b[0m\u001b[0;34m>\u001b[0m\u001b[0;36m0\u001b[0m\u001b[0;34m)\u001b[0m\u001b[0;34m:\u001b[0m\u001b[0;34m\u001b[0m\u001b[0;34m\u001b[0m\u001b[0m\n\u001b[0;32m----> 4\u001b[0;31m         \u001b[0mresult\u001b[0m\u001b[0;34m=\u001b[0m\u001b[0mn\u001b[0m\u001b[0;34m+\u001b[0m\u001b[0mrecursion\u001b[0m\u001b[0;34m(\u001b[0m\u001b[0mn\u001b[0m\u001b[0;34m-\u001b[0m\u001b[0;36m1\u001b[0m\u001b[0;34m)\u001b[0m\u001b[0;34m\u001b[0m\u001b[0;34m\u001b[0m\u001b[0m\n\u001b[0m\u001b[1;32m      5\u001b[0m         \u001b[0mprint\u001b[0m\u001b[0;34m(\u001b[0m\u001b[0mresult\u001b[0m\u001b[0;34m)\u001b[0m\u001b[0;34m\u001b[0m\u001b[0;34m\u001b[0m\u001b[0m\n\u001b[1;32m      6\u001b[0m     \u001b[0;32melse\u001b[0m\u001b[0;34m:\u001b[0m\u001b[0;34m\u001b[0m\u001b[0;34m\u001b[0m\u001b[0m\n",
      "\u001b[0;32m/tmp/ipykernel_35687/2700869181.py\u001b[0m in \u001b[0;36mrecursion\u001b[0;34m(n)\u001b[0m\n\u001b[1;32m      2\u001b[0m \u001b[0;32mdef\u001b[0m \u001b[0mrecursion\u001b[0m\u001b[0;34m(\u001b[0m\u001b[0mn\u001b[0m\u001b[0;34m)\u001b[0m\u001b[0;34m:\u001b[0m\u001b[0;34m\u001b[0m\u001b[0;34m\u001b[0m\u001b[0m\n\u001b[1;32m      3\u001b[0m     \u001b[0;32mif\u001b[0m\u001b[0;34m(\u001b[0m\u001b[0mn\u001b[0m\u001b[0;34m>\u001b[0m\u001b[0;36m0\u001b[0m\u001b[0;34m)\u001b[0m\u001b[0;34m:\u001b[0m\u001b[0;34m\u001b[0m\u001b[0;34m\u001b[0m\u001b[0m\n\u001b[0;32m----> 4\u001b[0;31m         \u001b[0mresult\u001b[0m\u001b[0;34m=\u001b[0m\u001b[0mn\u001b[0m\u001b[0;34m+\u001b[0m\u001b[0mrecursion\u001b[0m\u001b[0;34m(\u001b[0m\u001b[0mn\u001b[0m\u001b[0;34m-\u001b[0m\u001b[0;36m1\u001b[0m\u001b[0;34m)\u001b[0m\u001b[0;34m\u001b[0m\u001b[0;34m\u001b[0m\u001b[0m\n\u001b[0m\u001b[1;32m      5\u001b[0m         \u001b[0mprint\u001b[0m\u001b[0;34m(\u001b[0m\u001b[0mresult\u001b[0m\u001b[0;34m)\u001b[0m\u001b[0;34m\u001b[0m\u001b[0;34m\u001b[0m\u001b[0m\n\u001b[1;32m      6\u001b[0m     \u001b[0;32melse\u001b[0m\u001b[0;34m:\u001b[0m\u001b[0;34m\u001b[0m\u001b[0;34m\u001b[0m\u001b[0m\n",
      "\u001b[0;31mTypeError\u001b[0m: unsupported operand type(s) for +: 'int' and 'NoneType'"
     ]
    }
   ],
   "source": [
    "recursion(4)"
   ]
  },
  {
   "cell_type": "code",
   "execution_count": null,
   "id": "270637b9",
   "metadata": {},
   "outputs": [],
   "source": [
    "with open(r,\"file.txt\",\"w+\")as f:\n",
    "    content=f.read()\n",
    "    print\n"
   ]
  }
 ],
 "metadata": {
  "kernelspec": {
   "display_name": "Python 3 (ipykernel)",
   "language": "python",
   "name": "python3"
  },
  "language_info": {
   "codemirror_mode": {
    "name": "ipython",
    "version": 3
   },
   "file_extension": ".py",
   "mimetype": "text/x-python",
   "name": "python",
   "nbconvert_exporter": "python",
   "pygments_lexer": "ipython3",
   "version": "3.9.7"
  }
 },
 "nbformat": 4,
 "nbformat_minor": 5
}
