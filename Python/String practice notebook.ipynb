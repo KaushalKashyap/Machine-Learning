{
 "cells": [
  {
   "cell_type": "code",
   "execution_count": 1,
   "id": "aa55641c",
   "metadata": {},
   "outputs": [
    {
     "name": "stdout",
     "output_type": "stream",
     "text": [
      "Enter stringaabbaaccaa\n",
      "$$bb$$cc$$\n"
     ]
    }
   ],
   "source": [
    "#input string and remove specified letter in string\n",
    "String=input(\"Enter string\")\n",
    "String=String.replace('a','$')\n",
    "String=String.replace('A','$')\n",
    "print(String)"
   ]
  },
  {
   "cell_type": "code",
   "execution_count": 4,
   "id": "5435960f",
   "metadata": {},
   "outputs": [
    {
     "name": "stdout",
     "output_type": "stream",
     "text": [
      "enter the stringabcdefgh\n",
      "enter the index of the character to remove5\n",
      "modified String:\n",
      "abcdegh\n"
     ]
    }
   ],
   "source": [
    "#to remove the nth index character from a non-empty string\n",
    "def remove(string,n):\n",
    "    first=string[:n]\n",
    "    second=string[n+1:]\n",
    "    return first+second\n",
    "string=input(\"enter the string\")\n",
    "n=int(input(\"enter the index of the character to remove\"))\n",
    "print(\"modified String:\")\n",
    "print(remove(string,n))"
   ]
  },
  {
   "cell_type": "code",
   "execution_count": 6,
   "id": "59329432",
   "metadata": {},
   "outputs": [
    {
     "name": "stdout",
     "output_type": "stream",
     "text": [
      "Enter first stringhello\n",
      "Enter second stringholle\n",
      "String is anagram\n"
     ]
    }
   ],
   "source": [
    "#to detect the given string is anagram or not\n",
    "s1=input(\"Enter first string\")\n",
    "s2=input(\"Enter second string\")\n",
    "if (sorted(s1)==sorted(s2)):\n",
    "    print(\"String is anagram\")\n",
    "else:\n",
    "    print(\"String is not anagram\")"
   ]
  },
  {
   "cell_type": "code",
   "execution_count": 8,
   "id": "6b4cb217",
   "metadata": {},
   "outputs": [
    {
     "name": "stdout",
     "output_type": "stream",
     "text": [
      "enter the stringgo to hell\n",
      "lo to helg\n"
     ]
    }
   ],
   "source": [
    "#create a new string by given two string where first character and the last character is changed\n",
    "def change(string):\n",
    "    return string[-1:]+string[1:-1]+string[:1]\n",
    "string=input(\"enter the string\")\n",
    "print(change(string))"
   ]
  },
  {
   "cell_type": "code",
   "execution_count": 7,
   "id": "4ec32b73",
   "metadata": {},
   "outputs": [
    {
     "name": "stdout",
     "output_type": "stream",
     "text": [
      "d\n",
      "ello worl\n",
      "H\n"
     ]
    }
   ],
   "source": [
    "#This is for understand that how to reach at particular index in string\n",
    "string=\"Hello world\"\n",
    "print(string[-1])\n",
    "print(string[1:-1])\n",
    "print(string[:1])"
   ]
  },
  {
   "cell_type": "code",
   "execution_count": 15,
   "id": "37613885",
   "metadata": {},
   "outputs": [
    {
     "name": "stdout",
     "output_type": "stream",
     "text": [
      "enter the stringhello world\n",
      "3\n"
     ]
    }
   ],
   "source": [
    "#count the number of vowels\n",
    "a=input(\"enter the string\")\n",
    "vowels=0\n",
    "for i in a:\n",
    "    if (i=='a' or i=='i' or i=='e' or i=='o' or i=='u'):\n",
    "        vowels=vowels+1\n",
    "\n",
    "print(vowels)"
   ]
  },
  {
   "cell_type": "code",
   "execution_count": 14,
   "id": "59128cc2",
   "metadata": {},
   "outputs": [
    {
     "name": "stdout",
     "output_type": "stream",
     "text": [
      "Enter the Stringhello world\n",
      "hello-world\n"
     ]
    }
   ],
   "source": [
    "#program to take in a string and replace every blank space with hyphen.\n",
    "string=input(\"Enter the String\")\n",
    "print(string.replace(\" \",\"-\"))"
   ]
  },
  {
   "cell_type": "code",
   "execution_count": 17,
   "id": "500ba836",
   "metadata": {},
   "outputs": [
    {
     "name": "stdout",
     "output_type": "stream",
     "text": [
      "enter the stringhello world\n",
      "11\n"
     ]
    }
   ],
   "source": [
    "#program to count the length of string without using library function\n",
    "mystring=input(\"enter the string\")\n",
    "count=0\n",
    "for i in mystring:\n",
    "    count=count+1\n",
    "\n",
    "print(count)"
   ]
  },
  {
   "cell_type": "code",
   "execution_count": 30,
   "id": "956b6d71",
   "metadata": {},
   "outputs": [
    {
     "name": "stdout",
     "output_type": "stream",
     "text": [
      "enter the stringhello world\n",
      "el ol\n"
     ]
    }
   ],
   "source": [
    "#program to remove the character at odd index in string\n",
    "final=\"\"\n",
    "def mod(string):\n",
    "    global final\n",
    "    for i in range(len(string)):\n",
    "        if i%2==0:\n",
    "            i=i+1\n",
    "        else:\n",
    "            final=final+string[i]\n",
    "    return final\n",
    "mystring=input(\"enter the string\")\n",
    "print(mod(mystring))"
   ]
  },
  {
   "cell_type": "code",
   "execution_count": 40,
   "id": "a851b23c",
   "metadata": {},
   "outputs": [
    {
     "name": "stdout",
     "output_type": "stream",
     "text": [
      "enter the stringHello world\n",
      "2 Nummber of word in string\n",
      "11 Number of characters in string\n"
     ]
    }
   ],
   "source": [
    "#calculate the number of character and word presented in string\n",
    "string=input(\"enter the string\")\n",
    "char=0\n",
    "word=1\n",
    "for i in string:\n",
    "    char=char+1\n",
    "    if (i==' '):\n",
    "        word=word+1\n",
    "print(word,\"Nummber of word in string\")\n",
    "print(char,\"Number of characters in string\")"
   ]
  },
  {
   "cell_type": "code",
   "execution_count": 35,
   "id": "afebb720",
   "metadata": {},
   "outputs": [
    {
     "name": "stdout",
     "output_type": "stream",
     "text": [
      "Help on method_descriptor:\n",
      "\n",
      "count(...)\n",
      "    S.count(sub[, start[, end]]) -> int\n",
      "    \n",
      "    Return the number of non-overlapping occurrences of substring sub in\n",
      "    string S[start:end].  Optional arguments start and end are\n",
      "    interpreted as in slice notation.\n",
      "\n",
      "None\n"
     ]
    }
   ],
   "source": [
    "print(help(str.count))"
   ]
  },
  {
   "cell_type": "code",
   "execution_count": 45,
   "id": "62ed2ced",
   "metadata": {},
   "outputs": [
    {
     "name": "stdout",
     "output_type": "stream",
     "text": [
      "Enter the first stringa quick brown fox\n",
      "Enter the second stringjumps over a lazy dog\n",
      "21 string2 is larger\n",
      "17 21\n"
     ]
    }
   ],
   "source": [
    "#prgram to find which input string is larger\n",
    "string1=input(\"Enter the first string\")\n",
    "string2=input(\"Enter the second string\")\n",
    "count1=0\n",
    "count2=0\n",
    "for i in string1:\n",
    "    count1=count1+1\n",
    "for j in string2:\n",
    "    count2=count2+1\n",
    "if (count1>count2):\n",
    "    print(count1,\" string1 is larger\")\n",
    "else:\n",
    "    print(count2,\"string2 is larger\")\n",
    "print(count1,count2)"
   ]
  },
  {
   "cell_type": "code",
   "execution_count": 46,
   "id": "501e4245",
   "metadata": {},
   "outputs": [
    {
     "name": "stdout",
     "output_type": "stream",
     "text": [
      "enter the stringa Quick Brown Fox\n",
      "11\n"
     ]
    }
   ],
   "source": [
    "#program to find lowercase in string\n",
    "string=input(\"enter the string\")\n",
    "count=0\n",
    "for i in string:\n",
    "    if (i.islower()):\n",
    "        count=count+1\n",
    "print(count)"
   ]
  },
  {
   "cell_type": "code",
   "execution_count": 48,
   "id": "287b4857",
   "metadata": {},
   "outputs": [
    {
     "name": "stdout",
     "output_type": "stream",
     "text": [
      "enter the stringhello\n",
      "hello isn't palindrome\n"
     ]
    }
   ],
   "source": [
    "#check if given string is palindrome or not. like 525 from backward to forward it should be same.\n",
    "string=input(\"enter the string\")\n",
    "if string==string[::-1]:\n",
    "    print(string,\"is palindrome\")\n",
    "else:\n",
    "    print(string,\"isn't palindrome\")"
   ]
  },
  {
   "cell_type": "code",
   "execution_count": 49,
   "id": "157f360a",
   "metadata": {},
   "outputs": [
    {
     "name": "stdout",
     "output_type": "stream",
     "text": [
      "enter the stringHello World\n",
      "2 is number of uppercase 8 And is number of lowercase\n"
     ]
    }
   ],
   "source": [
    "#to find the number of uppercase and lowercase in string\n",
    "string=input(\"enter the string\")\n",
    "count1=0\n",
    "count2=0\n",
    "for i in string:\n",
    "    if (i.isupper()):\n",
    "        count1=count1+1\n",
    "    elif (i.islower()):\n",
    "        count2=count2+1\n",
    "print(count1,\"is number of uppercase\",count2,\"And is number of lowercase\")"
   ]
  },
  {
   "cell_type": "code",
   "execution_count": null,
   "id": "0fb85620",
   "metadata": {},
   "outputs": [],
   "source": []
  }
 ],
 "metadata": {
  "kernelspec": {
   "display_name": "Python 3 (ipykernel)",
   "language": "python",
   "name": "python3"
  },
  "language_info": {
   "codemirror_mode": {
    "name": "ipython",
    "version": 3
   },
   "file_extension": ".py",
   "mimetype": "text/x-python",
   "name": "python",
   "nbconvert_exporter": "python",
   "pygments_lexer": "ipython3",
   "version": "3.9.7"
  }
 },
 "nbformat": 4,
 "nbformat_minor": 5
}
