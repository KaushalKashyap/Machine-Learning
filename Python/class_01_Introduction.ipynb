{
 "cells": [
  {
   "cell_type": "code",
   "execution_count": null,
   "id": "0598c76a",
   "metadata": {},
   "outputs": [],
   "source": [
    "#Topics we will cover\n",
    "Why we use OS and Programming Language? \n",
    "High Level vs Low Level Programming Language \n",
    "Why are we Learning Python?\n",
    "Compiler vs Interpreter\n",
    "Different Types of Errors in Python\n",
    "Compile time vs Run time Errors in Python \n",
    "Source code, Byte code, Machine code\n",
    "How a Python Program runs on our system?"
   ]
  },
  {
   "cell_type": "code",
   "execution_count": null,
   "id": "4dcbb62d",
   "metadata": {},
   "outputs": [],
   "source": [
    "Operating Systems:\n",
    "    It is nothing but an interface between humans and hardware.\n",
    "    It also helps in management of input and output devices.\n",
    "    It helps in process management and memory management."
   ]
  },
  {
   "cell_type": "code",
   "execution_count": null,
   "id": "b7679025",
   "metadata": {},
   "outputs": [],
   "source": [
    "What is Programming language?\n",
    "    It is nothing but a medium to communicate with computers.\n",
    "    It has :\n",
    "        1) predefined rules: Syntax\n",
    "        2) predefined words: Keywords"
   ]
  },
  {
   "cell_type": "code",
   "execution_count": 3,
   "id": "af6f7da6",
   "metadata": {},
   "outputs": [
    {
     "ename": "SyntaxError",
     "evalue": "invalid syntax (Temp/ipykernel_24120/549628915.py, line 3)",
     "output_type": "error",
     "traceback": [
      "\u001b[1;36m  File \u001b[1;32m\"C:\\Users\\gtane\\AppData\\Local\\Temp/ipykernel_24120/549628915.py\"\u001b[1;36m, line \u001b[1;32m3\u001b[0m\n\u001b[1;33m    print(ab+)\u001b[0m\n\u001b[1;37m             ^\u001b[0m\n\u001b[1;31mSyntaxError\u001b[0m\u001b[1;31m:\u001b[0m invalid syntax\n"
     ]
    }
   ],
   "source": [
    "a=10\n",
    "b=20\n",
    "print(ab+)"
   ]
  },
  {
   "cell_type": "code",
   "execution_count": null,
   "id": "e5ddf44c",
   "metadata": {},
   "outputs": [],
   "source": [
    "There is a table.\n",
    "Table is brown in color.\n",
    "\n",
    "There is a table.\n",
    "Table brown is in color."
   ]
  },
  {
   "cell_type": "code",
   "execution_count": null,
   "id": "0916f756",
   "metadata": {},
   "outputs": [],
   "source": [
    "Note: computers can understand only binary (0 and 1)\n",
    "Types of PLs (on the basis of ease for humans to read):\n",
    "    1) Low level Language(LLL): Languages that are difficult for humans to understand. Ex: Machine language, Assembly language.\n",
    "    2) High level Language(HLL): Languages that are easier for humans to understand. Ex: Python, C, C++, Java."
   ]
  },
  {
   "cell_type": "code",
   "execution_count": null,
   "id": "e9910136",
   "metadata": {},
   "outputs": [],
   "source": [
    "a=22 ()\n",
    "1,2,3,10,20,23,45, (base: 0,1,2,3,4,5,6,7,8,9)\n",
    "in unary 5=11111\n",
    "7=1111111\n",
    "10\n",
    "100\n",
    "\n",
    "0\n",
    "1\n",
    "10======this is 2 in binary\n",
    "11======this is 3 in binay\n",
    "\n",
    "\n",
    "Cinversion decimels to binary\n",
    "10-ten in decimel number number system\n",
    "\n",
    "iteration\n",
    "\n"
   ]
  },
  {
   "cell_type": "code",
   "execution_count": null,
   "id": "324b5c06",
   "metadata": {},
   "outputs": [],
   "source": [
    "35 in decimel and convert it to binary\n",
    "100011\n",
    "\n",
    "\n",
    "iteration   q               r\n",
    "1           17               1\n",
    "2           8                 1\n",
    "3           4                 0\n",
    "4           2                 0\n",
    "5           1                  0\n",
    "6           0                  1\n",
    "\n",
    "100011\n",
    "\n",
    "\n",
    "\n",
    "\n",
    "\n"
   ]
  },
  {
   "cell_type": "code",
   "execution_count": null,
   "id": "b7599834",
   "metadata": {},
   "outputs": [],
   "source": [
    "conversion from binary to decimel\n",
    "1234= 4*1 +3*10+2*100+1*10000\n",
    "    = 4*10(0)+3*10(1)+2*10(2)+1*10(3)\n",
    "\n",
    "1001=1*2(0)+0*2(1)+0*2(2)+1*2(3)\n",
    "    =1*1+0*2+0*4+1*8\n",
    "    =9"
   ]
  },
  {
   "cell_type": "code",
   "execution_count": null,
   "id": "91c0fe26",
   "metadata": {},
   "outputs": [],
   "source": [
    "39\n",
    "100111\n",
    "\n",
    "1*1+1*2+1*4+1*32\n",
    "\n"
   ]
  },
  {
   "cell_type": "code",
   "execution_count": null,
   "id": "c21b82cb",
   "metadata": {},
   "outputs": [],
   "source": [
    "0\n",
    "1\n",
    "10\n"
   ]
  },
  {
   "cell_type": "code",
   "execution_count": null,
   "id": "51f91a4d",
   "metadata": {},
   "outputs": [],
   "source": [
    "\"T\"==77"
   ]
  },
  {
   "cell_type": "code",
   "execution_count": null,
   "id": "67cb26e4",
   "metadata": {},
   "outputs": [],
   "source": []
  },
  {
   "cell_type": "code",
   "execution_count": 1,
   "id": "e6df1719",
   "metadata": {},
   "outputs": [
    {
     "name": "stdout",
     "output_type": "stream",
     "text": [
      "30\n"
     ]
    }
   ],
   "source": [
    "#First code\n",
    "a=10\n",
    "b=20\n",
    "print(a+b)"
   ]
  },
  {
   "cell_type": "code",
   "execution_count": null,
   "id": "22858913",
   "metadata": {},
   "outputs": [],
   "source": [
    "#Compiler: takes the whole code at once and converts it.\n",
    "#          If there is error in code, it will not translate anything   \n",
    "\n",
    "\n",
    "#Interpreter: takes the code line by line (Instruction by instruction) and converts it.\n",
    "#          If there is error in code, it will translate the cod uptil the line line which has error"
   ]
  },
  {
   "cell_type": "code",
   "execution_count": 7,
   "id": "eb286d64",
   "metadata": {},
   "outputs": [
    {
     "name": "stdout",
     "output_type": "stream",
     "text": [
      "30\n"
     ]
    },
    {
     "ename": "ZeroDivisionError",
     "evalue": "division by zero",
     "output_type": "error",
     "traceback": [
      "\u001b[1;31m---------------------------------------------------------------------------\u001b[0m",
      "\u001b[1;31mZeroDivisionError\u001b[0m                         Traceback (most recent call last)",
      "\u001b[1;32m~\\AppData\\Local\\Temp/ipykernel_24120/672961777.py\u001b[0m in \u001b[0;36m<module>\u001b[1;34m\u001b[0m\n\u001b[0;32m      2\u001b[0m \u001b[0mb\u001b[0m\u001b[1;33m=\u001b[0m\u001b[1;36m20\u001b[0m\u001b[1;33m\u001b[0m\u001b[1;33m\u001b[0m\u001b[0m\n\u001b[0;32m      3\u001b[0m \u001b[0mprint\u001b[0m\u001b[1;33m(\u001b[0m\u001b[0ma\u001b[0m\u001b[1;33m+\u001b[0m\u001b[0mb\u001b[0m\u001b[1;33m)\u001b[0m\u001b[1;33m\u001b[0m\u001b[1;33m\u001b[0m\u001b[0m\n\u001b[1;32m----> 4\u001b[1;33m \u001b[0mprint\u001b[0m\u001b[1;33m(\u001b[0m\u001b[0ma\u001b[0m\u001b[1;33m/\u001b[0m\u001b[1;36m0\u001b[0m\u001b[1;33m)\u001b[0m\u001b[1;33m\u001b[0m\u001b[1;33m\u001b[0m\u001b[0m\n\u001b[0m",
      "\u001b[1;31mZeroDivisionError\u001b[0m: division by zero"
     ]
    }
   ],
   "source": [
    "a=10\n",
    "b=20\n",
    "print(a+b)\n",
    "print(a/0)"
   ]
  },
  {
   "cell_type": "code",
   "execution_count": null,
   "id": "cc0179c3",
   "metadata": {},
   "outputs": [],
   "source": [
    "Source code->(compiler)->Byte code->(interpreter)->Machine code "
   ]
  },
  {
   "cell_type": "code",
   "execution_count": null,
   "id": "213e7510",
   "metadata": {},
   "outputs": [],
   "source": [
    "Source code: It is the code written by humans.\n",
    "Intermediate code: It is the intermediate code generated by translator(compiler/interpreter).\n",
    "                Python(Byte code)\n",
    "                c/c++ (executable)\n",
    "                Java (object code)\n",
    "Machine code: Final code that computer understands. It is binary in nature."
   ]
  },
  {
   "cell_type": "code",
   "execution_count": null,
   "id": "3ba665e5",
   "metadata": {},
   "outputs": [],
   "source": [
    "Why do we need two different translators?\n",
    "So that we can get the intermediate code and users don't get to see how our application was written?"
   ]
  },
  {
   "cell_type": "code",
   "execution_count": null,
   "id": "c407d109",
   "metadata": {},
   "outputs": [],
   "source": []
  },
  {
   "cell_type": "code",
   "execution_count": null,
   "id": "b280b7cf",
   "metadata": {},
   "outputs": [],
   "source": []
  }
 ],
 "metadata": {
  "kernelspec": {
   "display_name": "Python 3 (ipykernel)",
   "language": "python",
   "name": "python3"
  },
  "language_info": {
   "codemirror_mode": {
    "name": "ipython",
    "version": 3
   },
   "file_extension": ".py",
   "mimetype": "text/x-python",
   "name": "python",
   "nbconvert_exporter": "python",
   "pygments_lexer": "ipython3",
   "version": "3.9.7"
  }
 },
 "nbformat": 4,
 "nbformat_minor": 5
}
