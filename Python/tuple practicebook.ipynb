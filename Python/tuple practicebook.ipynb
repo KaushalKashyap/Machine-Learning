{
 "cells": [
  {
   "cell_type": "code",
   "execution_count": 2,
   "id": "54f745bd",
   "metadata": {},
   "outputs": [
    {
     "name": "stdout",
     "output_type": "stream",
     "text": [
      "(1, 3, 4, 5, 6)\n",
      "3\n"
     ]
    }
   ],
   "source": [
    "#to create a tuple and print index 1\n",
    "tuplex=(1,3,4,5,6)\n",
    "print(tuplex)\n",
    "print(tuplex[1])"
   ]
  },
  {
   "cell_type": "code",
   "execution_count": 3,
   "id": "661573c8",
   "metadata": {},
   "outputs": [
    {
     "name": "stdout",
     "output_type": "stream",
     "text": [
      "absolutely <class 'str'>\n"
     ]
    }
   ],
   "source": [
    "# to create a tuple and convert with joining in a word or sentence\n",
    "word=('a','b','s','o','l','u','t','e','l','y')\n",
    "str=''.join(word)\n",
    "print(str,type(str))"
   ]
  },
  {
   "cell_type": "code",
   "execution_count": 9,
   "id": "8e27cd49",
   "metadata": {},
   "outputs": [
    {
     "name": "stdout",
     "output_type": "stream",
     "text": [
      "('a', 'b', 's', 'o', 'H', 'e', 'l', 'l', 'a', 'b', ' ', 'y', 'e', 's') <class 'tuple'>\n",
      "('a', 'b', 's', 'o', 'H', 'e', 'l', 'l')\n"
     ]
    }
   ],
   "source": [
    "#tuple are immutable\n",
    "#cannot be add, instead of that merge it\n",
    "word=word+(' ','y','e','s')\n",
    "print(word,type(word))\n",
    "\n",
    "#for merging in specific location \n",
    "word=word[:4]+('H','e','l','l')\n",
    "print(word)"
   ]
  },
  {
   "cell_type": "code",
   "execution_count": 12,
   "id": "5dfd5bc3",
   "metadata": {},
   "outputs": [
    {
     "name": "stdout",
     "output_type": "stream",
     "text": [
      "('s', 'o', 'l', 'u')\n",
      "('a', 'b', 's', 'o', 'l', 'u')\n",
      "('a', 'b', 's', 'o', 'l', 'u', 't', 'e', 'l', 'y')\n",
      "('A', ' ', 'Q', 'u', 'i', 'c', 'k', ' ', 'b', 'r', 'o', 'w', 'n', ' ', 'f', 'o', 'x', ' ', 'j', 'u', 'm', 'p', 's', ' ', 'o', 'v', 'e', 'r', ' ', 'a', ' ', 'l', 'a', 'z', 'y', ' ', 'd', 'o', 'g')\n",
      "('Q', 'c', 'b')\n",
      "('A', 'u', 'k', 'r', 'n', 'o', 'j', 'p', 'o', 'r', ' ', 'z', 'd')\n",
      "()\n"
     ]
    }
   ],
   "source": [
    "#slicing\n",
    "word=('a','b','s','o','l','u','t','e','l','y')\n",
    "slice1=word[2:6]\n",
    "print(slice1)\n",
    "#if starting is not given then\n",
    "slice1=word[:6]\n",
    "print(slice1)\n",
    "#if starting and stop index is not given then\n",
    "slice1=word[:]\n",
    "print(slice1)\n",
    "slice2=tuple(\"A Quick brown fox jumps over a lazy dog\")\n",
    "print(slice2)\n",
    "#if start and stop index are given but also steps are to avoid then\n",
    "slice3=slice2[2:9:3]\n",
    "print(slice3)\n",
    "#returns tuple with jump of () times\n",
    "slice3=slice2[::3]\n",
    "print(slice3)\n",
    "#with the case of negetive indexing\n",
    "slice3=slice2[1:10:-3]\n",
    "print(slice3)"
   ]
  },
  {
   "cell_type": "code",
   "execution_count": 14,
   "id": "bfc8fda9",
   "metadata": {},
   "outputs": [
    {
     "name": "stdout",
     "output_type": "stream",
     "text": [
      "18\n",
      "21\n"
     ]
    }
   ],
   "source": [
    "#finding the index with index function\n",
    "print(slice2.index(\"j\"))\n",
    "#Define the segment means to start and to stop to search in between them.\n",
    "print(slice2.index(\"p\",3,24))\n",
    "#if given index is not there then it will show value error."
   ]
  },
  {
   "cell_type": "code",
   "execution_count": 15,
   "id": "66f7c5d9",
   "metadata": {},
   "outputs": [
    {
     "name": "stdout",
     "output_type": "stream",
     "text": [
      "39\n"
     ]
    }
   ],
   "source": [
    "#find the length of tuple\n",
    "print(len(slice2))"
   ]
  },
  {
   "cell_type": "code",
   "execution_count": 20,
   "id": "71ba1cb3",
   "metadata": {},
   "outputs": [
    {
     "ename": "SyntaxError",
     "evalue": "Generator expression must be parenthesized (473796179.py, line 4)",
     "output_type": "error",
     "traceback": [
      "\u001b[0;36m  File \u001b[0;32m\"/tmp/ipykernel_14195/473796179.py\"\u001b[0;36m, line \u001b[0;32m4\u001b[0m\n\u001b[0;31m    print(dict(y,x)for x,y in tuplex,type(tuplex))\u001b[0m\n\u001b[0m          ^\u001b[0m\n\u001b[0;31mSyntaxError\u001b[0m\u001b[0;31m:\u001b[0m Generator expression must be parenthesized\n"
     ]
    }
   ],
   "source": [
    "#convert tuple to a dictionary\n",
    "print(dict(y,x)for x,y in slice2)\n",
    "tuplex=((\"a\",4),(\"b\",8),(\"c\",12))\n",
    "print(dict(y,x)for x,y in tuplex,type(tuplex))"
   ]
  },
  {
   "cell_type": "code",
   "execution_count": 26,
   "id": "e3ecc9e9",
   "metadata": {},
   "outputs": [
    {
     "name": "stdout",
     "output_type": "stream",
     "text": [
      "<class 'list'>\n",
      "<class 'dict'>\n",
      "{'Nakul': [93], 'Shivansh': [45], 'Samved': [65], 'Yash': [88], 'Vidit': [70], 'Pradeep': [52]} <class 'dict'>\n"
     ]
    }
   ],
   "source": [
    "# Example of converting tuple into dictionary\n",
    "list_1=[(\"Nakul\",93), (\"Shivansh\",45), (\"Samved\",65),\n",
    "           (\"Yash\",88), (\"Vidit\",70), (\"Pradeep\",52)]\n",
    "print(type(list_1))\n",
    "dict_1=dict()\n",
    "print(type(dict_1))\n",
    "  \n",
    "for student,score in list_1:\n",
    "    dict_1.setdefault(student, []).append(score)\n",
    "print(dict_1,type(dict_1))"
   ]
  },
  {
   "cell_type": "code",
   "execution_count": 23,
   "id": "6fb7e603",
   "metadata": {},
   "outputs": [
    {
     "name": "stdout",
     "output_type": "stream",
     "text": [
      "<class 'tuple'>\n",
      "{'tuple1': [1], 'tuple2': [2], 'tuple3': [3], 'tuple4': [4]} <class 'dict'>\n"
     ]
    }
   ],
   "source": [
    "#Example of converting tuple into dictionary\n",
    "list2=((\"tuple1\",1),(\"tuple2\",2),(\"tuple3\",3),(\"tuple4\",4))\n",
    "print(type(list2))\n",
    "dic1=dict()\n",
    "for a,b in list2:\n",
    "    dic1.setdefault(a,[]).append(b)\n",
    "print(dic1,type(dic1))"
   ]
  },
  {
   "cell_type": "code",
   "execution_count": 27,
   "id": "b770cb13",
   "metadata": {},
   "outputs": [
    {
     "name": "stdout",
     "output_type": "stream",
     "text": [
      "<zip object at 0x7fbf76fb8080>\n"
     ]
    }
   ],
   "source": [
    "#create a tuple from lists of tuple by using Zip function\n",
    "l=[(1,2),(3,4),(5,6)]\n",
    "print((zip(*l)))"
   ]
  },
  {
   "cell_type": "code",
   "execution_count": 28,
   "id": "933a448c",
   "metadata": {},
   "outputs": [
    {
     "name": "stdout",
     "output_type": "stream",
     "text": [
      "Help on class zip in module builtins:\n",
      "\n",
      "class zip(object)\n",
      " |  zip(*iterables) --> A zip object yielding tuples until an input is exhausted.\n",
      " |  \n",
      " |     >>> list(zip('abcdefg', range(3), range(4)))\n",
      " |     [('a', 0, 0), ('b', 1, 1), ('c', 2, 2)]\n",
      " |  \n",
      " |  The zip object yields n-length tuples, where n is the number of iterables\n",
      " |  passed as positional arguments to zip().  The i-th element in every tuple\n",
      " |  comes from the i-th iterable argument to zip().  This continues until the\n",
      " |  shortest argument is exhausted.\n",
      " |  \n",
      " |  Methods defined here:\n",
      " |  \n",
      " |  __getattribute__(self, name, /)\n",
      " |      Return getattr(self, name).\n",
      " |  \n",
      " |  __iter__(self, /)\n",
      " |      Implement iter(self).\n",
      " |  \n",
      " |  __next__(self, /)\n",
      " |      Implement next(self).\n",
      " |  \n",
      " |  __reduce__(...)\n",
      " |      Return state information for pickling.\n",
      " |  \n",
      " |  ----------------------------------------------------------------------\n",
      " |  Static methods defined here:\n",
      " |  \n",
      " |  __new__(*args, **kwargs) from builtins.type\n",
      " |      Create and return a new object.  See help(type) for accurate signature.\n",
      "\n",
      "None\n"
     ]
    }
   ],
   "source": [
    "print(help(zip))"
   ]
  },
  {
   "cell_type": "code",
   "execution_count": 46,
   "id": "a9410693",
   "metadata": {},
   "outputs": [
    {
     "name": "stdout",
     "output_type": "stream",
     "text": [
      "<reversed object at 0x7fbf76f86a00>\n",
      "('s', 'o', 'l', 'u', 't', 'e')\n",
      "('s', 'o', 'l', 'u', 't', 'e')\n",
      "('s', 'o', 'l', 'u', 't', 'e')\n",
      "('s', 'o', 'l', 'u', 't', 'e')\n",
      "('s', 'o', 'l', 'u', 't', 'e')\n",
      "('s', 'o', 'l', 'u', 't', 'e')\n"
     ]
    }
   ],
   "source": [
    "slice2=(\"hello\",\"world\")\n",
    "slice4=reversed(slice2)\n",
    "print(slice4)\n",
    "for a in slice:\n",
    "    print(slice)"
   ]
  },
  {
   "cell_type": "code",
   "execution_count": 38,
   "id": "4ec616cb",
   "metadata": {},
   "outputs": [
    {
     "ename": "NameError",
     "evalue": "name 'reverse' is not defined",
     "output_type": "error",
     "traceback": [
      "\u001b[0;31m---------------------------------------------------------------------------\u001b[0m",
      "\u001b[0;31mNameError\u001b[0m                                 Traceback (most recent call last)",
      "\u001b[0;32m/tmp/ipykernel_14195/2342363766.py\u001b[0m in \u001b[0;36m<module>\u001b[0;34m\u001b[0m\n\u001b[0;32m----> 1\u001b[0;31m \u001b[0mprint\u001b[0m\u001b[0;34m(\u001b[0m\u001b[0mhelp\u001b[0m\u001b[0;34m(\u001b[0m\u001b[0;34m(\u001b[0m\u001b[0mreverse\u001b[0m\u001b[0;34m(\u001b[0m\u001b[0;34m)\u001b[0m\u001b[0;34m)\u001b[0m\u001b[0;34m)\u001b[0m\u001b[0;34m)\u001b[0m\u001b[0;34m\u001b[0m\u001b[0;34m\u001b[0m\u001b[0m\n\u001b[0m",
      "\u001b[0;31mNameError\u001b[0m: name 'reverse' is not defined"
     ]
    }
   ],
   "source": [
    "print(help((())))"
   ]
  },
  {
   "cell_type": "code",
   "execution_count": 47,
   "id": "30d58153",
   "metadata": {},
   "outputs": [
    {
     "name": "stdout",
     "output_type": "stream",
     "text": [
      "{'x': [1], 'y': [2], 'z': [3], 'a': [4], 'b': [5]}\n"
     ]
    }
   ],
   "source": [
    "#program to convert a list of tuple into Dictionary\n",
    "al=[(\"x\",1),(\"y\",2),(\"z\",3),(\"a\",4),(\"b\",5)]\n",
    "ab={}\n",
    "for name,number in al:\n",
    "    ab.setdefault(name,[]).append(number)\n",
    "print(ab)"
   ]
  },
  {
   "cell_type": "code",
   "execution_count": 56,
   "id": "14d383dd",
   "metadata": {},
   "outputs": [
    {
     "name": "stdout",
     "output_type": "stream",
     "text": [
      "(1, 2, 500)\n"
     ]
    }
   ],
   "source": [
    "#to replace an item from last \n",
    "tupll=(1,2,3)\n",
    "print(tupll[:-1]+(500,))"
   ]
  },
  {
   "cell_type": "code",
   "execution_count": 61,
   "id": "8c9b16cb",
   "metadata": {},
   "outputs": [
    {
     "name": "stdout",
     "output_type": "stream",
     "text": [
      "[12, 15, 100, 100, 119, 145]\n"
     ]
    }
   ],
   "source": [
    "tpl=(15,12,100,100,119,145)\n",
    "print(sorted(tpl))"
   ]
  },
  {
   "cell_type": "code",
   "execution_count": 62,
   "id": "c2f82f16",
   "metadata": {},
   "outputs": [
    {
     "name": "stdout",
     "output_type": "stream",
     "text": [
      "Help on built-in function isinstance in module builtins:\n",
      "\n",
      "isinstance(obj, class_or_tuple, /)\n",
      "    Return whether an object is an instance of a class or of a subclass thereof.\n",
      "    \n",
      "    A tuple, as in ``isinstance(x, (A, B, ...))``, may be given as the target to\n",
      "    check against. This is equivalent to ``isinstance(x, A) or isinstance(x, B)\n",
      "    or ...`` etc.\n",
      "\n",
      "None\n"
     ]
    }
   ],
   "source": [
    "print(help(isinstance))"
   ]
  },
  {
   "cell_type": "code",
   "execution_count": 64,
   "id": "3210df3a",
   "metadata": {},
   "outputs": [
    {
     "name": "stdout",
     "output_type": "stream",
     "text": [
      "7\n"
     ]
    }
   ],
   "source": [
    "#isinstance in Tuple\n",
    "#it will return if there is another tuple inside tuple. if not then return number of items in tuple\n",
    "num=[10,20,30,40,50,60,70]\n",
    "ctr=0\n",
    "for n in num:\n",
    "    if isinstance(n,tuple):\n",
    "        break\n",
    "    ctr=ctr+1\n",
    "print(ctr)"
   ]
  },
  {
   "cell_type": "code",
   "execution_count": 66,
   "id": "5a10b709",
   "metadata": {},
   "outputs": [
    {
     "name": "stdout",
     "output_type": "stream",
     "text": [
      "<generator object <genexpr> at 0x7fbf767382e0>\n"
     ]
    }
   ],
   "source": []
  },
  {
   "cell_type": "code",
   "execution_count": null,
   "id": "81d273c4",
   "metadata": {},
   "outputs": [],
   "source": []
  }
 ],
 "metadata": {
  "kernelspec": {
   "display_name": "Python 3 (ipykernel)",
   "language": "python",
   "name": "python3"
  },
  "language_info": {
   "codemirror_mode": {
    "name": "ipython",
    "version": 3
   },
   "file_extension": ".py",
   "mimetype": "text/x-python",
   "name": "python",
   "nbconvert_exporter": "python",
   "pygments_lexer": "ipython3",
   "version": "3.9.7"
  }
 },
 "nbformat": 4,
 "nbformat_minor": 5
}
