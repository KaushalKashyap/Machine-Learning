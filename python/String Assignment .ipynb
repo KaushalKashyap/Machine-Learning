{
 "cells": [
  {
   "cell_type": "code",
   "execution_count": 1,
   "id": "56ed2719",
   "metadata": {},
   "outputs": [
    {
     "name": "stdout",
     "output_type": "stream",
     "text": [
      "<class 'str'> 139878622801584\n"
     ]
    }
   ],
   "source": [
    "String=\"Python\"\n",
    "print(type(String),id(String))"
   ]
  },
  {
   "cell_type": "code",
   "execution_count": null,
   "id": "8d2926a4",
   "metadata": {},
   "outputs": [],
   "source": [
    "1. 'This is Python class'\n",
    "valid\n",
    "\n",
    "2. \"This is Python class\"\n",
    "valid\n",
    "\n",
    "3. '''This is Python class'''\n",
    "valid\n",
    "\n",
    "4. \"\"\"This is Python class\"\"\"\n",
    "invalid\n",
    "\n",
    "5. 'This is Python's class'\n",
    "invalid\n",
    "\n",
    "6. \"Learnbay provides \"Java\", \"Python\" classes\"\n",
    "invalid\n",
    "\n",
    "7. \"Learnbay provides 'Java', 'Python' classes\"\n",
    "valid\n",
    "\n",
    "8. \"This is Python's class\"\n",
    "valid\n",
    "\n",
    "9. \"\"\"Learnbay provides \"Java\", \"Python\" classes\"\"\"\n",
    "invalid\n",
    "\n",
    "10. '''Learnbay provides \"Java\", \"Python\" classes'''\n",
    "valid\n",
    "\n",
    "11. '''Learnbay provides\n",
    "\"Java\", \"Python\" \n",
    "classes'''\n",
    "valid\n",
    "\n",
    "12. 'This is\n",
    "Python \n",
    "class'\n",
    "invalid\n"
   ]
  },
  {
   "cell_type": "code",
   "execution_count": 6,
   "id": "acd3a7e4",
   "metadata": {},
   "outputs": [
    {
     "name": "stdout",
     "output_type": "stream",
     "text": [
      "The length os my_str is66\n",
      "is my_str an my_str1 is same?-False\n",
      "type of my_str is<class 'str'>\n"
     ]
    }
   ],
   "source": [
    "my_str = \"Although that way may not be obvious at first unless you're Dutch.\"\n",
    "my_str1 = \"Although that way may not be obvious at first unless you're Dutch.\"\n",
    "print(f'The length os my_str is{len(my_str)}')\n",
    "print(f'is my_str an my_str1 is same?-{my_str is my_str1}')\n",
    "print(f'type of my_str is{type(my_str)}')"
   ]
  },
  {
   "cell_type": "code",
   "execution_count": 5,
   "id": "2b83e44a",
   "metadata": {},
   "outputs": [
    {
     "name": "stdout",
     "output_type": "stream",
     "text": [
      "A\n",
      "the first character of my_str is A\n",
      "The first character in my_str is:  \n",
      "The first character in my_str is: h\n",
      "The first character in my_str is: h\n",
      "The first character in my_str is: h\n",
      "The first character in my_str is: 8\n"
     ]
    }
   ],
   "source": [
    "my_str = \"Although 8 that way may not be obvious at first unless you're Dutch\"\n",
    "#print first character\n",
    "print(my_str[0])\n",
    "print(f'the first character of my_str is {my_str[-len(my_str)]}')\n",
    "print(f'The first character in my_str is: {my_str[10]}')\n",
    "print(f'The first character in my_str is: {my_str[-1]}')\n",
    "print(f'The first character in my_str is: {my_str[-1]}')\n",
    "print(f'The first character in my_str is: {my_str[(len(my_str))-1]}')\n",
    "print(f'The first character in my_str is: {my_str[9]}')"
   ]
  },
  {
   "cell_type": "code",
   "execution_count": 7,
   "id": "94f4d5ec",
   "metadata": {},
   "outputs": [
    {
     "name": "stdout",
     "output_type": "stream",
     "text": [
      "Although that way may not be obvious at first unless you're Dutch.\n",
      "Although that way may not be obvious at first unless you're Dutch.\n"
     ]
    }
   ],
   "source": [
    "my_str = \"Although that way may not be obvious at first unless you're Dutch.\"\n",
    "print(my_str[ : : ])\n",
    "print(my_str[0:len(my_str)])\n"
   ]
  },
  {
   "cell_type": "code",
   "execution_count": null,
   "id": "be6d2d2a",
   "metadata": {},
   "outputs": [],
   "source": []
  }
 ],
 "metadata": {
  "kernelspec": {
   "display_name": "Python 3 (ipykernel)",
   "language": "python",
   "name": "python3"
  },
  "language_info": {
   "codemirror_mode": {
    "name": "ipython",
    "version": 3
   },
   "file_extension": ".py",
   "mimetype": "text/x-python",
   "name": "python",
   "nbconvert_exporter": "python",
   "pygments_lexer": "ipython3",
   "version": "3.9.7"
  }
 },
 "nbformat": 4,
 "nbformat_minor": 5
}
